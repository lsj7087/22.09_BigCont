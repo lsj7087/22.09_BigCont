{
 "cells": [
  {
   "cell_type": "code",
   "execution_count": 1,
   "id": "771c16b1",
   "metadata": {},
   "outputs": [],
   "source": [
    "import pandas as pd\n",
    "import numpy as np\n",
    "import matplotlib.pyplot as plt\n",
    "\n",
    "from tqdm import tqdm_notebook"
   ]
  },
  {
   "cell_type": "code",
   "execution_count": 2,
   "id": "2ea62161",
   "metadata": {},
   "outputs": [],
   "source": [
    "loan_result = pd.read_csv(\"loan_result.csv\")\n",
    "log_data = pd.read_csv(\"log_data.csv\")\n",
    "user_spec = pd.read_csv(\"user_spec.csv\")"
   ]
  },
  {
   "cell_type": "markdown",
   "id": "14666c92",
   "metadata": {},
   "source": [
    "# EDA"
   ]
  },
  {
   "cell_type": "markdown",
   "id": "39b93f1e",
   "metadata": {},
   "source": [
    "## 1. 대출상품결과(loan_result)"
   ]
  },
  {
   "cell_type": "code",
   "execution_count": 3,
   "id": "8d2cfead",
   "metadata": {},
   "outputs": [
    {
     "data": {
      "text/html": [
       "<div>\n",
       "<style scoped>\n",
       "    .dataframe tbody tr th:only-of-type {\n",
       "        vertical-align: middle;\n",
       "    }\n",
       "\n",
       "    .dataframe tbody tr th {\n",
       "        vertical-align: top;\n",
       "    }\n",
       "\n",
       "    .dataframe thead th {\n",
       "        text-align: right;\n",
       "    }\n",
       "</style>\n",
       "<table border=\"1\" class=\"dataframe\">\n",
       "  <thead>\n",
       "    <tr style=\"text-align: right;\">\n",
       "      <th></th>\n",
       "      <th>application_id</th>\n",
       "      <th>loanapply_insert_time</th>\n",
       "      <th>bank_id</th>\n",
       "      <th>product_id</th>\n",
       "      <th>loan_limit</th>\n",
       "      <th>loan_rate</th>\n",
       "      <th>is_applied</th>\n",
       "    </tr>\n",
       "  </thead>\n",
       "  <tbody>\n",
       "    <tr>\n",
       "      <th>0</th>\n",
       "      <td>1748340</td>\n",
       "      <td>2022-06-07 13:05:41</td>\n",
       "      <td>7</td>\n",
       "      <td>191</td>\n",
       "      <td>42000000.0</td>\n",
       "      <td>13.6</td>\n",
       "      <td>NaN</td>\n",
       "    </tr>\n",
       "    <tr>\n",
       "      <th>1</th>\n",
       "      <td>1748340</td>\n",
       "      <td>2022-06-07 13:05:41</td>\n",
       "      <td>25</td>\n",
       "      <td>169</td>\n",
       "      <td>24000000.0</td>\n",
       "      <td>17.9</td>\n",
       "      <td>NaN</td>\n",
       "    </tr>\n",
       "    <tr>\n",
       "      <th>2</th>\n",
       "      <td>1748340</td>\n",
       "      <td>2022-06-07 13:05:41</td>\n",
       "      <td>2</td>\n",
       "      <td>7</td>\n",
       "      <td>24000000.0</td>\n",
       "      <td>18.5</td>\n",
       "      <td>NaN</td>\n",
       "    </tr>\n",
       "    <tr>\n",
       "      <th>3</th>\n",
       "      <td>1748340</td>\n",
       "      <td>2022-06-07 13:05:41</td>\n",
       "      <td>4</td>\n",
       "      <td>268</td>\n",
       "      <td>29000000.0</td>\n",
       "      <td>10.8</td>\n",
       "      <td>NaN</td>\n",
       "    </tr>\n",
       "    <tr>\n",
       "      <th>4</th>\n",
       "      <td>1748340</td>\n",
       "      <td>2022-06-07 13:05:41</td>\n",
       "      <td>11</td>\n",
       "      <td>118</td>\n",
       "      <td>5000000.0</td>\n",
       "      <td>16.4</td>\n",
       "      <td>NaN</td>\n",
       "    </tr>\n",
       "    <tr>\n",
       "      <th>...</th>\n",
       "      <td>...</td>\n",
       "      <td>...</td>\n",
       "      <td>...</td>\n",
       "      <td>...</td>\n",
       "      <td>...</td>\n",
       "      <td>...</td>\n",
       "      <td>...</td>\n",
       "    </tr>\n",
       "    <tr>\n",
       "      <th>13527358</th>\n",
       "      <td>1428218</td>\n",
       "      <td>2022-06-03 12:01:58</td>\n",
       "      <td>62</td>\n",
       "      <td>200</td>\n",
       "      <td>3000000.0</td>\n",
       "      <td>14.8</td>\n",
       "      <td>NaN</td>\n",
       "    </tr>\n",
       "    <tr>\n",
       "      <th>13527359</th>\n",
       "      <td>1428218</td>\n",
       "      <td>2022-06-03 12:01:49</td>\n",
       "      <td>2</td>\n",
       "      <td>7</td>\n",
       "      <td>40000000.0</td>\n",
       "      <td>11.8</td>\n",
       "      <td>NaN</td>\n",
       "    </tr>\n",
       "    <tr>\n",
       "      <th>13527360</th>\n",
       "      <td>1428218</td>\n",
       "      <td>2022-06-03 12:01:48</td>\n",
       "      <td>32</td>\n",
       "      <td>257</td>\n",
       "      <td>15000000.0</td>\n",
       "      <td>7.2</td>\n",
       "      <td>NaN</td>\n",
       "    </tr>\n",
       "    <tr>\n",
       "      <th>13527361</th>\n",
       "      <td>1428218</td>\n",
       "      <td>2022-06-03 12:01:48</td>\n",
       "      <td>33</td>\n",
       "      <td>110</td>\n",
       "      <td>44000000.0</td>\n",
       "      <td>13.5</td>\n",
       "      <td>NaN</td>\n",
       "    </tr>\n",
       "    <tr>\n",
       "      <th>13527362</th>\n",
       "      <td>1428218</td>\n",
       "      <td>2022-06-03 12:01:48</td>\n",
       "      <td>5</td>\n",
       "      <td>194</td>\n",
       "      <td>44000000.0</td>\n",
       "      <td>9.7</td>\n",
       "      <td>NaN</td>\n",
       "    </tr>\n",
       "  </tbody>\n",
       "</table>\n",
       "<p>13527363 rows × 7 columns</p>\n",
       "</div>"
      ],
      "text/plain": [
       "          application_id loanapply_insert_time  bank_id  product_id  \\\n",
       "0                1748340   2022-06-07 13:05:41        7         191   \n",
       "1                1748340   2022-06-07 13:05:41       25         169   \n",
       "2                1748340   2022-06-07 13:05:41        2           7   \n",
       "3                1748340   2022-06-07 13:05:41        4         268   \n",
       "4                1748340   2022-06-07 13:05:41       11         118   \n",
       "...                  ...                   ...      ...         ...   \n",
       "13527358         1428218   2022-06-03 12:01:58       62         200   \n",
       "13527359         1428218   2022-06-03 12:01:49        2           7   \n",
       "13527360         1428218   2022-06-03 12:01:48       32         257   \n",
       "13527361         1428218   2022-06-03 12:01:48       33         110   \n",
       "13527362         1428218   2022-06-03 12:01:48        5         194   \n",
       "\n",
       "          loan_limit  loan_rate  is_applied  \n",
       "0         42000000.0       13.6         NaN  \n",
       "1         24000000.0       17.9         NaN  \n",
       "2         24000000.0       18.5         NaN  \n",
       "3         29000000.0       10.8         NaN  \n",
       "4          5000000.0       16.4         NaN  \n",
       "...              ...        ...         ...  \n",
       "13527358   3000000.0       14.8         NaN  \n",
       "13527359  40000000.0       11.8         NaN  \n",
       "13527360  15000000.0        7.2         NaN  \n",
       "13527361  44000000.0       13.5         NaN  \n",
       "13527362  44000000.0        9.7         NaN  \n",
       "\n",
       "[13527363 rows x 7 columns]"
      ]
     },
     "execution_count": 3,
     "metadata": {},
     "output_type": "execute_result"
    }
   ],
   "source": [
    "loan_result"
   ]
  },
  {
   "cell_type": "code",
   "execution_count": 4,
   "id": "e6dea245",
   "metadata": {},
   "outputs": [],
   "source": [
    "loan_result = loan_result[(-loan_result[\"loan_limit\"].isna()) & (-loan_result[\"loan_rate\"].isna())]"
   ]
  },
  {
   "cell_type": "code",
   "execution_count": 5,
   "id": "f7faca3d",
   "metadata": {},
   "outputs": [
    {
     "data": {
      "text/html": [
       "<div>\n",
       "<style scoped>\n",
       "    .dataframe tbody tr th:only-of-type {\n",
       "        vertical-align: middle;\n",
       "    }\n",
       "\n",
       "    .dataframe tbody tr th {\n",
       "        vertical-align: top;\n",
       "    }\n",
       "\n",
       "    .dataframe thead th {\n",
       "        text-align: right;\n",
       "    }\n",
       "</style>\n",
       "<table border=\"1\" class=\"dataframe\">\n",
       "  <thead>\n",
       "    <tr style=\"text-align: right;\">\n",
       "      <th></th>\n",
       "      <th>application_id</th>\n",
       "      <th>loanapply_insert_time</th>\n",
       "      <th>bank_id</th>\n",
       "      <th>product_id</th>\n",
       "      <th>loan_limit</th>\n",
       "      <th>loan_rate</th>\n",
       "      <th>is_applied</th>\n",
       "    </tr>\n",
       "  </thead>\n",
       "  <tbody>\n",
       "    <tr>\n",
       "      <th>1507095</th>\n",
       "      <td>2160853</td>\n",
       "      <td>2022-06-16 09:47:23</td>\n",
       "      <td>10</td>\n",
       "      <td>65</td>\n",
       "      <td>29000000.0</td>\n",
       "      <td>15.6</td>\n",
       "      <td>NaN</td>\n",
       "    </tr>\n",
       "    <tr>\n",
       "      <th>2292642</th>\n",
       "      <td>662921</td>\n",
       "      <td>2022-06-14 12:20:50</td>\n",
       "      <td>10</td>\n",
       "      <td>65</td>\n",
       "      <td>19000000.0</td>\n",
       "      <td>15.6</td>\n",
       "      <td>NaN</td>\n",
       "    </tr>\n",
       "    <tr>\n",
       "      <th>2453028</th>\n",
       "      <td>361861</td>\n",
       "      <td>2022-03-10 09:16:08</td>\n",
       "      <td>10</td>\n",
       "      <td>65</td>\n",
       "      <td>36000000.0</td>\n",
       "      <td>12.2</td>\n",
       "      <td>1.0</td>\n",
       "    </tr>\n",
       "    <tr>\n",
       "      <th>2656633</th>\n",
       "      <td>124917</td>\n",
       "      <td>2022-03-01 18:41:01</td>\n",
       "      <td>10</td>\n",
       "      <td>65</td>\n",
       "      <td>50000000.0</td>\n",
       "      <td>12.2</td>\n",
       "      <td>1.0</td>\n",
       "    </tr>\n",
       "    <tr>\n",
       "      <th>3026732</th>\n",
       "      <td>893666</td>\n",
       "      <td>2022-06-21 10:34:14</td>\n",
       "      <td>10</td>\n",
       "      <td>65</td>\n",
       "      <td>34000000.0</td>\n",
       "      <td>12.7</td>\n",
       "      <td>NaN</td>\n",
       "    </tr>\n",
       "    <tr>\n",
       "      <th>3081480</th>\n",
       "      <td>1008438</td>\n",
       "      <td>2022-06-21 14:50:56</td>\n",
       "      <td>22</td>\n",
       "      <td>221</td>\n",
       "      <td>3000000.0</td>\n",
       "      <td>18.4</td>\n",
       "      <td>NaN</td>\n",
       "    </tr>\n",
       "    <tr>\n",
       "      <th>3681411</th>\n",
       "      <td>176009</td>\n",
       "      <td>2022-03-14 15:04:55</td>\n",
       "      <td>10</td>\n",
       "      <td>65</td>\n",
       "      <td>31000000.0</td>\n",
       "      <td>12.2</td>\n",
       "      <td>1.0</td>\n",
       "    </tr>\n",
       "    <tr>\n",
       "      <th>5455325</th>\n",
       "      <td>424582</td>\n",
       "      <td>2022-06-13 10:56:40</td>\n",
       "      <td>10</td>\n",
       "      <td>65</td>\n",
       "      <td>43000000.0</td>\n",
       "      <td>14.2</td>\n",
       "      <td>NaN</td>\n",
       "    </tr>\n",
       "    <tr>\n",
       "      <th>5550899</th>\n",
       "      <td>707257</td>\n",
       "      <td>2022-06-27 09:03:12</td>\n",
       "      <td>10</td>\n",
       "      <td>65</td>\n",
       "      <td>50000000.0</td>\n",
       "      <td>12.7</td>\n",
       "      <td>NaN</td>\n",
       "    </tr>\n",
       "    <tr>\n",
       "      <th>6231370</th>\n",
       "      <td>43839</td>\n",
       "      <td>2022-03-22 13:10:59</td>\n",
       "      <td>10</td>\n",
       "      <td>65</td>\n",
       "      <td>28000000.0</td>\n",
       "      <td>12.5</td>\n",
       "      <td>1.0</td>\n",
       "    </tr>\n",
       "    <tr>\n",
       "      <th>6701773</th>\n",
       "      <td>181796</td>\n",
       "      <td>2022-05-19 10:53:54</td>\n",
       "      <td>22</td>\n",
       "      <td>100</td>\n",
       "      <td>5000000.0</td>\n",
       "      <td>15.8</td>\n",
       "      <td>0.0</td>\n",
       "    </tr>\n",
       "    <tr>\n",
       "      <th>6893797</th>\n",
       "      <td>1716916</td>\n",
       "      <td>2022-06-18 06:20:33</td>\n",
       "      <td>10</td>\n",
       "      <td>65</td>\n",
       "      <td>32000000.0</td>\n",
       "      <td>13.9</td>\n",
       "      <td>NaN</td>\n",
       "    </tr>\n",
       "    <tr>\n",
       "      <th>7119371</th>\n",
       "      <td>870746</td>\n",
       "      <td>2022-06-29 13:23:51</td>\n",
       "      <td>22</td>\n",
       "      <td>164</td>\n",
       "      <td>20000000.0</td>\n",
       "      <td>8.5</td>\n",
       "      <td>NaN</td>\n",
       "    </tr>\n",
       "    <tr>\n",
       "      <th>7871920</th>\n",
       "      <td>410431</td>\n",
       "      <td>2022-06-23 10:10:57</td>\n",
       "      <td>10</td>\n",
       "      <td>65</td>\n",
       "      <td>18000000.0</td>\n",
       "      <td>18.0</td>\n",
       "      <td>NaN</td>\n",
       "    </tr>\n",
       "    <tr>\n",
       "      <th>7910401</th>\n",
       "      <td>1403169</td>\n",
       "      <td>2022-06-21 04:32:54</td>\n",
       "      <td>10</td>\n",
       "      <td>65</td>\n",
       "      <td>70000000.0</td>\n",
       "      <td>12.7</td>\n",
       "      <td>NaN</td>\n",
       "    </tr>\n",
       "    <tr>\n",
       "      <th>7918996</th>\n",
       "      <td>984406</td>\n",
       "      <td>2022-06-27 15:42:45</td>\n",
       "      <td>10</td>\n",
       "      <td>65</td>\n",
       "      <td>33000000.0</td>\n",
       "      <td>13.3</td>\n",
       "      <td>NaN</td>\n",
       "    </tr>\n",
       "    <tr>\n",
       "      <th>8513758</th>\n",
       "      <td>1257342</td>\n",
       "      <td>2022-04-27 22:25:24</td>\n",
       "      <td>10</td>\n",
       "      <td>65</td>\n",
       "      <td>15000000.0</td>\n",
       "      <td>14.2</td>\n",
       "      <td>1.0</td>\n",
       "    </tr>\n",
       "    <tr>\n",
       "      <th>8940949</th>\n",
       "      <td>843119</td>\n",
       "      <td>2022-06-24 10:29:43</td>\n",
       "      <td>10</td>\n",
       "      <td>65</td>\n",
       "      <td>53000000.0</td>\n",
       "      <td>13.9</td>\n",
       "      <td>NaN</td>\n",
       "    </tr>\n",
       "    <tr>\n",
       "      <th>9440176</th>\n",
       "      <td>1053069</td>\n",
       "      <td>2022-06-16 12:07:58</td>\n",
       "      <td>22</td>\n",
       "      <td>164</td>\n",
       "      <td>18000000.0</td>\n",
       "      <td>8.5</td>\n",
       "      <td>NaN</td>\n",
       "    </tr>\n",
       "    <tr>\n",
       "      <th>9455051</th>\n",
       "      <td>553201</td>\n",
       "      <td>2022-06-16 00:44:42</td>\n",
       "      <td>10</td>\n",
       "      <td>65</td>\n",
       "      <td>50000000.0</td>\n",
       "      <td>13.9</td>\n",
       "      <td>NaN</td>\n",
       "    </tr>\n",
       "    <tr>\n",
       "      <th>10205466</th>\n",
       "      <td>1085129</td>\n",
       "      <td>2022-05-25 02:32:32</td>\n",
       "      <td>10</td>\n",
       "      <td>65</td>\n",
       "      <td>37000000.0</td>\n",
       "      <td>12.4</td>\n",
       "      <td>1.0</td>\n",
       "    </tr>\n",
       "    <tr>\n",
       "      <th>11114969</th>\n",
       "      <td>1784242</td>\n",
       "      <td>2022-06-14 12:37:27</td>\n",
       "      <td>10</td>\n",
       "      <td>65</td>\n",
       "      <td>65000000.0</td>\n",
       "      <td>13.9</td>\n",
       "      <td>NaN</td>\n",
       "    </tr>\n",
       "    <tr>\n",
       "      <th>11385155</th>\n",
       "      <td>1583243</td>\n",
       "      <td>2022-03-08 13:22:03</td>\n",
       "      <td>10</td>\n",
       "      <td>65</td>\n",
       "      <td>52000000.0</td>\n",
       "      <td>12.1</td>\n",
       "      <td>1.0</td>\n",
       "    </tr>\n",
       "    <tr>\n",
       "      <th>11845315</th>\n",
       "      <td>2134854</td>\n",
       "      <td>2022-06-17 13:19:42</td>\n",
       "      <td>10</td>\n",
       "      <td>65</td>\n",
       "      <td>50000000.0</td>\n",
       "      <td>12.7</td>\n",
       "      <td>NaN</td>\n",
       "    </tr>\n",
       "    <tr>\n",
       "      <th>12603837</th>\n",
       "      <td>1091462</td>\n",
       "      <td>2022-04-01 07:03:51</td>\n",
       "      <td>10</td>\n",
       "      <td>65</td>\n",
       "      <td>70000000.0</td>\n",
       "      <td>14.2</td>\n",
       "      <td>1.0</td>\n",
       "    </tr>\n",
       "    <tr>\n",
       "      <th>12790471</th>\n",
       "      <td>2047901</td>\n",
       "      <td>2022-04-22 01:03:58</td>\n",
       "      <td>52</td>\n",
       "      <td>187</td>\n",
       "      <td>3000000.0</td>\n",
       "      <td>6.2</td>\n",
       "      <td>0.0</td>\n",
       "    </tr>\n",
       "  </tbody>\n",
       "</table>\n",
       "</div>"
      ],
      "text/plain": [
       "          application_id loanapply_insert_time  bank_id  product_id  \\\n",
       "1507095          2160853   2022-06-16 09:47:23       10          65   \n",
       "2292642           662921   2022-06-14 12:20:50       10          65   \n",
       "2453028           361861   2022-03-10 09:16:08       10          65   \n",
       "2656633           124917   2022-03-01 18:41:01       10          65   \n",
       "3026732           893666   2022-06-21 10:34:14       10          65   \n",
       "3081480          1008438   2022-06-21 14:50:56       22         221   \n",
       "3681411           176009   2022-03-14 15:04:55       10          65   \n",
       "5455325           424582   2022-06-13 10:56:40       10          65   \n",
       "5550899           707257   2022-06-27 09:03:12       10          65   \n",
       "6231370            43839   2022-03-22 13:10:59       10          65   \n",
       "6701773           181796   2022-05-19 10:53:54       22         100   \n",
       "6893797          1716916   2022-06-18 06:20:33       10          65   \n",
       "7119371           870746   2022-06-29 13:23:51       22         164   \n",
       "7871920           410431   2022-06-23 10:10:57       10          65   \n",
       "7910401          1403169   2022-06-21 04:32:54       10          65   \n",
       "7918996           984406   2022-06-27 15:42:45       10          65   \n",
       "8513758          1257342   2022-04-27 22:25:24       10          65   \n",
       "8940949           843119   2022-06-24 10:29:43       10          65   \n",
       "9440176          1053069   2022-06-16 12:07:58       22         164   \n",
       "9455051           553201   2022-06-16 00:44:42       10          65   \n",
       "10205466         1085129   2022-05-25 02:32:32       10          65   \n",
       "11114969         1784242   2022-06-14 12:37:27       10          65   \n",
       "11385155         1583243   2022-03-08 13:22:03       10          65   \n",
       "11845315         2134854   2022-06-17 13:19:42       10          65   \n",
       "12603837         1091462   2022-04-01 07:03:51       10          65   \n",
       "12790471         2047901   2022-04-22 01:03:58       52         187   \n",
       "\n",
       "          loan_limit  loan_rate  is_applied  \n",
       "1507095   29000000.0       15.6         NaN  \n",
       "2292642   19000000.0       15.6         NaN  \n",
       "2453028   36000000.0       12.2         1.0  \n",
       "2656633   50000000.0       12.2         1.0  \n",
       "3026732   34000000.0       12.7         NaN  \n",
       "3081480    3000000.0       18.4         NaN  \n",
       "3681411   31000000.0       12.2         1.0  \n",
       "5455325   43000000.0       14.2         NaN  \n",
       "5550899   50000000.0       12.7         NaN  \n",
       "6231370   28000000.0       12.5         1.0  \n",
       "6701773    5000000.0       15.8         0.0  \n",
       "6893797   32000000.0       13.9         NaN  \n",
       "7119371   20000000.0        8.5         NaN  \n",
       "7871920   18000000.0       18.0         NaN  \n",
       "7910401   70000000.0       12.7         NaN  \n",
       "7918996   33000000.0       13.3         NaN  \n",
       "8513758   15000000.0       14.2         1.0  \n",
       "8940949   53000000.0       13.9         NaN  \n",
       "9440176   18000000.0        8.5         NaN  \n",
       "9455051   50000000.0       13.9         NaN  \n",
       "10205466  37000000.0       12.4         1.0  \n",
       "11114969  65000000.0       13.9         NaN  \n",
       "11385155  52000000.0       12.1         1.0  \n",
       "11845315  50000000.0       12.7         NaN  \n",
       "12603837  70000000.0       14.2         1.0  \n",
       "12790471   3000000.0        6.2         0.0  "
      ]
     },
     "execution_count": 5,
     "metadata": {},
     "output_type": "execute_result"
    }
   ],
   "source": [
    "#중복 데이터 존재 -> 제거해야할듯\n",
    "loan_result[loan_result.duplicated()]"
   ]
  },
  {
   "cell_type": "code",
   "execution_count": 6,
   "id": "820393a6",
   "metadata": {},
   "outputs": [
    {
     "name": "stderr",
     "output_type": "stream",
     "text": [
      "C:\\Users\\lsj70\\Anaconda3\\lib\\site-packages\\pandas\\core\\indexing.py:1676: SettingWithCopyWarning: \n",
      "A value is trying to be set on a copy of a slice from a DataFrame.\n",
      "Try using .loc[row_indexer,col_indexer] = value instead\n",
      "\n",
      "See the caveats in the documentation: https://pandas.pydata.org/pandas-docs/stable/user_guide/indexing.html#returning-a-view-versus-a-copy\n",
      "  self._setitem_single_column(ilocs[0], value, pi)\n"
     ]
    }
   ],
   "source": [
    "loan_result.loc[loan_result[\"loan_limit\"] == 0, \"loan_limit\"] += 250000"
   ]
  },
  {
   "cell_type": "code",
   "execution_count": null,
   "id": "71a70458",
   "metadata": {},
   "outputs": [],
   "source": []
  },
  {
   "cell_type": "markdown",
   "id": "3d7bf546",
   "metadata": {},
   "source": [
    "## 2. 유저로그데이터(log_data)"
   ]
  },
  {
   "cell_type": "code",
   "execution_count": 7,
   "id": "8b8c264e",
   "metadata": {},
   "outputs": [
    {
     "data": {
      "text/html": [
       "<div>\n",
       "<style scoped>\n",
       "    .dataframe tbody tr th:only-of-type {\n",
       "        vertical-align: middle;\n",
       "    }\n",
       "\n",
       "    .dataframe tbody tr th {\n",
       "        vertical-align: top;\n",
       "    }\n",
       "\n",
       "    .dataframe thead th {\n",
       "        text-align: right;\n",
       "    }\n",
       "</style>\n",
       "<table border=\"1\" class=\"dataframe\">\n",
       "  <thead>\n",
       "    <tr style=\"text-align: right;\">\n",
       "      <th></th>\n",
       "      <th>user_id</th>\n",
       "      <th>event</th>\n",
       "      <th>timestamp</th>\n",
       "      <th>mp_os</th>\n",
       "      <th>mp_app_version</th>\n",
       "      <th>date_cd</th>\n",
       "    </tr>\n",
       "  </thead>\n",
       "  <tbody>\n",
       "    <tr>\n",
       "      <th>0</th>\n",
       "      <td>576409</td>\n",
       "      <td>StartLoanApply</td>\n",
       "      <td>2022-03-25 11:12:09</td>\n",
       "      <td>Android</td>\n",
       "      <td>3.8.2</td>\n",
       "      <td>2022-03-25</td>\n",
       "    </tr>\n",
       "    <tr>\n",
       "      <th>1</th>\n",
       "      <td>576409</td>\n",
       "      <td>ViewLoanApplyIntro</td>\n",
       "      <td>2022-03-25 11:12:09</td>\n",
       "      <td>Android</td>\n",
       "      <td>3.8.2</td>\n",
       "      <td>2022-03-25</td>\n",
       "    </tr>\n",
       "    <tr>\n",
       "      <th>2</th>\n",
       "      <td>72878</td>\n",
       "      <td>EndLoanApply</td>\n",
       "      <td>2022-03-25 11:14:44</td>\n",
       "      <td>Android</td>\n",
       "      <td>3.8.4</td>\n",
       "      <td>2022-03-25</td>\n",
       "    </tr>\n",
       "    <tr>\n",
       "      <th>3</th>\n",
       "      <td>645317</td>\n",
       "      <td>OpenApp</td>\n",
       "      <td>2022-03-25 11:15:09</td>\n",
       "      <td>iOS</td>\n",
       "      <td>3.6.1</td>\n",
       "      <td>2022-03-25</td>\n",
       "    </tr>\n",
       "    <tr>\n",
       "      <th>4</th>\n",
       "      <td>645317</td>\n",
       "      <td>UseLoanManage</td>\n",
       "      <td>2022-03-25 11:15:11</td>\n",
       "      <td>iOS</td>\n",
       "      <td>3.6.1</td>\n",
       "      <td>2022-03-25</td>\n",
       "    </tr>\n",
       "    <tr>\n",
       "      <th>...</th>\n",
       "      <td>...</td>\n",
       "      <td>...</td>\n",
       "      <td>...</td>\n",
       "      <td>...</td>\n",
       "      <td>...</td>\n",
       "      <td>...</td>\n",
       "    </tr>\n",
       "    <tr>\n",
       "      <th>17843988</th>\n",
       "      <td>242442</td>\n",
       "      <td>StartLoanApply</td>\n",
       "      <td>2022-05-27 16:08:21</td>\n",
       "      <td>Android</td>\n",
       "      <td>3.13.0</td>\n",
       "      <td>2022-05-27</td>\n",
       "    </tr>\n",
       "    <tr>\n",
       "      <th>17843989</th>\n",
       "      <td>242442</td>\n",
       "      <td>EndLoanApply</td>\n",
       "      <td>2022-05-27 16:08:21</td>\n",
       "      <td>Android</td>\n",
       "      <td>3.13.0</td>\n",
       "      <td>2022-05-27</td>\n",
       "    </tr>\n",
       "    <tr>\n",
       "      <th>17843990</th>\n",
       "      <td>593062</td>\n",
       "      <td>OpenApp</td>\n",
       "      <td>2022-05-27 16:19:10</td>\n",
       "      <td>Android</td>\n",
       "      <td>3.13.0</td>\n",
       "      <td>2022-05-27</td>\n",
       "    </tr>\n",
       "    <tr>\n",
       "      <th>17843991</th>\n",
       "      <td>593062</td>\n",
       "      <td>Login</td>\n",
       "      <td>2022-05-27 16:19:15</td>\n",
       "      <td>Android</td>\n",
       "      <td>3.13.0</td>\n",
       "      <td>2022-05-27</td>\n",
       "    </tr>\n",
       "    <tr>\n",
       "      <th>17843992</th>\n",
       "      <td>593062</td>\n",
       "      <td>UseLoanManage</td>\n",
       "      <td>2022-05-27 16:19:19</td>\n",
       "      <td>Android</td>\n",
       "      <td>3.13.0</td>\n",
       "      <td>2022-05-27</td>\n",
       "    </tr>\n",
       "  </tbody>\n",
       "</table>\n",
       "<p>17843993 rows × 6 columns</p>\n",
       "</div>"
      ],
      "text/plain": [
       "          user_id               event            timestamp    mp_os  \\\n",
       "0          576409      StartLoanApply  2022-03-25 11:12:09  Android   \n",
       "1          576409  ViewLoanApplyIntro  2022-03-25 11:12:09  Android   \n",
       "2           72878        EndLoanApply  2022-03-25 11:14:44  Android   \n",
       "3          645317             OpenApp  2022-03-25 11:15:09      iOS   \n",
       "4          645317       UseLoanManage  2022-03-25 11:15:11      iOS   \n",
       "...           ...                 ...                  ...      ...   \n",
       "17843988   242442      StartLoanApply  2022-05-27 16:08:21  Android   \n",
       "17843989   242442        EndLoanApply  2022-05-27 16:08:21  Android   \n",
       "17843990   593062             OpenApp  2022-05-27 16:19:10  Android   \n",
       "17843991   593062               Login  2022-05-27 16:19:15  Android   \n",
       "17843992   593062       UseLoanManage  2022-05-27 16:19:19  Android   \n",
       "\n",
       "         mp_app_version     date_cd  \n",
       "0                 3.8.2  2022-03-25  \n",
       "1                 3.8.2  2022-03-25  \n",
       "2                 3.8.4  2022-03-25  \n",
       "3                 3.6.1  2022-03-25  \n",
       "4                 3.6.1  2022-03-25  \n",
       "...                 ...         ...  \n",
       "17843988         3.13.0  2022-05-27  \n",
       "17843989         3.13.0  2022-05-27  \n",
       "17843990         3.13.0  2022-05-27  \n",
       "17843991         3.13.0  2022-05-27  \n",
       "17843992         3.13.0  2022-05-27  \n",
       "\n",
       "[17843993 rows x 6 columns]"
      ]
     },
     "execution_count": 7,
     "metadata": {},
     "output_type": "execute_result"
    }
   ],
   "source": [
    "log_data"
   ]
  },
  {
   "cell_type": "code",
   "execution_count": 8,
   "id": "2cd39bd4",
   "metadata": {},
   "outputs": [
    {
     "data": {
      "text/plain": [
       "user_id                0\n",
       "event                  0\n",
       "timestamp              0\n",
       "mp_os                980\n",
       "mp_app_version    660597\n",
       "date_cd                0\n",
       "dtype: int64"
      ]
     },
     "execution_count": 8,
     "metadata": {},
     "output_type": "execute_result"
    }
   ],
   "source": [
    "log_data.isna().sum()"
   ]
  },
  {
   "cell_type": "markdown",
   "id": "8c006f0d",
   "metadata": {},
   "source": [
    "## 3. 유저스펙테이블(user_spec)"
   ]
  },
  {
   "cell_type": "code",
   "execution_count": 9,
   "id": "1f5ecd4c",
   "metadata": {},
   "outputs": [],
   "source": [
    "user_spec0 = user_spec.copy()\n",
    "user_spec = user_spec0.copy()"
   ]
  },
  {
   "cell_type": "code",
   "execution_count": 10,
   "id": "5e4cd4c0",
   "metadata": {},
   "outputs": [
    {
     "data": {
      "text/html": [
       "<div>\n",
       "<style scoped>\n",
       "    .dataframe tbody tr th:only-of-type {\n",
       "        vertical-align: middle;\n",
       "    }\n",
       "\n",
       "    .dataframe tbody tr th {\n",
       "        vertical-align: top;\n",
       "    }\n",
       "\n",
       "    .dataframe thead th {\n",
       "        text-align: right;\n",
       "    }\n",
       "</style>\n",
       "<table border=\"1\" class=\"dataframe\">\n",
       "  <thead>\n",
       "    <tr style=\"text-align: right;\">\n",
       "      <th></th>\n",
       "      <th>application_id</th>\n",
       "      <th>user_id</th>\n",
       "      <th>birth_year</th>\n",
       "      <th>gender</th>\n",
       "      <th>insert_time</th>\n",
       "      <th>credit_score</th>\n",
       "      <th>yearly_income</th>\n",
       "      <th>income_type</th>\n",
       "      <th>company_enter_month</th>\n",
       "      <th>employment_type</th>\n",
       "      <th>houseown_type</th>\n",
       "      <th>desired_amount</th>\n",
       "      <th>purpose</th>\n",
       "      <th>personal_rehabilitation_yn</th>\n",
       "      <th>personal_rehabilitation_complete_yn</th>\n",
       "      <th>existing_loan_cnt</th>\n",
       "      <th>existing_loan_amt</th>\n",
       "    </tr>\n",
       "  </thead>\n",
       "  <tbody>\n",
       "    <tr>\n",
       "      <th>0</th>\n",
       "      <td>1249046</td>\n",
       "      <td>118218</td>\n",
       "      <td>1985.0</td>\n",
       "      <td>1.0</td>\n",
       "      <td>2022-06-07 06:28:18</td>\n",
       "      <td>660.0</td>\n",
       "      <td>108000000.0</td>\n",
       "      <td>PRIVATEBUSINESS</td>\n",
       "      <td>20151101.0</td>\n",
       "      <td>기타</td>\n",
       "      <td>자가</td>\n",
       "      <td>1000000.0</td>\n",
       "      <td>기타</td>\n",
       "      <td>0.0</td>\n",
       "      <td>NaN</td>\n",
       "      <td>4.0</td>\n",
       "      <td>162000000.0</td>\n",
       "    </tr>\n",
       "    <tr>\n",
       "      <th>1</th>\n",
       "      <td>954900</td>\n",
       "      <td>553686</td>\n",
       "      <td>1968.0</td>\n",
       "      <td>1.0</td>\n",
       "      <td>2022-06-07 14:29:03</td>\n",
       "      <td>870.0</td>\n",
       "      <td>30000000.0</td>\n",
       "      <td>PRIVATEBUSINESS</td>\n",
       "      <td>20070201.0</td>\n",
       "      <td>정규직</td>\n",
       "      <td>기타가족소유</td>\n",
       "      <td>30000000.0</td>\n",
       "      <td>대환대출</td>\n",
       "      <td>0.0</td>\n",
       "      <td>NaN</td>\n",
       "      <td>1.0</td>\n",
       "      <td>27000000.0</td>\n",
       "    </tr>\n",
       "    <tr>\n",
       "      <th>2</th>\n",
       "      <td>137274</td>\n",
       "      <td>59516</td>\n",
       "      <td>1997.0</td>\n",
       "      <td>1.0</td>\n",
       "      <td>2022-06-07 21:40:22</td>\n",
       "      <td>710.0</td>\n",
       "      <td>30000000.0</td>\n",
       "      <td>FREELANCER</td>\n",
       "      <td>20210901.0</td>\n",
       "      <td>기타</td>\n",
       "      <td>기타가족소유</td>\n",
       "      <td>10000000.0</td>\n",
       "      <td>생활비</td>\n",
       "      <td>0.0</td>\n",
       "      <td>NaN</td>\n",
       "      <td>5.0</td>\n",
       "      <td>15000000.0</td>\n",
       "    </tr>\n",
       "    <tr>\n",
       "      <th>3</th>\n",
       "      <td>1570936</td>\n",
       "      <td>167320</td>\n",
       "      <td>1989.0</td>\n",
       "      <td>1.0</td>\n",
       "      <td>2022-06-07 09:40:27</td>\n",
       "      <td>820.0</td>\n",
       "      <td>62000000.0</td>\n",
       "      <td>EARNEDINCOME</td>\n",
       "      <td>20170101.0</td>\n",
       "      <td>정규직</td>\n",
       "      <td>자가</td>\n",
       "      <td>2000000.0</td>\n",
       "      <td>생활비</td>\n",
       "      <td>0.0</td>\n",
       "      <td>NaN</td>\n",
       "      <td>7.0</td>\n",
       "      <td>344000000.0</td>\n",
       "    </tr>\n",
       "    <tr>\n",
       "      <th>4</th>\n",
       "      <td>967833</td>\n",
       "      <td>33400</td>\n",
       "      <td>2000.0</td>\n",
       "      <td>1.0</td>\n",
       "      <td>2022-06-07 08:55:07</td>\n",
       "      <td>630.0</td>\n",
       "      <td>36000000.0</td>\n",
       "      <td>EARNEDINCOME</td>\n",
       "      <td>20210901.0</td>\n",
       "      <td>정규직</td>\n",
       "      <td>기타가족소유</td>\n",
       "      <td>5000000.0</td>\n",
       "      <td>생활비</td>\n",
       "      <td>0.0</td>\n",
       "      <td>0.0</td>\n",
       "      <td>1.0</td>\n",
       "      <td>16000000.0</td>\n",
       "    </tr>\n",
       "    <tr>\n",
       "      <th>...</th>\n",
       "      <td>...</td>\n",
       "      <td>...</td>\n",
       "      <td>...</td>\n",
       "      <td>...</td>\n",
       "      <td>...</td>\n",
       "      <td>...</td>\n",
       "      <td>...</td>\n",
       "      <td>...</td>\n",
       "      <td>...</td>\n",
       "      <td>...</td>\n",
       "      <td>...</td>\n",
       "      <td>...</td>\n",
       "      <td>...</td>\n",
       "      <td>...</td>\n",
       "      <td>...</td>\n",
       "      <td>...</td>\n",
       "      <td>...</td>\n",
       "    </tr>\n",
       "    <tr>\n",
       "      <th>1394211</th>\n",
       "      <td>1864587</td>\n",
       "      <td>489900</td>\n",
       "      <td>2000.0</td>\n",
       "      <td>1.0</td>\n",
       "      <td>2022-03-22 14:55:32</td>\n",
       "      <td>590.0</td>\n",
       "      <td>25000000.0</td>\n",
       "      <td>FREELANCER</td>\n",
       "      <td>202106.0</td>\n",
       "      <td>기타</td>\n",
       "      <td>기타가족소유</td>\n",
       "      <td>5000000.0</td>\n",
       "      <td>사업자금</td>\n",
       "      <td>NaN</td>\n",
       "      <td>NaN</td>\n",
       "      <td>NaN</td>\n",
       "      <td>NaN</td>\n",
       "    </tr>\n",
       "    <tr>\n",
       "      <th>1394212</th>\n",
       "      <td>1327066</td>\n",
       "      <td>151422</td>\n",
       "      <td>1955.0</td>\n",
       "      <td>1.0</td>\n",
       "      <td>2022-03-22 01:19:24</td>\n",
       "      <td>980.0</td>\n",
       "      <td>20000000.0</td>\n",
       "      <td>OTHERINCOME</td>\n",
       "      <td>NaN</td>\n",
       "      <td>기타</td>\n",
       "      <td>자가</td>\n",
       "      <td>50000000.0</td>\n",
       "      <td>생활비</td>\n",
       "      <td>NaN</td>\n",
       "      <td>NaN</td>\n",
       "      <td>1.0</td>\n",
       "      <td>NaN</td>\n",
       "    </tr>\n",
       "    <tr>\n",
       "      <th>1394213</th>\n",
       "      <td>1319606</td>\n",
       "      <td>173524</td>\n",
       "      <td>1983.0</td>\n",
       "      <td>1.0</td>\n",
       "      <td>2022-03-22 07:34:32</td>\n",
       "      <td>750.0</td>\n",
       "      <td>75000000.0</td>\n",
       "      <td>EARNEDINCOME</td>\n",
       "      <td>200908.0</td>\n",
       "      <td>정규직</td>\n",
       "      <td>자가</td>\n",
       "      <td>100000000.0</td>\n",
       "      <td>대환대출</td>\n",
       "      <td>NaN</td>\n",
       "      <td>NaN</td>\n",
       "      <td>8.0</td>\n",
       "      <td>200000000.0</td>\n",
       "    </tr>\n",
       "    <tr>\n",
       "      <th>1394214</th>\n",
       "      <td>1482466</td>\n",
       "      <td>766546</td>\n",
       "      <td>1975.0</td>\n",
       "      <td>1.0</td>\n",
       "      <td>2022-03-22 22:12:35</td>\n",
       "      <td>640.0</td>\n",
       "      <td>50000000.0</td>\n",
       "      <td>EARNEDINCOME</td>\n",
       "      <td>201705.0</td>\n",
       "      <td>정규직</td>\n",
       "      <td>자가</td>\n",
       "      <td>10000000.0</td>\n",
       "      <td>대환대출</td>\n",
       "      <td>NaN</td>\n",
       "      <td>NaN</td>\n",
       "      <td>10.0</td>\n",
       "      <td>117000000.0</td>\n",
       "    </tr>\n",
       "    <tr>\n",
       "      <th>1394215</th>\n",
       "      <td>816537</td>\n",
       "      <td>3864</td>\n",
       "      <td>1977.0</td>\n",
       "      <td>0.0</td>\n",
       "      <td>2022-03-22 08:55:14</td>\n",
       "      <td>NaN</td>\n",
       "      <td>35000000.0</td>\n",
       "      <td>FREELANCER</td>\n",
       "      <td>201103.0</td>\n",
       "      <td>기타</td>\n",
       "      <td>자가</td>\n",
       "      <td>20000000.0</td>\n",
       "      <td>생활비</td>\n",
       "      <td>NaN</td>\n",
       "      <td>NaN</td>\n",
       "      <td>NaN</td>\n",
       "      <td>NaN</td>\n",
       "    </tr>\n",
       "  </tbody>\n",
       "</table>\n",
       "<p>1394216 rows × 17 columns</p>\n",
       "</div>"
      ],
      "text/plain": [
       "         application_id  user_id  birth_year  gender          insert_time  \\\n",
       "0               1249046   118218      1985.0     1.0  2022-06-07 06:28:18   \n",
       "1                954900   553686      1968.0     1.0  2022-06-07 14:29:03   \n",
       "2                137274    59516      1997.0     1.0  2022-06-07 21:40:22   \n",
       "3               1570936   167320      1989.0     1.0  2022-06-07 09:40:27   \n",
       "4                967833    33400      2000.0     1.0  2022-06-07 08:55:07   \n",
       "...                 ...      ...         ...     ...                  ...   \n",
       "1394211         1864587   489900      2000.0     1.0  2022-03-22 14:55:32   \n",
       "1394212         1327066   151422      1955.0     1.0  2022-03-22 01:19:24   \n",
       "1394213         1319606   173524      1983.0     1.0  2022-03-22 07:34:32   \n",
       "1394214         1482466   766546      1975.0     1.0  2022-03-22 22:12:35   \n",
       "1394215          816537     3864      1977.0     0.0  2022-03-22 08:55:14   \n",
       "\n",
       "         credit_score  yearly_income      income_type  company_enter_month  \\\n",
       "0               660.0    108000000.0  PRIVATEBUSINESS           20151101.0   \n",
       "1               870.0     30000000.0  PRIVATEBUSINESS           20070201.0   \n",
       "2               710.0     30000000.0       FREELANCER           20210901.0   \n",
       "3               820.0     62000000.0     EARNEDINCOME           20170101.0   \n",
       "4               630.0     36000000.0     EARNEDINCOME           20210901.0   \n",
       "...               ...            ...              ...                  ...   \n",
       "1394211         590.0     25000000.0       FREELANCER             202106.0   \n",
       "1394212         980.0     20000000.0      OTHERINCOME                  NaN   \n",
       "1394213         750.0     75000000.0     EARNEDINCOME             200908.0   \n",
       "1394214         640.0     50000000.0     EARNEDINCOME             201705.0   \n",
       "1394215           NaN     35000000.0       FREELANCER             201103.0   \n",
       "\n",
       "        employment_type houseown_type  desired_amount purpose  \\\n",
       "0                    기타            자가       1000000.0      기타   \n",
       "1                   정규직        기타가족소유      30000000.0    대환대출   \n",
       "2                    기타        기타가족소유      10000000.0     생활비   \n",
       "3                   정규직            자가       2000000.0     생활비   \n",
       "4                   정규직        기타가족소유       5000000.0     생활비   \n",
       "...                 ...           ...             ...     ...   \n",
       "1394211              기타        기타가족소유       5000000.0    사업자금   \n",
       "1394212              기타            자가      50000000.0     생활비   \n",
       "1394213             정규직            자가     100000000.0    대환대출   \n",
       "1394214             정규직            자가      10000000.0    대환대출   \n",
       "1394215              기타            자가      20000000.0     생활비   \n",
       "\n",
       "         personal_rehabilitation_yn  personal_rehabilitation_complete_yn  \\\n",
       "0                               0.0                                  NaN   \n",
       "1                               0.0                                  NaN   \n",
       "2                               0.0                                  NaN   \n",
       "3                               0.0                                  NaN   \n",
       "4                               0.0                                  0.0   \n",
       "...                             ...                                  ...   \n",
       "1394211                         NaN                                  NaN   \n",
       "1394212                         NaN                                  NaN   \n",
       "1394213                         NaN                                  NaN   \n",
       "1394214                         NaN                                  NaN   \n",
       "1394215                         NaN                                  NaN   \n",
       "\n",
       "         existing_loan_cnt  existing_loan_amt  \n",
       "0                      4.0        162000000.0  \n",
       "1                      1.0         27000000.0  \n",
       "2                      5.0         15000000.0  \n",
       "3                      7.0        344000000.0  \n",
       "4                      1.0         16000000.0  \n",
       "...                    ...                ...  \n",
       "1394211                NaN                NaN  \n",
       "1394212                1.0                NaN  \n",
       "1394213                8.0        200000000.0  \n",
       "1394214               10.0        117000000.0  \n",
       "1394215                NaN                NaN  \n",
       "\n",
       "[1394216 rows x 17 columns]"
      ]
     },
     "execution_count": 10,
     "metadata": {},
     "output_type": "execute_result"
    }
   ],
   "source": [
    "user_spec"
   ]
  },
  {
   "cell_type": "markdown",
   "id": "0448d4e5",
   "metadata": {},
   "source": [
    "데이터 전체 행 수 : 1,394,216"
   ]
  },
  {
   "cell_type": "code",
   "execution_count": 11,
   "id": "2764dcf4",
   "metadata": {},
   "outputs": [
    {
     "data": {
      "text/plain": [
       "1394216"
      ]
     },
     "execution_count": 11,
     "metadata": {},
     "output_type": "execute_result"
    }
   ],
   "source": [
    "len(user_spec)"
   ]
  },
  {
   "cell_type": "markdown",
   "id": "d6edad0e",
   "metadata": {},
   "source": [
    "application_id(신청서) 수 : 1,394,216 ( == 데이터 전체 행 수)"
   ]
  },
  {
   "cell_type": "code",
   "execution_count": 12,
   "id": "5c0b812b",
   "metadata": {},
   "outputs": [
    {
     "data": {
      "text/plain": [
       "1394216"
      ]
     },
     "execution_count": 12,
     "metadata": {},
     "output_type": "execute_result"
    }
   ],
   "source": [
    "len(user_spec[\"application_id\"].unique())"
   ]
  },
  {
   "cell_type": "markdown",
   "id": "a034b8c6",
   "metadata": {},
   "source": [
    "user_id(이용자) 수 : 405,213\\\n",
    " => 평균적으로 이용자 한 명당 약 3번 정도 핀다 신청을 함"
   ]
  },
  {
   "cell_type": "code",
   "execution_count": 13,
   "id": "40c1af1e",
   "metadata": {},
   "outputs": [
    {
     "data": {
      "text/plain": [
       "405213"
      ]
     },
     "execution_count": 13,
     "metadata": {},
     "output_type": "execute_result"
    }
   ],
   "source": [
    "len(user_spec[\"user_id\"].unique())"
   ]
  },
  {
   "cell_type": "markdown",
   "id": "7f69bd24",
   "metadata": {},
   "source": [
    "### loan_result에는 있지만 user_spec에는 없는 경우"
   ]
  },
  {
   "cell_type": "markdown",
   "id": "c6293563",
   "metadata": {},
   "source": [
    "**loan_result의 \"application_id\"와 user_spec의 \"application_id\"를 기준으로 merge**"
   ]
  },
  {
   "cell_type": "code",
   "execution_count": 14,
   "id": "b455a474",
   "metadata": {},
   "outputs": [],
   "source": [
    "loan_spec = pd.merge(loan_result,user_spec, how='left',on='application_id')"
   ]
  },
  {
   "cell_type": "code",
   "execution_count": 15,
   "id": "a2d680d0",
   "metadata": {},
   "outputs": [
    {
     "data": {
      "text/html": [
       "<div>\n",
       "<style scoped>\n",
       "    .dataframe tbody tr th:only-of-type {\n",
       "        vertical-align: middle;\n",
       "    }\n",
       "\n",
       "    .dataframe tbody tr th {\n",
       "        vertical-align: top;\n",
       "    }\n",
       "\n",
       "    .dataframe thead th {\n",
       "        text-align: right;\n",
       "    }\n",
       "</style>\n",
       "<table border=\"1\" class=\"dataframe\">\n",
       "  <thead>\n",
       "    <tr style=\"text-align: right;\">\n",
       "      <th></th>\n",
       "      <th>application_id</th>\n",
       "      <th>loanapply_insert_time</th>\n",
       "      <th>bank_id</th>\n",
       "      <th>product_id</th>\n",
       "      <th>loan_limit</th>\n",
       "      <th>loan_rate</th>\n",
       "      <th>is_applied</th>\n",
       "      <th>user_id</th>\n",
       "      <th>birth_year</th>\n",
       "      <th>gender</th>\n",
       "      <th>...</th>\n",
       "      <th>income_type</th>\n",
       "      <th>company_enter_month</th>\n",
       "      <th>employment_type</th>\n",
       "      <th>houseown_type</th>\n",
       "      <th>desired_amount</th>\n",
       "      <th>purpose</th>\n",
       "      <th>personal_rehabilitation_yn</th>\n",
       "      <th>personal_rehabilitation_complete_yn</th>\n",
       "      <th>existing_loan_cnt</th>\n",
       "      <th>existing_loan_amt</th>\n",
       "    </tr>\n",
       "  </thead>\n",
       "  <tbody>\n",
       "  </tbody>\n",
       "</table>\n",
       "<p>0 rows × 23 columns</p>\n",
       "</div>"
      ],
      "text/plain": [
       "Empty DataFrame\n",
       "Columns: [application_id, loanapply_insert_time, bank_id, product_id, loan_limit, loan_rate, is_applied, user_id, birth_year, gender, insert_time, credit_score, yearly_income, income_type, company_enter_month, employment_type, houseown_type, desired_amount, purpose, personal_rehabilitation_yn, personal_rehabilitation_complete_yn, existing_loan_cnt, existing_loan_amt]\n",
       "Index: []\n",
       "\n",
       "[0 rows x 23 columns]"
      ]
     },
     "execution_count": 15,
     "metadata": {},
     "output_type": "execute_result"
    }
   ],
   "source": [
    "# 이 중에서 user_id가 결측인 값 => loan_result에 있는 application_id가 user_spec에는 없었다.\n",
    "# 하지만 그런 경우는 없었음\n",
    "loan_spec[loan_spec[\"user_id\"].isna()]"
   ]
  },
  {
   "cell_type": "code",
   "execution_count": null,
   "id": "877a647e",
   "metadata": {},
   "outputs": [],
   "source": []
  },
  {
   "cell_type": "markdown",
   "id": "a18704b6",
   "metadata": {},
   "source": [
    "### 날짜 형식 맞춰주기"
   ]
  },
  {
   "cell_type": "code",
   "execution_count": 16,
   "id": "f8a53642",
   "metadata": {},
   "outputs": [
    {
     "name": "stderr",
     "output_type": "stream",
     "text": [
      "<ipython-input-16-ea4bc05fa1fd>:3: TqdmDeprecationWarning: This function will be removed in tqdm==5.0.0\n",
      "Please use `tqdm.notebook.tqdm` instead of `tqdm.tqdm_notebook`\n",
      "  for i in tqdm_notebook(user_spec[\"company_enter_month\"].astype(str)):\n"
     ]
    },
    {
     "data": {
      "application/vnd.jupyter.widget-view+json": {
       "model_id": "eb6873f7ff944b13b2c87efdfa0c203e",
       "version_major": 2,
       "version_minor": 0
      },
      "text/plain": [
       "  0%|          | 0/1394216 [00:00<?, ?it/s]"
      ]
     },
     "metadata": {},
     "output_type": "display_data"
    }
   ],
   "source": [
    "# company_enter_month\n",
    "company_enter_month_d = []\n",
    "for i in tqdm_notebook(user_spec[\"company_enter_month\"].astype(str)):\n",
    "    try:\n",
    "        company_enter_month_d.append(pd.to_datetime(i[0:6]+\"01\"))\n",
    "    except:\n",
    "        company_enter_month_d.append(np.nan)"
   ]
  },
  {
   "cell_type": "code",
   "execution_count": 17,
   "id": "c17d10a3",
   "metadata": {},
   "outputs": [],
   "source": [
    "user_spec[\"company_enter_month\"] = company_enter_month_d"
   ]
  },
  {
   "cell_type": "code",
   "execution_count": 18,
   "id": "b9031e9b",
   "metadata": {},
   "outputs": [],
   "source": [
    "# insert_time\n",
    "user_spec[\"insert_time\"] = pd.to_datetime(user_spec[\"insert_time\"])"
   ]
  },
  {
   "cell_type": "markdown",
   "id": "422800d0",
   "metadata": {},
   "source": [
    "### 신용점수"
   ]
  },
  {
   "cell_type": "code",
   "execution_count": 19,
   "id": "5a29ab0c",
   "metadata": {},
   "outputs": [
    {
     "data": {
      "text/html": [
       "<div>\n",
       "<style scoped>\n",
       "    .dataframe tbody tr th:only-of-type {\n",
       "        vertical-align: middle;\n",
       "    }\n",
       "\n",
       "    .dataframe tbody tr th {\n",
       "        vertical-align: top;\n",
       "    }\n",
       "\n",
       "    .dataframe thead th {\n",
       "        text-align: right;\n",
       "    }\n",
       "</style>\n",
       "<table border=\"1\" class=\"dataframe\">\n",
       "  <thead>\n",
       "    <tr style=\"text-align: right;\">\n",
       "      <th></th>\n",
       "      <th>application_id</th>\n",
       "      <th>user_id</th>\n",
       "      <th>birth_year</th>\n",
       "      <th>gender</th>\n",
       "      <th>insert_time</th>\n",
       "      <th>credit_score</th>\n",
       "      <th>yearly_income</th>\n",
       "      <th>income_type</th>\n",
       "      <th>company_enter_month</th>\n",
       "      <th>employment_type</th>\n",
       "      <th>houseown_type</th>\n",
       "      <th>desired_amount</th>\n",
       "      <th>purpose</th>\n",
       "      <th>personal_rehabilitation_yn</th>\n",
       "      <th>personal_rehabilitation_complete_yn</th>\n",
       "      <th>existing_loan_cnt</th>\n",
       "      <th>existing_loan_amt</th>\n",
       "    </tr>\n",
       "  </thead>\n",
       "  <tbody>\n",
       "    <tr>\n",
       "      <th>25</th>\n",
       "      <td>272600</td>\n",
       "      <td>754046</td>\n",
       "      <td>1980.0</td>\n",
       "      <td>1.0</td>\n",
       "      <td>2022-06-07 19:24:28</td>\n",
       "      <td>NaN</td>\n",
       "      <td>22000000.0</td>\n",
       "      <td>EARNEDINCOME</td>\n",
       "      <td>2009-01-01</td>\n",
       "      <td>정규직</td>\n",
       "      <td>전월세</td>\n",
       "      <td>22000000.0</td>\n",
       "      <td>대환대출</td>\n",
       "      <td>0.0</td>\n",
       "      <td>NaN</td>\n",
       "      <td>NaN</td>\n",
       "      <td>NaN</td>\n",
       "    </tr>\n",
       "    <tr>\n",
       "      <th>39</th>\n",
       "      <td>246114</td>\n",
       "      <td>470525</td>\n",
       "      <td>1983.0</td>\n",
       "      <td>1.0</td>\n",
       "      <td>2022-06-07 22:00:53</td>\n",
       "      <td>NaN</td>\n",
       "      <td>45000000.0</td>\n",
       "      <td>OTHERINCOME</td>\n",
       "      <td>NaT</td>\n",
       "      <td>기타</td>\n",
       "      <td>전월세</td>\n",
       "      <td>30000000.0</td>\n",
       "      <td>사업자금</td>\n",
       "      <td>0.0</td>\n",
       "      <td>NaN</td>\n",
       "      <td>1.0</td>\n",
       "      <td>NaN</td>\n",
       "    </tr>\n",
       "    <tr>\n",
       "      <th>48</th>\n",
       "      <td>612258</td>\n",
       "      <td>59149</td>\n",
       "      <td>1998.0</td>\n",
       "      <td>1.0</td>\n",
       "      <td>2022-06-07 07:31:21</td>\n",
       "      <td>NaN</td>\n",
       "      <td>0.0</td>\n",
       "      <td>PRIVATEBUSINESS</td>\n",
       "      <td>2022-03-01</td>\n",
       "      <td>기타</td>\n",
       "      <td>전월세</td>\n",
       "      <td>1000000.0</td>\n",
       "      <td>생활비</td>\n",
       "      <td>0.0</td>\n",
       "      <td>0.0</td>\n",
       "      <td>NaN</td>\n",
       "      <td>NaN</td>\n",
       "    </tr>\n",
       "    <tr>\n",
       "      <th>64</th>\n",
       "      <td>1036265</td>\n",
       "      <td>558745</td>\n",
       "      <td>1986.0</td>\n",
       "      <td>0.0</td>\n",
       "      <td>2022-06-07 17:20:08</td>\n",
       "      <td>NaN</td>\n",
       "      <td>48000000.0</td>\n",
       "      <td>EARNEDINCOME</td>\n",
       "      <td>2012-10-01</td>\n",
       "      <td>정규직</td>\n",
       "      <td>자가</td>\n",
       "      <td>280000000.0</td>\n",
       "      <td>주택구입</td>\n",
       "      <td>0.0</td>\n",
       "      <td>NaN</td>\n",
       "      <td>NaN</td>\n",
       "      <td>NaN</td>\n",
       "    </tr>\n",
       "    <tr>\n",
       "      <th>65</th>\n",
       "      <td>1930194</td>\n",
       "      <td>157472</td>\n",
       "      <td>1995.0</td>\n",
       "      <td>1.0</td>\n",
       "      <td>2022-06-07 16:34:09</td>\n",
       "      <td>NaN</td>\n",
       "      <td>40000000.0</td>\n",
       "      <td>EARNEDINCOME</td>\n",
       "      <td>2022-05-01</td>\n",
       "      <td>정규직</td>\n",
       "      <td>기타가족소유</td>\n",
       "      <td>7000000.0</td>\n",
       "      <td>생활비</td>\n",
       "      <td>0.0</td>\n",
       "      <td>0.0</td>\n",
       "      <td>NaN</td>\n",
       "      <td>NaN</td>\n",
       "    </tr>\n",
       "    <tr>\n",
       "      <th>...</th>\n",
       "      <td>...</td>\n",
       "      <td>...</td>\n",
       "      <td>...</td>\n",
       "      <td>...</td>\n",
       "      <td>...</td>\n",
       "      <td>...</td>\n",
       "      <td>...</td>\n",
       "      <td>...</td>\n",
       "      <td>...</td>\n",
       "      <td>...</td>\n",
       "      <td>...</td>\n",
       "      <td>...</td>\n",
       "      <td>...</td>\n",
       "      <td>...</td>\n",
       "      <td>...</td>\n",
       "      <td>...</td>\n",
       "      <td>...</td>\n",
       "    </tr>\n",
       "    <tr>\n",
       "      <th>1394120</th>\n",
       "      <td>1281112</td>\n",
       "      <td>493197</td>\n",
       "      <td>1987.0</td>\n",
       "      <td>1.0</td>\n",
       "      <td>2022-03-22 12:06:34</td>\n",
       "      <td>NaN</td>\n",
       "      <td>100000000.0</td>\n",
       "      <td>PRIVATEBUSINESS</td>\n",
       "      <td>2021-10-01</td>\n",
       "      <td>정규직</td>\n",
       "      <td>기타가족소유</td>\n",
       "      <td>50000000.0</td>\n",
       "      <td>사업자금</td>\n",
       "      <td>NaN</td>\n",
       "      <td>NaN</td>\n",
       "      <td>NaN</td>\n",
       "      <td>NaN</td>\n",
       "    </tr>\n",
       "    <tr>\n",
       "      <th>1394127</th>\n",
       "      <td>1121565</td>\n",
       "      <td>82805</td>\n",
       "      <td>1992.0</td>\n",
       "      <td>1.0</td>\n",
       "      <td>2022-03-22 11:42:39</td>\n",
       "      <td>NaN</td>\n",
       "      <td>30000000.0</td>\n",
       "      <td>EARNEDINCOME</td>\n",
       "      <td>2018-01-01</td>\n",
       "      <td>정규직</td>\n",
       "      <td>전월세</td>\n",
       "      <td>10000000.0</td>\n",
       "      <td>LIVING</td>\n",
       "      <td>NaN</td>\n",
       "      <td>NaN</td>\n",
       "      <td>NaN</td>\n",
       "      <td>NaN</td>\n",
       "    </tr>\n",
       "    <tr>\n",
       "      <th>1394141</th>\n",
       "      <td>1229782</td>\n",
       "      <td>250565</td>\n",
       "      <td>1989.0</td>\n",
       "      <td>1.0</td>\n",
       "      <td>2022-03-22 21:12:37</td>\n",
       "      <td>NaN</td>\n",
       "      <td>44000000.0</td>\n",
       "      <td>EARNEDINCOME</td>\n",
       "      <td>2018-04-01</td>\n",
       "      <td>정규직</td>\n",
       "      <td>전월세</td>\n",
       "      <td>20000000.0</td>\n",
       "      <td>기타</td>\n",
       "      <td>NaN</td>\n",
       "      <td>NaN</td>\n",
       "      <td>NaN</td>\n",
       "      <td>NaN</td>\n",
       "    </tr>\n",
       "    <tr>\n",
       "      <th>1394179</th>\n",
       "      <td>1264282</td>\n",
       "      <td>10298</td>\n",
       "      <td>1999.0</td>\n",
       "      <td>1.0</td>\n",
       "      <td>2022-03-22 14:31:24</td>\n",
       "      <td>NaN</td>\n",
       "      <td>10000000.0</td>\n",
       "      <td>FREELANCER</td>\n",
       "      <td>2021-06-01</td>\n",
       "      <td>기타</td>\n",
       "      <td>기타가족소유</td>\n",
       "      <td>3000000.0</td>\n",
       "      <td>전월세보증금</td>\n",
       "      <td>NaN</td>\n",
       "      <td>NaN</td>\n",
       "      <td>NaN</td>\n",
       "      <td>NaN</td>\n",
       "    </tr>\n",
       "    <tr>\n",
       "      <th>1394215</th>\n",
       "      <td>816537</td>\n",
       "      <td>3864</td>\n",
       "      <td>1977.0</td>\n",
       "      <td>0.0</td>\n",
       "      <td>2022-03-22 08:55:14</td>\n",
       "      <td>NaN</td>\n",
       "      <td>35000000.0</td>\n",
       "      <td>FREELANCER</td>\n",
       "      <td>2011-03-01</td>\n",
       "      <td>기타</td>\n",
       "      <td>자가</td>\n",
       "      <td>20000000.0</td>\n",
       "      <td>생활비</td>\n",
       "      <td>NaN</td>\n",
       "      <td>NaN</td>\n",
       "      <td>NaN</td>\n",
       "      <td>NaN</td>\n",
       "    </tr>\n",
       "  </tbody>\n",
       "</table>\n",
       "<p>105115 rows × 17 columns</p>\n",
       "</div>"
      ],
      "text/plain": [
       "         application_id  user_id  birth_year  gender         insert_time  \\\n",
       "25               272600   754046      1980.0     1.0 2022-06-07 19:24:28   \n",
       "39               246114   470525      1983.0     1.0 2022-06-07 22:00:53   \n",
       "48               612258    59149      1998.0     1.0 2022-06-07 07:31:21   \n",
       "64              1036265   558745      1986.0     0.0 2022-06-07 17:20:08   \n",
       "65              1930194   157472      1995.0     1.0 2022-06-07 16:34:09   \n",
       "...                 ...      ...         ...     ...                 ...   \n",
       "1394120         1281112   493197      1987.0     1.0 2022-03-22 12:06:34   \n",
       "1394127         1121565    82805      1992.0     1.0 2022-03-22 11:42:39   \n",
       "1394141         1229782   250565      1989.0     1.0 2022-03-22 21:12:37   \n",
       "1394179         1264282    10298      1999.0     1.0 2022-03-22 14:31:24   \n",
       "1394215          816537     3864      1977.0     0.0 2022-03-22 08:55:14   \n",
       "\n",
       "         credit_score  yearly_income      income_type company_enter_month  \\\n",
       "25                NaN     22000000.0     EARNEDINCOME          2009-01-01   \n",
       "39                NaN     45000000.0      OTHERINCOME                 NaT   \n",
       "48                NaN            0.0  PRIVATEBUSINESS          2022-03-01   \n",
       "64                NaN     48000000.0     EARNEDINCOME          2012-10-01   \n",
       "65                NaN     40000000.0     EARNEDINCOME          2022-05-01   \n",
       "...               ...            ...              ...                 ...   \n",
       "1394120           NaN    100000000.0  PRIVATEBUSINESS          2021-10-01   \n",
       "1394127           NaN     30000000.0     EARNEDINCOME          2018-01-01   \n",
       "1394141           NaN     44000000.0     EARNEDINCOME          2018-04-01   \n",
       "1394179           NaN     10000000.0       FREELANCER          2021-06-01   \n",
       "1394215           NaN     35000000.0       FREELANCER          2011-03-01   \n",
       "\n",
       "        employment_type houseown_type  desired_amount purpose  \\\n",
       "25                  정규직           전월세      22000000.0    대환대출   \n",
       "39                   기타           전월세      30000000.0    사업자금   \n",
       "48                   기타           전월세       1000000.0     생활비   \n",
       "64                  정규직            자가     280000000.0    주택구입   \n",
       "65                  정규직        기타가족소유       7000000.0     생활비   \n",
       "...                 ...           ...             ...     ...   \n",
       "1394120             정규직        기타가족소유      50000000.0    사업자금   \n",
       "1394127             정규직           전월세      10000000.0  LIVING   \n",
       "1394141             정규직           전월세      20000000.0      기타   \n",
       "1394179              기타        기타가족소유       3000000.0  전월세보증금   \n",
       "1394215              기타            자가      20000000.0     생활비   \n",
       "\n",
       "         personal_rehabilitation_yn  personal_rehabilitation_complete_yn  \\\n",
       "25                              0.0                                  NaN   \n",
       "39                              0.0                                  NaN   \n",
       "48                              0.0                                  0.0   \n",
       "64                              0.0                                  NaN   \n",
       "65                              0.0                                  0.0   \n",
       "...                             ...                                  ...   \n",
       "1394120                         NaN                                  NaN   \n",
       "1394127                         NaN                                  NaN   \n",
       "1394141                         NaN                                  NaN   \n",
       "1394179                         NaN                                  NaN   \n",
       "1394215                         NaN                                  NaN   \n",
       "\n",
       "         existing_loan_cnt  existing_loan_amt  \n",
       "25                     NaN                NaN  \n",
       "39                     1.0                NaN  \n",
       "48                     NaN                NaN  \n",
       "64                     NaN                NaN  \n",
       "65                     NaN                NaN  \n",
       "...                    ...                ...  \n",
       "1394120                NaN                NaN  \n",
       "1394127                NaN                NaN  \n",
       "1394141                NaN                NaN  \n",
       "1394179                NaN                NaN  \n",
       "1394215                NaN                NaN  \n",
       "\n",
       "[105115 rows x 17 columns]"
      ]
     },
     "execution_count": 19,
     "metadata": {},
     "output_type": "execute_result"
    }
   ],
   "source": [
    "tmp = user_spec[user_spec[\"credit_score\"].isna()]\n",
    "tmp"
   ]
  },
  {
   "cell_type": "code",
   "execution_count": 20,
   "id": "fdd1079f",
   "metadata": {},
   "outputs": [
    {
     "data": {
      "text/plain": [
       "employment_type\n",
       "정규직    63748\n",
       "기타     32630\n",
       "계약직     7690\n",
       "일용직     1044\n",
       "dtype: int64"
      ]
     },
     "execution_count": 20,
     "metadata": {},
     "output_type": "execute_result"
    }
   ],
   "source": [
    "tmp.value_counts(\"employment_type\")"
   ]
  },
  {
   "cell_type": "markdown",
   "id": "3e5a17fb",
   "metadata": {},
   "source": [
    "### income_type, employment_type, houseown_type 비율"
   ]
  },
  {
   "cell_type": "code",
   "execution_count": 21,
   "id": "a74d81c5",
   "metadata": {},
   "outputs": [
    {
     "data": {
      "text/plain": [
       "EARNEDINCOME       892579\n",
       "OTHERINCOME        172600\n",
       "PRIVATEBUSINESS    126108\n",
       "FREELANCER         103913\n",
       "EARNEDINCOME2       78806\n",
       "PRACTITIONER        20125\n",
       "Name: income_type, dtype: int64"
      ]
     },
     "execution_count": 21,
     "metadata": {},
     "output_type": "execute_result"
    }
   ],
   "source": [
    "user_spec[\"income_type\"].value_counts()"
   ]
  },
  {
   "cell_type": "code",
   "execution_count": 22,
   "id": "b6c994f2",
   "metadata": {},
   "outputs": [
    {
     "data": {
      "text/plain": [
       "정규직    918032\n",
       "기타     345801\n",
       "계약직    111445\n",
       "일용직     18853\n",
       "Name: employment_type, dtype: int64"
      ]
     },
     "execution_count": 22,
     "metadata": {},
     "output_type": "execute_result"
    }
   ],
   "source": [
    "user_spec[\"employment_type\"].value_counts()"
   ]
  },
  {
   "cell_type": "code",
   "execution_count": 23,
   "id": "f9c64cfa",
   "metadata": {},
   "outputs": [
    {
     "data": {
      "text/plain": [
       "전월세       642838\n",
       "기타가족소유    465893\n",
       "자가        283454\n",
       "배우자         1946\n",
       "Name: houseown_type, dtype: int64"
      ]
     },
     "execution_count": 23,
     "metadata": {},
     "output_type": "execute_result"
    }
   ],
   "source": [
    "user_spec[\"houseown_type\"].value_counts()"
   ]
  },
  {
   "cell_type": "code",
   "execution_count": 24,
   "id": "1bf9c721",
   "metadata": {},
   "outputs": [
    {
     "data": {
      "text/plain": [
       "생활비             866079\n",
       "대환대출            353794\n",
       "사업자금             62115\n",
       "기타               30132\n",
       "전월세보증금           27236\n",
       "주택구입             17471\n",
       "LIVING           15432\n",
       "투자               12532\n",
       "자동차구입             3394\n",
       "SWITCHLOAN        3248\n",
       "BUSINESS           935\n",
       "ETC                593\n",
       "HOUSEDEPOSIT       562\n",
       "BUYHOUSE           307\n",
       "INVEST             166\n",
       "BUYCAR             135\n",
       "Name: purpose, dtype: int64"
      ]
     },
     "execution_count": 24,
     "metadata": {},
     "output_type": "execute_result"
    }
   ],
   "source": [
    "user_spec[\"purpose\"].value_counts()"
   ]
  },
  {
   "cell_type": "code",
   "execution_count": null,
   "id": "d4638594",
   "metadata": {},
   "outputs": [],
   "source": []
  },
  {
   "cell_type": "markdown",
   "id": "decf5275",
   "metadata": {},
   "source": [
    "### existing_loan_cnt, existing_loan_amt"
   ]
  },
  {
   "cell_type": "code",
   "execution_count": 25,
   "id": "b4dd9462",
   "metadata": {},
   "outputs": [
    {
     "data": {
      "text/html": [
       "<div>\n",
       "<style scoped>\n",
       "    .dataframe tbody tr th:only-of-type {\n",
       "        vertical-align: middle;\n",
       "    }\n",
       "\n",
       "    .dataframe tbody tr th {\n",
       "        vertical-align: top;\n",
       "    }\n",
       "\n",
       "    .dataframe thead th {\n",
       "        text-align: right;\n",
       "    }\n",
       "</style>\n",
       "<table border=\"1\" class=\"dataframe\">\n",
       "  <thead>\n",
       "    <tr style=\"text-align: right;\">\n",
       "      <th></th>\n",
       "      <th>application_id</th>\n",
       "      <th>user_id</th>\n",
       "      <th>birth_year</th>\n",
       "      <th>gender</th>\n",
       "      <th>insert_time</th>\n",
       "      <th>credit_score</th>\n",
       "      <th>yearly_income</th>\n",
       "      <th>income_type</th>\n",
       "      <th>company_enter_month</th>\n",
       "      <th>employment_type</th>\n",
       "      <th>houseown_type</th>\n",
       "      <th>desired_amount</th>\n",
       "      <th>purpose</th>\n",
       "      <th>personal_rehabilitation_yn</th>\n",
       "      <th>personal_rehabilitation_complete_yn</th>\n",
       "      <th>existing_loan_cnt</th>\n",
       "      <th>existing_loan_amt</th>\n",
       "    </tr>\n",
       "  </thead>\n",
       "  <tbody>\n",
       "    <tr>\n",
       "      <th>7</th>\n",
       "      <td>1146166</td>\n",
       "      <td>588743</td>\n",
       "      <td>1992.0</td>\n",
       "      <td>0.0</td>\n",
       "      <td>2022-06-07 17:19:33</td>\n",
       "      <td>750.0</td>\n",
       "      <td>46000000.0</td>\n",
       "      <td>EARNEDINCOME</td>\n",
       "      <td>2015-10-01</td>\n",
       "      <td>정규직</td>\n",
       "      <td>기타가족소유</td>\n",
       "      <td>6000000.0</td>\n",
       "      <td>생활비</td>\n",
       "      <td>0.0</td>\n",
       "      <td>0.0</td>\n",
       "      <td>NaN</td>\n",
       "      <td>NaN</td>\n",
       "    </tr>\n",
       "    <tr>\n",
       "      <th>23</th>\n",
       "      <td>1237618</td>\n",
       "      <td>717213</td>\n",
       "      <td>1986.0</td>\n",
       "      <td>1.0</td>\n",
       "      <td>2022-06-07 03:26:54</td>\n",
       "      <td>530.0</td>\n",
       "      <td>51000000.0</td>\n",
       "      <td>EARNEDINCOME</td>\n",
       "      <td>2017-05-01</td>\n",
       "      <td>정규직</td>\n",
       "      <td>전월세</td>\n",
       "      <td>5000000.0</td>\n",
       "      <td>생활비</td>\n",
       "      <td>0.0</td>\n",
       "      <td>0.0</td>\n",
       "      <td>NaN</td>\n",
       "      <td>NaN</td>\n",
       "    </tr>\n",
       "    <tr>\n",
       "      <th>25</th>\n",
       "      <td>272600</td>\n",
       "      <td>754046</td>\n",
       "      <td>1980.0</td>\n",
       "      <td>1.0</td>\n",
       "      <td>2022-06-07 19:24:28</td>\n",
       "      <td>NaN</td>\n",
       "      <td>22000000.0</td>\n",
       "      <td>EARNEDINCOME</td>\n",
       "      <td>2009-01-01</td>\n",
       "      <td>정규직</td>\n",
       "      <td>전월세</td>\n",
       "      <td>22000000.0</td>\n",
       "      <td>대환대출</td>\n",
       "      <td>0.0</td>\n",
       "      <td>NaN</td>\n",
       "      <td>NaN</td>\n",
       "      <td>NaN</td>\n",
       "    </tr>\n",
       "    <tr>\n",
       "      <th>37</th>\n",
       "      <td>703129</td>\n",
       "      <td>324991</td>\n",
       "      <td>1994.0</td>\n",
       "      <td>0.0</td>\n",
       "      <td>2022-06-07 11:12:24</td>\n",
       "      <td>950.0</td>\n",
       "      <td>0.0</td>\n",
       "      <td>OTHERINCOME</td>\n",
       "      <td>NaT</td>\n",
       "      <td>기타</td>\n",
       "      <td>자가</td>\n",
       "      <td>50000000.0</td>\n",
       "      <td>기타</td>\n",
       "      <td>0.0</td>\n",
       "      <td>NaN</td>\n",
       "      <td>NaN</td>\n",
       "      <td>NaN</td>\n",
       "    </tr>\n",
       "    <tr>\n",
       "      <th>48</th>\n",
       "      <td>612258</td>\n",
       "      <td>59149</td>\n",
       "      <td>1998.0</td>\n",
       "      <td>1.0</td>\n",
       "      <td>2022-06-07 07:31:21</td>\n",
       "      <td>NaN</td>\n",
       "      <td>0.0</td>\n",
       "      <td>PRIVATEBUSINESS</td>\n",
       "      <td>2022-03-01</td>\n",
       "      <td>기타</td>\n",
       "      <td>전월세</td>\n",
       "      <td>1000000.0</td>\n",
       "      <td>생활비</td>\n",
       "      <td>0.0</td>\n",
       "      <td>0.0</td>\n",
       "      <td>NaN</td>\n",
       "      <td>NaN</td>\n",
       "    </tr>\n",
       "    <tr>\n",
       "      <th>...</th>\n",
       "      <td>...</td>\n",
       "      <td>...</td>\n",
       "      <td>...</td>\n",
       "      <td>...</td>\n",
       "      <td>...</td>\n",
       "      <td>...</td>\n",
       "      <td>...</td>\n",
       "      <td>...</td>\n",
       "      <td>...</td>\n",
       "      <td>...</td>\n",
       "      <td>...</td>\n",
       "      <td>...</td>\n",
       "      <td>...</td>\n",
       "      <td>...</td>\n",
       "      <td>...</td>\n",
       "      <td>...</td>\n",
       "      <td>...</td>\n",
       "    </tr>\n",
       "    <tr>\n",
       "      <th>1394184</th>\n",
       "      <td>1107103</td>\n",
       "      <td>162983</td>\n",
       "      <td>1978.0</td>\n",
       "      <td>1.0</td>\n",
       "      <td>2022-03-22 12:14:17</td>\n",
       "      <td>750.0</td>\n",
       "      <td>55000000.0</td>\n",
       "      <td>EARNEDINCOME</td>\n",
       "      <td>2014-08-01</td>\n",
       "      <td>정규직</td>\n",
       "      <td>전월세</td>\n",
       "      <td>50000000.0</td>\n",
       "      <td>생활비</td>\n",
       "      <td>NaN</td>\n",
       "      <td>NaN</td>\n",
       "      <td>NaN</td>\n",
       "      <td>NaN</td>\n",
       "    </tr>\n",
       "    <tr>\n",
       "      <th>1394203</th>\n",
       "      <td>943512</td>\n",
       "      <td>183117</td>\n",
       "      <td>1996.0</td>\n",
       "      <td>0.0</td>\n",
       "      <td>2022-03-22 16:22:21</td>\n",
       "      <td>710.0</td>\n",
       "      <td>24000000.0</td>\n",
       "      <td>EARNEDINCOME</td>\n",
       "      <td>2022-01-01</td>\n",
       "      <td>정규직</td>\n",
       "      <td>전월세</td>\n",
       "      <td>25000000.0</td>\n",
       "      <td>전월세보증금</td>\n",
       "      <td>NaN</td>\n",
       "      <td>NaN</td>\n",
       "      <td>NaN</td>\n",
       "      <td>NaN</td>\n",
       "    </tr>\n",
       "    <tr>\n",
       "      <th>1394204</th>\n",
       "      <td>1663661</td>\n",
       "      <td>183117</td>\n",
       "      <td>1996.0</td>\n",
       "      <td>0.0</td>\n",
       "      <td>2022-03-22 17:37:49</td>\n",
       "      <td>710.0</td>\n",
       "      <td>30000000.0</td>\n",
       "      <td>OTHERINCOME</td>\n",
       "      <td>NaT</td>\n",
       "      <td>기타</td>\n",
       "      <td>전월세</td>\n",
       "      <td>25000000.0</td>\n",
       "      <td>기타</td>\n",
       "      <td>NaN</td>\n",
       "      <td>NaN</td>\n",
       "      <td>NaN</td>\n",
       "      <td>NaN</td>\n",
       "    </tr>\n",
       "    <tr>\n",
       "      <th>1394211</th>\n",
       "      <td>1864587</td>\n",
       "      <td>489900</td>\n",
       "      <td>2000.0</td>\n",
       "      <td>1.0</td>\n",
       "      <td>2022-03-22 14:55:32</td>\n",
       "      <td>590.0</td>\n",
       "      <td>25000000.0</td>\n",
       "      <td>FREELANCER</td>\n",
       "      <td>2021-06-01</td>\n",
       "      <td>기타</td>\n",
       "      <td>기타가족소유</td>\n",
       "      <td>5000000.0</td>\n",
       "      <td>사업자금</td>\n",
       "      <td>NaN</td>\n",
       "      <td>NaN</td>\n",
       "      <td>NaN</td>\n",
       "      <td>NaN</td>\n",
       "    </tr>\n",
       "    <tr>\n",
       "      <th>1394215</th>\n",
       "      <td>816537</td>\n",
       "      <td>3864</td>\n",
       "      <td>1977.0</td>\n",
       "      <td>0.0</td>\n",
       "      <td>2022-03-22 08:55:14</td>\n",
       "      <td>NaN</td>\n",
       "      <td>35000000.0</td>\n",
       "      <td>FREELANCER</td>\n",
       "      <td>2011-03-01</td>\n",
       "      <td>기타</td>\n",
       "      <td>자가</td>\n",
       "      <td>20000000.0</td>\n",
       "      <td>생활비</td>\n",
       "      <td>NaN</td>\n",
       "      <td>NaN</td>\n",
       "      <td>NaN</td>\n",
       "      <td>NaN</td>\n",
       "    </tr>\n",
       "  </tbody>\n",
       "</table>\n",
       "<p>198556 rows × 17 columns</p>\n",
       "</div>"
      ],
      "text/plain": [
       "         application_id  user_id  birth_year  gender         insert_time  \\\n",
       "7               1146166   588743      1992.0     0.0 2022-06-07 17:19:33   \n",
       "23              1237618   717213      1986.0     1.0 2022-06-07 03:26:54   \n",
       "25               272600   754046      1980.0     1.0 2022-06-07 19:24:28   \n",
       "37               703129   324991      1994.0     0.0 2022-06-07 11:12:24   \n",
       "48               612258    59149      1998.0     1.0 2022-06-07 07:31:21   \n",
       "...                 ...      ...         ...     ...                 ...   \n",
       "1394184         1107103   162983      1978.0     1.0 2022-03-22 12:14:17   \n",
       "1394203          943512   183117      1996.0     0.0 2022-03-22 16:22:21   \n",
       "1394204         1663661   183117      1996.0     0.0 2022-03-22 17:37:49   \n",
       "1394211         1864587   489900      2000.0     1.0 2022-03-22 14:55:32   \n",
       "1394215          816537     3864      1977.0     0.0 2022-03-22 08:55:14   \n",
       "\n",
       "         credit_score  yearly_income      income_type company_enter_month  \\\n",
       "7               750.0     46000000.0     EARNEDINCOME          2015-10-01   \n",
       "23              530.0     51000000.0     EARNEDINCOME          2017-05-01   \n",
       "25                NaN     22000000.0     EARNEDINCOME          2009-01-01   \n",
       "37              950.0            0.0      OTHERINCOME                 NaT   \n",
       "48                NaN            0.0  PRIVATEBUSINESS          2022-03-01   \n",
       "...               ...            ...              ...                 ...   \n",
       "1394184         750.0     55000000.0     EARNEDINCOME          2014-08-01   \n",
       "1394203         710.0     24000000.0     EARNEDINCOME          2022-01-01   \n",
       "1394204         710.0     30000000.0      OTHERINCOME                 NaT   \n",
       "1394211         590.0     25000000.0       FREELANCER          2021-06-01   \n",
       "1394215           NaN     35000000.0       FREELANCER          2011-03-01   \n",
       "\n",
       "        employment_type houseown_type  desired_amount purpose  \\\n",
       "7                   정규직        기타가족소유       6000000.0     생활비   \n",
       "23                  정규직           전월세       5000000.0     생활비   \n",
       "25                  정규직           전월세      22000000.0    대환대출   \n",
       "37                   기타            자가      50000000.0      기타   \n",
       "48                   기타           전월세       1000000.0     생활비   \n",
       "...                 ...           ...             ...     ...   \n",
       "1394184             정규직           전월세      50000000.0     생활비   \n",
       "1394203             정규직           전월세      25000000.0  전월세보증금   \n",
       "1394204              기타           전월세      25000000.0      기타   \n",
       "1394211              기타        기타가족소유       5000000.0    사업자금   \n",
       "1394215              기타            자가      20000000.0     생활비   \n",
       "\n",
       "         personal_rehabilitation_yn  personal_rehabilitation_complete_yn  \\\n",
       "7                               0.0                                  0.0   \n",
       "23                              0.0                                  0.0   \n",
       "25                              0.0                                  NaN   \n",
       "37                              0.0                                  NaN   \n",
       "48                              0.0                                  0.0   \n",
       "...                             ...                                  ...   \n",
       "1394184                         NaN                                  NaN   \n",
       "1394203                         NaN                                  NaN   \n",
       "1394204                         NaN                                  NaN   \n",
       "1394211                         NaN                                  NaN   \n",
       "1394215                         NaN                                  NaN   \n",
       "\n",
       "         existing_loan_cnt  existing_loan_amt  \n",
       "7                      NaN                NaN  \n",
       "23                     NaN                NaN  \n",
       "25                     NaN                NaN  \n",
       "37                     NaN                NaN  \n",
       "48                     NaN                NaN  \n",
       "...                    ...                ...  \n",
       "1394184                NaN                NaN  \n",
       "1394203                NaN                NaN  \n",
       "1394204                NaN                NaN  \n",
       "1394211                NaN                NaN  \n",
       "1394215                NaN                NaN  \n",
       "\n",
       "[198556 rows x 17 columns]"
      ]
     },
     "execution_count": 25,
     "metadata": {},
     "output_type": "execute_result"
    }
   ],
   "source": [
    "user_spec[user_spec[\"existing_loan_cnt\"].isna()]"
   ]
  },
  {
   "cell_type": "code",
   "execution_count": 26,
   "id": "71413d8f",
   "metadata": {},
   "outputs": [
    {
     "data": {
      "text/html": [
       "<div>\n",
       "<style scoped>\n",
       "    .dataframe tbody tr th:only-of-type {\n",
       "        vertical-align: middle;\n",
       "    }\n",
       "\n",
       "    .dataframe tbody tr th {\n",
       "        vertical-align: top;\n",
       "    }\n",
       "\n",
       "    .dataframe thead th {\n",
       "        text-align: right;\n",
       "    }\n",
       "</style>\n",
       "<table border=\"1\" class=\"dataframe\">\n",
       "  <thead>\n",
       "    <tr style=\"text-align: right;\">\n",
       "      <th></th>\n",
       "      <th>application_id</th>\n",
       "      <th>user_id</th>\n",
       "      <th>birth_year</th>\n",
       "      <th>gender</th>\n",
       "      <th>insert_time</th>\n",
       "      <th>credit_score</th>\n",
       "      <th>yearly_income</th>\n",
       "      <th>income_type</th>\n",
       "      <th>company_enter_month</th>\n",
       "      <th>employment_type</th>\n",
       "      <th>houseown_type</th>\n",
       "      <th>desired_amount</th>\n",
       "      <th>purpose</th>\n",
       "      <th>personal_rehabilitation_yn</th>\n",
       "      <th>personal_rehabilitation_complete_yn</th>\n",
       "      <th>existing_loan_cnt</th>\n",
       "      <th>existing_loan_amt</th>\n",
       "    </tr>\n",
       "  </thead>\n",
       "  <tbody>\n",
       "    <tr>\n",
       "      <th>7</th>\n",
       "      <td>1146166</td>\n",
       "      <td>588743</td>\n",
       "      <td>1992.0</td>\n",
       "      <td>0.0</td>\n",
       "      <td>2022-06-07 17:19:33</td>\n",
       "      <td>750.0</td>\n",
       "      <td>46000000.0</td>\n",
       "      <td>EARNEDINCOME</td>\n",
       "      <td>2015-10-01</td>\n",
       "      <td>정규직</td>\n",
       "      <td>기타가족소유</td>\n",
       "      <td>6000000.0</td>\n",
       "      <td>생활비</td>\n",
       "      <td>0.0</td>\n",
       "      <td>0.0</td>\n",
       "      <td>NaN</td>\n",
       "      <td>NaN</td>\n",
       "    </tr>\n",
       "    <tr>\n",
       "      <th>23</th>\n",
       "      <td>1237618</td>\n",
       "      <td>717213</td>\n",
       "      <td>1986.0</td>\n",
       "      <td>1.0</td>\n",
       "      <td>2022-06-07 03:26:54</td>\n",
       "      <td>530.0</td>\n",
       "      <td>51000000.0</td>\n",
       "      <td>EARNEDINCOME</td>\n",
       "      <td>2017-05-01</td>\n",
       "      <td>정규직</td>\n",
       "      <td>전월세</td>\n",
       "      <td>5000000.0</td>\n",
       "      <td>생활비</td>\n",
       "      <td>0.0</td>\n",
       "      <td>0.0</td>\n",
       "      <td>NaN</td>\n",
       "      <td>NaN</td>\n",
       "    </tr>\n",
       "    <tr>\n",
       "      <th>25</th>\n",
       "      <td>272600</td>\n",
       "      <td>754046</td>\n",
       "      <td>1980.0</td>\n",
       "      <td>1.0</td>\n",
       "      <td>2022-06-07 19:24:28</td>\n",
       "      <td>NaN</td>\n",
       "      <td>22000000.0</td>\n",
       "      <td>EARNEDINCOME</td>\n",
       "      <td>2009-01-01</td>\n",
       "      <td>정규직</td>\n",
       "      <td>전월세</td>\n",
       "      <td>22000000.0</td>\n",
       "      <td>대환대출</td>\n",
       "      <td>0.0</td>\n",
       "      <td>NaN</td>\n",
       "      <td>NaN</td>\n",
       "      <td>NaN</td>\n",
       "    </tr>\n",
       "    <tr>\n",
       "      <th>37</th>\n",
       "      <td>703129</td>\n",
       "      <td>324991</td>\n",
       "      <td>1994.0</td>\n",
       "      <td>0.0</td>\n",
       "      <td>2022-06-07 11:12:24</td>\n",
       "      <td>950.0</td>\n",
       "      <td>0.0</td>\n",
       "      <td>OTHERINCOME</td>\n",
       "      <td>NaT</td>\n",
       "      <td>기타</td>\n",
       "      <td>자가</td>\n",
       "      <td>50000000.0</td>\n",
       "      <td>기타</td>\n",
       "      <td>0.0</td>\n",
       "      <td>NaN</td>\n",
       "      <td>NaN</td>\n",
       "      <td>NaN</td>\n",
       "    </tr>\n",
       "    <tr>\n",
       "      <th>48</th>\n",
       "      <td>612258</td>\n",
       "      <td>59149</td>\n",
       "      <td>1998.0</td>\n",
       "      <td>1.0</td>\n",
       "      <td>2022-06-07 07:31:21</td>\n",
       "      <td>NaN</td>\n",
       "      <td>0.0</td>\n",
       "      <td>PRIVATEBUSINESS</td>\n",
       "      <td>2022-03-01</td>\n",
       "      <td>기타</td>\n",
       "      <td>전월세</td>\n",
       "      <td>1000000.0</td>\n",
       "      <td>생활비</td>\n",
       "      <td>0.0</td>\n",
       "      <td>0.0</td>\n",
       "      <td>NaN</td>\n",
       "      <td>NaN</td>\n",
       "    </tr>\n",
       "    <tr>\n",
       "      <th>...</th>\n",
       "      <td>...</td>\n",
       "      <td>...</td>\n",
       "      <td>...</td>\n",
       "      <td>...</td>\n",
       "      <td>...</td>\n",
       "      <td>...</td>\n",
       "      <td>...</td>\n",
       "      <td>...</td>\n",
       "      <td>...</td>\n",
       "      <td>...</td>\n",
       "      <td>...</td>\n",
       "      <td>...</td>\n",
       "      <td>...</td>\n",
       "      <td>...</td>\n",
       "      <td>...</td>\n",
       "      <td>...</td>\n",
       "      <td>...</td>\n",
       "    </tr>\n",
       "    <tr>\n",
       "      <th>1394184</th>\n",
       "      <td>1107103</td>\n",
       "      <td>162983</td>\n",
       "      <td>1978.0</td>\n",
       "      <td>1.0</td>\n",
       "      <td>2022-03-22 12:14:17</td>\n",
       "      <td>750.0</td>\n",
       "      <td>55000000.0</td>\n",
       "      <td>EARNEDINCOME</td>\n",
       "      <td>2014-08-01</td>\n",
       "      <td>정규직</td>\n",
       "      <td>전월세</td>\n",
       "      <td>50000000.0</td>\n",
       "      <td>생활비</td>\n",
       "      <td>NaN</td>\n",
       "      <td>NaN</td>\n",
       "      <td>NaN</td>\n",
       "      <td>NaN</td>\n",
       "    </tr>\n",
       "    <tr>\n",
       "      <th>1394203</th>\n",
       "      <td>943512</td>\n",
       "      <td>183117</td>\n",
       "      <td>1996.0</td>\n",
       "      <td>0.0</td>\n",
       "      <td>2022-03-22 16:22:21</td>\n",
       "      <td>710.0</td>\n",
       "      <td>24000000.0</td>\n",
       "      <td>EARNEDINCOME</td>\n",
       "      <td>2022-01-01</td>\n",
       "      <td>정규직</td>\n",
       "      <td>전월세</td>\n",
       "      <td>25000000.0</td>\n",
       "      <td>전월세보증금</td>\n",
       "      <td>NaN</td>\n",
       "      <td>NaN</td>\n",
       "      <td>NaN</td>\n",
       "      <td>NaN</td>\n",
       "    </tr>\n",
       "    <tr>\n",
       "      <th>1394204</th>\n",
       "      <td>1663661</td>\n",
       "      <td>183117</td>\n",
       "      <td>1996.0</td>\n",
       "      <td>0.0</td>\n",
       "      <td>2022-03-22 17:37:49</td>\n",
       "      <td>710.0</td>\n",
       "      <td>30000000.0</td>\n",
       "      <td>OTHERINCOME</td>\n",
       "      <td>NaT</td>\n",
       "      <td>기타</td>\n",
       "      <td>전월세</td>\n",
       "      <td>25000000.0</td>\n",
       "      <td>기타</td>\n",
       "      <td>NaN</td>\n",
       "      <td>NaN</td>\n",
       "      <td>NaN</td>\n",
       "      <td>NaN</td>\n",
       "    </tr>\n",
       "    <tr>\n",
       "      <th>1394211</th>\n",
       "      <td>1864587</td>\n",
       "      <td>489900</td>\n",
       "      <td>2000.0</td>\n",
       "      <td>1.0</td>\n",
       "      <td>2022-03-22 14:55:32</td>\n",
       "      <td>590.0</td>\n",
       "      <td>25000000.0</td>\n",
       "      <td>FREELANCER</td>\n",
       "      <td>2021-06-01</td>\n",
       "      <td>기타</td>\n",
       "      <td>기타가족소유</td>\n",
       "      <td>5000000.0</td>\n",
       "      <td>사업자금</td>\n",
       "      <td>NaN</td>\n",
       "      <td>NaN</td>\n",
       "      <td>NaN</td>\n",
       "      <td>NaN</td>\n",
       "    </tr>\n",
       "    <tr>\n",
       "      <th>1394215</th>\n",
       "      <td>816537</td>\n",
       "      <td>3864</td>\n",
       "      <td>1977.0</td>\n",
       "      <td>0.0</td>\n",
       "      <td>2022-03-22 08:55:14</td>\n",
       "      <td>NaN</td>\n",
       "      <td>35000000.0</td>\n",
       "      <td>FREELANCER</td>\n",
       "      <td>2011-03-01</td>\n",
       "      <td>기타</td>\n",
       "      <td>자가</td>\n",
       "      <td>20000000.0</td>\n",
       "      <td>생활비</td>\n",
       "      <td>NaN</td>\n",
       "      <td>NaN</td>\n",
       "      <td>NaN</td>\n",
       "      <td>NaN</td>\n",
       "    </tr>\n",
       "  </tbody>\n",
       "</table>\n",
       "<p>198556 rows × 17 columns</p>\n",
       "</div>"
      ],
      "text/plain": [
       "         application_id  user_id  birth_year  gender         insert_time  \\\n",
       "7               1146166   588743      1992.0     0.0 2022-06-07 17:19:33   \n",
       "23              1237618   717213      1986.0     1.0 2022-06-07 03:26:54   \n",
       "25               272600   754046      1980.0     1.0 2022-06-07 19:24:28   \n",
       "37               703129   324991      1994.0     0.0 2022-06-07 11:12:24   \n",
       "48               612258    59149      1998.0     1.0 2022-06-07 07:31:21   \n",
       "...                 ...      ...         ...     ...                 ...   \n",
       "1394184         1107103   162983      1978.0     1.0 2022-03-22 12:14:17   \n",
       "1394203          943512   183117      1996.0     0.0 2022-03-22 16:22:21   \n",
       "1394204         1663661   183117      1996.0     0.0 2022-03-22 17:37:49   \n",
       "1394211         1864587   489900      2000.0     1.0 2022-03-22 14:55:32   \n",
       "1394215          816537     3864      1977.0     0.0 2022-03-22 08:55:14   \n",
       "\n",
       "         credit_score  yearly_income      income_type company_enter_month  \\\n",
       "7               750.0     46000000.0     EARNEDINCOME          2015-10-01   \n",
       "23              530.0     51000000.0     EARNEDINCOME          2017-05-01   \n",
       "25                NaN     22000000.0     EARNEDINCOME          2009-01-01   \n",
       "37              950.0            0.0      OTHERINCOME                 NaT   \n",
       "48                NaN            0.0  PRIVATEBUSINESS          2022-03-01   \n",
       "...               ...            ...              ...                 ...   \n",
       "1394184         750.0     55000000.0     EARNEDINCOME          2014-08-01   \n",
       "1394203         710.0     24000000.0     EARNEDINCOME          2022-01-01   \n",
       "1394204         710.0     30000000.0      OTHERINCOME                 NaT   \n",
       "1394211         590.0     25000000.0       FREELANCER          2021-06-01   \n",
       "1394215           NaN     35000000.0       FREELANCER          2011-03-01   \n",
       "\n",
       "        employment_type houseown_type  desired_amount purpose  \\\n",
       "7                   정규직        기타가족소유       6000000.0     생활비   \n",
       "23                  정규직           전월세       5000000.0     생활비   \n",
       "25                  정규직           전월세      22000000.0    대환대출   \n",
       "37                   기타            자가      50000000.0      기타   \n",
       "48                   기타           전월세       1000000.0     생활비   \n",
       "...                 ...           ...             ...     ...   \n",
       "1394184             정규직           전월세      50000000.0     생활비   \n",
       "1394203             정규직           전월세      25000000.0  전월세보증금   \n",
       "1394204              기타           전월세      25000000.0      기타   \n",
       "1394211              기타        기타가족소유       5000000.0    사업자금   \n",
       "1394215              기타            자가      20000000.0     생활비   \n",
       "\n",
       "         personal_rehabilitation_yn  personal_rehabilitation_complete_yn  \\\n",
       "7                               0.0                                  0.0   \n",
       "23                              0.0                                  0.0   \n",
       "25                              0.0                                  NaN   \n",
       "37                              0.0                                  NaN   \n",
       "48                              0.0                                  0.0   \n",
       "...                             ...                                  ...   \n",
       "1394184                         NaN                                  NaN   \n",
       "1394203                         NaN                                  NaN   \n",
       "1394204                         NaN                                  NaN   \n",
       "1394211                         NaN                                  NaN   \n",
       "1394215                         NaN                                  NaN   \n",
       "\n",
       "         existing_loan_cnt  existing_loan_amt  \n",
       "7                      NaN                NaN  \n",
       "23                     NaN                NaN  \n",
       "25                     NaN                NaN  \n",
       "37                     NaN                NaN  \n",
       "48                     NaN                NaN  \n",
       "...                    ...                ...  \n",
       "1394184                NaN                NaN  \n",
       "1394203                NaN                NaN  \n",
       "1394204                NaN                NaN  \n",
       "1394211                NaN                NaN  \n",
       "1394215                NaN                NaN  \n",
       "\n",
       "[198556 rows x 17 columns]"
      ]
     },
     "execution_count": 26,
     "metadata": {},
     "output_type": "execute_result"
    }
   ],
   "source": [
    "user_spec[(user_spec[\"existing_loan_cnt\"].isna()) & (user_spec[\"existing_loan_amt\"].isna())]"
   ]
  },
  {
   "cell_type": "code",
   "execution_count": 27,
   "id": "9d4ceff2",
   "metadata": {},
   "outputs": [
    {
     "data": {
      "text/plain": [
       "1.0    115218\n",
       "Name: existing_loan_cnt, dtype: int64"
      ]
     },
     "execution_count": 27,
     "metadata": {},
     "output_type": "execute_result"
    }
   ],
   "source": [
    "user_spec[(-user_spec[\"existing_loan_cnt\"].isna()) & (user_spec[\"existing_loan_amt\"].isna())][\"existing_loan_cnt\"].value_counts()"
   ]
  },
  {
   "cell_type": "code",
   "execution_count": 28,
   "id": "ea7ad1cc",
   "metadata": {},
   "outputs": [
    {
     "data": {
      "text/plain": [
       "1.0     4636\n",
       "2.0      409\n",
       "3.0       68\n",
       "4.0       11\n",
       "13.0       3\n",
       "6.0        1\n",
       "5.0        1\n",
       "9.0        1\n",
       "Name: existing_loan_cnt, dtype: int64"
      ]
     },
     "execution_count": 28,
     "metadata": {},
     "output_type": "execute_result"
    }
   ],
   "source": [
    "user_spec[user_spec[\"existing_loan_amt\"] == 0][\"existing_loan_cnt\"].value_counts()"
   ]
  },
  {
   "cell_type": "markdown",
   "id": "8360d357",
   "metadata": {},
   "source": [
    "# 결측치 대체"
   ]
  },
  {
   "cell_type": "markdown",
   "id": "446b893f",
   "metadata": {},
   "source": [
    "## user_spec"
   ]
  },
  {
   "cell_type": "markdown",
   "id": "a0896fc1",
   "metadata": {},
   "source": [
    "### 출생년도, 성별 결측치 대체"
   ]
  },
  {
   "cell_type": "code",
   "execution_count": 29,
   "id": "ae8de1d6",
   "metadata": {},
   "outputs": [
    {
     "name": "stderr",
     "output_type": "stream",
     "text": [
      "<ipython-input-29-50dd04275f99>:1: TqdmDeprecationWarning: This function will be removed in tqdm==5.0.0\n",
      "Please use `tqdm.notebook.tqdm` instead of `tqdm.tqdm_notebook`\n",
      "  for i in tqdm_notebook(user_spec[user_spec[\"birth_year\"].isna()].index):\n"
     ]
    },
    {
     "data": {
      "application/vnd.jupyter.widget-view+json": {
       "model_id": "46971449f9164cdc8ff4124ff7c15964",
       "version_major": 2,
       "version_minor": 0
      },
      "text/plain": [
       "  0%|          | 0/12961 [00:00<?, ?it/s]"
      ]
     },
     "metadata": {},
     "output_type": "display_data"
    },
    {
     "data": {
      "text/plain": [
       "application_id                               0\n",
       "user_id                                      0\n",
       "birth_year                                9724\n",
       "gender                                    9724\n",
       "insert_time                                  0\n",
       "credit_score                            105115\n",
       "yearly_income                               90\n",
       "income_type                                 85\n",
       "company_enter_month                     171760\n",
       "employment_type                             85\n",
       "houseown_type                               85\n",
       "desired_amount                              85\n",
       "purpose                                     85\n",
       "personal_rehabilitation_yn              587461\n",
       "personal_rehabilitation_complete_yn    1203354\n",
       "existing_loan_cnt                       198556\n",
       "existing_loan_amt                       313774\n",
       "dtype: int64"
      ]
     },
     "execution_count": 29,
     "metadata": {},
     "output_type": "execute_result"
    }
   ],
   "source": [
    "for i in tqdm_notebook(user_spec[user_spec[\"birth_year\"].isna()].index):\n",
    "    user_spec.loc[i,\"birth_year\"] = user_spec.loc[user_spec[\"user_id\"] == user_spec.loc[i,\"user_id\"],\"birth_year\"].mean()\n",
    "    user_spec.loc[i,\"gender\"] = user_spec.loc[user_spec[\"user_id\"] == user_spec.loc[i,\"user_id\"],\"gender\"].mean()\n",
    "\n",
    "user_spec.isna().sum()"
   ]
  },
  {
   "cell_type": "markdown",
   "id": "350f3e5e",
   "metadata": {},
   "source": [
    "대체할 수 없는 출생년도와 성별은 대체보단 범주화"
   ]
  },
  {
   "cell_type": "code",
   "execution_count": 30,
   "id": "2836977b",
   "metadata": {},
   "outputs": [
    {
     "data": {
      "text/plain": [
       "<AxesSubplot:>"
      ]
     },
     "execution_count": 30,
     "metadata": {},
     "output_type": "execute_result"
    },
    {
     "data": {
      "image/png": "[encoded data removed]",
      "text/plain": [
       "<Figure size 432x288 with 1 Axes>"
      ]
     },
     "metadata": {
      "needs_background": "light"
     },
     "output_type": "display_data"
    }
   ],
   "source": [
    "user_spec[\"birth_year\"].hist()"
   ]
  },
  {
   "cell_type": "code",
   "execution_count": 31,
   "id": "f37385c5",
   "metadata": {},
   "outputs": [],
   "source": [
    "user_spec[\"only_age\"] = 2022 - user_spec[\"birth_year\"]"
   ]
  },
  {
   "cell_type": "markdown",
   "id": "897ca3e0",
   "metadata": {},
   "source": [
    "**만으로 청소년(13-18세), 청년(19-29세), 중년(30-49세), 장년(50-64세), 노년(65세 이상)**"
   ]
  },
  {
   "cell_type": "code",
   "execution_count": 32,
   "id": "fe1cf30c",
   "metadata": {},
   "outputs": [
    {
     "data": {
      "text/plain": [
       "0          중년\n",
       "1          장년\n",
       "2          청년\n",
       "3          중년\n",
       "4          청년\n",
       "           ..\n",
       "1394211    청년\n",
       "1394212    노년\n",
       "1394213    중년\n",
       "1394214    중년\n",
       "1394215    중년\n",
       "Name: cat_age, Length: 1394216, dtype: object"
      ]
     },
     "execution_count": 32,
     "metadata": {},
     "output_type": "execute_result"
    }
   ],
   "source": [
    "user_spec[\"cat_age\"] =  pd.cut(user_spec[\"only_age\"],[12,18, 29, 49, 64,100], right=False, labels=['청소년', '청년', '중년', '장년', '노년']).astype(object)\n",
    "user_spec[\"cat_age\"]"
   ]
  },
  {
   "cell_type": "code",
   "execution_count": 33,
   "id": "231adf0a",
   "metadata": {},
   "outputs": [],
   "source": [
    "user_spec.loc[user_spec[\"cat_age\"].isna(),\"cat_age\"] = \"Missing_age\""
   ]
  },
  {
   "cell_type": "code",
   "execution_count": 34,
   "id": "73c38e9e",
   "metadata": {},
   "outputs": [],
   "source": [
    "user_spec[\"cat_gender\"] = \"Missing_gender\"\n",
    "user_spec.loc[user_spec[\"gender\"] == 1,\"cat_gender\"] = \"남성\"\n",
    "user_spec.loc[user_spec[\"gender\"] == 0,\"cat_gender\"] = \"여성\""
   ]
  },
  {
   "cell_type": "markdown",
   "id": "2439152c",
   "metadata": {},
   "source": [
    "나이 성별 범주화 완료"
   ]
  },
  {
   "cell_type": "code",
   "execution_count": 35,
   "id": "58502e20",
   "metadata": {},
   "outputs": [
    {
     "data": {
      "text/html": [
       "<div>\n",
       "<style scoped>\n",
       "    .dataframe tbody tr th:only-of-type {\n",
       "        vertical-align: middle;\n",
       "    }\n",
       "\n",
       "    .dataframe tbody tr th {\n",
       "        vertical-align: top;\n",
       "    }\n",
       "\n",
       "    .dataframe thead th {\n",
       "        text-align: right;\n",
       "    }\n",
       "</style>\n",
       "<table border=\"1\" class=\"dataframe\">\n",
       "  <thead>\n",
       "    <tr style=\"text-align: right;\">\n",
       "      <th></th>\n",
       "      <th>cat_age</th>\n",
       "      <th>cat_gender</th>\n",
       "      <th>0</th>\n",
       "    </tr>\n",
       "  </thead>\n",
       "  <tbody>\n",
       "    <tr>\n",
       "      <th>0</th>\n",
       "      <td>중년</td>\n",
       "      <td>남성</td>\n",
       "      <td>587014</td>\n",
       "    </tr>\n",
       "    <tr>\n",
       "      <th>1</th>\n",
       "      <td>중년</td>\n",
       "      <td>여성</td>\n",
       "      <td>279346</td>\n",
       "    </tr>\n",
       "    <tr>\n",
       "      <th>2</th>\n",
       "      <td>청년</td>\n",
       "      <td>남성</td>\n",
       "      <td>185929</td>\n",
       "    </tr>\n",
       "    <tr>\n",
       "      <th>3</th>\n",
       "      <td>장년</td>\n",
       "      <td>남성</td>\n",
       "      <td>148260</td>\n",
       "    </tr>\n",
       "    <tr>\n",
       "      <th>4</th>\n",
       "      <td>장년</td>\n",
       "      <td>여성</td>\n",
       "      <td>80445</td>\n",
       "    </tr>\n",
       "    <tr>\n",
       "      <th>5</th>\n",
       "      <td>청년</td>\n",
       "      <td>여성</td>\n",
       "      <td>75920</td>\n",
       "    </tr>\n",
       "    <tr>\n",
       "      <th>6</th>\n",
       "      <td>노년</td>\n",
       "      <td>남성</td>\n",
       "      <td>15084</td>\n",
       "    </tr>\n",
       "    <tr>\n",
       "      <th>7</th>\n",
       "      <td>노년</td>\n",
       "      <td>여성</td>\n",
       "      <td>12437</td>\n",
       "    </tr>\n",
       "    <tr>\n",
       "      <th>8</th>\n",
       "      <td>Missing_age</td>\n",
       "      <td>Missing_gender</td>\n",
       "      <td>9724</td>\n",
       "    </tr>\n",
       "    <tr>\n",
       "      <th>9</th>\n",
       "      <td>청소년</td>\n",
       "      <td>남성</td>\n",
       "      <td>41</td>\n",
       "    </tr>\n",
       "    <tr>\n",
       "      <th>10</th>\n",
       "      <td>청소년</td>\n",
       "      <td>여성</td>\n",
       "      <td>16</td>\n",
       "    </tr>\n",
       "  </tbody>\n",
       "</table>\n",
       "</div>"
      ],
      "text/plain": [
       "        cat_age      cat_gender       0\n",
       "0            중년              남성  587014\n",
       "1            중년              여성  279346\n",
       "2            청년              남성  185929\n",
       "3            장년              남성  148260\n",
       "4            장년              여성   80445\n",
       "5            청년              여성   75920\n",
       "6            노년              남성   15084\n",
       "7            노년              여성   12437\n",
       "8   Missing_age  Missing_gender    9724\n",
       "9           청소년              남성      41\n",
       "10          청소년              여성      16"
      ]
     },
     "execution_count": 35,
     "metadata": {},
     "output_type": "execute_result"
    }
   ],
   "source": [
    "user_spec.value_counts([\"cat_age\",\"cat_gender\"]).reset_index()"
   ]
  },
  {
   "cell_type": "markdown",
   "id": "88a609c9",
   "metadata": {},
   "source": [
    "### 청소년 제거\n",
    "어차피 loan_result에 없음!"
   ]
  },
  {
   "cell_type": "code",
   "execution_count": 36,
   "id": "36b7489b",
   "metadata": {},
   "outputs": [],
   "source": [
    "user_spec = user_spec[-(user_spec[\"cat_age\"] == \"청소년\")]"
   ]
  },
  {
   "cell_type": "markdown",
   "id": "8abf00fd",
   "metadata": {},
   "source": [
    "### 개인정보(yearly_income, income_type, employment_type, houseown_type, desired_amount, purpose) 결측치 대체"
   ]
  },
  {
   "cell_type": "code",
   "execution_count": 37,
   "id": "574dd847",
   "metadata": {
    "scrolled": false
   },
   "outputs": [
    {
     "data": {
      "text/html": [
       "<div>\n",
       "<style scoped>\n",
       "    .dataframe tbody tr th:only-of-type {\n",
       "        vertical-align: middle;\n",
       "    }\n",
       "\n",
       "    .dataframe tbody tr th {\n",
       "        vertical-align: top;\n",
       "    }\n",
       "\n",
       "    .dataframe thead th {\n",
       "        text-align: right;\n",
       "    }\n",
       "</style>\n",
       "<table border=\"1\" class=\"dataframe\">\n",
       "  <thead>\n",
       "    <tr style=\"text-align: right;\">\n",
       "      <th></th>\n",
       "      <th>application_id</th>\n",
       "      <th>user_id</th>\n",
       "      <th>birth_year</th>\n",
       "      <th>gender</th>\n",
       "      <th>insert_time</th>\n",
       "      <th>credit_score</th>\n",
       "      <th>yearly_income</th>\n",
       "      <th>income_type</th>\n",
       "      <th>company_enter_month</th>\n",
       "      <th>employment_type</th>\n",
       "      <th>houseown_type</th>\n",
       "      <th>desired_amount</th>\n",
       "      <th>purpose</th>\n",
       "      <th>personal_rehabilitation_yn</th>\n",
       "      <th>personal_rehabilitation_complete_yn</th>\n",
       "      <th>existing_loan_cnt</th>\n",
       "      <th>existing_loan_amt</th>\n",
       "      <th>only_age</th>\n",
       "      <th>cat_age</th>\n",
       "      <th>cat_gender</th>\n",
       "    </tr>\n",
       "  </thead>\n",
       "  <tbody>\n",
       "    <tr>\n",
       "      <th>5353</th>\n",
       "      <td>129515</td>\n",
       "      <td>135984</td>\n",
       "      <td>1974.0</td>\n",
       "      <td>1.0</td>\n",
       "      <td>2022-06-13 18:26:44</td>\n",
       "      <td>750.0</td>\n",
       "      <td>NaN</td>\n",
       "      <td>NaN</td>\n",
       "      <td>NaT</td>\n",
       "      <td>NaN</td>\n",
       "      <td>NaN</td>\n",
       "      <td>NaN</td>\n",
       "      <td>NaN</td>\n",
       "      <td>NaN</td>\n",
       "      <td>NaN</td>\n",
       "      <td>4.0</td>\n",
       "      <td>67000000.0</td>\n",
       "      <td>48.0</td>\n",
       "      <td>중년</td>\n",
       "      <td>남성</td>\n",
       "    </tr>\n",
       "    <tr>\n",
       "      <th>8864</th>\n",
       "      <td>1468193</td>\n",
       "      <td>151012</td>\n",
       "      <td>1996.0</td>\n",
       "      <td>1.0</td>\n",
       "      <td>2022-06-16 16:34:35</td>\n",
       "      <td>810.0</td>\n",
       "      <td>NaN</td>\n",
       "      <td>NaN</td>\n",
       "      <td>NaT</td>\n",
       "      <td>NaN</td>\n",
       "      <td>NaN</td>\n",
       "      <td>NaN</td>\n",
       "      <td>NaN</td>\n",
       "      <td>NaN</td>\n",
       "      <td>NaN</td>\n",
       "      <td>2.0</td>\n",
       "      <td>6000000.0</td>\n",
       "      <td>26.0</td>\n",
       "      <td>청년</td>\n",
       "      <td>남성</td>\n",
       "    </tr>\n",
       "    <tr>\n",
       "      <th>17484</th>\n",
       "      <td>1234909</td>\n",
       "      <td>596908</td>\n",
       "      <td>1996.0</td>\n",
       "      <td>0.0</td>\n",
       "      <td>2022-06-16 16:28:10</td>\n",
       "      <td>640.0</td>\n",
       "      <td>NaN</td>\n",
       "      <td>NaN</td>\n",
       "      <td>NaT</td>\n",
       "      <td>NaN</td>\n",
       "      <td>NaN</td>\n",
       "      <td>NaN</td>\n",
       "      <td>NaN</td>\n",
       "      <td>NaN</td>\n",
       "      <td>NaN</td>\n",
       "      <td>3.0</td>\n",
       "      <td>36000000.0</td>\n",
       "      <td>26.0</td>\n",
       "      <td>청년</td>\n",
       "      <td>여성</td>\n",
       "    </tr>\n",
       "    <tr>\n",
       "      <th>17552</th>\n",
       "      <td>1068316</td>\n",
       "      <td>142003</td>\n",
       "      <td>1976.0</td>\n",
       "      <td>0.0</td>\n",
       "      <td>2022-06-16 16:28:59</td>\n",
       "      <td>770.0</td>\n",
       "      <td>NaN</td>\n",
       "      <td>NaN</td>\n",
       "      <td>NaT</td>\n",
       "      <td>NaN</td>\n",
       "      <td>NaN</td>\n",
       "      <td>NaN</td>\n",
       "      <td>NaN</td>\n",
       "      <td>NaN</td>\n",
       "      <td>NaN</td>\n",
       "      <td>NaN</td>\n",
       "      <td>NaN</td>\n",
       "      <td>46.0</td>\n",
       "      <td>중년</td>\n",
       "      <td>여성</td>\n",
       "    </tr>\n",
       "    <tr>\n",
       "      <th>20510</th>\n",
       "      <td>2082836</td>\n",
       "      <td>827892</td>\n",
       "      <td>1993.0</td>\n",
       "      <td>1.0</td>\n",
       "      <td>2022-06-16 16:30:46</td>\n",
       "      <td>940.0</td>\n",
       "      <td>NaN</td>\n",
       "      <td>NaN</td>\n",
       "      <td>NaT</td>\n",
       "      <td>NaN</td>\n",
       "      <td>NaN</td>\n",
       "      <td>NaN</td>\n",
       "      <td>NaN</td>\n",
       "      <td>NaN</td>\n",
       "      <td>NaN</td>\n",
       "      <td>3.0</td>\n",
       "      <td>61000000.0</td>\n",
       "      <td>29.0</td>\n",
       "      <td>중년</td>\n",
       "      <td>남성</td>\n",
       "    </tr>\n",
       "    <tr>\n",
       "      <th>...</th>\n",
       "      <td>...</td>\n",
       "      <td>...</td>\n",
       "      <td>...</td>\n",
       "      <td>...</td>\n",
       "      <td>...</td>\n",
       "      <td>...</td>\n",
       "      <td>...</td>\n",
       "      <td>...</td>\n",
       "      <td>...</td>\n",
       "      <td>...</td>\n",
       "      <td>...</td>\n",
       "      <td>...</td>\n",
       "      <td>...</td>\n",
       "      <td>...</td>\n",
       "      <td>...</td>\n",
       "      <td>...</td>\n",
       "      <td>...</td>\n",
       "      <td>...</td>\n",
       "      <td>...</td>\n",
       "      <td>...</td>\n",
       "    </tr>\n",
       "    <tr>\n",
       "      <th>1360335</th>\n",
       "      <td>450732</td>\n",
       "      <td>387671</td>\n",
       "      <td>1965.0</td>\n",
       "      <td>1.0</td>\n",
       "      <td>2022-06-16 16:30:17</td>\n",
       "      <td>650.0</td>\n",
       "      <td>NaN</td>\n",
       "      <td>NaN</td>\n",
       "      <td>NaT</td>\n",
       "      <td>NaN</td>\n",
       "      <td>NaN</td>\n",
       "      <td>NaN</td>\n",
       "      <td>NaN</td>\n",
       "      <td>NaN</td>\n",
       "      <td>NaN</td>\n",
       "      <td>1.0</td>\n",
       "      <td>6000000.0</td>\n",
       "      <td>57.0</td>\n",
       "      <td>장년</td>\n",
       "      <td>남성</td>\n",
       "    </tr>\n",
       "    <tr>\n",
       "      <th>1363322</th>\n",
       "      <td>657920</td>\n",
       "      <td>839689</td>\n",
       "      <td>1995.0</td>\n",
       "      <td>1.0</td>\n",
       "      <td>2022-06-16 16:31:02</td>\n",
       "      <td>770.0</td>\n",
       "      <td>NaN</td>\n",
       "      <td>NaN</td>\n",
       "      <td>NaT</td>\n",
       "      <td>NaN</td>\n",
       "      <td>NaN</td>\n",
       "      <td>NaN</td>\n",
       "      <td>NaN</td>\n",
       "      <td>NaN</td>\n",
       "      <td>NaN</td>\n",
       "      <td>4.0</td>\n",
       "      <td>16000000.0</td>\n",
       "      <td>27.0</td>\n",
       "      <td>청년</td>\n",
       "      <td>남성</td>\n",
       "    </tr>\n",
       "    <tr>\n",
       "      <th>1367643</th>\n",
       "      <td>596953</td>\n",
       "      <td>264147</td>\n",
       "      <td>1984.0</td>\n",
       "      <td>1.0</td>\n",
       "      <td>2022-06-30 16:32:56</td>\n",
       "      <td>630.0</td>\n",
       "      <td>NaN</td>\n",
       "      <td>NaN</td>\n",
       "      <td>NaT</td>\n",
       "      <td>NaN</td>\n",
       "      <td>NaN</td>\n",
       "      <td>NaN</td>\n",
       "      <td>NaN</td>\n",
       "      <td>NaN</td>\n",
       "      <td>NaN</td>\n",
       "      <td>1.0</td>\n",
       "      <td>1000000.0</td>\n",
       "      <td>38.0</td>\n",
       "      <td>중년</td>\n",
       "      <td>남성</td>\n",
       "    </tr>\n",
       "    <tr>\n",
       "      <th>1378239</th>\n",
       "      <td>999720</td>\n",
       "      <td>738199</td>\n",
       "      <td>1972.0</td>\n",
       "      <td>1.0</td>\n",
       "      <td>2022-03-12 21:49:37</td>\n",
       "      <td>520.0</td>\n",
       "      <td>NaN</td>\n",
       "      <td>NaN</td>\n",
       "      <td>NaT</td>\n",
       "      <td>NaN</td>\n",
       "      <td>NaN</td>\n",
       "      <td>NaN</td>\n",
       "      <td>NaN</td>\n",
       "      <td>NaN</td>\n",
       "      <td>NaN</td>\n",
       "      <td>2.0</td>\n",
       "      <td>2000000.0</td>\n",
       "      <td>50.0</td>\n",
       "      <td>장년</td>\n",
       "      <td>남성</td>\n",
       "    </tr>\n",
       "    <tr>\n",
       "      <th>1388506</th>\n",
       "      <td>1223986</td>\n",
       "      <td>118147</td>\n",
       "      <td>1998.0</td>\n",
       "      <td>0.0</td>\n",
       "      <td>2022-06-16 16:33:02</td>\n",
       "      <td>560.0</td>\n",
       "      <td>NaN</td>\n",
       "      <td>NaN</td>\n",
       "      <td>NaT</td>\n",
       "      <td>NaN</td>\n",
       "      <td>NaN</td>\n",
       "      <td>NaN</td>\n",
       "      <td>NaN</td>\n",
       "      <td>NaN</td>\n",
       "      <td>NaN</td>\n",
       "      <td>NaN</td>\n",
       "      <td>NaN</td>\n",
       "      <td>24.0</td>\n",
       "      <td>청년</td>\n",
       "      <td>여성</td>\n",
       "    </tr>\n",
       "  </tbody>\n",
       "</table>\n",
       "<p>85 rows × 20 columns</p>\n",
       "</div>"
      ],
      "text/plain": [
       "         application_id  user_id  birth_year  gender         insert_time  \\\n",
       "5353             129515   135984      1974.0     1.0 2022-06-13 18:26:44   \n",
       "8864            1468193   151012      1996.0     1.0 2022-06-16 16:34:35   \n",
       "17484           1234909   596908      1996.0     0.0 2022-06-16 16:28:10   \n",
       "17552           1068316   142003      1976.0     0.0 2022-06-16 16:28:59   \n",
       "20510           2082836   827892      1993.0     1.0 2022-06-16 16:30:46   \n",
       "...                 ...      ...         ...     ...                 ...   \n",
       "1360335          450732   387671      1965.0     1.0 2022-06-16 16:30:17   \n",
       "1363322          657920   839689      1995.0     1.0 2022-06-16 16:31:02   \n",
       "1367643          596953   264147      1984.0     1.0 2022-06-30 16:32:56   \n",
       "1378239          999720   738199      1972.0     1.0 2022-03-12 21:49:37   \n",
       "1388506         1223986   118147      1998.0     0.0 2022-06-16 16:33:02   \n",
       "\n",
       "         credit_score  yearly_income income_type company_enter_month  \\\n",
       "5353            750.0            NaN         NaN                 NaT   \n",
       "8864            810.0            NaN         NaN                 NaT   \n",
       "17484           640.0            NaN         NaN                 NaT   \n",
       "17552           770.0            NaN         NaN                 NaT   \n",
       "20510           940.0            NaN         NaN                 NaT   \n",
       "...               ...            ...         ...                 ...   \n",
       "1360335         650.0            NaN         NaN                 NaT   \n",
       "1363322         770.0            NaN         NaN                 NaT   \n",
       "1367643         630.0            NaN         NaN                 NaT   \n",
       "1378239         520.0            NaN         NaN                 NaT   \n",
       "1388506         560.0            NaN         NaN                 NaT   \n",
       "\n",
       "        employment_type houseown_type  desired_amount purpose  \\\n",
       "5353                NaN           NaN             NaN     NaN   \n",
       "8864                NaN           NaN             NaN     NaN   \n",
       "17484               NaN           NaN             NaN     NaN   \n",
       "17552               NaN           NaN             NaN     NaN   \n",
       "20510               NaN           NaN             NaN     NaN   \n",
       "...                 ...           ...             ...     ...   \n",
       "1360335             NaN           NaN             NaN     NaN   \n",
       "1363322             NaN           NaN             NaN     NaN   \n",
       "1367643             NaN           NaN             NaN     NaN   \n",
       "1378239             NaN           NaN             NaN     NaN   \n",
       "1388506             NaN           NaN             NaN     NaN   \n",
       "\n",
       "         personal_rehabilitation_yn  personal_rehabilitation_complete_yn  \\\n",
       "5353                            NaN                                  NaN   \n",
       "8864                            NaN                                  NaN   \n",
       "17484                           NaN                                  NaN   \n",
       "17552                           NaN                                  NaN   \n",
       "20510                           NaN                                  NaN   \n",
       "...                             ...                                  ...   \n",
       "1360335                         NaN                                  NaN   \n",
       "1363322                         NaN                                  NaN   \n",
       "1367643                         NaN                                  NaN   \n",
       "1378239                         NaN                                  NaN   \n",
       "1388506                         NaN                                  NaN   \n",
       "\n",
       "         existing_loan_cnt  existing_loan_amt  only_age cat_age cat_gender  \n",
       "5353                   4.0         67000000.0      48.0      중년         남성  \n",
       "8864                   2.0          6000000.0      26.0      청년         남성  \n",
       "17484                  3.0         36000000.0      26.0      청년         여성  \n",
       "17552                  NaN                NaN      46.0      중년         여성  \n",
       "20510                  3.0         61000000.0      29.0      중년         남성  \n",
       "...                    ...                ...       ...     ...        ...  \n",
       "1360335                1.0          6000000.0      57.0      장년         남성  \n",
       "1363322                4.0         16000000.0      27.0      청년         남성  \n",
       "1367643                1.0          1000000.0      38.0      중년         남성  \n",
       "1378239                2.0          2000000.0      50.0      장년         남성  \n",
       "1388506                NaN                NaN      24.0      청년         여성  \n",
       "\n",
       "[85 rows x 20 columns]"
      ]
     },
     "execution_count": 37,
     "metadata": {},
     "output_type": "execute_result"
    }
   ],
   "source": [
    "#income_type, employment_type, houseown_type, desired_amount, purpose 결측 85개\n",
    "#yearly_income 결측 85개\n",
    "user_info_na = user_spec[(user_spec[\"income_type\"].isna()) & (user_spec[\"employment_type\"].isna()) & \n",
    "         (user_spec[\"houseown_type\"].isna()) & (user_spec[\"desired_amount\"].isna()) & \n",
    "                (user_spec[\"purpose\"].isna()) & (user_spec[\"yearly_income\"].isna())]\n",
    "user_info_na"
   ]
  },
  {
   "cell_type": "markdown",
   "id": "161e2ec3",
   "metadata": {},
   "source": [
    "**- 위의 85개 경우는 전부 loan_result에 없는 application_id 이다.**"
   ]
  },
  {
   "cell_type": "code",
   "execution_count": 38,
   "id": "fa9e63fb",
   "metadata": {},
   "outputs": [],
   "source": [
    "l_list = []\n",
    "for i in user_info_na[\"application_id\"]:\n",
    "    l_list.append(len(loan_result[loan_result[\"application_id\"] == i]))"
   ]
  },
  {
   "cell_type": "code",
   "execution_count": 39,
   "id": "7c93af21",
   "metadata": {},
   "outputs": [
    {
     "data": {
      "text/plain": [
       "array([0])"
      ]
     },
     "execution_count": 39,
     "metadata": {},
     "output_type": "execute_result"
    }
   ],
   "source": [
    "np.unique(l_list)"
   ]
  },
  {
   "cell_type": "markdown",
   "id": "63a3df82",
   "metadata": {},
   "source": [
    "따라서 삭제가 적절하다고 판단"
   ]
  },
  {
   "cell_type": "markdown",
   "id": "185be89e",
   "metadata": {},
   "source": [
    "#### yearly_income만 결측인 경우"
   ]
  },
  {
   "cell_type": "code",
   "execution_count": 40,
   "id": "4570a607",
   "metadata": {},
   "outputs": [
    {
     "data": {
      "text/html": [
       "<div>\n",
       "<style scoped>\n",
       "    .dataframe tbody tr th:only-of-type {\n",
       "        vertical-align: middle;\n",
       "    }\n",
       "\n",
       "    .dataframe tbody tr th {\n",
       "        vertical-align: top;\n",
       "    }\n",
       "\n",
       "    .dataframe thead th {\n",
       "        text-align: right;\n",
       "    }\n",
       "</style>\n",
       "<table border=\"1\" class=\"dataframe\">\n",
       "  <thead>\n",
       "    <tr style=\"text-align: right;\">\n",
       "      <th></th>\n",
       "      <th>application_id</th>\n",
       "      <th>user_id</th>\n",
       "      <th>birth_year</th>\n",
       "      <th>gender</th>\n",
       "      <th>insert_time</th>\n",
       "      <th>credit_score</th>\n",
       "      <th>yearly_income</th>\n",
       "      <th>income_type</th>\n",
       "      <th>company_enter_month</th>\n",
       "      <th>employment_type</th>\n",
       "      <th>houseown_type</th>\n",
       "      <th>desired_amount</th>\n",
       "      <th>purpose</th>\n",
       "      <th>personal_rehabilitation_yn</th>\n",
       "      <th>personal_rehabilitation_complete_yn</th>\n",
       "      <th>existing_loan_cnt</th>\n",
       "      <th>existing_loan_amt</th>\n",
       "      <th>only_age</th>\n",
       "      <th>cat_age</th>\n",
       "      <th>cat_gender</th>\n",
       "    </tr>\n",
       "  </thead>\n",
       "  <tbody>\n",
       "    <tr>\n",
       "      <th>165422</th>\n",
       "      <td>1026915</td>\n",
       "      <td>861363</td>\n",
       "      <td>1995.0</td>\n",
       "      <td>1.0</td>\n",
       "      <td>2022-06-30 21:11:51</td>\n",
       "      <td>NaN</td>\n",
       "      <td>NaN</td>\n",
       "      <td>OTHERINCOME</td>\n",
       "      <td>NaT</td>\n",
       "      <td>기타</td>\n",
       "      <td>전월세</td>\n",
       "      <td>5000000.0</td>\n",
       "      <td>생활비</td>\n",
       "      <td>0.0</td>\n",
       "      <td>0.0</td>\n",
       "      <td>NaN</td>\n",
       "      <td>NaN</td>\n",
       "      <td>27.0</td>\n",
       "      <td>청년</td>\n",
       "      <td>남성</td>\n",
       "    </tr>\n",
       "    <tr>\n",
       "      <th>233316</th>\n",
       "      <td>2045613</td>\n",
       "      <td>702899</td>\n",
       "      <td>1995.0</td>\n",
       "      <td>1.0</td>\n",
       "      <td>2022-06-30 18:37:04</td>\n",
       "      <td>520.0</td>\n",
       "      <td>NaN</td>\n",
       "      <td>FREELANCER</td>\n",
       "      <td>2022-06-01</td>\n",
       "      <td>기타</td>\n",
       "      <td>전월세</td>\n",
       "      <td>5000000.0</td>\n",
       "      <td>전월세보증금</td>\n",
       "      <td>0.0</td>\n",
       "      <td>0.0</td>\n",
       "      <td>1.0</td>\n",
       "      <td>1000000.0</td>\n",
       "      <td>27.0</td>\n",
       "      <td>청년</td>\n",
       "      <td>남성</td>\n",
       "    </tr>\n",
       "    <tr>\n",
       "      <th>597591</th>\n",
       "      <td>391560</td>\n",
       "      <td>329226</td>\n",
       "      <td>1996.0</td>\n",
       "      <td>0.0</td>\n",
       "      <td>2022-06-30 19:27:28</td>\n",
       "      <td>590.0</td>\n",
       "      <td>NaN</td>\n",
       "      <td>OTHERINCOME</td>\n",
       "      <td>NaT</td>\n",
       "      <td>기타</td>\n",
       "      <td>전월세</td>\n",
       "      <td>20000000.0</td>\n",
       "      <td>생활비</td>\n",
       "      <td>0.0</td>\n",
       "      <td>0.0</td>\n",
       "      <td>9.0</td>\n",
       "      <td>27000000.0</td>\n",
       "      <td>26.0</td>\n",
       "      <td>청년</td>\n",
       "      <td>여성</td>\n",
       "    </tr>\n",
       "    <tr>\n",
       "      <th>597613</th>\n",
       "      <td>341149</td>\n",
       "      <td>670502</td>\n",
       "      <td>1981.0</td>\n",
       "      <td>1.0</td>\n",
       "      <td>2022-06-30 21:32:18</td>\n",
       "      <td>930.0</td>\n",
       "      <td>NaN</td>\n",
       "      <td>OTHERINCOME</td>\n",
       "      <td>NaT</td>\n",
       "      <td>기타</td>\n",
       "      <td>기타가족소유</td>\n",
       "      <td>6000000.0</td>\n",
       "      <td>사업자금</td>\n",
       "      <td>0.0</td>\n",
       "      <td>0.0</td>\n",
       "      <td>1.0</td>\n",
       "      <td>3000000.0</td>\n",
       "      <td>41.0</td>\n",
       "      <td>중년</td>\n",
       "      <td>남성</td>\n",
       "    </tr>\n",
       "    <tr>\n",
       "      <th>971960</th>\n",
       "      <td>1330905</td>\n",
       "      <td>771592</td>\n",
       "      <td>2003.0</td>\n",
       "      <td>1.0</td>\n",
       "      <td>2022-06-30 18:57:05</td>\n",
       "      <td>750.0</td>\n",
       "      <td>NaN</td>\n",
       "      <td>OTHERINCOME</td>\n",
       "      <td>NaT</td>\n",
       "      <td>기타</td>\n",
       "      <td>자가</td>\n",
       "      <td>3000000.0</td>\n",
       "      <td>생활비</td>\n",
       "      <td>0.0</td>\n",
       "      <td>0.0</td>\n",
       "      <td>1.0</td>\n",
       "      <td>3000000.0</td>\n",
       "      <td>19.0</td>\n",
       "      <td>청년</td>\n",
       "      <td>남성</td>\n",
       "    </tr>\n",
       "  </tbody>\n",
       "</table>\n",
       "</div>"
      ],
      "text/plain": [
       "        application_id  user_id  birth_year  gender         insert_time  \\\n",
       "165422         1026915   861363      1995.0     1.0 2022-06-30 21:11:51   \n",
       "233316         2045613   702899      1995.0     1.0 2022-06-30 18:37:04   \n",
       "597591          391560   329226      1996.0     0.0 2022-06-30 19:27:28   \n",
       "597613          341149   670502      1981.0     1.0 2022-06-30 21:32:18   \n",
       "971960         1330905   771592      2003.0     1.0 2022-06-30 18:57:05   \n",
       "\n",
       "        credit_score  yearly_income  income_type company_enter_month  \\\n",
       "165422           NaN            NaN  OTHERINCOME                 NaT   \n",
       "233316         520.0            NaN   FREELANCER          2022-06-01   \n",
       "597591         590.0            NaN  OTHERINCOME                 NaT   \n",
       "597613         930.0            NaN  OTHERINCOME                 NaT   \n",
       "971960         750.0            NaN  OTHERINCOME                 NaT   \n",
       "\n",
       "       employment_type houseown_type  desired_amount purpose  \\\n",
       "165422              기타           전월세       5000000.0     생활비   \n",
       "233316              기타           전월세       5000000.0  전월세보증금   \n",
       "597591              기타           전월세      20000000.0     생활비   \n",
       "597613              기타        기타가족소유       6000000.0    사업자금   \n",
       "971960              기타            자가       3000000.0     생활비   \n",
       "\n",
       "        personal_rehabilitation_yn  personal_rehabilitation_complete_yn  \\\n",
       "165422                         0.0                                  0.0   \n",
       "233316                         0.0                                  0.0   \n",
       "597591                         0.0                                  0.0   \n",
       "597613                         0.0                                  0.0   \n",
       "971960                         0.0                                  0.0   \n",
       "\n",
       "        existing_loan_cnt  existing_loan_amt  only_age cat_age cat_gender  \n",
       "165422                NaN                NaN      27.0      청년         남성  \n",
       "233316                1.0          1000000.0      27.0      청년         남성  \n",
       "597591                9.0         27000000.0      26.0      청년         여성  \n",
       "597613                1.0          3000000.0      41.0      중년         남성  \n",
       "971960                1.0          3000000.0      19.0      청년         남성  "
      ]
     },
     "execution_count": 40,
     "metadata": {},
     "output_type": "execute_result"
    }
   ],
   "source": [
    "# yearly_income만 결측인 값 5개\n",
    "user_spec[(-user_spec[\"purpose\"].isna()) & (user_spec[\"yearly_income\"].isna())]"
   ]
  },
  {
   "cell_type": "markdown",
   "id": "2b12832e",
   "metadata": {},
   "source": [
    "- 전부 6월 30일에 생성되었다는 특징이 있음, 이유는 발견 못함\n",
    "\n",
    "- application_id : 341149 만 loan_result에 행이 존재"
   ]
  },
  {
   "cell_type": "code",
   "execution_count": 41,
   "id": "86007cbc",
   "metadata": {},
   "outputs": [
    {
     "data": {
      "text/html": [
       "<div>\n",
       "<style scoped>\n",
       "    .dataframe tbody tr th:only-of-type {\n",
       "        vertical-align: middle;\n",
       "    }\n",
       "\n",
       "    .dataframe tbody tr th {\n",
       "        vertical-align: top;\n",
       "    }\n",
       "\n",
       "    .dataframe thead th {\n",
       "        text-align: right;\n",
       "    }\n",
       "</style>\n",
       "<table border=\"1\" class=\"dataframe\">\n",
       "  <thead>\n",
       "    <tr style=\"text-align: right;\">\n",
       "      <th></th>\n",
       "      <th>application_id</th>\n",
       "      <th>loanapply_insert_time</th>\n",
       "      <th>bank_id</th>\n",
       "      <th>product_id</th>\n",
       "      <th>loan_limit</th>\n",
       "      <th>loan_rate</th>\n",
       "      <th>is_applied</th>\n",
       "    </tr>\n",
       "  </thead>\n",
       "  <tbody>\n",
       "    <tr>\n",
       "      <th>4495392</th>\n",
       "      <td>341149</td>\n",
       "      <td>2022-06-30 21:32:20</td>\n",
       "      <td>64</td>\n",
       "      <td>254</td>\n",
       "      <td>45000000.0</td>\n",
       "      <td>10.3</td>\n",
       "      <td>NaN</td>\n",
       "    </tr>\n",
       "    <tr>\n",
       "      <th>4495394</th>\n",
       "      <td>341149</td>\n",
       "      <td>2022-06-30 21:32:19</td>\n",
       "      <td>13</td>\n",
       "      <td>262</td>\n",
       "      <td>35000000.0</td>\n",
       "      <td>16.4</td>\n",
       "      <td>NaN</td>\n",
       "    </tr>\n",
       "    <tr>\n",
       "      <th>4495395</th>\n",
       "      <td>341149</td>\n",
       "      <td>2022-06-30 21:32:19</td>\n",
       "      <td>38</td>\n",
       "      <td>113</td>\n",
       "      <td>5000000.0</td>\n",
       "      <td>19.5</td>\n",
       "      <td>NaN</td>\n",
       "    </tr>\n",
       "    <tr>\n",
       "      <th>4495396</th>\n",
       "      <td>341149</td>\n",
       "      <td>2022-06-30 21:32:19</td>\n",
       "      <td>14</td>\n",
       "      <td>128</td>\n",
       "      <td>15000000.0</td>\n",
       "      <td>12.5</td>\n",
       "      <td>NaN</td>\n",
       "    </tr>\n",
       "    <tr>\n",
       "      <th>4495399</th>\n",
       "      <td>341149</td>\n",
       "      <td>2022-06-30 21:32:19</td>\n",
       "      <td>29</td>\n",
       "      <td>265</td>\n",
       "      <td>10000000.0</td>\n",
       "      <td>9.1</td>\n",
       "      <td>NaN</td>\n",
       "    </tr>\n",
       "    <tr>\n",
       "      <th>4495401</th>\n",
       "      <td>341149</td>\n",
       "      <td>2022-06-30 21:32:19</td>\n",
       "      <td>57</td>\n",
       "      <td>71</td>\n",
       "      <td>23000000.0</td>\n",
       "      <td>15.4</td>\n",
       "      <td>NaN</td>\n",
       "    </tr>\n",
       "  </tbody>\n",
       "</table>\n",
       "</div>"
      ],
      "text/plain": [
       "         application_id loanapply_insert_time  bank_id  product_id  \\\n",
       "4495392          341149   2022-06-30 21:32:20       64         254   \n",
       "4495394          341149   2022-06-30 21:32:19       13         262   \n",
       "4495395          341149   2022-06-30 21:32:19       38         113   \n",
       "4495396          341149   2022-06-30 21:32:19       14         128   \n",
       "4495399          341149   2022-06-30 21:32:19       29         265   \n",
       "4495401          341149   2022-06-30 21:32:19       57          71   \n",
       "\n",
       "         loan_limit  loan_rate  is_applied  \n",
       "4495392  45000000.0       10.3         NaN  \n",
       "4495394  35000000.0       16.4         NaN  \n",
       "4495395   5000000.0       19.5         NaN  \n",
       "4495396  15000000.0       12.5         NaN  \n",
       "4495399  10000000.0        9.1         NaN  \n",
       "4495401  23000000.0       15.4         NaN  "
      ]
     },
     "execution_count": 41,
     "metadata": {},
     "output_type": "execute_result"
    }
   ],
   "source": [
    "loan_result[loan_result[\"application_id\"] == 341149]"
   ]
  },
  {
   "cell_type": "markdown",
   "id": "fc0ced71",
   "metadata": {},
   "source": [
    "#### 제거"
   ]
  },
  {
   "cell_type": "markdown",
   "id": "02a44f05",
   "metadata": {},
   "source": [
    "yearly_income 기준 삭제\n",
    " - 그 전에 application_id 341149는 같은 user_id인 신청서가 존재하고 yearly_income이 0으로 적혀있었기 때문에 대체"
   ]
  },
  {
   "cell_type": "code",
   "execution_count": 42,
   "id": "2f89891d",
   "metadata": {},
   "outputs": [
    {
     "data": {
      "text/html": [
       "<div>\n",
       "<style scoped>\n",
       "    .dataframe tbody tr th:only-of-type {\n",
       "        vertical-align: middle;\n",
       "    }\n",
       "\n",
       "    .dataframe tbody tr th {\n",
       "        vertical-align: top;\n",
       "    }\n",
       "\n",
       "    .dataframe thead th {\n",
       "        text-align: right;\n",
       "    }\n",
       "</style>\n",
       "<table border=\"1\" class=\"dataframe\">\n",
       "  <thead>\n",
       "    <tr style=\"text-align: right;\">\n",
       "      <th></th>\n",
       "      <th>application_id</th>\n",
       "      <th>user_id</th>\n",
       "      <th>birth_year</th>\n",
       "      <th>gender</th>\n",
       "      <th>insert_time</th>\n",
       "      <th>credit_score</th>\n",
       "      <th>yearly_income</th>\n",
       "      <th>income_type</th>\n",
       "      <th>company_enter_month</th>\n",
       "      <th>employment_type</th>\n",
       "      <th>houseown_type</th>\n",
       "      <th>desired_amount</th>\n",
       "      <th>purpose</th>\n",
       "      <th>personal_rehabilitation_yn</th>\n",
       "      <th>personal_rehabilitation_complete_yn</th>\n",
       "      <th>existing_loan_cnt</th>\n",
       "      <th>existing_loan_amt</th>\n",
       "      <th>only_age</th>\n",
       "      <th>cat_age</th>\n",
       "      <th>cat_gender</th>\n",
       "    </tr>\n",
       "  </thead>\n",
       "  <tbody>\n",
       "    <tr>\n",
       "      <th>566158</th>\n",
       "      <td>1746224</td>\n",
       "      <td>670502</td>\n",
       "      <td>1981.0</td>\n",
       "      <td>1.0</td>\n",
       "      <td>2022-06-30 22:41:11</td>\n",
       "      <td>930.0</td>\n",
       "      <td>0.0</td>\n",
       "      <td>OTHERINCOME</td>\n",
       "      <td>NaT</td>\n",
       "      <td>기타</td>\n",
       "      <td>기타가족소유</td>\n",
       "      <td>6000000.0</td>\n",
       "      <td>사업자금</td>\n",
       "      <td>0.0</td>\n",
       "      <td>0.0</td>\n",
       "      <td>1.0</td>\n",
       "      <td>3000000.0</td>\n",
       "      <td>41.0</td>\n",
       "      <td>중년</td>\n",
       "      <td>남성</td>\n",
       "    </tr>\n",
       "    <tr>\n",
       "      <th>597613</th>\n",
       "      <td>341149</td>\n",
       "      <td>670502</td>\n",
       "      <td>1981.0</td>\n",
       "      <td>1.0</td>\n",
       "      <td>2022-06-30 21:32:18</td>\n",
       "      <td>930.0</td>\n",
       "      <td>NaN</td>\n",
       "      <td>OTHERINCOME</td>\n",
       "      <td>NaT</td>\n",
       "      <td>기타</td>\n",
       "      <td>기타가족소유</td>\n",
       "      <td>6000000.0</td>\n",
       "      <td>사업자금</td>\n",
       "      <td>0.0</td>\n",
       "      <td>0.0</td>\n",
       "      <td>1.0</td>\n",
       "      <td>3000000.0</td>\n",
       "      <td>41.0</td>\n",
       "      <td>중년</td>\n",
       "      <td>남성</td>\n",
       "    </tr>\n",
       "  </tbody>\n",
       "</table>\n",
       "</div>"
      ],
      "text/plain": [
       "        application_id  user_id  birth_year  gender         insert_time  \\\n",
       "566158         1746224   670502      1981.0     1.0 2022-06-30 22:41:11   \n",
       "597613          341149   670502      1981.0     1.0 2022-06-30 21:32:18   \n",
       "\n",
       "        credit_score  yearly_income  income_type company_enter_month  \\\n",
       "566158         930.0            0.0  OTHERINCOME                 NaT   \n",
       "597613         930.0            NaN  OTHERINCOME                 NaT   \n",
       "\n",
       "       employment_type houseown_type  desired_amount purpose  \\\n",
       "566158              기타        기타가족소유       6000000.0    사업자금   \n",
       "597613              기타        기타가족소유       6000000.0    사업자금   \n",
       "\n",
       "        personal_rehabilitation_yn  personal_rehabilitation_complete_yn  \\\n",
       "566158                         0.0                                  0.0   \n",
       "597613                         0.0                                  0.0   \n",
       "\n",
       "        existing_loan_cnt  existing_loan_amt  only_age cat_age cat_gender  \n",
       "566158                1.0          3000000.0      41.0      중년         남성  \n",
       "597613                1.0          3000000.0      41.0      중년         남성  "
      ]
     },
     "execution_count": 42,
     "metadata": {},
     "output_type": "execute_result"
    }
   ],
   "source": [
    "user_spec[user_spec[\"user_id\"] == 670502]"
   ]
  },
  {
   "cell_type": "code",
   "execution_count": 43,
   "id": "668337b7",
   "metadata": {},
   "outputs": [
    {
     "name": "stderr",
     "output_type": "stream",
     "text": [
      "C:\\Users\\lsj70\\Anaconda3\\lib\\site-packages\\pandas\\core\\indexing.py:1720: SettingWithCopyWarning: \n",
      "A value is trying to be set on a copy of a slice from a DataFrame.\n",
      "Try using .loc[row_indexer,col_indexer] = value instead\n",
      "\n",
      "See the caveats in the documentation: https://pandas.pydata.org/pandas-docs/stable/user_guide/indexing.html#returning-a-view-versus-a-copy\n",
      "  self._setitem_single_column(loc, value, pi)\n"
     ]
    }
   ],
   "source": [
    "#같은 user의 다른 application을 이용하여 대체, 생성일시를 제외한 모든 조건이 동일하기 때문에 연소득 대체 가능하다고 판단\n",
    "user_spec.loc[user_spec[\"application_id\"] == 341149, \"yearly_income\"] = user_spec.loc[user_spec[\"user_id\"] == 670502,\"yearly_income\"].mean()"
   ]
  },
  {
   "cell_type": "code",
   "execution_count": 44,
   "id": "9e8b55f5",
   "metadata": {},
   "outputs": [],
   "source": [
    "#연소득 기준 결측인 행 삭제\n",
    "user_spec = user_spec[-user_spec[\"yearly_income\"].isna()]"
   ]
  },
  {
   "cell_type": "markdown",
   "id": "eea365e4",
   "metadata": {},
   "source": [
    "### 입사년도 결측치 대체\n",
    "입사년도 - 출생년도 : 몇 살에 입사를 했는가\n",
    "\n",
    "생선년도 - 입사년도 : 입사한지 얼마나 지났는가 ( = 경력)\n",
    "\n",
    "Quantile을 이용해 범주화"
   ]
  },
  {
   "cell_type": "code",
   "execution_count": 45,
   "id": "04eb3dba",
   "metadata": {},
   "outputs": [],
   "source": [
    "user_spec[\"aft_enter_time\"] = (user_spec[\"insert_time\"] - user_spec[\"company_enter_month\"]).dt.days / 365\n",
    "\n",
    "user_spec[\"cat_aft_enter_time\"] =  pd.cut(user_spec[\"aft_enter_time\"],\n",
    "                                          [user_spec[\"aft_enter_time\"].describe()[\"min\"],\n",
    "                                           user_spec[\"aft_enter_time\"].describe()[\"25%\"],\n",
    "                                           user_spec[\"aft_enter_time\"].describe()[\"50%\"],\n",
    "                                           user_spec[\"aft_enter_time\"].describe()[\"75%\"],\n",
    "                                           user_spec[\"aft_enter_time\"].describe()[\"max\"]+1], right=False, labels=['0~25','25~50', '50~75','75~100']).astype(object)\n",
    "\n",
    "user_spec[\"cat_aft_enter_time\"] = user_spec[\"cat_aft_enter_time\"].fillna(\"cat_aft_enter_NA\")"
   ]
  },
  {
   "cell_type": "code",
   "execution_count": 46,
   "id": "f6c95be9",
   "metadata": {},
   "outputs": [],
   "source": [
    "user_spec[\"bef_enter_time\"] = (user_spec[\"company_enter_month\"].dt.year - user_spec[\"birth_year\"])\n",
    "\n",
    "user_spec[\"cat_bef_enter_time\"] =  pd.cut(user_spec[\"bef_enter_time\"],\n",
    "                                          [user_spec[\"bef_enter_time\"].describe()[\"min\"],\n",
    "                                           user_spec[\"bef_enter_time\"].describe()[\"25%\"],\n",
    "                                           user_spec[\"bef_enter_time\"].describe()[\"50%\"],\n",
    "                                           user_spec[\"bef_enter_time\"].describe()[\"75%\"],\n",
    "                                           user_spec[\"bef_enter_time\"].describe()[\"max\"]+1], right=False, labels=['0~25','25~50', '50~75','75~100']).astype(object)\n",
    "\n",
    "user_spec[\"cat_bef_enter_time\"] = user_spec[\"cat_bef_enter_time\"].fillna(\"cat_bef_enter_NA\")"
   ]
  },
  {
   "cell_type": "code",
   "execution_count": 47,
   "id": "0ce91e6b",
   "metadata": {
    "scrolled": false
   },
   "outputs": [
    {
     "data": {
      "text/html": [
       "<div>\n",
       "<style scoped>\n",
       "    .dataframe tbody tr th:only-of-type {\n",
       "        vertical-align: middle;\n",
       "    }\n",
       "\n",
       "    .dataframe tbody tr th {\n",
       "        vertical-align: top;\n",
       "    }\n",
       "\n",
       "    .dataframe thead th {\n",
       "        text-align: right;\n",
       "    }\n",
       "</style>\n",
       "<table border=\"1\" class=\"dataframe\">\n",
       "  <thead>\n",
       "    <tr style=\"text-align: right;\">\n",
       "      <th></th>\n",
       "      <th>cat_aft_enter_time</th>\n",
       "      <th>cat_bef_enter_time</th>\n",
       "      <th>0</th>\n",
       "    </tr>\n",
       "  </thead>\n",
       "  <tbody>\n",
       "    <tr>\n",
       "      <th>0</th>\n",
       "      <td>cat_aft_enter_NA</td>\n",
       "      <td>cat_bef_enter_NA</td>\n",
       "      <td>171623</td>\n",
       "    </tr>\n",
       "    <tr>\n",
       "      <th>1</th>\n",
       "      <td>25~50</td>\n",
       "      <td>75~100</td>\n",
       "      <td>90929</td>\n",
       "    </tr>\n",
       "    <tr>\n",
       "      <th>2</th>\n",
       "      <td>75~100</td>\n",
       "      <td>25~50</td>\n",
       "      <td>90184</td>\n",
       "    </tr>\n",
       "    <tr>\n",
       "      <th>3</th>\n",
       "      <td>50~75</td>\n",
       "      <td>75~100</td>\n",
       "      <td>89814</td>\n",
       "    </tr>\n",
       "    <tr>\n",
       "      <th>4</th>\n",
       "      <td>50~75</td>\n",
       "      <td>50~75</td>\n",
       "      <td>88934</td>\n",
       "    </tr>\n",
       "    <tr>\n",
       "      <th>5</th>\n",
       "      <td>75~100</td>\n",
       "      <td>0~25</td>\n",
       "      <td>85008</td>\n",
       "    </tr>\n",
       "    <tr>\n",
       "      <th>6</th>\n",
       "      <td>0~25</td>\n",
       "      <td>25~50</td>\n",
       "      <td>83215</td>\n",
       "    </tr>\n",
       "    <tr>\n",
       "      <th>7</th>\n",
       "      <td>0~25</td>\n",
       "      <td>75~100</td>\n",
       "      <td>82461</td>\n",
       "    </tr>\n",
       "    <tr>\n",
       "      <th>8</th>\n",
       "      <td>25~50</td>\n",
       "      <td>50~75</td>\n",
       "      <td>76671</td>\n",
       "    </tr>\n",
       "    <tr>\n",
       "      <th>9</th>\n",
       "      <td>75~100</td>\n",
       "      <td>50~75</td>\n",
       "      <td>76355</td>\n",
       "    </tr>\n",
       "    <tr>\n",
       "      <th>10</th>\n",
       "      <td>25~50</td>\n",
       "      <td>25~50</td>\n",
       "      <td>74934</td>\n",
       "    </tr>\n",
       "    <tr>\n",
       "      <th>11</th>\n",
       "      <td>50~75</td>\n",
       "      <td>25~50</td>\n",
       "      <td>69760</td>\n",
       "    </tr>\n",
       "    <tr>\n",
       "      <th>12</th>\n",
       "      <td>0~25</td>\n",
       "      <td>0~25</td>\n",
       "      <td>69044</td>\n",
       "    </tr>\n",
       "    <tr>\n",
       "      <th>13</th>\n",
       "      <td>0~25</td>\n",
       "      <td>50~75</td>\n",
       "      <td>68693</td>\n",
       "    </tr>\n",
       "    <tr>\n",
       "      <th>14</th>\n",
       "      <td>25~50</td>\n",
       "      <td>0~25</td>\n",
       "      <td>60971</td>\n",
       "    </tr>\n",
       "    <tr>\n",
       "      <th>15</th>\n",
       "      <td>50~75</td>\n",
       "      <td>0~25</td>\n",
       "      <td>55585</td>\n",
       "    </tr>\n",
       "    <tr>\n",
       "      <th>16</th>\n",
       "      <td>75~100</td>\n",
       "      <td>75~100</td>\n",
       "      <td>52638</td>\n",
       "    </tr>\n",
       "    <tr>\n",
       "      <th>17</th>\n",
       "      <td>0~25</td>\n",
       "      <td>cat_bef_enter_NA</td>\n",
       "      <td>2139</td>\n",
       "    </tr>\n",
       "    <tr>\n",
       "      <th>18</th>\n",
       "      <td>50~75</td>\n",
       "      <td>cat_bef_enter_NA</td>\n",
       "      <td>1759</td>\n",
       "    </tr>\n",
       "    <tr>\n",
       "      <th>19</th>\n",
       "      <td>25~50</td>\n",
       "      <td>cat_bef_enter_NA</td>\n",
       "      <td>1735</td>\n",
       "    </tr>\n",
       "    <tr>\n",
       "      <th>20</th>\n",
       "      <td>75~100</td>\n",
       "      <td>cat_bef_enter_NA</td>\n",
       "      <td>1618</td>\n",
       "    </tr>\n",
       "  </tbody>\n",
       "</table>\n",
       "</div>"
      ],
      "text/plain": [
       "   cat_aft_enter_time cat_bef_enter_time       0\n",
       "0    cat_aft_enter_NA   cat_bef_enter_NA  171623\n",
       "1               25~50             75~100   90929\n",
       "2              75~100              25~50   90184\n",
       "3               50~75             75~100   89814\n",
       "4               50~75              50~75   88934\n",
       "5              75~100               0~25   85008\n",
       "6                0~25              25~50   83215\n",
       "7                0~25             75~100   82461\n",
       "8               25~50              50~75   76671\n",
       "9              75~100              50~75   76355\n",
       "10              25~50              25~50   74934\n",
       "11              50~75              25~50   69760\n",
       "12               0~25               0~25   69044\n",
       "13               0~25              50~75   68693\n",
       "14              25~50               0~25   60971\n",
       "15              50~75               0~25   55585\n",
       "16             75~100             75~100   52638\n",
       "17               0~25   cat_bef_enter_NA    2139\n",
       "18              50~75   cat_bef_enter_NA    1759\n",
       "19              25~50   cat_bef_enter_NA    1735\n",
       "20             75~100   cat_bef_enter_NA    1618"
      ]
     },
     "execution_count": 47,
     "metadata": {},
     "output_type": "execute_result"
    }
   ],
   "source": [
    "user_spec[['cat_aft_enter_time','cat_bef_enter_time']].value_counts().reset_index()"
   ]
  },
  {
   "cell_type": "code",
   "execution_count": null,
   "id": "de489e03",
   "metadata": {},
   "outputs": [],
   "source": []
  },
  {
   "cell_type": "markdown",
   "id": "1f433c4d",
   "metadata": {},
   "source": [
    "### personal_rehabilitation_yn, personal_rehabilitation_complete_yn\n",
    "\n",
    "- 개인 회생자 신청 여부(0:개인회생자 X, 1:개인회생자O)\n",
    "- 개인 회생 완료 여부(personal_rehabilitation_yn == 1인 사람들 중, 0:납입중, 1:완료)\n",
    "\n",
    "상식적으로 존재 가능한 경우의 수 : (0,NA), (1,0), (1,1)"
   ]
  },
  {
   "cell_type": "code",
   "execution_count": 48,
   "id": "690f7ba6",
   "metadata": {},
   "outputs": [
    {
     "name": "stdout",
     "output_type": "stream",
     "text": [
      "1,NA : (0, 24)\n",
      "1,0 or 1,1 : (12705, 24)\n",
      "0,NA : (615860, 24)\n",
      "0,0 or 0,1 : (178145, 24)\n"
     ]
    }
   ],
   "source": [
    "print(\"1,NA :\",user_spec[(user_spec[\"personal_rehabilitation_yn\"] == 1) & (user_spec[\"personal_rehabilitation_complete_yn\"].isna())].shape)\n",
    "print(\"1,0 or 1,1 :\",user_spec[(user_spec[\"personal_rehabilitation_yn\"] == 1) & (-user_spec[\"personal_rehabilitation_complete_yn\"].isna())].shape)\n",
    "print(\"0,NA :\",user_spec[(user_spec[\"personal_rehabilitation_yn\"] == 0) & (user_spec[\"personal_rehabilitation_complete_yn\"].isna())].shape)\n",
    "print(\"0,0 or 0,1 :\",user_spec[(user_spec[\"personal_rehabilitation_yn\"] == 0) & (-user_spec[\"personal_rehabilitation_complete_yn\"].isna())].shape)"
   ]
  },
  {
   "cell_type": "markdown",
   "id": "208ee358",
   "metadata": {},
   "source": [
    "이상값인 0,0 or 0,1 는 아마도 개인회생자 여부를 체크 한 후, 다시 해제한 경우일 가능성이 있음!\n",
    "\n",
    "-> 그렇다면 전부 0, NA로 대체하는 것이 옳음"
   ]
  },
  {
   "cell_type": "code",
   "execution_count": 49,
   "id": "2dce56f4",
   "metadata": {},
   "outputs": [],
   "source": [
    "user_spec.loc[(user_spec[\"personal_rehabilitation_yn\"] == 0) & (-user_spec[\"personal_rehabilitation_complete_yn\"].isna()), \"personal_rehabilitation_complete_yn\"] = np.nan"
   ]
  },
  {
   "cell_type": "code",
   "execution_count": 50,
   "id": "8ad9080d",
   "metadata": {},
   "outputs": [
    {
     "name": "stdout",
     "output_type": "stream",
     "text": [
      "1,NA : (0, 24)\n",
      "1,0 or 1,1 : (12705, 24)\n",
      "0,NA : (794005, 24)\n",
      "0,0 or 0,1 : (0, 24)\n"
     ]
    }
   ],
   "source": [
    "print(\"1,NA :\",user_spec[(user_spec[\"personal_rehabilitation_yn\"] == 1) & (user_spec[\"personal_rehabilitation_complete_yn\"].isna())].shape)\n",
    "print(\"1,0 or 1,1 :\",user_spec[(user_spec[\"personal_rehabilitation_yn\"] == 1) & (-user_spec[\"personal_rehabilitation_complete_yn\"].isna())].shape)\n",
    "print(\"0,NA :\",user_spec[(user_spec[\"personal_rehabilitation_yn\"] == 0) & (user_spec[\"personal_rehabilitation_complete_yn\"].isna())].shape)\n",
    "print(\"0,0 or 0,1 :\",user_spec[(user_spec[\"personal_rehabilitation_yn\"] == 0) & (-user_spec[\"personal_rehabilitation_complete_yn\"].isna())].shape)"
   ]
  },
  {
   "cell_type": "markdown",
   "id": "f86e9c9d",
   "metadata": {},
   "source": [
    "**개인회생 관련 변수를 하나의 변수로 범주화**"
   ]
  },
  {
   "cell_type": "code",
   "execution_count": 51,
   "id": "de8231fe",
   "metadata": {},
   "outputs": [],
   "source": [
    "user_spec[\"rehabilitation\"] = \"rehabilitation_not\"\n",
    "user_spec.loc[(user_spec[\"personal_rehabilitation_yn\"] == 1) & (user_spec[\"personal_rehabilitation_complete_yn\"] == 0),\"rehabilitation\"] = \"rehabilitation\"\n",
    "user_spec.loc[(user_spec[\"personal_rehabilitation_yn\"] == 1) & (user_spec[\"personal_rehabilitation_complete_yn\"] == 1),\"rehabilitation\"] = \"rehabilitation_completed\""
   ]
  },
  {
   "cell_type": "markdown",
   "id": "2b9b369f",
   "metadata": {},
   "source": [
    "rehabilitation_not : 개인회생자가 아님\\\n",
    "rehabilitation : 개인회생자이며, 납입중임\\\n",
    "rehabilitation_completed : 개인회생자이며, 납입 완료했음"
   ]
  },
  {
   "cell_type": "code",
   "execution_count": 52,
   "id": "d456b449",
   "metadata": {},
   "outputs": [
    {
     "data": {
      "text/plain": [
       "rehabilitation_not          1381365\n",
       "rehabilitation                11358\n",
       "rehabilitation_completed       1347\n",
       "Name: rehabilitation, dtype: int64"
      ]
     },
     "execution_count": 52,
     "metadata": {},
     "output_type": "execute_result"
    }
   ],
   "source": [
    "user_spec[\"rehabilitation\"].value_counts()"
   ]
  },
  {
   "cell_type": "markdown",
   "id": "089ba66a",
   "metadata": {},
   "source": [
    "### existing_loan_cnt, existing_loan_amt 결측치 대체"
   ]
  },
  {
   "cell_type": "markdown",
   "id": "6f8815f9",
   "metadata": {},
   "source": [
    "먼저, 기대출 횟수, 잔액이 변동된 경우는 없다."
   ]
  },
  {
   "cell_type": "code",
   "execution_count": 53,
   "id": "c99a9a53",
   "metadata": {},
   "outputs": [
    {
     "data": {
      "text/plain": [
       "nan"
      ]
     },
     "execution_count": 53,
     "metadata": {},
     "output_type": "execute_result"
    }
   ],
   "source": [
    "user_loan_amt_min = user_spec.groupby(\"user_id\").min()[\"existing_loan_amt\"]\n",
    "user_loan_amt_max = user_spec.groupby(\"user_id\").max()[\"existing_loan_amt\"]\n",
    "user_loan_amt_min[user_loan_amt_min != user_loan_amt_max].max()"
   ]
  },
  {
   "cell_type": "code",
   "execution_count": 54,
   "id": "86aebb6d",
   "metadata": {},
   "outputs": [
    {
     "data": {
      "text/plain": [
       "nan"
      ]
     },
     "execution_count": 54,
     "metadata": {},
     "output_type": "execute_result"
    }
   ],
   "source": [
    "user_loan_cnt_min = user_spec.groupby(\"user_id\").min()[\"existing_loan_cnt\"]\n",
    "user_loan_cnt_max = user_spec.groupby(\"user_id\").max()[\"existing_loan_cnt\"]\n",
    "user_loan_cnt_min[user_loan_cnt_min != user_loan_cnt_max].max()"
   ]
  },
  {
   "cell_type": "markdown",
   "id": "89881ce1",
   "metadata": {},
   "source": [
    "#### 기대출 횟수와 잔액의 NA여부를 바탕으로 그룹 형성\n",
    "\n",
    "- 횟수가 0인 경우는 없음\n",
    "- 잔액이 NA인 경우는 횟수가 NA또는 1\n",
    "- 잔액이 0인 경우 존재\n",
    "\n",
    "NA NA : 대출 경험 없음\n",
    "\n",
    "1 NA : 이상값\n",
    "\n",
    "!NA 0 : 이상값\n",
    "\n",
    "!NA !NA : 기대출 보유자"
   ]
  },
  {
   "cell_type": "code",
   "execution_count": 55,
   "id": "5a8a6627",
   "metadata": {},
   "outputs": [
    {
     "data": {
      "text/plain": [
       "Series([], dtype: int64)"
      ]
     },
     "execution_count": 55,
     "metadata": {},
     "output_type": "execute_result"
    }
   ],
   "source": [
    "loan_na_na = user_spec[(user_spec[\"existing_loan_cnt\"].isna()) & (user_spec[\"existing_loan_amt\"].isna())]\n",
    "loan_na_na.value_counts(\"existing_loan_cnt\")"
   ]
  },
  {
   "cell_type": "code",
   "execution_count": 56,
   "id": "c5c099ce",
   "metadata": {},
   "outputs": [
    {
     "data": {
      "text/plain": [
       "existing_loan_cnt\n",
       "1.0    115187\n",
       "dtype: int64"
      ]
     },
     "execution_count": 56,
     "metadata": {},
     "output_type": "execute_result"
    }
   ],
   "source": [
    "loan_notna_na = user_spec[-(user_spec[\"existing_loan_cnt\"].isna()) & (user_spec[\"existing_loan_amt\"].isna())]\n",
    "loan_notna_na.value_counts(\"existing_loan_cnt\")"
   ]
  },
  {
   "cell_type": "code",
   "execution_count": 57,
   "id": "22e3dc82",
   "metadata": {},
   "outputs": [
    {
     "data": {
      "text/plain": [
       "existing_loan_cnt\n",
       "3.0      155923\n",
       "2.0      145538\n",
       "4.0      144384\n",
       "1.0      126369\n",
       "5.0      124044\n",
       "          ...  \n",
       "84.0          1\n",
       "107.0         1\n",
       "102.0         1\n",
       "96.0          1\n",
       "73.0          1\n",
       "Length: 100, dtype: int64"
      ]
     },
     "execution_count": 57,
     "metadata": {},
     "output_type": "execute_result"
    }
   ],
   "source": [
    "loan_notna_notna = user_spec[-(user_spec[\"existing_loan_cnt\"].isna()) & (-user_spec[\"existing_loan_amt\"].isna())]\n",
    "loan_notna_notna.value_counts(\"existing_loan_cnt\")"
   ]
  },
  {
   "cell_type": "code",
   "execution_count": 58,
   "id": "f9626599",
   "metadata": {},
   "outputs": [
    {
     "data": {
      "text/plain": [
       "existing_loan_cnt\n",
       "1.0     4636\n",
       "2.0      409\n",
       "3.0       68\n",
       "4.0       11\n",
       "13.0       3\n",
       "5.0        1\n",
       "6.0        1\n",
       "9.0        1\n",
       "dtype: int64"
      ]
     },
     "execution_count": 58,
     "metadata": {},
     "output_type": "execute_result"
    }
   ],
   "source": [
    "loan_notna_0 = user_spec[-(user_spec[\"existing_loan_cnt\"].isna()) & (user_spec[\"existing_loan_amt\"]==0)]\n",
    "loan_notna_0.value_counts(\"existing_loan_cnt\")"
   ]
  },
  {
   "cell_type": "markdown",
   "id": "81fcabc4",
   "metadata": {},
   "source": [
    "#### 특징 확인"
   ]
  },
  {
   "cell_type": "markdown",
   "id": "30b52f1e",
   "metadata": {},
   "source": [
    "가설) !NA, 0인 값들은 기대출 잔액이 50만원보다 적어서 반올림 결과 0이 된 것이다.\n",
    "\n",
    "가설) 1, NA인 값들은 대출 무경험자와, 대출 완납 경험자를 구분하기 위한 것이다. 즉, 1, NA는 완납 경험자이다."
   ]
  },
  {
   "cell_type": "markdown",
   "id": "534aca99",
   "metadata": {},
   "source": [
    "#### 그룹 간의 신용 점수에서 차이를 보였다."
   ]
  },
  {
   "cell_type": "code",
   "execution_count": 59,
   "id": "5c04d102",
   "metadata": {},
   "outputs": [
    {
     "data": {
      "text/plain": [
       "count    121232.000000\n",
       "mean        665.470998\n",
       "std         159.270887\n",
       "min          60.000000\n",
       "25%         580.000000\n",
       "50%         640.000000\n",
       "75%         750.000000\n",
       "max        1000.000000\n",
       "Name: credit_score, dtype: float64"
      ]
     },
     "execution_count": 59,
     "metadata": {},
     "output_type": "execute_result"
    }
   ],
   "source": [
    "loan_na_na[\"credit_score\"].describe()"
   ]
  },
  {
   "cell_type": "code",
   "execution_count": 60,
   "id": "7627844b",
   "metadata": {},
   "outputs": [
    {
     "data": {
      "text/plain": [
       "count    112818.000000\n",
       "mean        653.847081\n",
       "std         160.652877\n",
       "min         100.000000\n",
       "25%         580.000000\n",
       "50%         640.000000\n",
       "75%         750.000000\n",
       "max        1000.000000\n",
       "Name: credit_score, dtype: float64"
      ]
     },
     "execution_count": 60,
     "metadata": {},
     "output_type": "execute_result"
    }
   ],
   "source": [
    "loan_notna_na[\"credit_score\"].describe()"
   ]
  },
  {
   "cell_type": "code",
   "execution_count": 61,
   "id": "74cbc831",
   "metadata": {},
   "outputs": [
    {
     "data": {
      "text/plain": [
       "count    4988.000000\n",
       "mean      722.082999\n",
       "std       196.428333\n",
       "min       100.000000\n",
       "25%       610.000000\n",
       "50%       730.000000\n",
       "75%       880.000000\n",
       "max      1000.000000\n",
       "Name: credit_score, dtype: float64"
      ]
     },
     "execution_count": 61,
     "metadata": {},
     "output_type": "execute_result"
    }
   ],
   "source": [
    "loan_notna_0[\"credit_score\"].describe()"
   ]
  },
  {
   "cell_type": "code",
   "execution_count": 62,
   "id": "a12863cc",
   "metadata": {},
   "outputs": [
    {
     "data": {
      "text/plain": [
       "count    1.054966e+06\n",
       "mean     6.336904e+02\n",
       "std      1.152173e+02\n",
       "min      9.000000e+01\n",
       "25%      5.700000e+02\n",
       "50%      6.200000e+02\n",
       "75%      6.800000e+02\n",
       "max      1.000000e+03\n",
       "Name: credit_score, dtype: float64"
      ]
     },
     "execution_count": 62,
     "metadata": {},
     "output_type": "execute_result"
    }
   ],
   "source": [
    "loan_notna_notna[\"credit_score\"].describe()"
   ]
  },
  {
   "cell_type": "markdown",
   "id": "af3079c8",
   "metadata": {},
   "source": [
    "**신용 점수 관련 T 검정**"
   ]
  },
  {
   "cell_type": "code",
   "execution_count": 63,
   "id": "9c9b6e1d",
   "metadata": {},
   "outputs": [],
   "source": [
    "loan_notna_na_c_score = loan_notna_na[\"credit_score\"].copy()\n",
    "loan_notna_na_c_score = loan_notna_na_c_score[loan_notna_na_c_score.notna()]\n",
    "\n",
    "loan_notna_notna_c_score = loan_notna_notna[\"credit_score\"].copy()\n",
    "loan_notna_notna_c_score = loan_notna_notna_c_score[loan_notna_notna_c_score.notna()]\n",
    "\n",
    "loan_na_na_c_score = loan_na_na[\"credit_score\"].copy()\n",
    "loan_na_na_c_score = loan_na_na_c_score[loan_na_na_c_score.notna()]\n",
    "\n",
    "loan_notna_0_c_score = loan_notna_0[\"credit_score\"].copy()\n",
    "loan_notna_0_c_score = loan_notna_0_c_score[loan_notna_0_c_score.notna()]"
   ]
  },
  {
   "cell_type": "code",
   "execution_count": 64,
   "id": "36ce3a41",
   "metadata": {},
   "outputs": [],
   "source": [
    "import scipy.stats as stats"
   ]
  },
  {
   "cell_type": "code",
   "execution_count": 65,
   "id": "d928ff26",
   "metadata": {},
   "outputs": [
    {
     "data": {
      "text/plain": [
       "Ttest_indResult(statistic=41.02924395629673, pvalue=0.0)"
      ]
     },
     "execution_count": 65,
     "metadata": {},
     "output_type": "execute_result"
    }
   ],
   "source": [
    "#1, NA인 경우가 !NA, !NA보다는 신용 점수가 크다\n",
    "stats.ttest_ind(loan_notna_na_c_score, loan_notna_notna_c_score, equal_var = False)"
   ]
  },
  {
   "cell_type": "code",
   "execution_count": 66,
   "id": "4c3c8c54",
   "metadata": {},
   "outputs": [
    {
     "data": {
      "text/plain": [
       "Ttest_indResult(statistic=17.563376354084763, pvalue=5.208676093543016e-69)"
      ]
     },
     "execution_count": 66,
     "metadata": {},
     "output_type": "execute_result"
    }
   ],
   "source": [
    "#NA, NA인 경우가 1, NA보다는 신용 점수가 크다\n",
    "stats.ttest_ind(loan_na_na_c_score, loan_notna_na_c_score, equal_var = False)"
   ]
  },
  {
   "cell_type": "code",
   "execution_count": 67,
   "id": "3f755220",
   "metadata": {},
   "outputs": [
    {
     "data": {
      "text/plain": [
       "Ttest_indResult(statistic=20.084994692461724, pvalue=1.6286048789119013e-86)"
      ]
     },
     "execution_count": 67,
     "metadata": {},
     "output_type": "execute_result"
    }
   ],
   "source": [
    "#!NA, 0인 경우가 NA, NA보다는 신용 점수가 크다\n",
    "stats.ttest_ind(loan_notna_0_c_score, loan_na_na_c_score, equal_var = False)"
   ]
  },
  {
   "cell_type": "markdown",
   "id": "dab6004d",
   "metadata": {},
   "source": [
    "**신용 점수 관련 ANOVA 검정**"
   ]
  },
  {
   "cell_type": "code",
   "execution_count": 68,
   "id": "2ad30938",
   "metadata": {},
   "outputs": [
    {
     "name": "stdout",
     "output_type": "stream",
     "text": [
      "Altman 910 데이터의 일원분산분석 결과 : F=3716.7, p=0.00000\n",
      "P-value 값이 충분히 작음으로 인해 그룹의 평균값이 통계적으로 유의미하게 차이납니다.\n"
     ]
    }
   ],
   "source": [
    "F_statistic, pVal = stats.f_oneway(loan_notna_na_c_score, loan_notna_notna_c_score, loan_na_na_c_score, loan_notna_0_c_score)\n",
    "\n",
    "print('Altman 910 데이터의 일원분산분석 결과 : F={0:.1f}, p={1:.5f}'.format(F_statistic, pVal))\n",
    "if pVal < 0.05:\n",
    "    print('P-value 값이 충분히 작음으로 인해 그룹의 평균값이 통계적으로 유의미하게 차이납니다.')"
   ]
  },
  {
   "cell_type": "code",
   "execution_count": 69,
   "id": "f8c3cdfc",
   "metadata": {},
   "outputs": [
    {
     "data": {
      "image/png": "[encoded data removed]",
      "text/plain": [
       "<Figure size 432x288 with 1 Axes>"
      ]
     },
     "metadata": {
      "needs_background": "light"
     },
     "output_type": "display_data"
    }
   ],
   "source": [
    "plot_data = [loan_notna_na_c_score, loan_notna_notna_c_score, loan_na_na_c_score, loan_notna_0_c_score]\n",
    "ax = plt.boxplot(plot_data)\n",
    "plt.xticks([1,2,3,4], [\"1, NA\", \"not.NA, not.NA\", \"NA, NA\", \"not.NA, 0\"])\n",
    "plt.show()"
   ]
  },
  {
   "cell_type": "markdown",
   "id": "a5991f8d",
   "metadata": {},
   "source": [
    "**<결론>**\\\n",
    "신용 점수 기준\\\n",
    "(!NA, 0) > (NA, NA) > (1, NA) > (!NA, !NA) "
   ]
  },
  {
   "cell_type": "code",
   "execution_count": 70,
   "id": "62e052f6",
   "metadata": {},
   "outputs": [],
   "source": [
    "# 이상치(대출 완납 경험자)를 구분하기 위한 범주형 변수 추가\n",
    "user_spec[\"existing_loan_error\"] = 0\n",
    "user_spec.loc[-(user_spec[\"existing_loan_cnt\"].isna()) & (user_spec[\"existing_loan_amt\"].isna()),\"existing_loan_error\"] = 1"
   ]
  },
  {
   "cell_type": "code",
   "execution_count": 71,
   "id": "97c9c8f9",
   "metadata": {},
   "outputs": [],
   "source": [
    "user_spec[\"existing_loan_cnt_2\"] = user_spec[\"existing_loan_cnt\"].copy()\n",
    "user_spec[\"existing_loan_amt_2\"] = user_spec[\"existing_loan_amt\"].copy()\n",
    "\n",
    "user_spec.loc[-user_spec[\"existing_loan_amt_2\"].isna(),\"existing_loan_amt_2\"] += 250000\n",
    "user_spec.loc[user_spec[\"existing_loan_amt_2\"].isna(),\"existing_loan_cnt_2\"] = 0\n",
    "\n",
    "user_spec[\"existing_loan_amt_2\"] = user_spec[\"existing_loan_amt_2\"].fillna(0)"
   ]
  },
  {
   "cell_type": "code",
   "execution_count": 72,
   "id": "1b02973c",
   "metadata": {},
   "outputs": [
    {
     "data": {
      "text/plain": [
       "application_id                               0\n",
       "user_id                                      0\n",
       "birth_year                                9723\n",
       "gender                                    9723\n",
       "insert_time                                  0\n",
       "credit_score                            105054\n",
       "yearly_income                                0\n",
       "income_type                                  0\n",
       "company_enter_month                     171623\n",
       "employment_type                              0\n",
       "houseown_type                                0\n",
       "desired_amount                               0\n",
       "purpose                                      0\n",
       "personal_rehabilitation_yn              587360\n",
       "personal_rehabilitation_complete_yn    1381365\n",
       "existing_loan_cnt                       198507\n",
       "existing_loan_amt                       313694\n",
       "only_age                                  9723\n",
       "cat_age                                      0\n",
       "cat_gender                                   0\n",
       "aft_enter_time                          171623\n",
       "cat_aft_enter_time                           0\n",
       "bef_enter_time                          178874\n",
       "cat_bef_enter_time                           0\n",
       "rehabilitation                               0\n",
       "existing_loan_error                          0\n",
       "existing_loan_cnt_2                          0\n",
       "existing_loan_amt_2                          0\n",
       "dtype: int64"
      ]
     },
     "execution_count": 72,
     "metadata": {},
     "output_type": "execute_result"
    }
   ],
   "source": [
    "user_spec.isna().sum()"
   ]
  },
  {
   "cell_type": "code",
   "execution_count": null,
   "id": "84ec158e",
   "metadata": {},
   "outputs": [],
   "source": []
  },
  {
   "cell_type": "markdown",
   "id": "56a21630",
   "metadata": {},
   "source": [
    "### Credit Score"
   ]
  },
  {
   "cell_type": "code",
   "execution_count": 73,
   "id": "a52ca619",
   "metadata": {},
   "outputs": [],
   "source": [
    "user_spec2 = user_spec.drop([\"birth_year\",\"gender\",\"company_enter_month\",\"personal_rehabilitation_yn\",\"personal_rehabilitation_complete_yn\",\n",
    "               \"existing_loan_cnt\",\"existing_loan_amt\", \"only_age\",\"aft_enter_time\", \"bef_enter_time\"],axis = 1)"
   ]
  },
  {
   "cell_type": "code",
   "execution_count": 74,
   "id": "02827f03",
   "metadata": {},
   "outputs": [
    {
     "data": {
      "text/plain": [
       "application_id              0\n",
       "user_id                     0\n",
       "insert_time                 0\n",
       "credit_score           105054\n",
       "yearly_income               0\n",
       "income_type                 0\n",
       "employment_type             0\n",
       "houseown_type               0\n",
       "desired_amount              0\n",
       "purpose                     0\n",
       "cat_age                     0\n",
       "cat_gender                  0\n",
       "cat_aft_enter_time          0\n",
       "cat_bef_enter_time          0\n",
       "rehabilitation              0\n",
       "existing_loan_error         0\n",
       "existing_loan_cnt_2         0\n",
       "existing_loan_amt_2         0\n",
       "dtype: int64"
      ]
     },
     "execution_count": 74,
     "metadata": {},
     "output_type": "execute_result"
    }
   ],
   "source": [
    "user_spec2.isna().sum()"
   ]
  },
  {
   "cell_type": "markdown",
   "id": "55e8efb7",
   "metadata": {},
   "source": [
    "#### credit score가 NA가 아닌 행이 존재하는 user_id\n",
    "\n",
    "NA\\\n",
    "NA --> 810으로 대체\\\n",
    "810\\\n",
    "810\\\n",
    "820"
   ]
  },
  {
   "cell_type": "code",
   "execution_count": 75,
   "id": "18722809",
   "metadata": {},
   "outputs": [],
   "source": [
    "credit_na_ids = user_spec2[user_spec2[\"credit_score\"].isna()][\"user_id\"].unique()"
   ]
  },
  {
   "cell_type": "code",
   "execution_count": 76,
   "id": "d01fb842",
   "metadata": {},
   "outputs": [
    {
     "data": {
      "text/plain": [
       "array([553686,  93773, 131488, ..., 140245, 140769, 421807], dtype=int64)"
      ]
     },
     "execution_count": 76,
     "metadata": {},
     "output_type": "execute_result"
    }
   ],
   "source": [
    "credit_not_na_ids = user_spec2[(user_spec2[\"user_id\"].isin(credit_na_ids)) & (-user_spec2[\"credit_score\"].isna())][\"user_id\"].unique()\n",
    "credit_not_na_ids"
   ]
  },
  {
   "cell_type": "code",
   "execution_count": 77,
   "id": "7a32e28e",
   "metadata": {},
   "outputs": [],
   "source": [
    "df1 = user_spec2[user_spec2[\"user_id\"].isin(credit_not_na_ids)].copy()\n",
    "df2 = user_spec2[-user_spec2[\"user_id\"].isin(credit_not_na_ids)].copy()"
   ]
  },
  {
   "cell_type": "code",
   "execution_count": 78,
   "id": "19f0b0da",
   "metadata": {},
   "outputs": [
    {
     "data": {
      "text/plain": [
       "True"
      ]
     },
     "execution_count": 78,
     "metadata": {},
     "output_type": "execute_result"
    }
   ],
   "source": [
    "len(df1) + len(df2) == len(user_spec2)"
   ]
  },
  {
   "cell_type": "code",
   "execution_count": 79,
   "id": "3bc620be",
   "metadata": {
    "scrolled": true
   },
   "outputs": [
    {
     "name": "stderr",
     "output_type": "stream",
     "text": [
      "<ipython-input-79-fa1f085ba8bf>:2: TqdmDeprecationWarning: This function will be removed in tqdm==5.0.0\n",
      "Please use `tqdm.notebook.tqdm` instead of `tqdm.tqdm_notebook`\n",
      "  for i in tqdm_notebook(credit_not_na_ids):\n"
     ]
    },
    {
     "data": {
      "application/vnd.jupyter.widget-view+json": {
       "model_id": "eca5d92f625d4b1fabd43cf47959a204",
       "version_major": 2,
       "version_minor": 0
      },
      "text/plain": [
       "  0%|          | 0/10922 [00:00<?, ?it/s]"
      ]
     },
     "metadata": {},
     "output_type": "display_data"
    }
   ],
   "source": [
    "df1_1 = pd.DataFrame()\n",
    "for i in tqdm_notebook(credit_not_na_ids):\n",
    "    df1_1 = df1_1.append(df1[df1[\"user_id\"] == i].sort_values(\"insert_time\").fillna(method='bfill'))"
   ]
  },
  {
   "cell_type": "code",
   "execution_count": 80,
   "id": "75c2160a",
   "metadata": {},
   "outputs": [
    {
     "data": {
      "text/plain": [
       "application_id         0\n",
       "user_id                0\n",
       "insert_time            0\n",
       "credit_score           0\n",
       "yearly_income          0\n",
       "income_type            0\n",
       "employment_type        0\n",
       "houseown_type          0\n",
       "desired_amount         0\n",
       "purpose                0\n",
       "cat_age                0\n",
       "cat_gender             0\n",
       "cat_aft_enter_time     0\n",
       "cat_bef_enter_time     0\n",
       "rehabilitation         0\n",
       "existing_loan_error    0\n",
       "existing_loan_cnt_2    0\n",
       "existing_loan_amt_2    0\n",
       "dtype: int64"
      ]
     },
     "execution_count": 80,
     "metadata": {},
     "output_type": "execute_result"
    }
   ],
   "source": [
    "df1_1.isna().sum()"
   ]
  },
  {
   "cell_type": "code",
   "execution_count": 81,
   "id": "b0b4f2d2",
   "metadata": {},
   "outputs": [
    {
     "data": {
      "text/plain": [
       "True"
      ]
     },
     "execution_count": 81,
     "metadata": {},
     "output_type": "execute_result"
    }
   ],
   "source": [
    "len(df1_1) + len(df2) == len(user_spec2)"
   ]
  },
  {
   "cell_type": "code",
   "execution_count": 82,
   "id": "e50e501c",
   "metadata": {},
   "outputs": [],
   "source": [
    "user_spec3 = pd.concat([df1_1,df2]).sort_index()"
   ]
  },
  {
   "cell_type": "code",
   "execution_count": 83,
   "id": "2f017e93",
   "metadata": {},
   "outputs": [
    {
     "data": {
      "text/plain": [
       "application_id             0\n",
       "user_id                    0\n",
       "insert_time                0\n",
       "credit_score           87464\n",
       "yearly_income              0\n",
       "income_type                0\n",
       "employment_type            0\n",
       "houseown_type              0\n",
       "desired_amount             0\n",
       "purpose                    0\n",
       "cat_age                    0\n",
       "cat_gender                 0\n",
       "cat_aft_enter_time         0\n",
       "cat_bef_enter_time         0\n",
       "rehabilitation             0\n",
       "existing_loan_error        0\n",
       "existing_loan_cnt_2        0\n",
       "existing_loan_amt_2        0\n",
       "dtype: int64"
      ]
     },
     "execution_count": 83,
     "metadata": {},
     "output_type": "execute_result"
    }
   ],
   "source": [
    "user_spec3.isna().sum()"
   ]
  },
  {
   "cell_type": "code",
   "execution_count": 84,
   "id": "3e130a89",
   "metadata": {},
   "outputs": [],
   "source": [
    "user_spec3.to_csv(\"user_spec3.csv\", index = False)\n",
    "loan_result.to_csv(\"loan_result2.csv\", index = False)"
   ]
  },
  {
   "cell_type": "markdown",
   "id": "446b3347",
   "metadata": {},
   "source": [
    "# 여기부터 시작입니다. Ctrl+F 눌러서 찾으세요 뿅"
   ]
  },
  {
   "cell_type": "code",
   "execution_count": null,
   "id": "af0d4a5f",
   "metadata": {},
   "outputs": [],
   "source": [
    "import pandas as pd\n",
    "import numpy as np\n",
    "import matplotlib.pyplot as plt\n",
    "\n",
    "from tqdm import tqdm_notebook \n",
    "\n",
    "#loan_result = pd.read_csv(\"loan_result.csv\")\n",
    "#log_data = pd.read_csv(\"log_data.csv\")\n",
    "#user_spec = pd.read_csv(\"user_spec.csv\")\n",
    "\n",
    "#user_spec3 = pd.read_csv(\"user_spec3.csv\")\n",
    "#loan_result = pd.read_csv(\"loan_result2.csv\")"
   ]
  },
  {
   "cell_type": "markdown",
   "id": "d767d5a0",
   "metadata": {},
   "source": [
    "#### credit score가 전부 NA인 user_id\n",
    "NA\\\n",
    "NA\\\n",
    "NA --> Mice, DeapLearning 같은 방식으로 대체"
   ]
  },
  {
   "cell_type": "markdown",
   "id": "e1986489",
   "metadata": {},
   "source": [
    "train, valid, test set 분리"
   ]
  },
  {
   "cell_type": "code",
   "execution_count": null,
   "id": "c31d55df",
   "metadata": {},
   "outputs": [],
   "source": [
    "test_set = user_spec3[user_spec3[\"credit_score\"].isna()].copy()\n",
    "train0_set = user_spec3[-user_spec3[\"credit_score\"].isna()].copy()"
   ]
  },
  {
   "cell_type": "code",
   "execution_count": null,
   "id": "f6aacb3b",
   "metadata": {},
   "outputs": [],
   "source": [
    "np.random.seed(1234)\n",
    "valid_ids = np.random.choice(train0_set[\"user_id\"], int(0.2*len(user_spec3)))"
   ]
  },
  {
   "cell_type": "code",
   "execution_count": null,
   "id": "2ad49dfa",
   "metadata": {},
   "outputs": [],
   "source": [
    "valid_set = train0_set[train0_set[\"user_id\"].isin(valid_ids)].copy()\n",
    "valid_set[\"credit_score\"] = np.nan\n",
    "\n",
    "train_set = train0_set[-train0_set[\"user_id\"].isin(valid_ids)].copy()"
   ]
  },
  {
   "cell_type": "markdown",
   "id": "260d83c1",
   "metadata": {},
   "source": [
    "**Mice**"
   ]
  },
  {
   "cell_type": "code",
   "execution_count": null,
   "id": "b2df767a",
   "metadata": {},
   "outputs": [],
   "source": [
    "#!pip install impyute"
   ]
  },
  {
   "cell_type": "code",
   "execution_count": null,
   "id": "c3dc1e7a",
   "metadata": {},
   "outputs": [],
   "source": [
    "df_null = pd.get_dummies(user_spec2).copy()"
   ]
  },
  {
   "cell_type": "code",
   "execution_count": null,
   "id": "9376a2b8",
   "metadata": {},
   "outputs": [],
   "source": [
    "df_null = df_null.drop(\"insert_time\",axis=1)"
   ]
  },
  {
   "cell_type": "code",
   "execution_count": null,
   "id": "4ae2403f",
   "metadata": {},
   "outputs": [],
   "source": [
    "from impyute.imputation.cs import mice\n",
    "\n",
    "np_imputed=mice(df_null.values) # mice 학습시작\n",
    "df_imputed  = pd.DataFrame(np_imputed)\n",
    "\n",
    "# 변환 후 데이터 확인\n",
    "df_imputed.isna().sum()"
   ]
  },
  {
   "cell_type": "code",
   "execution_count": null,
   "id": "7442d99e",
   "metadata": {},
   "outputs": [],
   "source": [
    "# 변환 후 데이터 확인\n",
    "df_imputed.isna().sum()"
   ]
  },
  {
   "cell_type": "markdown",
   "id": "62524004",
   "metadata": {},
   "source": [
    "**Deap Learning**"
   ]
  },
  {
   "cell_type": "code",
   "execution_count": null,
   "id": "90f92464",
   "metadata": {
    "scrolled": true
   },
   "outputs": [],
   "source": [
    "a = user_spec2.columns.copy()"
   ]
  },
  {
   "cell_type": "code",
   "execution_count": null,
   "id": "8a65d70b",
   "metadata": {},
   "outputs": [],
   "source": [
    "b = list(a)"
   ]
  },
  {
   "cell_type": "code",
   "execution_count": null,
   "id": "4a946e5c",
   "metadata": {},
   "outputs": [],
   "source": [
    "b.remove(\"credit_score\")"
   ]
  },
  {
   "cell_type": "code",
   "execution_count": null,
   "id": "b139efe3",
   "metadata": {},
   "outputs": [],
   "source": [
    "b"
   ]
  },
  {
   "cell_type": "code",
   "execution_count": null,
   "id": "dee3ab45",
   "metadata": {},
   "outputs": [],
   "source": [
    "pip install doatawig"
   ]
  },
  {
   "cell_type": "code",
   "execution_count": null,
   "id": "ac5166e6",
   "metadata": {},
   "outputs": [],
   "source": [
    "#변환\n",
    "import datawig\n",
    "imputer = datawig.SimpleImputer(\n",
    "    input_columns=b,\n",
    "    output_column= 'credit_score',\n",
    "    )\n",
    "\n",
    "\n",
    "imputer.fit(train_df=user_spec2, num_epochs=50)\n",
    "df_null_only = user_spec2[user_spec2['credit_score'].isnull()]\n",
    "np_imputed = imputer.predict(df_null_only)\n",
    "df_imputed = pd.DataFrame(np_imputed)\n",
    "\n",
    "# 변환 후 데이터 확인\n",
    "df_imputed.head(10)"
   ]
  },
  {
   "cell_type": "code",
   "execution_count": null,
   "id": "5c2d6824",
   "metadata": {},
   "outputs": [],
   "source": []
  },
  {
   "cell_type": "code",
   "execution_count": null,
   "id": "926e707b",
   "metadata": {},
   "outputs": [],
   "source": []
  },
  {
   "cell_type": "code",
   "execution_count": null,
   "id": "8d95662a",
   "metadata": {},
   "outputs": [],
   "source": []
  },
  {
   "cell_type": "code",
   "execution_count": null,
   "id": "5465b83e",
   "metadata": {},
   "outputs": [],
   "source": [
    "stop! wait a minute!\n",
    "\n",
    "여기 아래로는 너무 오래 걸려유\n",
    "\n",
    "전체 실행 자동 정지!"
   ]
  },
  {
   "cell_type": "code",
   "execution_count": null,
   "id": "1d346327",
   "metadata": {},
   "outputs": [],
   "source": []
  },
  {
   "cell_type": "code",
   "execution_count": null,
   "id": "b7e17f9d",
   "metadata": {},
   "outputs": [],
   "source": []
  },
  {
   "cell_type": "code",
   "execution_count": null,
   "id": "3908adce",
   "metadata": {},
   "outputs": [],
   "source": []
  },
  {
   "cell_type": "code",
   "execution_count": null,
   "id": "f3856318",
   "metadata": {},
   "outputs": [],
   "source": []
  },
  {
   "cell_type": "code",
   "execution_count": null,
   "id": "b8326747",
   "metadata": {},
   "outputs": [],
   "source": []
  },
  {
   "cell_type": "code",
   "execution_count": null,
   "id": "f0a8c712",
   "metadata": {},
   "outputs": [],
   "source": []
  },
  {
   "cell_type": "code",
   "execution_count": null,
   "id": "fee98b6d",
   "metadata": {},
   "outputs": [],
   "source": []
  },
  {
   "cell_type": "markdown",
   "id": "6f42788f",
   "metadata": {},
   "source": [
    "## 어플 사용자 경우의 수"
   ]
  },
  {
   "cell_type": "markdown",
   "id": "083705a2",
   "metadata": {},
   "source": [
    "1. 개인정보 null, log 확인시 complete 이후에 end가 없다면 -> 다른 업무를 위해 어플을 사용할 가능성!\n",
    "\n",
    "2. 개인정보 null, log 확인시 complete 이후에 end가 있다면 -> 오류일 가능성!\n",
    "\n",
    "3. 개인정보 not-null, application_id가 loan_result에 있다면 -> 대출받을 사람임!\n",
    "\n",
    "4. 개인정보 not-null, application_id가 loan_result에 없다면 -> 다른 업무를 위해 어플을 사용할 가능성!"
   ]
  },
  {
   "cell_type": "code",
   "execution_count": null,
   "id": "0588f345",
   "metadata": {},
   "outputs": [],
   "source": [
    "#1,2번\n",
    "user_info_nan = user_spec[(user_spec[\"income_type\"].isna()) & (user_spec[\"employment_type\"].isna()) & \n",
    "         (user_spec[\"houseown_type\"].isna()) & (user_spec[\"desired_amount\"].isna()) & \n",
    "                (user_spec[\"purpose\"].isna()) & (user_spec[\"yearly_income\"].isna())][[\"application_id\",\"user_id\"]]\n",
    "\n",
    "true_index=[]\n",
    "for i in tqdm_notebook(range(len(tmp))):\n",
    "    log_tmp = log_data[log_data[\"user_id\"] == user_info_nan.iloc[i,1]]\n",
    "    user_tmp = user_spec[user_spec[\"application_id\"] == user_info_nan.iloc[i,0]]\n",
    "    \n",
    "    true_index.append(log_tmp[(log_tmp[\"timestamp\"].dt.month == user_tmp[\"insert_time\"].dt.month.mean()) & \n",
    "    (log_tmp[\"timestamp\"].dt.day == user_tmp[\"insert_time\"].dt.day.mean())][\"event\"].isin([\"EndLoanApply\"]).max())"
   ]
  },
  {
   "cell_type": "code",
   "execution_count": null,
   "id": "3711efdf",
   "metadata": {},
   "outputs": [],
   "source": [
    "user_info_nan[\"complete\"] = true_index\n",
    "user_info_nan"
   ]
  },
  {
   "cell_type": "code",
   "execution_count": null,
   "id": "d5de1ee2",
   "metadata": {},
   "outputs": [],
   "source": [
    "#2번에 해당하는 경우\n",
    "user_info_nan[user_info_nan[\"complete\"] == True].shape"
   ]
  },
  {
   "cell_type": "code",
   "execution_count": null,
   "id": "15f54f19",
   "metadata": {},
   "outputs": [],
   "source": [
    "#3,4번\n",
    "app_tmp = user_spec[(-user_spec[\"income_type\"].isna()) & (-user_spec[\"employment_type\"].isna()) & \n",
    "         (-user_spec[\"houseown_type\"].isna()) & (-user_spec[\"desired_amount\"].isna()) & \n",
    "                (-user_spec[\"purpose\"].isna()) & (-user_spec[\"yearly_income\"].isna())][\"application_id\"]\n",
    "\n",
    "true_index2=[]\n",
    "for i in tqdm_notebook(app_tmp):\n",
    "    if len(loan_result[loan_result[\"application_id\"] == i]) == 0:\n",
    "        true_index2.append(False)\n",
    "    else:\n",
    "        true_index2.append(True)\n"
   ]
  },
  {
   "cell_type": "code",
   "execution_count": null,
   "id": "896664dc",
   "metadata": {},
   "outputs": [],
   "source": [
    "np.mean(true_index2)"
   ]
  }
 ],
 "metadata": {
  "kernelspec": {
   "display_name": "Python 3",
   "language": "python",
   "name": "python3"
  },
  "language_info": {
   "codemirror_mode": {
    "name": "ipython",
    "version": 3
   },
   "file_extension": ".py",
   "mimetype": "text/x-python",
   "name": "python",
   "nbconvert_exporter": "python",
   "pygments_lexer": "ipython3",
   "version": "3.8.8"
  }
 },
 "nbformat": 4,
 "nbformat_minor": 5
}

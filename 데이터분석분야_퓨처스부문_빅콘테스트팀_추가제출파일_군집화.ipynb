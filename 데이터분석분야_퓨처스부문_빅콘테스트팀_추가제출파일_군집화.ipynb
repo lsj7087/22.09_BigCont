{
 "cells": [
  {
   "cell_type": "code",
   "execution_count": 671,
   "id": "14628bb8",
   "metadata": {},
   "outputs": [],
   "source": [
    "import os\n",
    "currentPath=os.getcwd()\n",
    "os.chdir('D:/22 빅콘/퓨처스/데이터')"
   ]
  },
  {
   "cell_type": "code",
   "execution_count": 672,
   "id": "e32bce54",
   "metadata": {},
   "outputs": [],
   "source": [
    "import pandas as pd\n",
    "import numpy as np\n",
    "import matplotlib.pyplot as plt\n",
    "\n",
    "from tqdm import tqdm_notebook\n",
    "import warnings\n",
    "warnings.filterwarnings(action='ignore') "
   ]
  },
  {
   "cell_type": "code",
   "execution_count": 673,
   "id": "8c627a26",
   "metadata": {},
   "outputs": [],
   "source": [
    "plt.rcParams['font.family'] ='Malgun Gothic'\n",
    "plt.rcParams['axes.unicode_minus'] =False"
   ]
  },
  {
   "cell_type": "code",
   "execution_count": 674,
   "id": "e1bc9ce7",
   "metadata": {},
   "outputs": [],
   "source": [
    "loan_result4 = pd.read_csv('loan_result4.csv')\n",
    "user_spec6 = pd.read_csv('user_spec6.csv')\n",
    "user_spec1_1 = pd.read_csv(\"user_spec1_1.csv\")\n",
    "user_spec1_2 = pd.read_csv('user_spec1_2.csv')"
   ]
  },
  {
   "cell_type": "code",
   "execution_count": 675,
   "id": "ff46ec11",
   "metadata": {},
   "outputs": [],
   "source": [
    "user_spec6['is_applied'] = user_spec6['is_applied'].fillna(0)\n",
    "user_spec6[\"insert_time\"] = pd.to_datetime(user_spec6[\"insert_time\"])\n",
    "us_drop6 = user_spec6[user_spec6[\"insert_time\"].dt.month < 6]\n",
    "\n",
    "cl_drop = us_drop6.drop(us_drop6.iloc[:,17:27],axis=1)"
   ]
  },
  {
   "cell_type": "code",
   "execution_count": 676,
   "id": "3509c029",
   "metadata": {},
   "outputs": [
    {
     "data": {
      "text/plain": [
       "0.0    1016564\n",
       "1.0     377506\n",
       "Name: is_applied, dtype: int64"
      ]
     },
     "execution_count": 676,
     "metadata": {},
     "output_type": "execute_result"
    }
   ],
   "source": [
    "user_spec6['is_applied'].value_counts()"
   ]
  },
  {
   "cell_type": "markdown",
   "id": "dbc732d3",
   "metadata": {},
   "source": [
    "## 신뢰성을 주제로 1차 군집화"
   ]
  },
  {
   "cell_type": "markdown",
   "id": "06af04bd",
   "metadata": {},
   "source": [
    "### 군집화용 전처리"
   ]
  },
  {
   "cell_type": "code",
   "execution_count": 677,
   "id": "471b5330",
   "metadata": {},
   "outputs": [],
   "source": [
    "user_spec1_2[\"insert_time\"] = pd.to_datetime(user_spec1_2[\"insert_time\"])\n",
    "user_spec1_3=user_spec1_2[user_spec1_2[\"insert_time\"].dt.month < 6]"
   ]
  },
  {
   "cell_type": "code",
   "execution_count": 678,
   "id": "30871770",
   "metadata": {},
   "outputs": [
    {
     "data": {
      "text/html": [
       "<div>\n",
       "<style scoped>\n",
       "    .dataframe tbody tr th:only-of-type {\n",
       "        vertical-align: middle;\n",
       "    }\n",
       "\n",
       "    .dataframe tbody tr th {\n",
       "        vertical-align: top;\n",
       "    }\n",
       "\n",
       "    .dataframe thead th {\n",
       "        text-align: right;\n",
       "    }\n",
       "</style>\n",
       "<table border=\"1\" class=\"dataframe\">\n",
       "  <thead>\n",
       "    <tr style=\"text-align: right;\">\n",
       "      <th></th>\n",
       "      <th>application_id</th>\n",
       "      <th>user_id</th>\n",
       "      <th>birth_year</th>\n",
       "      <th>gender</th>\n",
       "      <th>insert_time</th>\n",
       "      <th>credit_score</th>\n",
       "      <th>yearly_income</th>\n",
       "      <th>income_type</th>\n",
       "      <th>company_enter_month</th>\n",
       "      <th>employment_type</th>\n",
       "      <th>...</th>\n",
       "      <th>desired_amount</th>\n",
       "      <th>purpose</th>\n",
       "      <th>cat_age</th>\n",
       "      <th>cat_gender</th>\n",
       "      <th>cat_aft_enter_time</th>\n",
       "      <th>cat_bef_enter_time</th>\n",
       "      <th>rehabilitation</th>\n",
       "      <th>existing_loan_error</th>\n",
       "      <th>existing_loan_cnt_2</th>\n",
       "      <th>existing_loan_amt_2</th>\n",
       "    </tr>\n",
       "  </thead>\n",
       "  <tbody>\n",
       "    <tr>\n",
       "      <th>153</th>\n",
       "      <td>1945260</td>\n",
       "      <td>836762</td>\n",
       "      <td>1979.0</td>\n",
       "      <td>1.0</td>\n",
       "      <td>2022-04-20 01:23:09</td>\n",
       "      <td>670.0</td>\n",
       "      <td>50000000.0</td>\n",
       "      <td>EARNEDINCOME2</td>\n",
       "      <td>2021-10-01 00:00:00</td>\n",
       "      <td>기타</td>\n",
       "      <td>...</td>\n",
       "      <td>25000000.0</td>\n",
       "      <td>대환대출</td>\n",
       "      <td>중년</td>\n",
       "      <td>남성</td>\n",
       "      <td>0~25</td>\n",
       "      <td>75~100</td>\n",
       "      <td>rehabilitation_not</td>\n",
       "      <td>0</td>\n",
       "      <td>3.0</td>\n",
       "      <td>76250000.0</td>\n",
       "    </tr>\n",
       "    <tr>\n",
       "      <th>154</th>\n",
       "      <td>1384503</td>\n",
       "      <td>8623</td>\n",
       "      <td>1979.0</td>\n",
       "      <td>0.0</td>\n",
       "      <td>2022-04-20 18:51:40</td>\n",
       "      <td>590.0</td>\n",
       "      <td>50000000.0</td>\n",
       "      <td>PRIVATEBUSINESS</td>\n",
       "      <td>2012-11-01 00:00:00</td>\n",
       "      <td>정규직</td>\n",
       "      <td>...</td>\n",
       "      <td>50000000.0</td>\n",
       "      <td>사업자금</td>\n",
       "      <td>중년</td>\n",
       "      <td>여성</td>\n",
       "      <td>75~100</td>\n",
       "      <td>50~75</td>\n",
       "      <td>rehabilitation_not</td>\n",
       "      <td>0</td>\n",
       "      <td>0.0</td>\n",
       "      <td>0.0</td>\n",
       "    </tr>\n",
       "    <tr>\n",
       "      <th>155</th>\n",
       "      <td>1617530</td>\n",
       "      <td>379488</td>\n",
       "      <td>1976.0</td>\n",
       "      <td>1.0</td>\n",
       "      <td>2022-04-20 10:08:40</td>\n",
       "      <td>600.0</td>\n",
       "      <td>100000000.0</td>\n",
       "      <td>PRIVATEBUSINESS</td>\n",
       "      <td>2012-10-01 00:00:00</td>\n",
       "      <td>정규직</td>\n",
       "      <td>...</td>\n",
       "      <td>10000000.0</td>\n",
       "      <td>생활비</td>\n",
       "      <td>중년</td>\n",
       "      <td>남성</td>\n",
       "      <td>75~100</td>\n",
       "      <td>50~75</td>\n",
       "      <td>rehabilitation_NA</td>\n",
       "      <td>0</td>\n",
       "      <td>1.0</td>\n",
       "      <td>14250000.0</td>\n",
       "    </tr>\n",
       "  </tbody>\n",
       "</table>\n",
       "<p>3 rows × 21 columns</p>\n",
       "</div>"
      ],
      "text/plain": [
       "     application_id  user_id  birth_year  gender         insert_time  \\\n",
       "153         1945260   836762      1979.0     1.0 2022-04-20 01:23:09   \n",
       "154         1384503     8623      1979.0     0.0 2022-04-20 18:51:40   \n",
       "155         1617530   379488      1976.0     1.0 2022-04-20 10:08:40   \n",
       "\n",
       "     credit_score  yearly_income      income_type  company_enter_month  \\\n",
       "153         670.0     50000000.0    EARNEDINCOME2  2021-10-01 00:00:00   \n",
       "154         590.0     50000000.0  PRIVATEBUSINESS  2012-11-01 00:00:00   \n",
       "155         600.0    100000000.0  PRIVATEBUSINESS  2012-10-01 00:00:00   \n",
       "\n",
       "    employment_type  ... desired_amount  purpose cat_age cat_gender  \\\n",
       "153              기타  ...     25000000.0     대환대출      중년         남성   \n",
       "154             정규직  ...     50000000.0     사업자금      중년         여성   \n",
       "155             정규직  ...     10000000.0      생활비      중년         남성   \n",
       "\n",
       "    cat_aft_enter_time cat_bef_enter_time      rehabilitation  \\\n",
       "153               0~25             75~100  rehabilitation_not   \n",
       "154             75~100              50~75  rehabilitation_not   \n",
       "155             75~100              50~75   rehabilitation_NA   \n",
       "\n",
       "    existing_loan_error  existing_loan_cnt_2  existing_loan_amt_2  \n",
       "153                   0                  3.0           76250000.0  \n",
       "154                   0                  0.0                  0.0  \n",
       "155                   0                  1.0           14250000.0  \n",
       "\n",
       "[3 rows x 21 columns]"
      ]
     },
     "execution_count": 678,
     "metadata": {},
     "output_type": "execute_result"
    }
   ],
   "source": [
    "user_spec1_3.head(3)"
   ]
  },
  {
   "cell_type": "code",
   "execution_count": 679,
   "id": "2cd3941d",
   "metadata": {},
   "outputs": [
    {
     "name": "stdout",
     "output_type": "stream",
     "text": [
      "<class 'pandas.core.frame.DataFrame'>\n",
      "Int64Index: 1029338 entries, 153 to 1394069\n",
      "Data columns (total 21 columns):\n",
      " #   Column               Non-Null Count    Dtype         \n",
      "---  ------               --------------    -----         \n",
      " 0   application_id       1029338 non-null  int64         \n",
      " 1   user_id              1029338 non-null  int64         \n",
      " 2   birth_year           1022758 non-null  float64       \n",
      " 3   gender               1022758 non-null  float64       \n",
      " 4   insert_time          1029338 non-null  datetime64[ns]\n",
      " 5   credit_score         943730 non-null   float64       \n",
      " 6   yearly_income        1029338 non-null  float64       \n",
      " 7   income_type          1029338 non-null  object        \n",
      " 8   company_enter_month  906344 non-null   object        \n",
      " 9   employment_type      1029338 non-null  object        \n",
      " 10  houseown_type        1029338 non-null  object        \n",
      " 11  desired_amount       1029338 non-null  float64       \n",
      " 12  purpose              1029338 non-null  object        \n",
      " 13  cat_age              1029338 non-null  object        \n",
      " 14  cat_gender           1029338 non-null  object        \n",
      " 15  cat_aft_enter_time   1029338 non-null  object        \n",
      " 16  cat_bef_enter_time   1029338 non-null  object        \n",
      " 17  rehabilitation       1029338 non-null  object        \n",
      " 18  existing_loan_error  1029338 non-null  int64         \n",
      " 19  existing_loan_cnt_2  1029338 non-null  float64       \n",
      " 20  existing_loan_amt_2  1029338 non-null  float64       \n",
      "dtypes: datetime64[ns](1), float64(7), int64(3), object(10)\n",
      "memory usage: 172.8+ MB\n"
     ]
    }
   ],
   "source": [
    "user_spec1_3.info()"
   ]
  },
  {
   "cell_type": "code",
   "execution_count": 680,
   "id": "de69716d",
   "metadata": {},
   "outputs": [
    {
     "data": {
      "text/plain": [
       "application_id              0\n",
       "user_id                     0\n",
       "birth_year               6580\n",
       "gender                   6580\n",
       "insert_time                 0\n",
       "credit_score            85608\n",
       "yearly_income               0\n",
       "income_type                 0\n",
       "company_enter_month    122994\n",
       "employment_type             0\n",
       "houseown_type               0\n",
       "desired_amount              0\n",
       "purpose                     0\n",
       "cat_age                     0\n",
       "cat_gender                  0\n",
       "cat_aft_enter_time          0\n",
       "cat_bef_enter_time          0\n",
       "rehabilitation              0\n",
       "existing_loan_error         0\n",
       "existing_loan_cnt_2         0\n",
       "existing_loan_amt_2         0\n",
       "dtype: int64"
      ]
     },
     "execution_count": 680,
     "metadata": {},
     "output_type": "execute_result"
    }
   ],
   "source": [
    "user_spec1_3.isna().sum()"
   ]
  },
  {
   "cell_type": "markdown",
   "id": "4668f677",
   "metadata": {},
   "source": [
    "### 전처리 : birth_year와 company_enter_month NA인 행 제거"
   ]
  },
  {
   "cell_type": "code",
   "execution_count": 681,
   "id": "a0a76510",
   "metadata": {},
   "outputs": [],
   "source": [
    "temp_drop=user_spec1_3[['insert_time','user_id','birth_year','company_enter_month','income_type','employment_type','houseown_type','rehabilitation']].dropna(subset=['birth_year','company_enter_month'],axis=0)"
   ]
  },
  {
   "cell_type": "code",
   "execution_count": 682,
   "id": "f55df88b",
   "metadata": {},
   "outputs": [
    {
     "data": {
      "text/plain": [
       "insert_time            0\n",
       "user_id                0\n",
       "birth_year             0\n",
       "company_enter_month    0\n",
       "income_type            0\n",
       "employment_type        0\n",
       "houseown_type          0\n",
       "rehabilitation         0\n",
       "dtype: int64"
      ]
     },
     "execution_count": 682,
     "metadata": {},
     "output_type": "execute_result"
    }
   ],
   "source": [
    "#깔끔하게 제거된 것 확인\n",
    "temp_drop.isna().sum()"
   ]
  },
  {
   "cell_type": "markdown",
   "id": "485555fe",
   "metadata": {},
   "source": [
    "### 한 명의 user_id에서 입사년월이  여러 개일 경우 의심 대상\n",
    "### 출생 연도는 하나 씩 존재하여 판단 기준아님"
   ]
  },
  {
   "cell_type": "code",
   "execution_count": 683,
   "id": "380a4795",
   "metadata": {},
   "outputs": [
    {
     "data": {
      "text/html": [
       "<div>\n",
       "<style scoped>\n",
       "    .dataframe tbody tr th:only-of-type {\n",
       "        vertical-align: middle;\n",
       "    }\n",
       "\n",
       "    .dataframe tbody tr th {\n",
       "        vertical-align: top;\n",
       "    }\n",
       "\n",
       "    .dataframe thead th {\n",
       "        text-align: right;\n",
       "    }\n",
       "</style>\n",
       "<table border=\"1\" class=\"dataframe\">\n",
       "  <thead>\n",
       "    <tr style=\"text-align: right;\">\n",
       "      <th></th>\n",
       "      <th>birth_year</th>\n",
       "      <th>company_enter_month</th>\n",
       "    </tr>\n",
       "    <tr>\n",
       "      <th>user_id</th>\n",
       "      <th></th>\n",
       "      <th></th>\n",
       "    </tr>\n",
       "  </thead>\n",
       "  <tbody>\n",
       "    <tr>\n",
       "      <th>7</th>\n",
       "      <td>1</td>\n",
       "      <td>1</td>\n",
       "    </tr>\n",
       "    <tr>\n",
       "      <th>9</th>\n",
       "      <td>1</td>\n",
       "      <td>1</td>\n",
       "    </tr>\n",
       "    <tr>\n",
       "      <th>11</th>\n",
       "      <td>1</td>\n",
       "      <td>1</td>\n",
       "    </tr>\n",
       "    <tr>\n",
       "      <th>12</th>\n",
       "      <td>1</td>\n",
       "      <td>1</td>\n",
       "    </tr>\n",
       "    <tr>\n",
       "      <th>14</th>\n",
       "      <td>1</td>\n",
       "      <td>1</td>\n",
       "    </tr>\n",
       "    <tr>\n",
       "      <th>...</th>\n",
       "      <td>...</td>\n",
       "      <td>...</td>\n",
       "    </tr>\n",
       "    <tr>\n",
       "      <th>879693</th>\n",
       "      <td>1</td>\n",
       "      <td>1</td>\n",
       "    </tr>\n",
       "    <tr>\n",
       "      <th>879694</th>\n",
       "      <td>1</td>\n",
       "      <td>1</td>\n",
       "    </tr>\n",
       "    <tr>\n",
       "      <th>879695</th>\n",
       "      <td>1</td>\n",
       "      <td>1</td>\n",
       "    </tr>\n",
       "    <tr>\n",
       "      <th>879696</th>\n",
       "      <td>1</td>\n",
       "      <td>1</td>\n",
       "    </tr>\n",
       "    <tr>\n",
       "      <th>879697</th>\n",
       "      <td>1</td>\n",
       "      <td>1</td>\n",
       "    </tr>\n",
       "  </tbody>\n",
       "</table>\n",
       "<p>285930 rows × 2 columns</p>\n",
       "</div>"
      ],
      "text/plain": [
       "         birth_year  company_enter_month\n",
       "user_id                                 \n",
       "7                 1                    1\n",
       "9                 1                    1\n",
       "11                1                    1\n",
       "12                1                    1\n",
       "14                1                    1\n",
       "...             ...                  ...\n",
       "879693            1                    1\n",
       "879694            1                    1\n",
       "879695            1                    1\n",
       "879696            1                    1\n",
       "879697            1                    1\n",
       "\n",
       "[285930 rows x 2 columns]"
      ]
     },
     "execution_count": 683,
     "metadata": {},
     "output_type": "execute_result"
    }
   ],
   "source": [
    "temp_drop[['user_id','birth_year','company_enter_month']].groupby('user_id').nunique()"
   ]
  },
  {
   "cell_type": "markdown",
   "id": "bb036a3a",
   "metadata": {},
   "source": [
    "### 원하는 형태의 변수 및 데이터프레임 생성과정"
   ]
  },
  {
   "cell_type": "code",
   "execution_count": 684,
   "id": "c69807c0",
   "metadata": {},
   "outputs": [
    {
     "name": "stdout",
     "output_type": "stream",
     "text": [
      "기본 데이터 셋은 901145개의 행\n"
     ]
    },
    {
     "data": {
      "text/html": [
       "<div>\n",
       "<style scoped>\n",
       "    .dataframe tbody tr th:only-of-type {\n",
       "        vertical-align: middle;\n",
       "    }\n",
       "\n",
       "    .dataframe tbody tr th {\n",
       "        vertical-align: top;\n",
       "    }\n",
       "\n",
       "    .dataframe thead th {\n",
       "        text-align: right;\n",
       "    }\n",
       "</style>\n",
       "<table border=\"1\" class=\"dataframe\">\n",
       "  <thead>\n",
       "    <tr style=\"text-align: right;\">\n",
       "      <th></th>\n",
       "      <th>insert_time</th>\n",
       "      <th>user_id</th>\n",
       "      <th>birth_year</th>\n",
       "      <th>company_enter_month</th>\n",
       "      <th>income_type</th>\n",
       "      <th>employment_type</th>\n",
       "      <th>houseown_type</th>\n",
       "      <th>rehabilitation</th>\n",
       "    </tr>\n",
       "  </thead>\n",
       "  <tbody>\n",
       "    <tr>\n",
       "      <th>153</th>\n",
       "      <td>2022-04-20 01:23:09</td>\n",
       "      <td>836762</td>\n",
       "      <td>1979.0</td>\n",
       "      <td>2021-10-01 00:00:00</td>\n",
       "      <td>EARNEDINCOME2</td>\n",
       "      <td>기타</td>\n",
       "      <td>전월세</td>\n",
       "      <td>rehabilitation_not</td>\n",
       "    </tr>\n",
       "    <tr>\n",
       "      <th>154</th>\n",
       "      <td>2022-04-20 18:51:40</td>\n",
       "      <td>8623</td>\n",
       "      <td>1979.0</td>\n",
       "      <td>2012-11-01 00:00:00</td>\n",
       "      <td>PRIVATEBUSINESS</td>\n",
       "      <td>정규직</td>\n",
       "      <td>자가</td>\n",
       "      <td>rehabilitation_not</td>\n",
       "    </tr>\n",
       "    <tr>\n",
       "      <th>155</th>\n",
       "      <td>2022-04-20 10:08:40</td>\n",
       "      <td>379488</td>\n",
       "      <td>1976.0</td>\n",
       "      <td>2012-10-01 00:00:00</td>\n",
       "      <td>PRIVATEBUSINESS</td>\n",
       "      <td>정규직</td>\n",
       "      <td>기타가족소유</td>\n",
       "      <td>rehabilitation_NA</td>\n",
       "    </tr>\n",
       "    <tr>\n",
       "      <th>156</th>\n",
       "      <td>2022-04-20 00:38:18</td>\n",
       "      <td>186886</td>\n",
       "      <td>1979.0</td>\n",
       "      <td>2018-03-01 00:00:00</td>\n",
       "      <td>EARNEDINCOME</td>\n",
       "      <td>정규직</td>\n",
       "      <td>전월세</td>\n",
       "      <td>rehabilitation_not</td>\n",
       "    </tr>\n",
       "    <tr>\n",
       "      <th>157</th>\n",
       "      <td>2022-04-20 15:01:01</td>\n",
       "      <td>594274</td>\n",
       "      <td>1993.0</td>\n",
       "      <td>2019-01-01 00:00:00</td>\n",
       "      <td>EARNEDINCOME</td>\n",
       "      <td>정규직</td>\n",
       "      <td>전월세</td>\n",
       "      <td>rehabilitation_not</td>\n",
       "    </tr>\n",
       "  </tbody>\n",
       "</table>\n",
       "</div>"
      ],
      "text/plain": [
       "            insert_time  user_id  birth_year  company_enter_month  \\\n",
       "153 2022-04-20 01:23:09   836762      1979.0  2021-10-01 00:00:00   \n",
       "154 2022-04-20 18:51:40     8623      1979.0  2012-11-01 00:00:00   \n",
       "155 2022-04-20 10:08:40   379488      1976.0  2012-10-01 00:00:00   \n",
       "156 2022-04-20 00:38:18   186886      1979.0  2018-03-01 00:00:00   \n",
       "157 2022-04-20 15:01:01   594274      1993.0  2019-01-01 00:00:00   \n",
       "\n",
       "         income_type employment_type houseown_type      rehabilitation  \n",
       "153    EARNEDINCOME2              기타           전월세  rehabilitation_not  \n",
       "154  PRIVATEBUSINESS             정규직            자가  rehabilitation_not  \n",
       "155  PRIVATEBUSINESS             정규직        기타가족소유   rehabilitation_NA  \n",
       "156     EARNEDINCOME             정규직           전월세  rehabilitation_not  \n",
       "157     EARNEDINCOME             정규직           전월세  rehabilitation_not  "
      ]
     },
     "execution_count": 684,
     "metadata": {},
     "output_type": "execute_result"
    }
   ],
   "source": [
    "print(\"기본 데이터 셋은 %d개의 행\" %len(temp_drop))\n",
    "temp_drop.head()"
   ]
  },
  {
   "cell_type": "code",
   "execution_count": 685,
   "id": "b44a20c8",
   "metadata": {},
   "outputs": [],
   "source": [
    "# user_id 별로 group_by\n",
    "temp_drop2=temp_drop.groupby(['user_id']).nunique()\n",
    "temp_drop2.drop('insert_time',axis=1,inplace=True)"
   ]
  },
  {
   "cell_type": "code",
   "execution_count": 686,
   "id": "62c9c5f0",
   "metadata": {},
   "outputs": [
    {
     "data": {
      "text/html": [
       "<div>\n",
       "<style scoped>\n",
       "    .dataframe tbody tr th:only-of-type {\n",
       "        vertical-align: middle;\n",
       "    }\n",
       "\n",
       "    .dataframe tbody tr th {\n",
       "        vertical-align: top;\n",
       "    }\n",
       "\n",
       "    .dataframe thead th {\n",
       "        text-align: right;\n",
       "    }\n",
       "</style>\n",
       "<table border=\"1\" class=\"dataframe\">\n",
       "  <thead>\n",
       "    <tr style=\"text-align: right;\">\n",
       "      <th></th>\n",
       "      <th>birth_year</th>\n",
       "      <th>company_enter_month</th>\n",
       "      <th>income_type</th>\n",
       "      <th>employment_type</th>\n",
       "      <th>houseown_type</th>\n",
       "      <th>rehabilitation</th>\n",
       "    </tr>\n",
       "    <tr>\n",
       "      <th>user_id</th>\n",
       "      <th></th>\n",
       "      <th></th>\n",
       "      <th></th>\n",
       "      <th></th>\n",
       "      <th></th>\n",
       "      <th></th>\n",
       "    </tr>\n",
       "  </thead>\n",
       "  <tbody>\n",
       "    <tr>\n",
       "      <th>7</th>\n",
       "      <td>1</td>\n",
       "      <td>1</td>\n",
       "      <td>1</td>\n",
       "      <td>1</td>\n",
       "      <td>1</td>\n",
       "      <td>1</td>\n",
       "    </tr>\n",
       "    <tr>\n",
       "      <th>9</th>\n",
       "      <td>1</td>\n",
       "      <td>1</td>\n",
       "      <td>1</td>\n",
       "      <td>1</td>\n",
       "      <td>1</td>\n",
       "      <td>1</td>\n",
       "    </tr>\n",
       "    <tr>\n",
       "      <th>11</th>\n",
       "      <td>1</td>\n",
       "      <td>1</td>\n",
       "      <td>1</td>\n",
       "      <td>1</td>\n",
       "      <td>1</td>\n",
       "      <td>1</td>\n",
       "    </tr>\n",
       "    <tr>\n",
       "      <th>12</th>\n",
       "      <td>1</td>\n",
       "      <td>1</td>\n",
       "      <td>1</td>\n",
       "      <td>1</td>\n",
       "      <td>1</td>\n",
       "      <td>2</td>\n",
       "    </tr>\n",
       "    <tr>\n",
       "      <th>14</th>\n",
       "      <td>1</td>\n",
       "      <td>1</td>\n",
       "      <td>1</td>\n",
       "      <td>1</td>\n",
       "      <td>1</td>\n",
       "      <td>1</td>\n",
       "    </tr>\n",
       "  </tbody>\n",
       "</table>\n",
       "</div>"
      ],
      "text/plain": [
       "         birth_year  company_enter_month  income_type  employment_type  \\\n",
       "user_id                                                                  \n",
       "7                 1                    1            1                1   \n",
       "9                 1                    1            1                1   \n",
       "11                1                    1            1                1   \n",
       "12                1                    1            1                1   \n",
       "14                1                    1            1                1   \n",
       "\n",
       "         houseown_type  rehabilitation  \n",
       "user_id                                 \n",
       "7                    1               1  \n",
       "9                    1               1  \n",
       "11                   1               1  \n",
       "12                   1               2  \n",
       "14                   1               1  "
      ]
     },
     "execution_count": 686,
     "metadata": {},
     "output_type": "execute_result"
    }
   ],
   "source": [
    "temp_drop2.head()"
   ]
  },
  {
   "cell_type": "code",
   "execution_count": 687,
   "id": "65af8968",
   "metadata": {},
   "outputs": [],
   "source": [
    "# birth_year 버리고 변수명 수정\n",
    "temp_drop3=temp_drop2.drop('birth_year',axis=1)\n",
    "temp_drop3.columns='n_'+temp_drop3.columns"
   ]
  },
  {
   "cell_type": "code",
   "execution_count": 688,
   "id": "597ff129",
   "metadata": {},
   "outputs": [
    {
     "data": {
      "text/html": [
       "<div>\n",
       "<style scoped>\n",
       "    .dataframe tbody tr th:only-of-type {\n",
       "        vertical-align: middle;\n",
       "    }\n",
       "\n",
       "    .dataframe tbody tr th {\n",
       "        vertical-align: top;\n",
       "    }\n",
       "\n",
       "    .dataframe thead th {\n",
       "        text-align: right;\n",
       "    }\n",
       "</style>\n",
       "<table border=\"1\" class=\"dataframe\">\n",
       "  <thead>\n",
       "    <tr style=\"text-align: right;\">\n",
       "      <th></th>\n",
       "      <th>n_company_enter_month</th>\n",
       "      <th>n_income_type</th>\n",
       "      <th>n_employment_type</th>\n",
       "      <th>n_houseown_type</th>\n",
       "      <th>n_rehabilitation</th>\n",
       "    </tr>\n",
       "    <tr>\n",
       "      <th>user_id</th>\n",
       "      <th></th>\n",
       "      <th></th>\n",
       "      <th></th>\n",
       "      <th></th>\n",
       "      <th></th>\n",
       "    </tr>\n",
       "  </thead>\n",
       "  <tbody>\n",
       "    <tr>\n",
       "      <th>7</th>\n",
       "      <td>1</td>\n",
       "      <td>1</td>\n",
       "      <td>1</td>\n",
       "      <td>1</td>\n",
       "      <td>1</td>\n",
       "    </tr>\n",
       "    <tr>\n",
       "      <th>9</th>\n",
       "      <td>1</td>\n",
       "      <td>1</td>\n",
       "      <td>1</td>\n",
       "      <td>1</td>\n",
       "      <td>1</td>\n",
       "    </tr>\n",
       "    <tr>\n",
       "      <th>11</th>\n",
       "      <td>1</td>\n",
       "      <td>1</td>\n",
       "      <td>1</td>\n",
       "      <td>1</td>\n",
       "      <td>1</td>\n",
       "    </tr>\n",
       "  </tbody>\n",
       "</table>\n",
       "</div>"
      ],
      "text/plain": [
       "         n_company_enter_month  n_income_type  n_employment_type  \\\n",
       "user_id                                                            \n",
       "7                            1              1                  1   \n",
       "9                            1              1                  1   \n",
       "11                           1              1                  1   \n",
       "\n",
       "         n_houseown_type  n_rehabilitation  \n",
       "user_id                                     \n",
       "7                      1                 1  \n",
       "9                      1                 1  \n",
       "11                     1                 1  "
      ]
     },
     "execution_count": 688,
     "metadata": {},
     "output_type": "execute_result"
    }
   ],
   "source": [
    "temp_drop3.head(3)"
   ]
  },
  {
   "cell_type": "markdown",
   "id": "9b138bd1",
   "metadata": {},
   "source": [
    "### 최신 날짜 기준의 경력 변수 생성과정 "
   ]
  },
  {
   "cell_type": "code",
   "execution_count": 689,
   "id": "e6899dc2",
   "metadata": {},
   "outputs": [],
   "source": [
    "from datetime import datetime\n",
    "recent_ymd=datetime(2022,6,1) #확장 필요 있음 굳이 6월 국한 노노"
   ]
  },
  {
   "cell_type": "code",
   "execution_count": 690,
   "id": "9be1aa61",
   "metadata": {},
   "outputs": [
    {
     "data": {
      "text/html": [
       "<div>\n",
       "<style scoped>\n",
       "    .dataframe tbody tr th:only-of-type {\n",
       "        vertical-align: middle;\n",
       "    }\n",
       "\n",
       "    .dataframe tbody tr th {\n",
       "        vertical-align: top;\n",
       "    }\n",
       "\n",
       "    .dataframe thead th {\n",
       "        text-align: right;\n",
       "    }\n",
       "</style>\n",
       "<table border=\"1\" class=\"dataframe\">\n",
       "  <thead>\n",
       "    <tr style=\"text-align: right;\">\n",
       "      <th></th>\n",
       "      <th>work_experience_for_days</th>\n",
       "    </tr>\n",
       "    <tr>\n",
       "      <th>user_id</th>\n",
       "      <th></th>\n",
       "    </tr>\n",
       "  </thead>\n",
       "  <tbody>\n",
       "    <tr>\n",
       "      <th>7</th>\n",
       "      <td>NaN</td>\n",
       "    </tr>\n",
       "    <tr>\n",
       "      <th>9</th>\n",
       "      <td>NaN</td>\n",
       "    </tr>\n",
       "    <tr>\n",
       "      <th>11</th>\n",
       "      <td>0.0</td>\n",
       "    </tr>\n",
       "  </tbody>\n",
       "</table>\n",
       "</div>"
      ],
      "text/plain": [
       "         work_experience_for_days\n",
       "user_id                          \n",
       "7                             NaN\n",
       "9                             NaN\n",
       "11                            0.0"
      ]
     },
     "execution_count": 690,
     "metadata": {},
     "output_type": "execute_result"
    }
   ],
   "source": [
    "temp_drop['company_enter_month']=pd.to_datetime(temp_drop['company_enter_month'])\n",
    "temp_drop['work_experience_for_days']=(recent_ymd - temp_drop['company_enter_month']).dt.days\n",
    "temp_drop4=temp_drop[['user_id','work_experience_for_days']].groupby('user_id').agg('var')\n",
    "temp_drop4.head(3)"
   ]
  },
  {
   "cell_type": "code",
   "execution_count": 691,
   "id": "27dc23e9",
   "metadata": {
    "scrolled": true
   },
   "outputs": [],
   "source": [
    "temp_drop['work_experience_for_days']=(recent_ymd - temp_drop['company_enter_month']).dt.days"
   ]
  },
  {
   "cell_type": "code",
   "execution_count": 692,
   "id": "ed9fac55",
   "metadata": {},
   "outputs": [
    {
     "data": {
      "text/html": [
       "<div>\n",
       "<style scoped>\n",
       "    .dataframe tbody tr th:only-of-type {\n",
       "        vertical-align: middle;\n",
       "    }\n",
       "\n",
       "    .dataframe tbody tr th {\n",
       "        vertical-align: top;\n",
       "    }\n",
       "\n",
       "    .dataframe thead th {\n",
       "        text-align: right;\n",
       "    }\n",
       "</style>\n",
       "<table border=\"1\" class=\"dataframe\">\n",
       "  <thead>\n",
       "    <tr style=\"text-align: right;\">\n",
       "      <th></th>\n",
       "      <th>work_experience_for_days</th>\n",
       "    </tr>\n",
       "    <tr>\n",
       "      <th>user_id</th>\n",
       "      <th></th>\n",
       "    </tr>\n",
       "  </thead>\n",
       "  <tbody>\n",
       "    <tr>\n",
       "      <th>7</th>\n",
       "      <td>NaN</td>\n",
       "    </tr>\n",
       "    <tr>\n",
       "      <th>9</th>\n",
       "      <td>NaN</td>\n",
       "    </tr>\n",
       "    <tr>\n",
       "      <th>11</th>\n",
       "      <td>0.0</td>\n",
       "    </tr>\n",
       "  </tbody>\n",
       "</table>\n",
       "</div>"
      ],
      "text/plain": [
       "         work_experience_for_days\n",
       "user_id                          \n",
       "7                             NaN\n",
       "9                             NaN\n",
       "11                            0.0"
      ]
     },
     "execution_count": 692,
     "metadata": {},
     "output_type": "execute_result"
    }
   ],
   "source": [
    "temp_drop4=temp_drop[['user_id','work_experience_for_days']].groupby('user_id').agg('var')\n",
    "temp_drop4.head(3)"
   ]
  },
  {
   "cell_type": "code",
   "execution_count": 693,
   "id": "17c3f153",
   "metadata": {},
   "outputs": [
    {
     "name": "stdout",
     "output_type": "stream",
     "text": [
      "work_experience_for_days    135644\n",
      "dtype: int64\n"
     ]
    }
   ],
   "source": [
    "print(temp_drop4.isna().sum())\n",
    "temp_drop4.fillna(0,inplace=True)"
   ]
  },
  {
   "cell_type": "code",
   "execution_count": 694,
   "id": "7f101def",
   "metadata": {},
   "outputs": [
    {
     "data": {
      "text/html": [
       "<div>\n",
       "<style scoped>\n",
       "    .dataframe tbody tr th:only-of-type {\n",
       "        vertical-align: middle;\n",
       "    }\n",
       "\n",
       "    .dataframe tbody tr th {\n",
       "        vertical-align: top;\n",
       "    }\n",
       "\n",
       "    .dataframe thead th {\n",
       "        text-align: right;\n",
       "    }\n",
       "</style>\n",
       "<table border=\"1\" class=\"dataframe\">\n",
       "  <thead>\n",
       "    <tr style=\"text-align: right;\">\n",
       "      <th></th>\n",
       "      <th>user_id</th>\n",
       "      <th>var_work_experience_for_days</th>\n",
       "    </tr>\n",
       "  </thead>\n",
       "  <tbody>\n",
       "    <tr>\n",
       "      <th>0</th>\n",
       "      <td>7</td>\n",
       "      <td>0.0</td>\n",
       "    </tr>\n",
       "    <tr>\n",
       "      <th>1</th>\n",
       "      <td>9</td>\n",
       "      <td>0.0</td>\n",
       "    </tr>\n",
       "    <tr>\n",
       "      <th>2</th>\n",
       "      <td>11</td>\n",
       "      <td>0.0</td>\n",
       "    </tr>\n",
       "  </tbody>\n",
       "</table>\n",
       "</div>"
      ],
      "text/plain": [
       "   user_id  var_work_experience_for_days\n",
       "0        7                           0.0\n",
       "1        9                           0.0\n",
       "2       11                           0.0"
      ]
     },
     "execution_count": 694,
     "metadata": {},
     "output_type": "execute_result"
    }
   ],
   "source": [
    "temp_drop4.rename(columns={'work_experience_for_days':'var_work_experience_for_days'},inplace=True)\n",
    "temp_drop4.reset_index(inplace=True)\n",
    "temp_drop4.head(3)"
   ]
  },
  {
   "cell_type": "code",
   "execution_count": 695,
   "id": "e38165ae",
   "metadata": {},
   "outputs": [
    {
     "data": {
      "text/html": [
       "<div>\n",
       "<style scoped>\n",
       "    .dataframe tbody tr th:only-of-type {\n",
       "        vertical-align: middle;\n",
       "    }\n",
       "\n",
       "    .dataframe tbody tr th {\n",
       "        vertical-align: top;\n",
       "    }\n",
       "\n",
       "    .dataframe thead th {\n",
       "        text-align: right;\n",
       "    }\n",
       "</style>\n",
       "<table border=\"1\" class=\"dataframe\">\n",
       "  <thead>\n",
       "    <tr style=\"text-align: right;\">\n",
       "      <th></th>\n",
       "      <th>user_id</th>\n",
       "      <th>n_company_enter_month</th>\n",
       "      <th>n_income_type</th>\n",
       "      <th>n_employment_type</th>\n",
       "      <th>n_houseown_type</th>\n",
       "      <th>n_rehabilitation</th>\n",
       "    </tr>\n",
       "  </thead>\n",
       "  <tbody>\n",
       "    <tr>\n",
       "      <th>0</th>\n",
       "      <td>7</td>\n",
       "      <td>1</td>\n",
       "      <td>1</td>\n",
       "      <td>1</td>\n",
       "      <td>1</td>\n",
       "      <td>1</td>\n",
       "    </tr>\n",
       "    <tr>\n",
       "      <th>1</th>\n",
       "      <td>9</td>\n",
       "      <td>1</td>\n",
       "      <td>1</td>\n",
       "      <td>1</td>\n",
       "      <td>1</td>\n",
       "      <td>1</td>\n",
       "    </tr>\n",
       "    <tr>\n",
       "      <th>2</th>\n",
       "      <td>11</td>\n",
       "      <td>1</td>\n",
       "      <td>1</td>\n",
       "      <td>1</td>\n",
       "      <td>1</td>\n",
       "      <td>1</td>\n",
       "    </tr>\n",
       "  </tbody>\n",
       "</table>\n",
       "</div>"
      ],
      "text/plain": [
       "   user_id  n_company_enter_month  n_income_type  n_employment_type  \\\n",
       "0        7                      1              1                  1   \n",
       "1        9                      1              1                  1   \n",
       "2       11                      1              1                  1   \n",
       "\n",
       "   n_houseown_type  n_rehabilitation  \n",
       "0                1                 1  \n",
       "1                1                 1  \n",
       "2                1                 1  "
      ]
     },
     "execution_count": 695,
     "metadata": {},
     "output_type": "execute_result"
    }
   ],
   "source": [
    "temp_drop5=temp_drop3.reset_index()\n",
    "temp_drop5.head(3)"
   ]
  },
  {
   "cell_type": "code",
   "execution_count": 696,
   "id": "f658d7fd",
   "metadata": {},
   "outputs": [
    {
     "data": {
      "text/html": [
       "<div>\n",
       "<style scoped>\n",
       "    .dataframe tbody tr th:only-of-type {\n",
       "        vertical-align: middle;\n",
       "    }\n",
       "\n",
       "    .dataframe tbody tr th {\n",
       "        vertical-align: top;\n",
       "    }\n",
       "\n",
       "    .dataframe thead th {\n",
       "        text-align: right;\n",
       "    }\n",
       "</style>\n",
       "<table border=\"1\" class=\"dataframe\">\n",
       "  <thead>\n",
       "    <tr style=\"text-align: right;\">\n",
       "      <th></th>\n",
       "      <th>n_company_enter_month</th>\n",
       "      <th>n_income_type</th>\n",
       "      <th>n_employment_type</th>\n",
       "      <th>n_houseown_type</th>\n",
       "      <th>var_work_experience_for_days</th>\n",
       "    </tr>\n",
       "    <tr>\n",
       "      <th>user_id</th>\n",
       "      <th></th>\n",
       "      <th></th>\n",
       "      <th></th>\n",
       "      <th></th>\n",
       "      <th></th>\n",
       "    </tr>\n",
       "  </thead>\n",
       "  <tbody>\n",
       "    <tr>\n",
       "      <th>7</th>\n",
       "      <td>1</td>\n",
       "      <td>1</td>\n",
       "      <td>1</td>\n",
       "      <td>1</td>\n",
       "      <td>0.0</td>\n",
       "    </tr>\n",
       "    <tr>\n",
       "      <th>9</th>\n",
       "      <td>1</td>\n",
       "      <td>1</td>\n",
       "      <td>1</td>\n",
       "      <td>1</td>\n",
       "      <td>0.0</td>\n",
       "    </tr>\n",
       "    <tr>\n",
       "      <th>11</th>\n",
       "      <td>1</td>\n",
       "      <td>1</td>\n",
       "      <td>1</td>\n",
       "      <td>1</td>\n",
       "      <td>0.0</td>\n",
       "    </tr>\n",
       "    <tr>\n",
       "      <th>12</th>\n",
       "      <td>1</td>\n",
       "      <td>1</td>\n",
       "      <td>1</td>\n",
       "      <td>1</td>\n",
       "      <td>0.0</td>\n",
       "    </tr>\n",
       "    <tr>\n",
       "      <th>14</th>\n",
       "      <td>1</td>\n",
       "      <td>1</td>\n",
       "      <td>1</td>\n",
       "      <td>1</td>\n",
       "      <td>0.0</td>\n",
       "    </tr>\n",
       "  </tbody>\n",
       "</table>\n",
       "</div>"
      ],
      "text/plain": [
       "         n_company_enter_month  n_income_type  n_employment_type  \\\n",
       "user_id                                                            \n",
       "7                            1              1                  1   \n",
       "9                            1              1                  1   \n",
       "11                           1              1                  1   \n",
       "12                           1              1                  1   \n",
       "14                           1              1                  1   \n",
       "\n",
       "         n_houseown_type  var_work_experience_for_days  \n",
       "user_id                                                 \n",
       "7                      1                           0.0  \n",
       "9                      1                           0.0  \n",
       "11                     1                           0.0  \n",
       "12                     1                           0.0  \n",
       "14                     1                           0.0  "
      ]
     },
     "execution_count": 696,
     "metadata": {},
     "output_type": "execute_result"
    }
   ],
   "source": [
    "\n",
    "temp_drop6=pd.merge(temp_drop5[['user_id','n_company_enter_month','n_income_type',\n",
    "                                'n_employment_type','n_houseown_type']],\n",
    "                    temp_drop4,         how='left',on='user_id')\n",
    "temp_drop6.set_index('user_id',inplace=True)\n",
    "temp_drop6.head(5)"
   ]
  },
  {
   "cell_type": "markdown",
   "id": "3f5ff943",
   "metadata": {},
   "source": [
    "### MinMax scaling -> use_kmeans4\n",
    "### 최종 변수 7차원"
   ]
  },
  {
   "cell_type": "code",
   "execution_count": 697,
   "id": "15e5c6bf",
   "metadata": {},
   "outputs": [],
   "source": [
    "# scaling model fitting\n",
    "from sklearn.preprocessing import MinMaxScaler\n",
    "\n",
    "scaler=MinMaxScaler()\n",
    "scaler.fit(temp_drop6)\n",
    "Normarlized_Values=scaler.transform(temp_drop6)\n",
    "use_kmeans = pd.DataFrame(Normarlized_Values, columns = temp_drop6.columns, index = temp_drop6.index)"
   ]
  },
  {
   "cell_type": "code",
   "execution_count": 698,
   "id": "cd038d0f",
   "metadata": {},
   "outputs": [
    {
     "data": {
      "text/html": [
       "<div>\n",
       "<style scoped>\n",
       "    .dataframe tbody tr th:only-of-type {\n",
       "        vertical-align: middle;\n",
       "    }\n",
       "\n",
       "    .dataframe tbody tr th {\n",
       "        vertical-align: top;\n",
       "    }\n",
       "\n",
       "    .dataframe thead th {\n",
       "        text-align: right;\n",
       "    }\n",
       "</style>\n",
       "<table border=\"1\" class=\"dataframe\">\n",
       "  <thead>\n",
       "    <tr style=\"text-align: right;\">\n",
       "      <th></th>\n",
       "      <th>n_company_enter_month</th>\n",
       "      <th>n_income_type</th>\n",
       "      <th>n_employment_type</th>\n",
       "      <th>n_houseown_type</th>\n",
       "      <th>var_work_experience_for_days</th>\n",
       "    </tr>\n",
       "  </thead>\n",
       "  <tbody>\n",
       "    <tr>\n",
       "      <th>count</th>\n",
       "      <td>285930.000000</td>\n",
       "      <td>285930.000000</td>\n",
       "      <td>285930.000000</td>\n",
       "      <td>285930.000000</td>\n",
       "      <td>285930.000000</td>\n",
       "    </tr>\n",
       "    <tr>\n",
       "      <th>mean</th>\n",
       "      <td>0.004173</td>\n",
       "      <td>0.014151</td>\n",
       "      <td>0.015441</td>\n",
       "      <td>0.015407</td>\n",
       "      <td>0.000110</td>\n",
       "    </tr>\n",
       "    <tr>\n",
       "      <th>std</th>\n",
       "      <td>0.017862</td>\n",
       "      <td>0.063894</td>\n",
       "      <td>0.074975</td>\n",
       "      <td>0.072438</td>\n",
       "      <td>0.003497</td>\n",
       "    </tr>\n",
       "    <tr>\n",
       "      <th>min</th>\n",
       "      <td>0.000000</td>\n",
       "      <td>0.000000</td>\n",
       "      <td>0.000000</td>\n",
       "      <td>0.000000</td>\n",
       "      <td>0.000000</td>\n",
       "    </tr>\n",
       "    <tr>\n",
       "      <th>25%</th>\n",
       "      <td>0.000000</td>\n",
       "      <td>0.000000</td>\n",
       "      <td>0.000000</td>\n",
       "      <td>0.000000</td>\n",
       "      <td>0.000000</td>\n",
       "    </tr>\n",
       "    <tr>\n",
       "      <th>50%</th>\n",
       "      <td>0.000000</td>\n",
       "      <td>0.000000</td>\n",
       "      <td>0.000000</td>\n",
       "      <td>0.000000</td>\n",
       "      <td>0.000000</td>\n",
       "    </tr>\n",
       "    <tr>\n",
       "      <th>75%</th>\n",
       "      <td>0.000000</td>\n",
       "      <td>0.000000</td>\n",
       "      <td>0.000000</td>\n",
       "      <td>0.000000</td>\n",
       "      <td>0.000000</td>\n",
       "    </tr>\n",
       "    <tr>\n",
       "      <th>max</th>\n",
       "      <td>1.000000</td>\n",
       "      <td>1.000000</td>\n",
       "      <td>1.000000</td>\n",
       "      <td>1.000000</td>\n",
       "      <td>1.000000</td>\n",
       "    </tr>\n",
       "  </tbody>\n",
       "</table>\n",
       "</div>"
      ],
      "text/plain": [
       "       n_company_enter_month  n_income_type  n_employment_type  \\\n",
       "count          285930.000000  285930.000000      285930.000000   \n",
       "mean                0.004173       0.014151           0.015441   \n",
       "std                 0.017862       0.063894           0.074975   \n",
       "min                 0.000000       0.000000           0.000000   \n",
       "25%                 0.000000       0.000000           0.000000   \n",
       "50%                 0.000000       0.000000           0.000000   \n",
       "75%                 0.000000       0.000000           0.000000   \n",
       "max                 1.000000       1.000000           1.000000   \n",
       "\n",
       "       n_houseown_type  var_work_experience_for_days  \n",
       "count    285930.000000                 285930.000000  \n",
       "mean          0.015407                      0.000110  \n",
       "std           0.072438                      0.003497  \n",
       "min           0.000000                      0.000000  \n",
       "25%           0.000000                      0.000000  \n",
       "50%           0.000000                      0.000000  \n",
       "75%           0.000000                      0.000000  \n",
       "max           1.000000                      1.000000  "
      ]
     },
     "execution_count": 698,
     "metadata": {},
     "output_type": "execute_result"
    }
   ],
   "source": [
    "# scaling 잘되었는지 확인\n",
    "use_kmeans.describe()"
   ]
  },
  {
   "cell_type": "code",
   "execution_count": 699,
   "id": "89f6e87d",
   "metadata": {},
   "outputs": [
    {
     "data": {
      "text/html": [
       "<div>\n",
       "<style scoped>\n",
       "    .dataframe tbody tr th:only-of-type {\n",
       "        vertical-align: middle;\n",
       "    }\n",
       "\n",
       "    .dataframe tbody tr th {\n",
       "        vertical-align: top;\n",
       "    }\n",
       "\n",
       "    .dataframe thead th {\n",
       "        text-align: right;\n",
       "    }\n",
       "</style>\n",
       "<table border=\"1\" class=\"dataframe\">\n",
       "  <thead>\n",
       "    <tr style=\"text-align: right;\">\n",
       "      <th></th>\n",
       "      <th>n_company_enter_month</th>\n",
       "      <th>n_income_type</th>\n",
       "      <th>n_employment_type</th>\n",
       "      <th>n_houseown_type</th>\n",
       "      <th>var_work_experience_for_days</th>\n",
       "    </tr>\n",
       "    <tr>\n",
       "      <th>user_id</th>\n",
       "      <th></th>\n",
       "      <th></th>\n",
       "      <th></th>\n",
       "      <th></th>\n",
       "      <th></th>\n",
       "    </tr>\n",
       "  </thead>\n",
       "  <tbody>\n",
       "    <tr>\n",
       "      <th>7</th>\n",
       "      <td>0.0</td>\n",
       "      <td>0.0</td>\n",
       "      <td>0.0</td>\n",
       "      <td>0.0</td>\n",
       "      <td>0.0</td>\n",
       "    </tr>\n",
       "    <tr>\n",
       "      <th>9</th>\n",
       "      <td>0.0</td>\n",
       "      <td>0.0</td>\n",
       "      <td>0.0</td>\n",
       "      <td>0.0</td>\n",
       "      <td>0.0</td>\n",
       "    </tr>\n",
       "    <tr>\n",
       "      <th>11</th>\n",
       "      <td>0.0</td>\n",
       "      <td>0.0</td>\n",
       "      <td>0.0</td>\n",
       "      <td>0.0</td>\n",
       "      <td>0.0</td>\n",
       "    </tr>\n",
       "  </tbody>\n",
       "</table>\n",
       "</div>"
      ],
      "text/plain": [
       "         n_company_enter_month  n_income_type  n_employment_type  \\\n",
       "user_id                                                            \n",
       "7                          0.0            0.0                0.0   \n",
       "9                          0.0            0.0                0.0   \n",
       "11                         0.0            0.0                0.0   \n",
       "\n",
       "         n_houseown_type  var_work_experience_for_days  \n",
       "user_id                                                 \n",
       "7                    0.0                           0.0  \n",
       "9                    0.0                           0.0  \n",
       "11                   0.0                           0.0  "
      ]
     },
     "execution_count": 699,
     "metadata": {},
     "output_type": "execute_result"
    }
   ],
   "source": [
    "use_kmeans.head(3)"
   ]
  },
  {
   "cell_type": "markdown",
   "id": "d2e3d6e2",
   "metadata": {},
   "source": [
    "### nunique정보 변수간의 상관관계 확인 : \n",
    "### n_employment_type와 n_income_type만 어느 정도 상관성을 보이나, 둘 다 필요하다고 판단."
   ]
  },
  {
   "cell_type": "code",
   "execution_count": 700,
   "id": "de4fb8cc",
   "metadata": {
    "scrolled": true
   },
   "outputs": [
    {
     "data": {
      "text/html": [
       "<div>\n",
       "<style scoped>\n",
       "    .dataframe tbody tr th:only-of-type {\n",
       "        vertical-align: middle;\n",
       "    }\n",
       "\n",
       "    .dataframe tbody tr th {\n",
       "        vertical-align: top;\n",
       "    }\n",
       "\n",
       "    .dataframe thead th {\n",
       "        text-align: right;\n",
       "    }\n",
       "</style>\n",
       "<table border=\"1\" class=\"dataframe\">\n",
       "  <thead>\n",
       "    <tr style=\"text-align: right;\">\n",
       "      <th></th>\n",
       "      <th>n_company_enter_month</th>\n",
       "      <th>n_income_type</th>\n",
       "      <th>n_employment_type</th>\n",
       "      <th>n_houseown_type</th>\n",
       "      <th>var_work_experience_for_days</th>\n",
       "    </tr>\n",
       "  </thead>\n",
       "  <tbody>\n",
       "    <tr>\n",
       "      <th>n_company_enter_month</th>\n",
       "      <td>1.000000</td>\n",
       "      <td>0.396944</td>\n",
       "      <td>0.364821</td>\n",
       "      <td>0.161041</td>\n",
       "      <td>0.108094</td>\n",
       "    </tr>\n",
       "    <tr>\n",
       "      <th>n_income_type</th>\n",
       "      <td>0.396944</td>\n",
       "      <td>1.000000</td>\n",
       "      <td>0.577379</td>\n",
       "      <td>0.108743</td>\n",
       "      <td>0.042121</td>\n",
       "    </tr>\n",
       "    <tr>\n",
       "      <th>n_employment_type</th>\n",
       "      <td>0.364821</td>\n",
       "      <td>0.577379</td>\n",
       "      <td>1.000000</td>\n",
       "      <td>0.114110</td>\n",
       "      <td>0.036404</td>\n",
       "    </tr>\n",
       "    <tr>\n",
       "      <th>n_houseown_type</th>\n",
       "      <td>0.161041</td>\n",
       "      <td>0.108743</td>\n",
       "      <td>0.114110</td>\n",
       "      <td>1.000000</td>\n",
       "      <td>0.024473</td>\n",
       "    </tr>\n",
       "    <tr>\n",
       "      <th>var_work_experience_for_days</th>\n",
       "      <td>0.108094</td>\n",
       "      <td>0.042121</td>\n",
       "      <td>0.036404</td>\n",
       "      <td>0.024473</td>\n",
       "      <td>1.000000</td>\n",
       "    </tr>\n",
       "  </tbody>\n",
       "</table>\n",
       "</div>"
      ],
      "text/plain": [
       "                              n_company_enter_month  n_income_type  \\\n",
       "n_company_enter_month                      1.000000       0.396944   \n",
       "n_income_type                              0.396944       1.000000   \n",
       "n_employment_type                          0.364821       0.577379   \n",
       "n_houseown_type                            0.161041       0.108743   \n",
       "var_work_experience_for_days               0.108094       0.042121   \n",
       "\n",
       "                              n_employment_type  n_houseown_type  \\\n",
       "n_company_enter_month                  0.364821         0.161041   \n",
       "n_income_type                          0.577379         0.108743   \n",
       "n_employment_type                      1.000000         0.114110   \n",
       "n_houseown_type                        0.114110         1.000000   \n",
       "var_work_experience_for_days           0.036404         0.024473   \n",
       "\n",
       "                              var_work_experience_for_days  \n",
       "n_company_enter_month                             0.108094  \n",
       "n_income_type                                     0.042121  \n",
       "n_employment_type                                 0.036404  \n",
       "n_houseown_type                                   0.024473  \n",
       "var_work_experience_for_days                      1.000000  "
      ]
     },
     "execution_count": 700,
     "metadata": {},
     "output_type": "execute_result"
    }
   ],
   "source": [
    "use_kmeans.corr()"
   ]
  },
  {
   "cell_type": "markdown",
   "id": "fb9dee0d",
   "metadata": {},
   "source": [
    "### kmeans 적용"
   ]
  },
  {
   "cell_type": "code",
   "execution_count": 701,
   "id": "ad4e7703",
   "metadata": {},
   "outputs": [
    {
     "name": "stdout",
     "output_type": "stream",
     "text": [
      "[4369.649362594324, 2456.371183354985, 1196.2248784154963, 802.8098712322494, 563.1131958240284, 417.9749345058782, 338.07962059087254, 285.3809631725808, 235.34152607973772, 200.2268496855952]\n"
     ]
    }
   ],
   "source": [
    "# elbow method를 사용하여 최적의 k를 찾기\n",
    "from sklearn.cluster import KMeans\n",
    "\n",
    "distortions = [] \n",
    "k_range = range(1,11)\n",
    "\n",
    "for i in k_range:\n",
    "    km = KMeans(n_clusters = i, random_state=0)\n",
    "    km.fit(use_kmeans)\n",
    "    distortions.append(km.inertia_)\n",
    "\n",
    "print(distortions)"
   ]
  },
  {
   "cell_type": "code",
   "execution_count": 702,
   "id": "452f0571",
   "metadata": {},
   "outputs": [
    {
     "name": "stdout",
     "output_type": "stream",
     "text": [
      "최적의 k : 3\n",
      "최적의 k의 y값 : 1196.225\n"
     ]
    }
   ],
   "source": [
    "# 아래 parameter를 참고하여 kneed 모듈을 사용하여 자동으로 elbow값을 찾기\n",
    "from kneed import KneeLocator\n",
    "\n",
    "kneedle = KneeLocator(x=k_range, y=distortions, curve=\"convex\", direction=\"decreasing\")\n",
    "print(f\"최적의 k : {round(kneedle.elbow, 3)}\")\n",
    "print(f\"최적의 k의 y값 : {round(kneedle.elbow_y, 3)}\")"
   ]
  },
  {
   "cell_type": "code",
   "execution_count": 703,
   "id": "beb2327f",
   "metadata": {},
   "outputs": [
    {
     "data": {
      "image/png": "[encoded data removed]",
      "text/plain": [
       "<Figure size 432x432 with 1 Axes>"
      ]
     },
     "metadata": {},
     "output_type": "display_data"
    }
   ],
   "source": [
    "# 시각화로 최적의 k를 확인\n",
    "\n",
    "kneedle.plot_knee()"
   ]
  },
  {
   "cell_type": "code",
   "execution_count": 704,
   "id": "ace24b42",
   "metadata": {},
   "outputs": [
    {
     "data": {
      "text/html": [
       "<style>#sk-container-id-5 {color: black;background-color: white;}#sk-container-id-5 pre{padding: 0;}#sk-container-id-5 div.sk-toggleable {background-color: white;}#sk-container-id-5 label.sk-toggleable__label {cursor: pointer;display: block;width: 100%;margin-bottom: 0;padding: 0.3em;box-sizing: border-box;text-align: center;}#sk-container-id-5 label.sk-toggleable__label-arrow:before {content: \"▸\";float: left;margin-right: 0.25em;color: #696969;}#sk-container-id-5 label.sk-toggleable__label-arrow:hover:before {color: black;}#sk-container-id-5 div.sk-estimator:hover label.sk-toggleable__label-arrow:before {color: black;}#sk-container-id-5 div.sk-toggleable__content {max-height: 0;max-width: 0;overflow: hidden;text-align: left;background-color: #f0f8ff;}#sk-container-id-5 div.sk-toggleable__content pre {margin: 0.2em;color: black;border-radius: 0.25em;background-color: #f0f8ff;}#sk-container-id-5 input.sk-toggleable__control:checked~div.sk-toggleable__content {max-height: 200px;max-width: 100%;overflow: auto;}#sk-container-id-5 input.sk-toggleable__control:checked~label.sk-toggleable__label-arrow:before {content: \"▾\";}#sk-container-id-5 div.sk-estimator input.sk-toggleable__control:checked~label.sk-toggleable__label {background-color: #d4ebff;}#sk-container-id-5 div.sk-label input.sk-toggleable__control:checked~label.sk-toggleable__label {background-color: #d4ebff;}#sk-container-id-5 input.sk-hidden--visually {border: 0;clip: rect(1px 1px 1px 1px);clip: rect(1px, 1px, 1px, 1px);height: 1px;margin: -1px;overflow: hidden;padding: 0;position: absolute;width: 1px;}#sk-container-id-5 div.sk-estimator {font-family: monospace;background-color: #f0f8ff;border: 1px dotted black;border-radius: 0.25em;box-sizing: border-box;margin-bottom: 0.5em;}#sk-container-id-5 div.sk-estimator:hover {background-color: #d4ebff;}#sk-container-id-5 div.sk-parallel-item::after {content: \"\";width: 100%;border-bottom: 1px solid gray;flex-grow: 1;}#sk-container-id-5 div.sk-label:hover label.sk-toggleable__label {background-color: #d4ebff;}#sk-container-id-5 div.sk-serial::before {content: \"\";position: absolute;border-left: 1px solid gray;box-sizing: border-box;top: 0;bottom: 0;left: 50%;z-index: 0;}#sk-container-id-5 div.sk-serial {display: flex;flex-direction: column;align-items: center;background-color: white;padding-right: 0.2em;padding-left: 0.2em;position: relative;}#sk-container-id-5 div.sk-item {position: relative;z-index: 1;}#sk-container-id-5 div.sk-parallel {display: flex;align-items: stretch;justify-content: center;background-color: white;position: relative;}#sk-container-id-5 div.sk-item::before, #sk-container-id-5 div.sk-parallel-item::before {content: \"\";position: absolute;border-left: 1px solid gray;box-sizing: border-box;top: 0;bottom: 0;left: 50%;z-index: -1;}#sk-container-id-5 div.sk-parallel-item {display: flex;flex-direction: column;z-index: 1;position: relative;background-color: white;}#sk-container-id-5 div.sk-parallel-item:first-child::after {align-self: flex-end;width: 50%;}#sk-container-id-5 div.sk-parallel-item:last-child::after {align-self: flex-start;width: 50%;}#sk-container-id-5 div.sk-parallel-item:only-child::after {width: 0;}#sk-container-id-5 div.sk-dashed-wrapped {border: 1px dashed gray;margin: 0 0.4em 0.5em 0.4em;box-sizing: border-box;padding-bottom: 0.4em;background-color: white;}#sk-container-id-5 div.sk-label label {font-family: monospace;font-weight: bold;display: inline-block;line-height: 1.2em;}#sk-container-id-5 div.sk-label-container {text-align: center;}#sk-container-id-5 div.sk-container {/* jupyter's `normalize.less` sets `[hidden] { display: none; }` but bootstrap.min.css set `[hidden] { display: none !important; }` so we also need the `!important` here to be able to override the default hidden behavior on the sphinx rendered scikit-learn.org. See: https://github.com/scikit-learn/scikit-learn/issues/21755 */display: inline-block !important;position: relative;}#sk-container-id-5 div.sk-text-repr-fallback {display: none;}</style><div id=\"sk-container-id-5\" class=\"sk-top-container\"><div class=\"sk-text-repr-fallback\"><pre>KMeans(n_clusters=3, random_state=0)</pre><b>In a Jupyter environment, please rerun this cell to show the HTML representation or trust the notebook. <br />On GitHub, the HTML representation is unable to render, please try loading this page with nbviewer.org.</b></div><div class=\"sk-container\" hidden><div class=\"sk-item\"><div class=\"sk-estimator sk-toggleable\"><input class=\"sk-toggleable__control sk-hidden--visually\" id=\"sk-estimator-id-5\" type=\"checkbox\" checked><label for=\"sk-estimator-id-5\" class=\"sk-toggleable__label sk-toggleable__label-arrow\">KMeans</label><div class=\"sk-toggleable__content\"><pre>KMeans(n_clusters=3, random_state=0)</pre></div></div></div></div></div>"
      ],
      "text/plain": [
       "KMeans(n_clusters=3, random_state=0)"
      ]
     },
     "execution_count": 704,
     "metadata": {},
     "output_type": "execute_result"
    }
   ],
   "source": [
    "# kneed모듈로 정해진 최적의 k로 재훈련시켜보세요.\n",
    "km = KMeans(n_clusters = 3, random_state=0)\n",
    "km.fit(use_kmeans)"
   ]
  },
  {
   "cell_type": "code",
   "execution_count": 705,
   "id": "26e0640e",
   "metadata": {},
   "outputs": [
    {
     "data": {
      "text/html": [
       "<div>\n",
       "<style scoped>\n",
       "    .dataframe tbody tr th:only-of-type {\n",
       "        vertical-align: middle;\n",
       "    }\n",
       "\n",
       "    .dataframe tbody tr th {\n",
       "        vertical-align: top;\n",
       "    }\n",
       "\n",
       "    .dataframe thead th {\n",
       "        text-align: right;\n",
       "    }\n",
       "</style>\n",
       "<table border=\"1\" class=\"dataframe\">\n",
       "  <thead>\n",
       "    <tr style=\"text-align: right;\">\n",
       "      <th></th>\n",
       "      <th>n_company_enter_month</th>\n",
       "      <th>n_income_type</th>\n",
       "      <th>n_employment_type</th>\n",
       "      <th>n_houseown_type</th>\n",
       "      <th>var_work_experience_for_days</th>\n",
       "    </tr>\n",
       "    <tr>\n",
       "      <th>label_from_km</th>\n",
       "      <th></th>\n",
       "      <th></th>\n",
       "      <th></th>\n",
       "      <th></th>\n",
       "      <th></th>\n",
       "    </tr>\n",
       "  </thead>\n",
       "  <tbody>\n",
       "    <tr>\n",
       "      <th>0</th>\n",
       "      <td>262454</td>\n",
       "      <td>262454</td>\n",
       "      <td>262454</td>\n",
       "      <td>262454</td>\n",
       "      <td>262454</td>\n",
       "    </tr>\n",
       "    <tr>\n",
       "      <th>1</th>\n",
       "      <td>11840</td>\n",
       "      <td>11840</td>\n",
       "      <td>11840</td>\n",
       "      <td>11840</td>\n",
       "      <td>11840</td>\n",
       "    </tr>\n",
       "    <tr>\n",
       "      <th>2</th>\n",
       "      <td>11636</td>\n",
       "      <td>11636</td>\n",
       "      <td>11636</td>\n",
       "      <td>11636</td>\n",
       "      <td>11636</td>\n",
       "    </tr>\n",
       "  </tbody>\n",
       "</table>\n",
       "</div>"
      ],
      "text/plain": [
       "               n_company_enter_month  n_income_type  n_employment_type  \\\n",
       "label_from_km                                                            \n",
       "0                             262454         262454             262454   \n",
       "1                              11840          11840              11840   \n",
       "2                              11636          11636              11636   \n",
       "\n",
       "               n_houseown_type  var_work_experience_for_days  \n",
       "label_from_km                                                 \n",
       "0                       262454                        262454  \n",
       "1                        11840                         11840  \n",
       "2                        11636                         11636  "
      ]
     },
     "execution_count": 705,
     "metadata": {},
     "output_type": "execute_result"
    }
   ],
   "source": [
    "user_data_cluser_centers = pd.DataFrame(km.cluster_centers_, columns=use_kmeans.columns)\n",
    "user_data_cluser_centers\n",
    "\n",
    "# 훈련된 모델의 label을 저장\n",
    "user_data_label_df = use_kmeans.copy()\n",
    "user_data_label_df[\"label_from_km\"] = km.labels_\n",
    "\n",
    "#cluster별로 몇 개의 행이 속해있는지 확인 하는 group by\n",
    "user_data_label_df.groupby([\"label_from_km\"]).count()"
   ]
  },
  {
   "cell_type": "markdown",
   "id": "bcfa651b",
   "metadata": {},
   "source": [
    "### (군집0 : 210,127개), (군집1 : 63,402개), (군집2 : 12,401개)  "
   ]
  },
  {
   "cell_type": "code",
   "execution_count": 706,
   "id": "d7a01e38",
   "metadata": {},
   "outputs": [
    {
     "data": {
      "text/html": [
       "<div>\n",
       "<style scoped>\n",
       "    .dataframe tbody tr th:only-of-type {\n",
       "        vertical-align: middle;\n",
       "    }\n",
       "\n",
       "    .dataframe tbody tr th {\n",
       "        vertical-align: top;\n",
       "    }\n",
       "\n",
       "    .dataframe thead th {\n",
       "        text-align: right;\n",
       "    }\n",
       "</style>\n",
       "<table border=\"1\" class=\"dataframe\">\n",
       "  <thead>\n",
       "    <tr style=\"text-align: right;\">\n",
       "      <th></th>\n",
       "      <th>n_company_enter_month</th>\n",
       "      <th>n_income_type</th>\n",
       "      <th>n_employment_type</th>\n",
       "      <th>n_houseown_type</th>\n",
       "      <th>var_work_experience_for_days</th>\n",
       "      <th>label_from_km</th>\n",
       "    </tr>\n",
       "    <tr>\n",
       "      <th>user_id</th>\n",
       "      <th></th>\n",
       "      <th></th>\n",
       "      <th></th>\n",
       "      <th></th>\n",
       "      <th></th>\n",
       "      <th></th>\n",
       "    </tr>\n",
       "  </thead>\n",
       "  <tbody>\n",
       "    <tr>\n",
       "      <th>7</th>\n",
       "      <td>0.0</td>\n",
       "      <td>0.0</td>\n",
       "      <td>0.0</td>\n",
       "      <td>0.0</td>\n",
       "      <td>0.0</td>\n",
       "      <td>0</td>\n",
       "    </tr>\n",
       "    <tr>\n",
       "      <th>9</th>\n",
       "      <td>0.0</td>\n",
       "      <td>0.0</td>\n",
       "      <td>0.0</td>\n",
       "      <td>0.0</td>\n",
       "      <td>0.0</td>\n",
       "      <td>0</td>\n",
       "    </tr>\n",
       "    <tr>\n",
       "      <th>11</th>\n",
       "      <td>0.0</td>\n",
       "      <td>0.0</td>\n",
       "      <td>0.0</td>\n",
       "      <td>0.0</td>\n",
       "      <td>0.0</td>\n",
       "      <td>0</td>\n",
       "    </tr>\n",
       "    <tr>\n",
       "      <th>12</th>\n",
       "      <td>0.0</td>\n",
       "      <td>0.0</td>\n",
       "      <td>0.0</td>\n",
       "      <td>0.0</td>\n",
       "      <td>0.0</td>\n",
       "      <td>0</td>\n",
       "    </tr>\n",
       "    <tr>\n",
       "      <th>14</th>\n",
       "      <td>0.0</td>\n",
       "      <td>0.0</td>\n",
       "      <td>0.0</td>\n",
       "      <td>0.0</td>\n",
       "      <td>0.0</td>\n",
       "      <td>0</td>\n",
       "    </tr>\n",
       "  </tbody>\n",
       "</table>\n",
       "</div>"
      ],
      "text/plain": [
       "         n_company_enter_month  n_income_type  n_employment_type  \\\n",
       "user_id                                                            \n",
       "7                          0.0            0.0                0.0   \n",
       "9                          0.0            0.0                0.0   \n",
       "11                         0.0            0.0                0.0   \n",
       "12                         0.0            0.0                0.0   \n",
       "14                         0.0            0.0                0.0   \n",
       "\n",
       "         n_houseown_type  var_work_experience_for_days  label_from_km  \n",
       "user_id                                                                \n",
       "7                    0.0                           0.0              0  \n",
       "9                    0.0                           0.0              0  \n",
       "11                   0.0                           0.0              0  \n",
       "12                   0.0                           0.0              0  \n",
       "14                   0.0                           0.0              0  "
      ]
     },
     "execution_count": 706,
     "metadata": {},
     "output_type": "execute_result"
    }
   ],
   "source": [
    "#군집 정보가 포함된 완성된 데이터프레임\n",
    "user_data_label_df.head(5)"
   ]
  },
  {
   "cell_type": "code",
   "execution_count": 707,
   "id": "391b5031",
   "metadata": {},
   "outputs": [
    {
     "data": {
      "text/html": [
       "<div>\n",
       "<style scoped>\n",
       "    .dataframe tbody tr th:only-of-type {\n",
       "        vertical-align: middle;\n",
       "    }\n",
       "\n",
       "    .dataframe tbody tr th {\n",
       "        vertical-align: top;\n",
       "    }\n",
       "\n",
       "    .dataframe thead th {\n",
       "        text-align: right;\n",
       "    }\n",
       "</style>\n",
       "<table border=\"1\" class=\"dataframe\">\n",
       "  <thead>\n",
       "    <tr style=\"text-align: right;\">\n",
       "      <th></th>\n",
       "      <th>n_company_enter_month</th>\n",
       "      <th>n_income_type</th>\n",
       "      <th>n_employment_type</th>\n",
       "      <th>n_houseown_type</th>\n",
       "      <th>var_work_experience_for_days</th>\n",
       "    </tr>\n",
       "  </thead>\n",
       "  <tbody>\n",
       "    <tr>\n",
       "      <th>0</th>\n",
       "      <td>0.002454</td>\n",
       "      <td>0.005544</td>\n",
       "      <td>1.735764e-14</td>\n",
       "      <td>5.030698e-15</td>\n",
       "      <td>0.000068</td>\n",
       "    </tr>\n",
       "    <tr>\n",
       "      <th>1</th>\n",
       "      <td>0.033357</td>\n",
       "      <td>0.199219</td>\n",
       "      <td>3.517455e-01</td>\n",
       "      <td>3.246059e-02</td>\n",
       "      <td>0.000753</td>\n",
       "    </tr>\n",
       "    <tr>\n",
       "      <th>2</th>\n",
       "      <td>0.013257</td>\n",
       "      <td>0.019981</td>\n",
       "      <td>2.151369e-02</td>\n",
       "      <td>3.455655e-01</td>\n",
       "      <td>0.000401</td>\n",
       "    </tr>\n",
       "  </tbody>\n",
       "</table>\n",
       "</div>"
      ],
      "text/plain": [
       "   n_company_enter_month  n_income_type  n_employment_type  n_houseown_type  \\\n",
       "0               0.002454       0.005544       1.735764e-14     5.030698e-15   \n",
       "1               0.033357       0.199219       3.517455e-01     3.246059e-02   \n",
       "2               0.013257       0.019981       2.151369e-02     3.455655e-01   \n",
       "\n",
       "   var_work_experience_for_days  \n",
       "0                      0.000068  \n",
       "1                      0.000753  \n",
       "2                      0.000401  "
      ]
     },
     "execution_count": 707,
     "metadata": {},
     "output_type": "execute_result"
    }
   ],
   "source": [
    "#center 값을 통해 군집의 대략적인 특징을 파악해봄\n",
    "user_data_cluser_centers"
   ]
  },
  {
   "cell_type": "code",
   "execution_count": null,
   "id": "afc37724",
   "metadata": {},
   "outputs": [],
   "source": []
  },
  {
   "cell_type": "markdown",
   "id": "721540d7",
   "metadata": {},
   "source": [
    "### 1차 군집화 결과 : 2번 군집의 값들이 대체적으로 신뢰하기 어려운 정보를 입력하였다고 판단.\n",
    "### 신뢰하기 어려운 정보를 입력하는 사용자 군집에 대하여 명확히 정보를 입력했는지 확인을 부탁하는 메시지 제안을 할 것."
   ]
  },
  {
   "cell_type": "code",
   "execution_count": null,
   "id": "e3759f5d",
   "metadata": {},
   "outputs": [],
   "source": []
  },
  {
   "cell_type": "markdown",
   "id": "c5690305",
   "metadata": {},
   "source": [
    "## 2차 군집화"
   ]
  },
  {
   "cell_type": "code",
   "execution_count": 708,
   "id": "6c685287",
   "metadata": {},
   "outputs": [],
   "source": [
    "# 집단 0과 1을 가져와서 2차 클러스터링 진행\n",
    "\n",
    "cluster1 = user_data_label_df[(user_data_label_df[\"label_from_km\"] == 0) |  (user_data_label_df[\"label_from_km\"] == 1) ]\n",
    "cluster1.reset_index(inplace=True)\n",
    "\n",
    "cluseter1_user_spec = user_spec6[user_spec6[\"user_id\"].isin(cluster1[\"user_id\"])]"
   ]
  },
  {
   "cell_type": "markdown",
   "id": "6d41eadc",
   "metadata": {},
   "source": [
    "### user_id 별 count 생성"
   ]
  },
  {
   "cell_type": "code",
   "execution_count": 709,
   "id": "f211319d",
   "metadata": {},
   "outputs": [
    {
     "data": {
      "text/html": [
       "<div>\n",
       "<style scoped>\n",
       "    .dataframe tbody tr th:only-of-type {\n",
       "        vertical-align: middle;\n",
       "    }\n",
       "\n",
       "    .dataframe tbody tr th {\n",
       "        vertical-align: top;\n",
       "    }\n",
       "\n",
       "    .dataframe thead th {\n",
       "        text-align: right;\n",
       "    }\n",
       "</style>\n",
       "<table border=\"1\" class=\"dataframe\">\n",
       "  <thead>\n",
       "    <tr style=\"text-align: right;\">\n",
       "      <th></th>\n",
       "      <th>count</th>\n",
       "    </tr>\n",
       "    <tr>\n",
       "      <th>user_id</th>\n",
       "      <th></th>\n",
       "    </tr>\n",
       "  </thead>\n",
       "  <tbody>\n",
       "    <tr>\n",
       "      <th>7</th>\n",
       "      <td>1</td>\n",
       "    </tr>\n",
       "    <tr>\n",
       "      <th>9</th>\n",
       "      <td>1</td>\n",
       "    </tr>\n",
       "    <tr>\n",
       "      <th>11</th>\n",
       "      <td>2</td>\n",
       "    </tr>\n",
       "    <tr>\n",
       "      <th>12</th>\n",
       "      <td>10</td>\n",
       "    </tr>\n",
       "    <tr>\n",
       "      <th>14</th>\n",
       "      <td>2</td>\n",
       "    </tr>\n",
       "    <tr>\n",
       "      <th>...</th>\n",
       "      <td>...</td>\n",
       "    </tr>\n",
       "    <tr>\n",
       "      <th>879693</th>\n",
       "      <td>3</td>\n",
       "    </tr>\n",
       "    <tr>\n",
       "      <th>879694</th>\n",
       "      <td>1</td>\n",
       "    </tr>\n",
       "    <tr>\n",
       "      <th>879695</th>\n",
       "      <td>1</td>\n",
       "    </tr>\n",
       "    <tr>\n",
       "      <th>879696</th>\n",
       "      <td>2</td>\n",
       "    </tr>\n",
       "    <tr>\n",
       "      <th>879697</th>\n",
       "      <td>1</td>\n",
       "    </tr>\n",
       "  </tbody>\n",
       "</table>\n",
       "<p>274294 rows × 1 columns</p>\n",
       "</div>"
      ],
      "text/plain": [
       "         count\n",
       "user_id       \n",
       "7            1\n",
       "9            1\n",
       "11           2\n",
       "12          10\n",
       "14           2\n",
       "...        ...\n",
       "879693       3\n",
       "879694       1\n",
       "879695       1\n",
       "879696       2\n",
       "879697       1\n",
       "\n",
       "[274294 rows x 1 columns]"
      ]
     },
     "execution_count": 709,
     "metadata": {},
     "output_type": "execute_result"
    }
   ],
   "source": [
    "count_user=cluseter1_user_spec[['application_id','user_id','insert_time']]\n",
    "count_user2=count_user[pd.to_datetime(count_user[\"insert_time\"]).dt.month< 6]\n",
    "count_user2.drop('insert_time',axis=1,inplace=True)\n",
    "count_user3=count_user2.groupby('user_id').agg('count')\n",
    "count_user3.rename(columns={'application_id':'count'},inplace=True)\n",
    "count_user3 #273529"
   ]
  },
  {
   "cell_type": "markdown",
   "id": "d06c5d8a",
   "metadata": {},
   "source": [
    "### user_id 별 2022.06.01 - 첫 insert_time 변수 생성 "
   ]
  },
  {
   "cell_type": "code",
   "execution_count": 710,
   "id": "6b7820af",
   "metadata": {},
   "outputs": [],
   "source": [
    "cluseter1_user_spec[\"insert_time\"] = pd.to_datetime(cluseter1_user_spec[\"insert_time\"])\n",
    "sign6 = cluseter1_user_spec[cluseter1_user_spec[\"insert_time\"].dt.month < 6]\n",
    "\n",
    "sign = sign6[[\"user_id\",\"insert_time\"]]\n",
    "\n",
    "import datetime\n",
    "day = datetime.datetime(2022,6,1)\n",
    "sign[\"sign_up\"] = (day - sign[\"insert_time\"]).dt.days\n",
    "\n",
    "sign_data= pd.DataFrame(sign.groupby(\"user_id\")[\"sign_up\"].agg(\"max\"))\n",
    "\n",
    "count_user3.reset_index(inplace=True)\n",
    "sign_data.reset_index(inplace=True)\n",
    "\n",
    "df_nu = pd.merge(count_user3,sign_data,on=\"user_id\")"
   ]
  },
  {
   "cell_type": "markdown",
   "id": "8f7b0aab",
   "metadata": {},
   "source": [
    "### application_id 수를 센 후 변수 스케일링 작업 "
   ]
  },
  {
   "cell_type": "code",
   "execution_count": 711,
   "id": "1cfe1cdd",
   "metadata": {},
   "outputs": [],
   "source": [
    "from sklearn.preprocessing import MinMaxScaler\n",
    "from sklearn.preprocessing import StandardScaler\n",
    "\n",
    "scaler = StandardScaler()\n",
    "\n",
    "\n",
    "loan_result5= loan_result4[pd.to_datetime(loan_result4[\"loanapply_insert_time\"]).dt.month < 6]\n",
    "loan_result6 = loan_result5[loan_result5[\"user_id\"].isin(df_nu.index)]\n",
    "nu_application_id = pd.DataFrame(loan_result6[loan_result6[\"is_applied\"] == 1].groupby(\"user_id\")[\"application_id\"].nunique())\n",
    "nu_application_id.reset_index(inplace=True)\n",
    "df_nuu = pd.merge(df_nu , nu_application_id , on=\"user_id\" , how=\"left\").fillna(0)\n",
    "df_nuu.set_index(\"user_id\",inplace=True)\n",
    "\n",
    "\n",
    "df_std = scaler.fit_transform(df_nuu)\n",
    "\n",
    "\n",
    "df_std1 = pd.DataFrame(df_std, columns = ['count_std', 'sign_std' , 'is_applied_std'], index = df_nuu.index)"
   ]
  },
  {
   "cell_type": "markdown",
   "id": "972f40b4",
   "metadata": {},
   "source": [
    "### k 값에 따른 클러스터링 시각화 "
   ]
  },
  {
   "cell_type": "code",
   "execution_count": 712,
   "id": "4268826b",
   "metadata": {},
   "outputs": [
    {
     "name": "stdout",
     "output_type": "stream",
     "text": [
      "[822882.0000000182, 595398.7062462574, 409599.09653507464, 318220.76061262534, 263968.0444542868, 223467.9389385412, 190196.09369497877, 166865.8143167014, 149485.83143268473, 138828.81473541196]\n"
     ]
    }
   ],
   "source": [
    "# elbow method를 사용하여 최적의 k를 찾아봅시다.\n",
    "distortions = [] \n",
    "k_range = range(1,11)\n",
    "\n",
    "for i in k_range:\n",
    "    \n",
    "    km = KMeans(n_clusters = i, random_state=42)\n",
    "    km.fit(df_std1)\n",
    "    distortions.append(km.inertia_)\n",
    "\n",
    "print(distortions)"
   ]
  },
  {
   "cell_type": "markdown",
   "id": "792e0ddc",
   "metadata": {},
   "source": [
    "### 최적 k값 3"
   ]
  },
  {
   "cell_type": "code",
   "execution_count": 713,
   "id": "fb1315ba",
   "metadata": {},
   "outputs": [
    {
     "data": {
      "application/vnd.plotly.v1+json": {
       "config": {
        "plotlyServerURL": "https://plot.ly"
       },
       "data": [
        {
         "hovertemplate": "k=%{x}<br>distortions=%{y}<extra></extra>",
         "legendgroup": "",
         "line": {
          "color": "#636efa",
          "dash": "solid"
         },
         "marker": {
          "symbol": "circle"
         },
         "mode": "lines",
         "name": "",
         "orientation": "v",
         "showlegend": false,
         "type": "scatter",
         "x": [
          1,
          2,
          3,
          4,
          5,
          6,
          7,
          8,
          9,
          10
         ],
         "xaxis": "x",
         "y": [
          822882.0000000182,
          595398.7062462574,
          409599.09653507464,
          318220.76061262534,
          263968.0444542868,
          223467.9389385412,
          190196.09369497877,
          166865.8143167014,
          149485.83143268473,
          138828.81473541196
         ],
         "yaxis": "y"
        }
       ],
       "layout": {
        "height": 500,
        "legend": {
         "tracegroupgap": 0
        },
        "margin": {
         "t": 60
        },
        "template": {
         "data": {
          "bar": [
           {
            "error_x": {
             "color": "#2a3f5f"
            },
            "error_y": {
             "color": "#2a3f5f"
            },
            "marker": {
             "line": {
              "color": "#E5ECF6",
              "width": 0.5
             },
             "pattern": {
              "fillmode": "overlay",
              "size": 10,
              "solidity": 0.2
             }
            },
            "type": "bar"
           }
          ],
          "barpolar": [
           {
            "marker": {
             "line": {
              "color": "#E5ECF6",
              "width": 0.5
             },
             "pattern": {
              "fillmode": "overlay",
              "size": 10,
              "solidity": 0.2
             }
            },
            "type": "barpolar"
           }
          ],
          "carpet": [
           {
            "aaxis": {
             "endlinecolor": "#2a3f5f",
             "gridcolor": "white",
             "linecolor": "white",
             "minorgridcolor": "white",
             "startlinecolor": "#2a3f5f"
            },
            "baxis": {
             "endlinecolor": "#2a3f5f",
             "gridcolor": "white",
             "linecolor": "white",
             "minorgridcolor": "white",
             "startlinecolor": "#2a3f5f"
            },
            "type": "carpet"
           }
          ],
          "choropleth": [
           {
            "colorbar": {
             "outlinewidth": 0,
             "ticks": ""
            },
            "type": "choropleth"
           }
          ],
          "contour": [
           {
            "colorbar": {
             "outlinewidth": 0,
             "ticks": ""
            },
            "colorscale": [
             [
              0,
              "#0d0887"
             ],
             [
              0.1111111111111111,
              "#46039f"
             ],
             [
              0.2222222222222222,
              "#7201a8"
             ],
             [
              0.3333333333333333,
              "#9c179e"
             ],
             [
              0.4444444444444444,
              "#bd3786"
             ],
             [
              0.5555555555555556,
              "#d8576b"
             ],
             [
              0.6666666666666666,
              "#ed7953"
             ],
             [
              0.7777777777777778,
              "#fb9f3a"
             ],
             [
              0.8888888888888888,
              "#fdca26"
             ],
             [
              1,
              "#f0f921"
             ]
            ],
            "type": "contour"
           }
          ],
          "contourcarpet": [
           {
            "colorbar": {
             "outlinewidth": 0,
             "ticks": ""
            },
            "type": "contourcarpet"
           }
          ],
          "heatmap": [
           {
            "colorbar": {
             "outlinewidth": 0,
             "ticks": ""
            },
            "colorscale": [
             [
              0,
              "#0d0887"
             ],
             [
              0.1111111111111111,
              "#46039f"
             ],
             [
              0.2222222222222222,
              "#7201a8"
             ],
             [
              0.3333333333333333,
              "#9c179e"
             ],
             [
              0.4444444444444444,
              "#bd3786"
             ],
             [
              0.5555555555555556,
              "#d8576b"
             ],
             [
              0.6666666666666666,
              "#ed7953"
             ],
             [
              0.7777777777777778,
              "#fb9f3a"
             ],
             [
              0.8888888888888888,
              "#fdca26"
             ],
             [
              1,
              "#f0f921"
             ]
            ],
            "type": "heatmap"
           }
          ],
          "heatmapgl": [
           {
            "colorbar": {
             "outlinewidth": 0,
             "ticks": ""
            },
            "colorscale": [
             [
              0,
              "#0d0887"
             ],
             [
              0.1111111111111111,
              "#46039f"
             ],
             [
              0.2222222222222222,
              "#7201a8"
             ],
             [
              0.3333333333333333,
              "#9c179e"
             ],
             [
              0.4444444444444444,
              "#bd3786"
             ],
             [
              0.5555555555555556,
              "#d8576b"
             ],
             [
              0.6666666666666666,
              "#ed7953"
             ],
             [
              0.7777777777777778,
              "#fb9f3a"
             ],
             [
              0.8888888888888888,
              "#fdca26"
             ],
             [
              1,
              "#f0f921"
             ]
            ],
            "type": "heatmapgl"
           }
          ],
          "histogram": [
           {
            "marker": {
             "pattern": {
              "fillmode": "overlay",
              "size": 10,
              "solidity": 0.2
             }
            },
            "type": "histogram"
           }
          ],
          "histogram2d": [
           {
            "colorbar": {
             "outlinewidth": 0,
             "ticks": ""
            },
            "colorscale": [
             [
              0,
              "#0d0887"
             ],
             [
              0.1111111111111111,
              "#46039f"
             ],
             [
              0.2222222222222222,
              "#7201a8"
             ],
             [
              0.3333333333333333,
              "#9c179e"
             ],
             [
              0.4444444444444444,
              "#bd3786"
             ],
             [
              0.5555555555555556,
              "#d8576b"
             ],
             [
              0.6666666666666666,
              "#ed7953"
             ],
             [
              0.7777777777777778,
              "#fb9f3a"
             ],
             [
              0.8888888888888888,
              "#fdca26"
             ],
             [
              1,
              "#f0f921"
             ]
            ],
            "type": "histogram2d"
           }
          ],
          "histogram2dcontour": [
           {
            "colorbar": {
             "outlinewidth": 0,
             "ticks": ""
            },
            "colorscale": [
             [
              0,
              "#0d0887"
             ],
             [
              0.1111111111111111,
              "#46039f"
             ],
             [
              0.2222222222222222,
              "#7201a8"
             ],
             [
              0.3333333333333333,
              "#9c179e"
             ],
             [
              0.4444444444444444,
              "#bd3786"
             ],
             [
              0.5555555555555556,
              "#d8576b"
             ],
             [
              0.6666666666666666,
              "#ed7953"
             ],
             [
              0.7777777777777778,
              "#fb9f3a"
             ],
             [
              0.8888888888888888,
              "#fdca26"
             ],
             [
              1,
              "#f0f921"
             ]
            ],
            "type": "histogram2dcontour"
           }
          ],
          "mesh3d": [
           {
            "colorbar": {
             "outlinewidth": 0,
             "ticks": ""
            },
            "type": "mesh3d"
           }
          ],
          "parcoords": [
           {
            "line": {
             "colorbar": {
              "outlinewidth": 0,
              "ticks": ""
             }
            },
            "type": "parcoords"
           }
          ],
          "pie": [
           {
            "automargin": true,
            "type": "pie"
           }
          ],
          "scatter": [
           {
            "fillpattern": {
             "fillmode": "overlay",
             "size": 10,
             "solidity": 0.2
            },
            "type": "scatter"
           }
          ],
          "scatter3d": [
           {
            "line": {
             "colorbar": {
              "outlinewidth": 0,
              "ticks": ""
             }
            },
            "marker": {
             "colorbar": {
              "outlinewidth": 0,
              "ticks": ""
             }
            },
            "type": "scatter3d"
           }
          ],
          "scattercarpet": [
           {
            "marker": {
             "colorbar": {
              "outlinewidth": 0,
              "ticks": ""
             }
            },
            "type": "scattercarpet"
           }
          ],
          "scattergeo": [
           {
            "marker": {
             "colorbar": {
              "outlinewidth": 0,
              "ticks": ""
             }
            },
            "type": "scattergeo"
           }
          ],
          "scattergl": [
           {
            "marker": {
             "colorbar": {
              "outlinewidth": 0,
              "ticks": ""
             }
            },
            "type": "scattergl"
           }
          ],
          "scattermapbox": [
           {
            "marker": {
             "colorbar": {
              "outlinewidth": 0,
              "ticks": ""
             }
            },
            "type": "scattermapbox"
           }
          ],
          "scatterpolar": [
           {
            "marker": {
             "colorbar": {
              "outlinewidth": 0,
              "ticks": ""
             }
            },
            "type": "scatterpolar"
           }
          ],
          "scatterpolargl": [
           {
            "marker": {
             "colorbar": {
              "outlinewidth": 0,
              "ticks": ""
             }
            },
            "type": "scatterpolargl"
           }
          ],
          "scatterternary": [
           {
            "marker": {
             "colorbar": {
              "outlinewidth": 0,
              "ticks": ""
             }
            },
            "type": "scatterternary"
           }
          ],
          "surface": [
           {
            "colorbar": {
             "outlinewidth": 0,
             "ticks": ""
            },
            "colorscale": [
             [
              0,
              "#0d0887"
             ],
             [
              0.1111111111111111,
              "#46039f"
             ],
             [
              0.2222222222222222,
              "#7201a8"
             ],
             [
              0.3333333333333333,
              "#9c179e"
             ],
             [
              0.4444444444444444,
              "#bd3786"
             ],
             [
              0.5555555555555556,
              "#d8576b"
             ],
             [
              0.6666666666666666,
              "#ed7953"
             ],
             [
              0.7777777777777778,
              "#fb9f3a"
             ],
             [
              0.8888888888888888,
              "#fdca26"
             ],
             [
              1,
              "#f0f921"
             ]
            ],
            "type": "surface"
           }
          ],
          "table": [
           {
            "cells": {
             "fill": {
              "color": "#EBF0F8"
             },
             "line": {
              "color": "white"
             }
            },
            "header": {
             "fill": {
              "color": "#C8D4E3"
             },
             "line": {
              "color": "white"
             }
            },
            "type": "table"
           }
          ]
         },
         "layout": {
          "annotationdefaults": {
           "arrowcolor": "#2a3f5f",
           "arrowhead": 0,
           "arrowwidth": 1
          },
          "autotypenumbers": "strict",
          "coloraxis": {
           "colorbar": {
            "outlinewidth": 0,
            "ticks": ""
           }
          },
          "colorscale": {
           "diverging": [
            [
             0,
             "#8e0152"
            ],
            [
             0.1,
             "#c51b7d"
            ],
            [
             0.2,
             "#de77ae"
            ],
            [
             0.3,
             "#f1b6da"
            ],
            [
             0.4,
             "#fde0ef"
            ],
            [
             0.5,
             "#f7f7f7"
            ],
            [
             0.6,
             "#e6f5d0"
            ],
            [
             0.7,
             "#b8e186"
            ],
            [
             0.8,
             "#7fbc41"
            ],
            [
             0.9,
             "#4d9221"
            ],
            [
             1,
             "#276419"
            ]
           ],
           "sequential": [
            [
             0,
             "#0d0887"
            ],
            [
             0.1111111111111111,
             "#46039f"
            ],
            [
             0.2222222222222222,
             "#7201a8"
            ],
            [
             0.3333333333333333,
             "#9c179e"
            ],
            [
             0.4444444444444444,
             "#bd3786"
            ],
            [
             0.5555555555555556,
             "#d8576b"
            ],
            [
             0.6666666666666666,
             "#ed7953"
            ],
            [
             0.7777777777777778,
             "#fb9f3a"
            ],
            [
             0.8888888888888888,
             "#fdca26"
            ],
            [
             1,
             "#f0f921"
            ]
           ],
           "sequentialminus": [
            [
             0,
             "#0d0887"
            ],
            [
             0.1111111111111111,
             "#46039f"
            ],
            [
             0.2222222222222222,
             "#7201a8"
            ],
            [
             0.3333333333333333,
             "#9c179e"
            ],
            [
             0.4444444444444444,
             "#bd3786"
            ],
            [
             0.5555555555555556,
             "#d8576b"
            ],
            [
             0.6666666666666666,
             "#ed7953"
            ],
            [
             0.7777777777777778,
             "#fb9f3a"
            ],
            [
             0.8888888888888888,
             "#fdca26"
            ],
            [
             1,
             "#f0f921"
            ]
           ]
          },
          "colorway": [
           "#636efa",
           "#EF553B",
           "#00cc96",
           "#ab63fa",
           "#FFA15A",
           "#19d3f3",
           "#FF6692",
           "#B6E880",
           "#FF97FF",
           "#FECB52"
          ],
          "font": {
           "color": "#2a3f5f"
          },
          "geo": {
           "bgcolor": "white",
           "lakecolor": "white",
           "landcolor": "#E5ECF6",
           "showlakes": true,
           "showland": true,
           "subunitcolor": "white"
          },
          "hoverlabel": {
           "align": "left"
          },
          "hovermode": "closest",
          "mapbox": {
           "style": "light"
          },
          "paper_bgcolor": "white",
          "plot_bgcolor": "#E5ECF6",
          "polar": {
           "angularaxis": {
            "gridcolor": "white",
            "linecolor": "white",
            "ticks": ""
           },
           "bgcolor": "#E5ECF6",
           "radialaxis": {
            "gridcolor": "white",
            "linecolor": "white",
            "ticks": ""
           }
          },
          "scene": {
           "xaxis": {
            "backgroundcolor": "#E5ECF6",
            "gridcolor": "white",
            "gridwidth": 2,
            "linecolor": "white",
            "showbackground": true,
            "ticks": "",
            "zerolinecolor": "white"
           },
           "yaxis": {
            "backgroundcolor": "#E5ECF6",
            "gridcolor": "white",
            "gridwidth": 2,
            "linecolor": "white",
            "showbackground": true,
            "ticks": "",
            "zerolinecolor": "white"
           },
           "zaxis": {
            "backgroundcolor": "#E5ECF6",
            "gridcolor": "white",
            "gridwidth": 2,
            "linecolor": "white",
            "showbackground": true,
            "ticks": "",
            "zerolinecolor": "white"
           }
          },
          "shapedefaults": {
           "line": {
            "color": "#2a3f5f"
           }
          },
          "ternary": {
           "aaxis": {
            "gridcolor": "white",
            "linecolor": "white",
            "ticks": ""
           },
           "baxis": {
            "gridcolor": "white",
            "linecolor": "white",
            "ticks": ""
           },
           "bgcolor": "#E5ECF6",
           "caxis": {
            "gridcolor": "white",
            "linecolor": "white",
            "ticks": ""
           }
          },
          "title": {
           "x": 0.05
          },
          "xaxis": {
           "automargin": true,
           "gridcolor": "white",
           "linecolor": "white",
           "ticks": "",
           "title": {
            "standoff": 15
           },
           "zerolinecolor": "white",
           "zerolinewidth": 2
          },
          "yaxis": {
           "automargin": true,
           "gridcolor": "white",
           "linecolor": "white",
           "ticks": "",
           "title": {
            "standoff": 15
           },
           "zerolinecolor": "white",
           "zerolinewidth": 2
          }
         }
        },
        "width": 800,
        "xaxis": {
         "anchor": "y",
         "domain": [
          0,
          1
         ],
         "title": {
          "text": "k"
         }
        },
        "yaxis": {
         "anchor": "x",
         "domain": [
          0,
          1
         ],
         "title": {
          "text": "distortions"
         }
        }
       }
      },
      "text/html": [
       "<div>                            <div id=\"9ad34e01-e235-4801-9e1a-2e5d98809c5b\" class=\"plotly-graph-div\" style=\"height:500px; width:800px;\"></div>            <script type=\"text/javascript\">                require([\"plotly\"], function(Plotly) {                    window.PLOTLYENV=window.PLOTLYENV || {};                                    if (document.getElementById(\"9ad34e01-e235-4801-9e1a-2e5d98809c5b\")) {                    Plotly.newPlot(                        \"9ad34e01-e235-4801-9e1a-2e5d98809c5b\",                        [{\"hovertemplate\":\"k=%{x}<br>distortions=%{y}<extra></extra>\",\"legendgroup\":\"\",\"line\":{\"color\":\"#636efa\",\"dash\":\"solid\"},\"marker\":{\"symbol\":\"circle\"},\"mode\":\"lines\",\"name\":\"\",\"orientation\":\"v\",\"showlegend\":false,\"x\":[1,2,3,4,5,6,7,8,9,10],\"xaxis\":\"x\",\"y\":[822882.0000000182,595398.7062462574,409599.09653507464,318220.76061262534,263968.0444542868,223467.9389385412,190196.09369497877,166865.8143167014,149485.83143268473,138828.81473541196],\"yaxis\":\"y\",\"type\":\"scatter\"}],                        {\"template\":{\"data\":{\"histogram2dcontour\":[{\"type\":\"histogram2dcontour\",\"colorbar\":{\"outlinewidth\":0,\"ticks\":\"\"},\"colorscale\":[[0.0,\"#0d0887\"],[0.1111111111111111,\"#46039f\"],[0.2222222222222222,\"#7201a8\"],[0.3333333333333333,\"#9c179e\"],[0.4444444444444444,\"#bd3786\"],[0.5555555555555556,\"#d8576b\"],[0.6666666666666666,\"#ed7953\"],[0.7777777777777778,\"#fb9f3a\"],[0.8888888888888888,\"#fdca26\"],[1.0,\"#f0f921\"]]}],\"choropleth\":[{\"type\":\"choropleth\",\"colorbar\":{\"outlinewidth\":0,\"ticks\":\"\"}}],\"histogram2d\":[{\"type\":\"histogram2d\",\"colorbar\":{\"outlinewidth\":0,\"ticks\":\"\"},\"colorscale\":[[0.0,\"#0d0887\"],[0.1111111111111111,\"#46039f\"],[0.2222222222222222,\"#7201a8\"],[0.3333333333333333,\"#9c179e\"],[0.4444444444444444,\"#bd3786\"],[0.5555555555555556,\"#d8576b\"],[0.6666666666666666,\"#ed7953\"],[0.7777777777777778,\"#fb9f3a\"],[0.8888888888888888,\"#fdca26\"],[1.0,\"#f0f921\"]]}],\"heatmap\":[{\"type\":\"heatmap\",\"colorbar\":{\"outlinewidth\":0,\"ticks\":\"\"},\"colorscale\":[[0.0,\"#0d0887\"],[0.1111111111111111,\"#46039f\"],[0.2222222222222222,\"#7201a8\"],[0.3333333333333333,\"#9c179e\"],[0.4444444444444444,\"#bd3786\"],[0.5555555555555556,\"#d8576b\"],[0.6666666666666666,\"#ed7953\"],[0.7777777777777778,\"#fb9f3a\"],[0.8888888888888888,\"#fdca26\"],[1.0,\"#f0f921\"]]}],\"heatmapgl\":[{\"type\":\"heatmapgl\",\"colorbar\":{\"outlinewidth\":0,\"ticks\":\"\"},\"colorscale\":[[0.0,\"#0d0887\"],[0.1111111111111111,\"#46039f\"],[0.2222222222222222,\"#7201a8\"],[0.3333333333333333,\"#9c179e\"],[0.4444444444444444,\"#bd3786\"],[0.5555555555555556,\"#d8576b\"],[0.6666666666666666,\"#ed7953\"],[0.7777777777777778,\"#fb9f3a\"],[0.8888888888888888,\"#fdca26\"],[1.0,\"#f0f921\"]]}],\"contourcarpet\":[{\"type\":\"contourcarpet\",\"colorbar\":{\"outlinewidth\":0,\"ticks\":\"\"}}],\"contour\":[{\"type\":\"contour\",\"colorbar\":{\"outlinewidth\":0,\"ticks\":\"\"},\"colorscale\":[[0.0,\"#0d0887\"],[0.1111111111111111,\"#46039f\"],[0.2222222222222222,\"#7201a8\"],[0.3333333333333333,\"#9c179e\"],[0.4444444444444444,\"#bd3786\"],[0.5555555555555556,\"#d8576b\"],[0.6666666666666666,\"#ed7953\"],[0.7777777777777778,\"#fb9f3a\"],[0.8888888888888888,\"#fdca26\"],[1.0,\"#f0f921\"]]}],\"surface\":[{\"type\":\"surface\",\"colorbar\":{\"outlinewidth\":0,\"ticks\":\"\"},\"colorscale\":[[0.0,\"#0d0887\"],[0.1111111111111111,\"#46039f\"],[0.2222222222222222,\"#7201a8\"],[0.3333333333333333,\"#9c179e\"],[0.4444444444444444,\"#bd3786\"],[0.5555555555555556,\"#d8576b\"],[0.6666666666666666,\"#ed7953\"],[0.7777777777777778,\"#fb9f3a\"],[0.8888888888888888,\"#fdca26\"],[1.0,\"#f0f921\"]]}],\"mesh3d\":[{\"type\":\"mesh3d\",\"colorbar\":{\"outlinewidth\":0,\"ticks\":\"\"}}],\"scatter\":[{\"fillpattern\":{\"fillmode\":\"overlay\",\"size\":10,\"solidity\":0.2},\"type\":\"scatter\"}],\"parcoords\":[{\"type\":\"parcoords\",\"line\":{\"colorbar\":{\"outlinewidth\":0,\"ticks\":\"\"}}}],\"scatterpolargl\":[{\"type\":\"scatterpolargl\",\"marker\":{\"colorbar\":{\"outlinewidth\":0,\"ticks\":\"\"}}}],\"bar\":[{\"error_x\":{\"color\":\"#2a3f5f\"},\"error_y\":{\"color\":\"#2a3f5f\"},\"marker\":{\"line\":{\"color\":\"#E5ECF6\",\"width\":0.5},\"pattern\":{\"fillmode\":\"overlay\",\"size\":10,\"solidity\":0.2}},\"type\":\"bar\"}],\"scattergeo\":[{\"type\":\"scattergeo\",\"marker\":{\"colorbar\":{\"outlinewidth\":0,\"ticks\":\"\"}}}],\"scatterpolar\":[{\"type\":\"scatterpolar\",\"marker\":{\"colorbar\":{\"outlinewidth\":0,\"ticks\":\"\"}}}],\"histogram\":[{\"marker\":{\"pattern\":{\"fillmode\":\"overlay\",\"size\":10,\"solidity\":0.2}},\"type\":\"histogram\"}],\"scattergl\":[{\"type\":\"scattergl\",\"marker\":{\"colorbar\":{\"outlinewidth\":0,\"ticks\":\"\"}}}],\"scatter3d\":[{\"type\":\"scatter3d\",\"line\":{\"colorbar\":{\"outlinewidth\":0,\"ticks\":\"\"}},\"marker\":{\"colorbar\":{\"outlinewidth\":0,\"ticks\":\"\"}}}],\"scattermapbox\":[{\"type\":\"scattermapbox\",\"marker\":{\"colorbar\":{\"outlinewidth\":0,\"ticks\":\"\"}}}],\"scatterternary\":[{\"type\":\"scatterternary\",\"marker\":{\"colorbar\":{\"outlinewidth\":0,\"ticks\":\"\"}}}],\"scattercarpet\":[{\"type\":\"scattercarpet\",\"marker\":{\"colorbar\":{\"outlinewidth\":0,\"ticks\":\"\"}}}],\"carpet\":[{\"aaxis\":{\"endlinecolor\":\"#2a3f5f\",\"gridcolor\":\"white\",\"linecolor\":\"white\",\"minorgridcolor\":\"white\",\"startlinecolor\":\"#2a3f5f\"},\"baxis\":{\"endlinecolor\":\"#2a3f5f\",\"gridcolor\":\"white\",\"linecolor\":\"white\",\"minorgridcolor\":\"white\",\"startlinecolor\":\"#2a3f5f\"},\"type\":\"carpet\"}],\"table\":[{\"cells\":{\"fill\":{\"color\":\"#EBF0F8\"},\"line\":{\"color\":\"white\"}},\"header\":{\"fill\":{\"color\":\"#C8D4E3\"},\"line\":{\"color\":\"white\"}},\"type\":\"table\"}],\"barpolar\":[{\"marker\":{\"line\":{\"color\":\"#E5ECF6\",\"width\":0.5},\"pattern\":{\"fillmode\":\"overlay\",\"size\":10,\"solidity\":0.2}},\"type\":\"barpolar\"}],\"pie\":[{\"automargin\":true,\"type\":\"pie\"}]},\"layout\":{\"autotypenumbers\":\"strict\",\"colorway\":[\"#636efa\",\"#EF553B\",\"#00cc96\",\"#ab63fa\",\"#FFA15A\",\"#19d3f3\",\"#FF6692\",\"#B6E880\",\"#FF97FF\",\"#FECB52\"],\"font\":{\"color\":\"#2a3f5f\"},\"hovermode\":\"closest\",\"hoverlabel\":{\"align\":\"left\"},\"paper_bgcolor\":\"white\",\"plot_bgcolor\":\"#E5ECF6\",\"polar\":{\"bgcolor\":\"#E5ECF6\",\"angularaxis\":{\"gridcolor\":\"white\",\"linecolor\":\"white\",\"ticks\":\"\"},\"radialaxis\":{\"gridcolor\":\"white\",\"linecolor\":\"white\",\"ticks\":\"\"}},\"ternary\":{\"bgcolor\":\"#E5ECF6\",\"aaxis\":{\"gridcolor\":\"white\",\"linecolor\":\"white\",\"ticks\":\"\"},\"baxis\":{\"gridcolor\":\"white\",\"linecolor\":\"white\",\"ticks\":\"\"},\"caxis\":{\"gridcolor\":\"white\",\"linecolor\":\"white\",\"ticks\":\"\"}},\"coloraxis\":{\"colorbar\":{\"outlinewidth\":0,\"ticks\":\"\"}},\"colorscale\":{\"sequential\":[[0.0,\"#0d0887\"],[0.1111111111111111,\"#46039f\"],[0.2222222222222222,\"#7201a8\"],[0.3333333333333333,\"#9c179e\"],[0.4444444444444444,\"#bd3786\"],[0.5555555555555556,\"#d8576b\"],[0.6666666666666666,\"#ed7953\"],[0.7777777777777778,\"#fb9f3a\"],[0.8888888888888888,\"#fdca26\"],[1.0,\"#f0f921\"]],\"sequentialminus\":[[0.0,\"#0d0887\"],[0.1111111111111111,\"#46039f\"],[0.2222222222222222,\"#7201a8\"],[0.3333333333333333,\"#9c179e\"],[0.4444444444444444,\"#bd3786\"],[0.5555555555555556,\"#d8576b\"],[0.6666666666666666,\"#ed7953\"],[0.7777777777777778,\"#fb9f3a\"],[0.8888888888888888,\"#fdca26\"],[1.0,\"#f0f921\"]],\"diverging\":[[0,\"#8e0152\"],[0.1,\"#c51b7d\"],[0.2,\"#de77ae\"],[0.3,\"#f1b6da\"],[0.4,\"#fde0ef\"],[0.5,\"#f7f7f7\"],[0.6,\"#e6f5d0\"],[0.7,\"#b8e186\"],[0.8,\"#7fbc41\"],[0.9,\"#4d9221\"],[1,\"#276419\"]]},\"xaxis\":{\"gridcolor\":\"white\",\"linecolor\":\"white\",\"ticks\":\"\",\"title\":{\"standoff\":15},\"zerolinecolor\":\"white\",\"automargin\":true,\"zerolinewidth\":2},\"yaxis\":{\"gridcolor\":\"white\",\"linecolor\":\"white\",\"ticks\":\"\",\"title\":{\"standoff\":15},\"zerolinecolor\":\"white\",\"automargin\":true,\"zerolinewidth\":2},\"scene\":{\"xaxis\":{\"backgroundcolor\":\"#E5ECF6\",\"gridcolor\":\"white\",\"linecolor\":\"white\",\"showbackground\":true,\"ticks\":\"\",\"zerolinecolor\":\"white\",\"gridwidth\":2},\"yaxis\":{\"backgroundcolor\":\"#E5ECF6\",\"gridcolor\":\"white\",\"linecolor\":\"white\",\"showbackground\":true,\"ticks\":\"\",\"zerolinecolor\":\"white\",\"gridwidth\":2},\"zaxis\":{\"backgroundcolor\":\"#E5ECF6\",\"gridcolor\":\"white\",\"linecolor\":\"white\",\"showbackground\":true,\"ticks\":\"\",\"zerolinecolor\":\"white\",\"gridwidth\":2}},\"shapedefaults\":{\"line\":{\"color\":\"#2a3f5f\"}},\"annotationdefaults\":{\"arrowcolor\":\"#2a3f5f\",\"arrowhead\":0,\"arrowwidth\":1},\"geo\":{\"bgcolor\":\"white\",\"landcolor\":\"#E5ECF6\",\"subunitcolor\":\"white\",\"showland\":true,\"showlakes\":true,\"lakecolor\":\"white\"},\"title\":{\"x\":0.05},\"mapbox\":{\"style\":\"light\"}}},\"xaxis\":{\"anchor\":\"y\",\"domain\":[0.0,1.0],\"title\":{\"text\":\"k\"}},\"yaxis\":{\"anchor\":\"x\",\"domain\":[0.0,1.0],\"title\":{\"text\":\"distortions\"}},\"legend\":{\"tracegroupgap\":0},\"margin\":{\"t\":60},\"width\":800,\"height\":500},                        {\"responsive\": true}                    ).then(function(){\n",
       "                            \n",
       "var gd = document.getElementById('9ad34e01-e235-4801-9e1a-2e5d98809c5b');\n",
       "var x = new MutationObserver(function (mutations, observer) {{\n",
       "        var display = window.getComputedStyle(gd).display;\n",
       "        if (!display || display === 'none') {{\n",
       "            console.log([gd, 'removed!']);\n",
       "            Plotly.purge(gd);\n",
       "            observer.disconnect();\n",
       "        }}\n",
       "}});\n",
       "\n",
       "// Listen for the removal of the full notebook cells\n",
       "var notebookContainer = gd.closest('#notebook-container');\n",
       "if (notebookContainer) {{\n",
       "    x.observe(notebookContainer, {childList: true});\n",
       "}}\n",
       "\n",
       "// Listen for the clearing of the current output cell\n",
       "var outputEl = gd.closest('.output');\n",
       "if (outputEl) {{\n",
       "    x.observe(outputEl, {childList: true});\n",
       "}}\n",
       "\n",
       "                        })                };                });            </script>        </div>"
      ]
     },
     "metadata": {},
     "output_type": "display_data"
    }
   ],
   "source": [
    "\n",
    "# 3으로\n",
    "# elbow method를 그래프로 확인\n",
    "import matplotlib.pyplot as plt\n",
    "import plotly.express as px\n",
    "from plotly.subplots import make_subplots\n",
    "import plotly.graph_objects as go\n",
    "\n",
    "\n",
    "fig = px.line(x=k_range, y=distortions, labels={\"x\":\"k\", \"y\":\"distortions\"})\n",
    "fig.update_layout(width=800, height=500)\n",
    "fig.show()"
   ]
  },
  {
   "cell_type": "markdown",
   "id": "4f2a0a5d",
   "metadata": {},
   "source": [
    "### 결과확인"
   ]
  },
  {
   "cell_type": "code",
   "execution_count": 714,
   "id": "189ed2c4",
   "metadata": {
    "scrolled": true
   },
   "outputs": [
    {
     "data": {
      "text/html": [
       "<div>\n",
       "<style scoped>\n",
       "    .dataframe tbody tr th:only-of-type {\n",
       "        vertical-align: middle;\n",
       "    }\n",
       "\n",
       "    .dataframe tbody tr th {\n",
       "        vertical-align: top;\n",
       "    }\n",
       "\n",
       "    .dataframe thead th {\n",
       "        text-align: right;\n",
       "    }\n",
       "</style>\n",
       "<table border=\"1\" class=\"dataframe\">\n",
       "  <thead>\n",
       "    <tr style=\"text-align: right;\">\n",
       "      <th></th>\n",
       "      <th>count_std</th>\n",
       "      <th>sign_std</th>\n",
       "      <th>is_applied_std</th>\n",
       "      <th>cluster</th>\n",
       "    </tr>\n",
       "    <tr>\n",
       "      <th>user_id</th>\n",
       "      <th></th>\n",
       "      <th></th>\n",
       "      <th></th>\n",
       "      <th></th>\n",
       "    </tr>\n",
       "  </thead>\n",
       "  <tbody>\n",
       "    <tr>\n",
       "      <th>7</th>\n",
       "      <td>-0.443234</td>\n",
       "      <td>-1.626013</td>\n",
       "      <td>-0.306615</td>\n",
       "      <td>0</td>\n",
       "    </tr>\n",
       "    <tr>\n",
       "      <th>9</th>\n",
       "      <td>-0.443234</td>\n",
       "      <td>-1.589143</td>\n",
       "      <td>-0.306615</td>\n",
       "      <td>0</td>\n",
       "    </tr>\n",
       "    <tr>\n",
       "      <th>11</th>\n",
       "      <td>-0.236746</td>\n",
       "      <td>0.549325</td>\n",
       "      <td>1.366089</td>\n",
       "      <td>1</td>\n",
       "    </tr>\n",
       "    <tr>\n",
       "      <th>12</th>\n",
       "      <td>1.415157</td>\n",
       "      <td>0.918027</td>\n",
       "      <td>-0.306615</td>\n",
       "      <td>1</td>\n",
       "    </tr>\n",
       "    <tr>\n",
       "      <th>14</th>\n",
       "      <td>-0.236746</td>\n",
       "      <td>-0.372428</td>\n",
       "      <td>-0.306615</td>\n",
       "      <td>0</td>\n",
       "    </tr>\n",
       "  </tbody>\n",
       "</table>\n",
       "</div>"
      ],
      "text/plain": [
       "         count_std  sign_std  is_applied_std  cluster\n",
       "user_id                                              \n",
       "7        -0.443234 -1.626013       -0.306615        0\n",
       "9        -0.443234 -1.589143       -0.306615        0\n",
       "11       -0.236746  0.549325        1.366089        1\n",
       "12        1.415157  0.918027       -0.306615        1\n",
       "14       -0.236746 -0.372428       -0.306615        0"
      ]
     },
     "execution_count": 714,
     "metadata": {},
     "output_type": "execute_result"
    }
   ],
   "source": [
    "from sklearn.cluster import KMeans \n",
    "\n",
    "# k-means clustering 실행\n",
    "kmeans = KMeans(n_clusters=3,random_state=0)\n",
    "kmeans.fit(df_std1)\n",
    "\n",
    "# 결과 확인\n",
    "result_by_sklearn = df_std1.copy()\n",
    "result_by_sklearn[\"cluster\"] = kmeans.labels_\n",
    "result_by_sklearn.head()"
   ]
  },
  {
   "cell_type": "code",
   "execution_count": 715,
   "id": "a1e0159a",
   "metadata": {},
   "outputs": [
    {
     "data": {
      "text/html": [
       "<div>\n",
       "<style scoped>\n",
       "    .dataframe tbody tr th:only-of-type {\n",
       "        vertical-align: middle;\n",
       "    }\n",
       "\n",
       "    .dataframe tbody tr th {\n",
       "        vertical-align: top;\n",
       "    }\n",
       "\n",
       "    .dataframe thead th {\n",
       "        text-align: right;\n",
       "    }\n",
       "</style>\n",
       "<table border=\"1\" class=\"dataframe\">\n",
       "  <thead>\n",
       "    <tr style=\"text-align: right;\">\n",
       "      <th></th>\n",
       "      <th>count_std</th>\n",
       "      <th>sign_std</th>\n",
       "      <th>is_applied_std</th>\n",
       "    </tr>\n",
       "  </thead>\n",
       "  <tbody>\n",
       "    <tr>\n",
       "      <th>0</th>\n",
       "      <td>-0.288913</td>\n",
       "      <td>-0.990750</td>\n",
       "      <td>-0.139219</td>\n",
       "    </tr>\n",
       "    <tr>\n",
       "      <th>1</th>\n",
       "      <td>0.025491</td>\n",
       "      <td>0.749961</td>\n",
       "      <td>-0.119884</td>\n",
       "    </tr>\n",
       "    <tr>\n",
       "      <th>2</th>\n",
       "      <td>2.854657</td>\n",
       "      <td>0.780155</td>\n",
       "      <td>3.172757</td>\n",
       "    </tr>\n",
       "  </tbody>\n",
       "</table>\n",
       "</div>"
      ],
      "text/plain": [
       "   count_std  sign_std  is_applied_std\n",
       "0  -0.288913 -0.990750       -0.139219\n",
       "1   0.025491  0.749961       -0.119884\n",
       "2   2.854657  0.780155        3.172757"
      ]
     },
     "execution_count": 715,
     "metadata": {},
     "output_type": "execute_result"
    }
   ],
   "source": [
    "user_data_cluser_centers = pd.DataFrame(kmeans.cluster_centers_, columns=df_std1.columns)\n",
    "user_data_cluser_centers"
   ]
  },
  {
   "cell_type": "code",
   "execution_count": 716,
   "id": "86583894",
   "metadata": {},
   "outputs": [
    {
     "data": {
      "text/html": [
       "<div>\n",
       "<style scoped>\n",
       "    .dataframe tbody tr th:only-of-type {\n",
       "        vertical-align: middle;\n",
       "    }\n",
       "\n",
       "    .dataframe tbody tr th {\n",
       "        vertical-align: top;\n",
       "    }\n",
       "\n",
       "    .dataframe thead th {\n",
       "        text-align: right;\n",
       "    }\n",
       "</style>\n",
       "<table border=\"1\" class=\"dataframe\">\n",
       "  <thead>\n",
       "    <tr style=\"text-align: right;\">\n",
       "      <th></th>\n",
       "      <th>count_std</th>\n",
       "      <th>sign_std</th>\n",
       "      <th>is_applied_std</th>\n",
       "    </tr>\n",
       "    <tr>\n",
       "      <th>label_from_km</th>\n",
       "      <th></th>\n",
       "      <th></th>\n",
       "      <th></th>\n",
       "    </tr>\n",
       "  </thead>\n",
       "  <tbody>\n",
       "    <tr>\n",
       "      <th>0</th>\n",
       "      <td>118360</td>\n",
       "      <td>118360</td>\n",
       "      <td>118360</td>\n",
       "    </tr>\n",
       "    <tr>\n",
       "      <th>1</th>\n",
       "      <td>145237</td>\n",
       "      <td>145237</td>\n",
       "      <td>145237</td>\n",
       "    </tr>\n",
       "    <tr>\n",
       "      <th>2</th>\n",
       "      <td>10697</td>\n",
       "      <td>10697</td>\n",
       "      <td>10697</td>\n",
       "    </tr>\n",
       "  </tbody>\n",
       "</table>\n",
       "</div>"
      ],
      "text/plain": [
       "               count_std  sign_std  is_applied_std\n",
       "label_from_km                                     \n",
       "0                 118360    118360          118360\n",
       "1                 145237    145237          145237\n",
       "2                  10697     10697           10697"
      ]
     },
     "execution_count": 716,
     "metadata": {},
     "output_type": "execute_result"
    }
   ],
   "source": [
    "user_data_label_df = df_std1.copy()\n",
    "user_data_label_df[\"label_from_km\"] = kmeans.labels_\n",
    "\n",
    "#cluster별로 몇 개의 행이 속해있는지 확인 하는 group by\n",
    "user_data_label_df.groupby([\"label_from_km\"]).count()"
   ]
  },
  {
   "cell_type": "code",
   "execution_count": 717,
   "id": "051932bd",
   "metadata": {
    "scrolled": true
   },
   "outputs": [
    {
     "data": {
      "text/html": [
       "<div>\n",
       "<style scoped>\n",
       "    .dataframe tbody tr th:only-of-type {\n",
       "        vertical-align: middle;\n",
       "    }\n",
       "\n",
       "    .dataframe tbody tr th {\n",
       "        vertical-align: top;\n",
       "    }\n",
       "\n",
       "    .dataframe thead th {\n",
       "        text-align: right;\n",
       "    }\n",
       "</style>\n",
       "<table border=\"1\" class=\"dataframe\">\n",
       "  <thead>\n",
       "    <tr style=\"text-align: right;\">\n",
       "      <th></th>\n",
       "      <th>count_std</th>\n",
       "      <th>sign_std</th>\n",
       "      <th>is_applied_std</th>\n",
       "    </tr>\n",
       "    <tr>\n",
       "      <th>cluster</th>\n",
       "      <th></th>\n",
       "      <th></th>\n",
       "      <th></th>\n",
       "    </tr>\n",
       "  </thead>\n",
       "  <tbody>\n",
       "    <tr>\n",
       "      <th>0</th>\n",
       "      <td>-0.443234</td>\n",
       "      <td>-0.962350</td>\n",
       "      <td>-0.306615</td>\n",
       "    </tr>\n",
       "    <tr>\n",
       "      <th>1</th>\n",
       "      <td>-0.236746</td>\n",
       "      <td>0.807416</td>\n",
       "      <td>-0.306615</td>\n",
       "    </tr>\n",
       "    <tr>\n",
       "      <th>2</th>\n",
       "      <td>1.828133</td>\n",
       "      <td>1.065507</td>\n",
       "      <td>3.038794</td>\n",
       "    </tr>\n",
       "  </tbody>\n",
       "</table>\n",
       "</div>"
      ],
      "text/plain": [
       "         count_std  sign_std  is_applied_std\n",
       "cluster                                     \n",
       "0        -0.443234 -0.962350       -0.306615\n",
       "1        -0.236746  0.807416       -0.306615\n",
       "2         1.828133  1.065507        3.038794"
      ]
     },
     "execution_count": 717,
     "metadata": {},
     "output_type": "execute_result"
    }
   ],
   "source": [
    "result_by_sklearn.groupby(\"cluster\").agg(\"median\") "
   ]
  },
  {
   "cell_type": "code",
   "execution_count": 718,
   "id": "7c5ef664",
   "metadata": {},
   "outputs": [
    {
     "data": {
      "text/html": [
       "<div>\n",
       "<style scoped>\n",
       "    .dataframe tbody tr th:only-of-type {\n",
       "        vertical-align: middle;\n",
       "    }\n",
       "\n",
       "    .dataframe tbody tr th {\n",
       "        vertical-align: top;\n",
       "    }\n",
       "\n",
       "    .dataframe thead th {\n",
       "        text-align: right;\n",
       "    }\n",
       "</style>\n",
       "<table border=\"1\" class=\"dataframe\">\n",
       "  <thead>\n",
       "    <tr style=\"text-align: right;\">\n",
       "      <th></th>\n",
       "      <th>count_std</th>\n",
       "      <th>sign_std</th>\n",
       "      <th>is_applied_std</th>\n",
       "      <th>cluster</th>\n",
       "    </tr>\n",
       "  </thead>\n",
       "  <tbody>\n",
       "    <tr>\n",
       "      <th>count_std</th>\n",
       "      <td>1.000000</td>\n",
       "      <td>0.276467</td>\n",
       "      <td>0.334550</td>\n",
       "      <td>0.419405</td>\n",
       "    </tr>\n",
       "    <tr>\n",
       "      <th>sign_std</th>\n",
       "      <td>0.276467</td>\n",
       "      <td>1.000000</td>\n",
       "      <td>0.098703</td>\n",
       "      <td>0.814116</td>\n",
       "    </tr>\n",
       "    <tr>\n",
       "      <th>is_applied_std</th>\n",
       "      <td>0.334550</td>\n",
       "      <td>0.098703</td>\n",
       "      <td>1.000000</td>\n",
       "      <td>0.326593</td>\n",
       "    </tr>\n",
       "    <tr>\n",
       "      <th>cluster</th>\n",
       "      <td>0.419405</td>\n",
       "      <td>0.814116</td>\n",
       "      <td>0.326593</td>\n",
       "      <td>1.000000</td>\n",
       "    </tr>\n",
       "  </tbody>\n",
       "</table>\n",
       "</div>"
      ],
      "text/plain": [
       "                count_std  sign_std  is_applied_std   cluster\n",
       "count_std        1.000000  0.276467        0.334550  0.419405\n",
       "sign_std         0.276467  1.000000        0.098703  0.814116\n",
       "is_applied_std   0.334550  0.098703        1.000000  0.326593\n",
       "cluster          0.419405  0.814116        0.326593  1.000000"
      ]
     },
     "execution_count": 718,
     "metadata": {},
     "output_type": "execute_result"
    }
   ],
   "source": [
    "result_by_sklearn.corr()"
   ]
  },
  {
   "cell_type": "code",
   "execution_count": 719,
   "id": "e751c305",
   "metadata": {},
   "outputs": [
    {
     "data": {
      "text/html": [
       "<div>\n",
       "<style scoped>\n",
       "    .dataframe tbody tr th:only-of-type {\n",
       "        vertical-align: middle;\n",
       "    }\n",
       "\n",
       "    .dataframe tbody tr th {\n",
       "        vertical-align: top;\n",
       "    }\n",
       "\n",
       "    .dataframe thead th {\n",
       "        text-align: right;\n",
       "    }\n",
       "</style>\n",
       "<table border=\"1\" class=\"dataframe\">\n",
       "  <thead>\n",
       "    <tr style=\"text-align: right;\">\n",
       "      <th></th>\n",
       "      <th>count_std</th>\n",
       "      <th>sign_std</th>\n",
       "      <th>is_applied_std</th>\n",
       "      <th>cluster</th>\n",
       "    </tr>\n",
       "    <tr>\n",
       "      <th>user_id</th>\n",
       "      <th></th>\n",
       "      <th></th>\n",
       "      <th></th>\n",
       "      <th></th>\n",
       "    </tr>\n",
       "  </thead>\n",
       "  <tbody>\n",
       "    <tr>\n",
       "      <th>7</th>\n",
       "      <td>-0.443234</td>\n",
       "      <td>-1.626013</td>\n",
       "      <td>-0.306615</td>\n",
       "      <td>0</td>\n",
       "    </tr>\n",
       "    <tr>\n",
       "      <th>9</th>\n",
       "      <td>-0.443234</td>\n",
       "      <td>-1.589143</td>\n",
       "      <td>-0.306615</td>\n",
       "      <td>0</td>\n",
       "    </tr>\n",
       "    <tr>\n",
       "      <th>11</th>\n",
       "      <td>-0.236746</td>\n",
       "      <td>0.549325</td>\n",
       "      <td>1.366089</td>\n",
       "      <td>1</td>\n",
       "    </tr>\n",
       "    <tr>\n",
       "      <th>12</th>\n",
       "      <td>1.415157</td>\n",
       "      <td>0.918027</td>\n",
       "      <td>-0.306615</td>\n",
       "      <td>1</td>\n",
       "    </tr>\n",
       "    <tr>\n",
       "      <th>14</th>\n",
       "      <td>-0.236746</td>\n",
       "      <td>-0.372428</td>\n",
       "      <td>-0.306615</td>\n",
       "      <td>0</td>\n",
       "    </tr>\n",
       "    <tr>\n",
       "      <th>...</th>\n",
       "      <td>...</td>\n",
       "      <td>...</td>\n",
       "      <td>...</td>\n",
       "      <td>...</td>\n",
       "    </tr>\n",
       "    <tr>\n",
       "      <th>879693</th>\n",
       "      <td>-0.030258</td>\n",
       "      <td>-1.294182</td>\n",
       "      <td>-0.306615</td>\n",
       "      <td>0</td>\n",
       "    </tr>\n",
       "    <tr>\n",
       "      <th>879694</th>\n",
       "      <td>-0.443234</td>\n",
       "      <td>0.291234</td>\n",
       "      <td>-0.306615</td>\n",
       "      <td>1</td>\n",
       "    </tr>\n",
       "    <tr>\n",
       "      <th>879695</th>\n",
       "      <td>-0.443234</td>\n",
       "      <td>-1.810363</td>\n",
       "      <td>-0.306615</td>\n",
       "      <td>0</td>\n",
       "    </tr>\n",
       "    <tr>\n",
       "      <th>879696</th>\n",
       "      <td>-0.236746</td>\n",
       "      <td>0.918027</td>\n",
       "      <td>-0.306615</td>\n",
       "      <td>1</td>\n",
       "    </tr>\n",
       "    <tr>\n",
       "      <th>879697</th>\n",
       "      <td>-0.443234</td>\n",
       "      <td>-1.183571</td>\n",
       "      <td>-0.306615</td>\n",
       "      <td>0</td>\n",
       "    </tr>\n",
       "  </tbody>\n",
       "</table>\n",
       "<p>274294 rows × 4 columns</p>\n",
       "</div>"
      ],
      "text/plain": [
       "         count_std  sign_std  is_applied_std  cluster\n",
       "user_id                                              \n",
       "7        -0.443234 -1.626013       -0.306615        0\n",
       "9        -0.443234 -1.589143       -0.306615        0\n",
       "11       -0.236746  0.549325        1.366089        1\n",
       "12        1.415157  0.918027       -0.306615        1\n",
       "14       -0.236746 -0.372428       -0.306615        0\n",
       "...            ...       ...             ...      ...\n",
       "879693   -0.030258 -1.294182       -0.306615        0\n",
       "879694   -0.443234  0.291234       -0.306615        1\n",
       "879695   -0.443234 -1.810363       -0.306615        0\n",
       "879696   -0.236746  0.918027       -0.306615        1\n",
       "879697   -0.443234 -1.183571       -0.306615        0\n",
       "\n",
       "[274294 rows x 4 columns]"
      ]
     },
     "execution_count": 719,
     "metadata": {},
     "output_type": "execute_result"
    }
   ],
   "source": [
    "result_by_sklearn"
   ]
  },
  {
   "cell_type": "markdown",
   "id": "0d431ede",
   "metadata": {},
   "source": [
    "## 2차원 시각화 : 경우의 수 3가지 "
   ]
  },
  {
   "cell_type": "markdown",
   "id": "5ecfca08",
   "metadata": {},
   "source": [
    "### 대출조회 횟수, 주어진 기간 내 첫 대출조회 시간부터 6월 1일까지의 기간"
   ]
  },
  {
   "cell_type": "code",
   "execution_count": 776,
   "id": "77ef84ad",
   "metadata": {},
   "outputs": [],
   "source": [
    "blue = sns.color_palette(\"ch:start=.2,rot=-.3\")[3]"
   ]
  },
  {
   "cell_type": "code",
   "execution_count": 780,
   "id": "4895af6b",
   "metadata": {},
   "outputs": [],
   "source": [
    "green = sns.cubehelix_palette(start=2, rot=0, dark=0, light=.95)[3]"
   ]
  },
  {
   "cell_type": "code",
   "execution_count": 779,
   "id": "2b465594",
   "metadata": {},
   "outputs": [],
   "source": [
    "pink = sns.cubehelix_palette()[2]"
   ]
  },
  {
   "cell_type": "code",
   "execution_count": null,
   "id": "36112924",
   "metadata": {},
   "outputs": [],
   "source": []
  },
  {
   "cell_type": "code",
   "execution_count": null,
   "id": "55a4313a",
   "metadata": {},
   "outputs": [],
   "source": []
  },
  {
   "cell_type": "code",
   "execution_count": null,
   "id": "c7a85362",
   "metadata": {},
   "outputs": [],
   "source": []
  },
  {
   "cell_type": "code",
   "execution_count": 787,
   "id": "fba32454",
   "metadata": {},
   "outputs": [
    {
     "name": "stderr",
     "output_type": "stream",
     "text": [
      "No handles with labels found to put in legend.\n"
     ]
    },
    {
     "data": {
      "text/plain": [
       "<AxesSubplot:xlabel='sign_std', ylabel='count_std'>"
      ]
     },
     "execution_count": 787,
     "metadata": {},
     "output_type": "execute_result"
    },
    {
     "data": {
      "image/png": "[encoded data removed]",
      "text/plain": [
       "<Figure size 720x720 with 1 Axes>"
      ]
     },
     "metadata": {},
     "output_type": "display_data"
    }
   ],
   "source": [
    "ids = kmeans.fit_predict(df_std1[['count_std', 'sign_std']])\n",
    "#df_std1[\"predicted_label\"] = estimator.labels_.astype(int)\n",
    "\n",
    "plt.figure(figsize=(10,10))\n",
    "\n",
    "plt.xlabel('sign_std', fontsize=15)\n",
    "plt.ylabel('count_std', fontsize=15)\n",
    "\n",
    "\n",
    "\n",
    "        # 클러스터링 그리기\n",
    "sns.scatterplot(result_by_sklearn['sign_std'], result_by_sklearn['count_std'], hue=result_by_sklearn[\"cluster\"], palette=\"deep\", alpha=0.5)  "
   ]
  },
  {
   "cell_type": "markdown",
   "id": "28e3cb27",
   "metadata": {},
   "source": [
    "### 평균 대출신청 횟수, 주어진 기간 내 첫 대출조회 시간부터 6월 1일까지의 기간"
   ]
  },
  {
   "cell_type": "code",
   "execution_count": 788,
   "id": "0e11d8bf",
   "metadata": {
    "scrolled": true
   },
   "outputs": [
    {
     "data": {
      "text/plain": [
       "<AxesSubplot:xlabel='sign_std', ylabel='is_applied_std'>"
      ]
     },
     "execution_count": 788,
     "metadata": {},
     "output_type": "execute_result"
    },
    {
     "data": {
      "image/png": "[encoded data removed]",
      "text/plain": [
       "<Figure size 720x720 with 1 Axes>"
      ]
     },
     "metadata": {},
     "output_type": "display_data"
    }
   ],
   "source": [
    "ids = kmeans.fit_predict(df_std1[['is_applied_std', 'sign_std']])\n",
    "#df_std1[\"predicted_label\"] = estimator.labels_.astype(int)\n",
    "\n",
    "plt.figure(figsize=(10,10))\n",
    "\n",
    "plt.xlabel('sign_std', fontsize=15)\n",
    "plt.ylabel('is_applied_std', fontsize=15)\n",
    "\n",
    "        # 클러스터링 그리기\n",
    "sns.scatterplot(result_by_sklearn['sign_std'], result_by_sklearn['is_applied_std'], hue=result_by_sklearn[\"cluster\"], palette=\"deep\", alpha=0.5)  "
   ]
  },
  {
   "cell_type": "markdown",
   "id": "96a0c7a0",
   "metadata": {},
   "source": [
    "### 평균 대출신청 횟수, 대출조회 횟수"
   ]
  },
  {
   "cell_type": "code",
   "execution_count": 789,
   "id": "03741833",
   "metadata": {},
   "outputs": [
    {
     "data": {
      "text/plain": [
       "<AxesSubplot:xlabel='count_std', ylabel='is_applied_std'>"
      ]
     },
     "execution_count": 789,
     "metadata": {},
     "output_type": "execute_result"
    },
    {
     "data": {
      "image/png": "[encoded data removed]",
      "text/plain": [
       "<Figure size 720x720 with 1 Axes>"
      ]
     },
     "metadata": {},
     "output_type": "display_data"
    }
   ],
   "source": [
    "ids = kmeans.fit_predict(df_std1[['count_std', 'is_applied_std']])\n",
    "#df_std1[\"predicted_label\"] = estimator.labels_.astype(int)\n",
    "\n",
    "plt.figure(figsize=(10,10))\n",
    "\n",
    "plt.xlabel('count_std', fontsize=15)\n",
    "plt.ylabel('is_applied_std', fontsize=15)\n",
    "\n",
    "        # 클러스터링 그리기\n",
    "sns.scatterplot(result_by_sklearn['count_std'], result_by_sklearn['is_applied_std'], hue=result_by_sklearn[\"cluster\"], palette=\"deep\", alpha=0.5)  "
   ]
  },
  {
   "cell_type": "code",
   "execution_count": null,
   "id": "449c3b91",
   "metadata": {},
   "outputs": [],
   "source": []
  },
  {
   "cell_type": "markdown",
   "id": "cd341d78",
   "metadata": {},
   "source": [
    "## 군집별 로그 가져오기!"
   ]
  },
  {
   "cell_type": "markdown",
   "id": "db81310b",
   "metadata": {},
   "source": [
    "### Cluster0 "
   ]
  },
  {
   "cell_type": "code",
   "execution_count": 732,
   "id": "f9677cba",
   "metadata": {
    "scrolled": true
   },
   "outputs": [
    {
     "data": {
      "text/plain": [
       "array([     7,      9,     14, ..., 879693, 879695, 879697], dtype=int64)"
      ]
     },
     "execution_count": 732,
     "metadata": {},
     "output_type": "execute_result"
    }
   ],
   "source": [
    "\n",
    "result_by_sklearn.reset_index(inplace=True)\n",
    "\n",
    "result_by_sklearn[result_by_sklearn[\"cluster\"] ==0][\"user_id\"].unique()"
   ]
  },
  {
   "cell_type": "code",
   "execution_count": 733,
   "id": "a502554c",
   "metadata": {},
   "outputs": [
    {
     "data": {
      "application/vnd.jupyter.widget-view+json": {
       "model_id": "a7cbb6ffa4f34b81886b84897d8a3eeb",
       "version_major": 2,
       "version_minor": 0
      },
      "text/plain": [
       "  0%|          | 0/118360 [00:00<?, ?it/s]"
      ]
     },
     "metadata": {},
     "output_type": "display_data"
    },
    {
     "data": {
      "text/plain": [
       "118360"
      ]
     },
     "execution_count": 733,
     "metadata": {},
     "output_type": "execute_result"
    }
   ],
   "source": [
    "## 36분 걸림\n",
    "\n",
    "aa = []\n",
    "\n",
    "for i in tqdm_notebook(range(len(user_id_list_cluserzero))):\n",
    "\n",
    "    aa.append((user_log[user_log[\"user_id\"] == user_id_list_cluserzero[i]][\"event\"].value_counts()))\n",
    "    \n",
    "len(user_id_list_cluserzero)"
   ]
  },
  {
   "cell_type": "code",
   "execution_count": 734,
   "id": "24e1ea81",
   "metadata": {},
   "outputs": [],
   "source": [
    "clustzero_log= pd.DataFrame(aa).fillna(0)\n",
    "log_sum = pd.DataFrame(clustzero_log.sum())"
   ]
  },
  {
   "cell_type": "code",
   "execution_count": 735,
   "id": "2d97f1bc",
   "metadata": {},
   "outputs": [
    {
     "data": {
      "text/html": [
       "<div>\n",
       "<style scoped>\n",
       "    .dataframe tbody tr th:only-of-type {\n",
       "        vertical-align: middle;\n",
       "    }\n",
       "\n",
       "    .dataframe tbody tr th {\n",
       "        vertical-align: top;\n",
       "    }\n",
       "\n",
       "    .dataframe thead th {\n",
       "        text-align: right;\n",
       "    }\n",
       "</style>\n",
       "<table border=\"1\" class=\"dataframe\">\n",
       "  <thead>\n",
       "    <tr style=\"text-align: right;\">\n",
       "      <th></th>\n",
       "      <th>0</th>\n",
       "    </tr>\n",
       "  </thead>\n",
       "  <tbody>\n",
       "    <tr>\n",
       "      <th>GetCreditInfo</th>\n",
       "      <td>489036.0</td>\n",
       "    </tr>\n",
       "    <tr>\n",
       "      <th>Login</th>\n",
       "      <td>401453.0</td>\n",
       "    </tr>\n",
       "    <tr>\n",
       "      <th>EndLoanApply</th>\n",
       "      <td>489563.0</td>\n",
       "    </tr>\n",
       "    <tr>\n",
       "      <th>StartLoanApply</th>\n",
       "      <td>349598.0</td>\n",
       "    </tr>\n",
       "    <tr>\n",
       "      <th>ViewLoanApplyIntro</th>\n",
       "      <td>319324.0</td>\n",
       "    </tr>\n",
       "    <tr>\n",
       "      <th>CompleteIDCertification</th>\n",
       "      <td>215637.0</td>\n",
       "    </tr>\n",
       "    <tr>\n",
       "      <th>OpenApp</th>\n",
       "      <td>555824.0</td>\n",
       "    </tr>\n",
       "    <tr>\n",
       "      <th>UseLoanManage</th>\n",
       "      <td>282726.0</td>\n",
       "    </tr>\n",
       "    <tr>\n",
       "      <th>SignUp</th>\n",
       "      <td>5243.0</td>\n",
       "    </tr>\n",
       "    <tr>\n",
       "      <th>UsePrepayCalc</th>\n",
       "      <td>1313.0</td>\n",
       "    </tr>\n",
       "    <tr>\n",
       "      <th>UseDSRCalc</th>\n",
       "      <td>789.0</td>\n",
       "    </tr>\n",
       "  </tbody>\n",
       "</table>\n",
       "</div>"
      ],
      "text/plain": [
       "                                0\n",
       "GetCreditInfo            489036.0\n",
       "Login                    401453.0\n",
       "EndLoanApply             489563.0\n",
       "StartLoanApply           349598.0\n",
       "ViewLoanApplyIntro       319324.0\n",
       "CompleteIDCertification  215637.0\n",
       "OpenApp                  555824.0\n",
       "UseLoanManage            282726.0\n",
       "SignUp                     5243.0\n",
       "UsePrepayCalc              1313.0\n",
       "UseDSRCalc                  789.0"
      ]
     },
     "execution_count": 735,
     "metadata": {},
     "output_type": "execute_result"
    }
   ],
   "source": [
    "log_sum"
   ]
  },
  {
   "cell_type": "code",
   "execution_count": 736,
   "id": "cfdde10b",
   "metadata": {},
   "outputs": [],
   "source": [
    "list1 = []\n",
    "\n",
    "for i in range(len(log_sum)):\n",
    "    list1.append(log_sum[0][i] / log_sum.sum()[0])\n"
   ]
  },
  {
   "cell_type": "code",
   "execution_count": 737,
   "id": "1a0f95a3",
   "metadata": {
    "scrolled": true
   },
   "outputs": [
    {
     "data": {
      "text/html": [
       "<div>\n",
       "<style scoped>\n",
       "    .dataframe tbody tr th:only-of-type {\n",
       "        vertical-align: middle;\n",
       "    }\n",
       "\n",
       "    .dataframe tbody tr th {\n",
       "        vertical-align: top;\n",
       "    }\n",
       "\n",
       "    .dataframe thead th {\n",
       "        text-align: right;\n",
       "    }\n",
       "</style>\n",
       "<table border=\"1\" class=\"dataframe\">\n",
       "  <thead>\n",
       "    <tr style=\"text-align: right;\">\n",
       "      <th></th>\n",
       "      <th>0</th>\n",
       "      <th>ratio</th>\n",
       "    </tr>\n",
       "  </thead>\n",
       "  <tbody>\n",
       "    <tr>\n",
       "      <th>UseDSRCalc</th>\n",
       "      <td>789.0</td>\n",
       "      <td>0.000254</td>\n",
       "    </tr>\n",
       "    <tr>\n",
       "      <th>UsePrepayCalc</th>\n",
       "      <td>1313.0</td>\n",
       "      <td>0.000422</td>\n",
       "    </tr>\n",
       "    <tr>\n",
       "      <th>SignUp</th>\n",
       "      <td>5243.0</td>\n",
       "      <td>0.001686</td>\n",
       "    </tr>\n",
       "    <tr>\n",
       "      <th>CompleteIDCertification</th>\n",
       "      <td>215637.0</td>\n",
       "      <td>0.069325</td>\n",
       "    </tr>\n",
       "    <tr>\n",
       "      <th>UseLoanManage</th>\n",
       "      <td>282726.0</td>\n",
       "      <td>0.090894</td>\n",
       "    </tr>\n",
       "    <tr>\n",
       "      <th>ViewLoanApplyIntro</th>\n",
       "      <td>319324.0</td>\n",
       "      <td>0.102660</td>\n",
       "    </tr>\n",
       "    <tr>\n",
       "      <th>StartLoanApply</th>\n",
       "      <td>349598.0</td>\n",
       "      <td>0.112393</td>\n",
       "    </tr>\n",
       "    <tr>\n",
       "      <th>Login</th>\n",
       "      <td>401453.0</td>\n",
       "      <td>0.129064</td>\n",
       "    </tr>\n",
       "    <tr>\n",
       "      <th>GetCreditInfo</th>\n",
       "      <td>489036.0</td>\n",
       "      <td>0.157221</td>\n",
       "    </tr>\n",
       "    <tr>\n",
       "      <th>EndLoanApply</th>\n",
       "      <td>489563.0</td>\n",
       "      <td>0.157390</td>\n",
       "    </tr>\n",
       "    <tr>\n",
       "      <th>OpenApp</th>\n",
       "      <td>555824.0</td>\n",
       "      <td>0.178692</td>\n",
       "    </tr>\n",
       "  </tbody>\n",
       "</table>\n",
       "</div>"
      ],
      "text/plain": [
       "                                0     ratio\n",
       "UseDSRCalc                  789.0  0.000254\n",
       "UsePrepayCalc              1313.0  0.000422\n",
       "SignUp                     5243.0  0.001686\n",
       "CompleteIDCertification  215637.0  0.069325\n",
       "UseLoanManage            282726.0  0.090894\n",
       "ViewLoanApplyIntro       319324.0  0.102660\n",
       "StartLoanApply           349598.0  0.112393\n",
       "Login                    401453.0  0.129064\n",
       "GetCreditInfo            489036.0  0.157221\n",
       "EndLoanApply             489563.0  0.157390\n",
       "OpenApp                  555824.0  0.178692"
      ]
     },
     "execution_count": 737,
     "metadata": {},
     "output_type": "execute_result"
    }
   ],
   "source": [
    "log_sum[\"ratio\"] = list1\n",
    "log_sum.sort_values(\"ratio\")"
   ]
  },
  {
   "cell_type": "code",
   "execution_count": null,
   "id": "04690e7e",
   "metadata": {},
   "outputs": [],
   "source": []
  },
  {
   "cell_type": "markdown",
   "id": "f0e7b584",
   "metadata": {},
   "source": [
    "### Cluster1 "
   ]
  },
  {
   "cell_type": "code",
   "execution_count": 738,
   "id": "d46c87d4",
   "metadata": {},
   "outputs": [],
   "source": [
    "user_id_list_clusterone= result_by_sklearn[result_by_sklearn[\"cluster\"] == 1][\"user_id\"].unique()"
   ]
  },
  {
   "cell_type": "code",
   "execution_count": 739,
   "id": "0c923294",
   "metadata": {},
   "outputs": [
    {
     "data": {
      "application/vnd.jupyter.widget-view+json": {
       "model_id": "4db335bf4fbb48b2a81fb8e106f9a027",
       "version_major": 2,
       "version_minor": 0
      },
      "text/plain": [
       "  0%|          | 0/145237 [00:00<?, ?it/s]"
      ]
     },
     "metadata": {},
     "output_type": "display_data"
    },
    {
     "data": {
      "text/plain": [
       "145237"
      ]
     },
     "execution_count": 739,
     "metadata": {},
     "output_type": "execute_result"
    }
   ],
   "source": [
    "## 44분걸림\n",
    "\n",
    "bb = []\n",
    "\n",
    "for i in tqdm_notebook(range(len(user_id_list_clusterone))):\n",
    "\n",
    "    bb.append((user_log[user_log[\"user_id\"] == user_id_list_clusterone[i]][\"event\"].value_counts()))\n",
    "    \n",
    "len(user_id_list_clusterone)"
   ]
  },
  {
   "cell_type": "code",
   "execution_count": 740,
   "id": "698628c9",
   "metadata": {},
   "outputs": [],
   "source": [
    "clusterone_log= pd.DataFrame(bb).fillna(0)\n",
    "logone_sum = pd.DataFrame(clusterone_log.sum())"
   ]
  },
  {
   "cell_type": "code",
   "execution_count": 741,
   "id": "cf322b74",
   "metadata": {},
   "outputs": [],
   "source": [
    "list2 = []\n",
    "\n",
    "for i in range(len(logone_sum)):\n",
    "    list2.append(logone_sum[0][i] / logone_sum.sum()[0])"
   ]
  },
  {
   "cell_type": "code",
   "execution_count": 742,
   "id": "1e1e5f51",
   "metadata": {},
   "outputs": [
    {
     "data": {
      "text/html": [
       "<div>\n",
       "<style scoped>\n",
       "    .dataframe tbody tr th:only-of-type {\n",
       "        vertical-align: middle;\n",
       "    }\n",
       "\n",
       "    .dataframe tbody tr th {\n",
       "        vertical-align: top;\n",
       "    }\n",
       "\n",
       "    .dataframe thead th {\n",
       "        text-align: right;\n",
       "    }\n",
       "</style>\n",
       "<table border=\"1\" class=\"dataframe\">\n",
       "  <thead>\n",
       "    <tr style=\"text-align: right;\">\n",
       "      <th></th>\n",
       "      <th>0</th>\n",
       "      <th>ratio</th>\n",
       "    </tr>\n",
       "  </thead>\n",
       "  <tbody>\n",
       "    <tr>\n",
       "      <th>UseDSRCalc</th>\n",
       "      <td>2179.0</td>\n",
       "      <td>0.000310</td>\n",
       "    </tr>\n",
       "    <tr>\n",
       "      <th>UsePrepayCalc</th>\n",
       "      <td>3492.0</td>\n",
       "      <td>0.000496</td>\n",
       "    </tr>\n",
       "    <tr>\n",
       "      <th>SignUp</th>\n",
       "      <td>8833.0</td>\n",
       "      <td>0.001255</td>\n",
       "    </tr>\n",
       "    <tr>\n",
       "      <th>CompleteIDCertification</th>\n",
       "      <td>525853.0</td>\n",
       "      <td>0.074719</td>\n",
       "    </tr>\n",
       "    <tr>\n",
       "      <th>UseLoanManage</th>\n",
       "      <td>617870.0</td>\n",
       "      <td>0.087793</td>\n",
       "    </tr>\n",
       "    <tr>\n",
       "      <th>ViewLoanApplyIntro</th>\n",
       "      <td>734754.0</td>\n",
       "      <td>0.104401</td>\n",
       "    </tr>\n",
       "    <tr>\n",
       "      <th>StartLoanApply</th>\n",
       "      <td>781028.0</td>\n",
       "      <td>0.110977</td>\n",
       "    </tr>\n",
       "    <tr>\n",
       "      <th>GetCreditInfo</th>\n",
       "      <td>944445.0</td>\n",
       "      <td>0.134197</td>\n",
       "    </tr>\n",
       "    <tr>\n",
       "      <th>Login</th>\n",
       "      <td>971285.0</td>\n",
       "      <td>0.138010</td>\n",
       "    </tr>\n",
       "    <tr>\n",
       "      <th>EndLoanApply</th>\n",
       "      <td>1125056.0</td>\n",
       "      <td>0.159860</td>\n",
       "    </tr>\n",
       "    <tr>\n",
       "      <th>OpenApp</th>\n",
       "      <td>1322978.0</td>\n",
       "      <td>0.187982</td>\n",
       "    </tr>\n",
       "  </tbody>\n",
       "</table>\n",
       "</div>"
      ],
      "text/plain": [
       "                                 0     ratio\n",
       "UseDSRCalc                  2179.0  0.000310\n",
       "UsePrepayCalc               3492.0  0.000496\n",
       "SignUp                      8833.0  0.001255\n",
       "CompleteIDCertification   525853.0  0.074719\n",
       "UseLoanManage             617870.0  0.087793\n",
       "ViewLoanApplyIntro        734754.0  0.104401\n",
       "StartLoanApply            781028.0  0.110977\n",
       "GetCreditInfo             944445.0  0.134197\n",
       "Login                     971285.0  0.138010\n",
       "EndLoanApply             1125056.0  0.159860\n",
       "OpenApp                  1322978.0  0.187982"
      ]
     },
     "execution_count": 742,
     "metadata": {},
     "output_type": "execute_result"
    }
   ],
   "source": [
    "logone_sum[\"ratio\"] = list2\n",
    "logone_sum.sort_values(\"ratio\")"
   ]
  },
  {
   "cell_type": "markdown",
   "id": "85a3da76",
   "metadata": {},
   "source": [
    "### Cluster2"
   ]
  },
  {
   "cell_type": "code",
   "execution_count": 743,
   "id": "3cf8d661",
   "metadata": {},
   "outputs": [],
   "source": [
    "user_id_list_clustertwo= result_by_sklearn[result_by_sklearn[\"cluster\"] == 2][\"user_id\"].unique()"
   ]
  },
  {
   "cell_type": "code",
   "execution_count": 744,
   "id": "7417c3e0",
   "metadata": {},
   "outputs": [
    {
     "data": {
      "application/vnd.jupyter.widget-view+json": {
       "model_id": "03a366fd5f664d81a1943d39cfeb71ca",
       "version_major": 2,
       "version_minor": 0
      },
      "text/plain": [
       "  0%|          | 0/10697 [00:00<?, ?it/s]"
      ]
     },
     "metadata": {},
     "output_type": "display_data"
    },
    {
     "data": {
      "text/plain": [
       "10697"
      ]
     },
     "execution_count": 744,
     "metadata": {},
     "output_type": "execute_result"
    }
   ],
   "source": [
    "## 3분걸림\n",
    "\n",
    "cc = []\n",
    "\n",
    "for i in tqdm_notebook(range(len(user_id_list_clustertwo))):\n",
    "\n",
    "    cc.append((user_log[user_log[\"user_id\"] == user_id_list_clustertwo[i]][\"event\"].value_counts()))\n",
    "    \n",
    "len(user_id_list_clustertwo)"
   ]
  },
  {
   "cell_type": "code",
   "execution_count": 745,
   "id": "eb16c695",
   "metadata": {},
   "outputs": [],
   "source": [
    "clusterone_two= pd.DataFrame(cc).fillna(0)\n",
    "logtwo_sum = pd.DataFrame(clusterone_two.sum())"
   ]
  },
  {
   "cell_type": "code",
   "execution_count": 746,
   "id": "bcbe4574",
   "metadata": {},
   "outputs": [],
   "source": [
    "list3 = []\n",
    "\n",
    "for i in range(len(logtwo_sum)):\n",
    "    list3.append(logtwo_sum[0][i] / logtwo_sum.sum()[0])"
   ]
  },
  {
   "cell_type": "code",
   "execution_count": 747,
   "id": "cd2c010d",
   "metadata": {},
   "outputs": [
    {
     "data": {
      "text/html": [
       "<div>\n",
       "<style scoped>\n",
       "    .dataframe tbody tr th:only-of-type {\n",
       "        vertical-align: middle;\n",
       "    }\n",
       "\n",
       "    .dataframe tbody tr th {\n",
       "        vertical-align: top;\n",
       "    }\n",
       "\n",
       "    .dataframe thead th {\n",
       "        text-align: right;\n",
       "    }\n",
       "</style>\n",
       "<table border=\"1\" class=\"dataframe\">\n",
       "  <thead>\n",
       "    <tr style=\"text-align: right;\">\n",
       "      <th></th>\n",
       "      <th>0</th>\n",
       "      <th>ratio</th>\n",
       "    </tr>\n",
       "  </thead>\n",
       "  <tbody>\n",
       "    <tr>\n",
       "      <th>UseDSRCalc</th>\n",
       "      <td>326.0</td>\n",
       "      <td>0.000133</td>\n",
       "    </tr>\n",
       "    <tr>\n",
       "      <th>UsePrepayCalc</th>\n",
       "      <td>543.0</td>\n",
       "      <td>0.000222</td>\n",
       "    </tr>\n",
       "    <tr>\n",
       "      <th>SignUp</th>\n",
       "      <td>1481.0</td>\n",
       "      <td>0.000605</td>\n",
       "    </tr>\n",
       "    <tr>\n",
       "      <th>UseLoanManage</th>\n",
       "      <td>152737.0</td>\n",
       "      <td>0.062373</td>\n",
       "    </tr>\n",
       "    <tr>\n",
       "      <th>CompleteIDCertification</th>\n",
       "      <td>219484.0</td>\n",
       "      <td>0.089630</td>\n",
       "    </tr>\n",
       "    <tr>\n",
       "      <th>GetCreditInfo</th>\n",
       "      <td>229975.0</td>\n",
       "      <td>0.093914</td>\n",
       "    </tr>\n",
       "    <tr>\n",
       "      <th>ViewLoanApplyIntro</th>\n",
       "      <td>287428.0</td>\n",
       "      <td>0.117376</td>\n",
       "    </tr>\n",
       "    <tr>\n",
       "      <th>Login</th>\n",
       "      <td>314416.0</td>\n",
       "      <td>0.128397</td>\n",
       "    </tr>\n",
       "    <tr>\n",
       "      <th>StartLoanApply</th>\n",
       "      <td>326311.0</td>\n",
       "      <td>0.133255</td>\n",
       "    </tr>\n",
       "    <tr>\n",
       "      <th>OpenApp</th>\n",
       "      <td>416054.0</td>\n",
       "      <td>0.169903</td>\n",
       "    </tr>\n",
       "    <tr>\n",
       "      <th>EndLoanApply</th>\n",
       "      <td>500025.0</td>\n",
       "      <td>0.204194</td>\n",
       "    </tr>\n",
       "  </tbody>\n",
       "</table>\n",
       "</div>"
      ],
      "text/plain": [
       "                                0     ratio\n",
       "UseDSRCalc                  326.0  0.000133\n",
       "UsePrepayCalc               543.0  0.000222\n",
       "SignUp                     1481.0  0.000605\n",
       "UseLoanManage            152737.0  0.062373\n",
       "CompleteIDCertification  219484.0  0.089630\n",
       "GetCreditInfo            229975.0  0.093914\n",
       "ViewLoanApplyIntro       287428.0  0.117376\n",
       "Login                    314416.0  0.128397\n",
       "StartLoanApply           326311.0  0.133255\n",
       "OpenApp                  416054.0  0.169903\n",
       "EndLoanApply             500025.0  0.204194"
      ]
     },
     "execution_count": 747,
     "metadata": {},
     "output_type": "execute_result"
    }
   ],
   "source": [
    "logtwo_sum[\"ratio\"] = list3\n",
    "logtwo_sum.sort_values(\"ratio\")"
   ]
  },
  {
   "cell_type": "code",
   "execution_count": 748,
   "id": "e848595b",
   "metadata": {
    "scrolled": false
   },
   "outputs": [
    {
     "name": "stdout",
     "output_type": "stream",
     "text": [
      "전체에 대한 로그데이터 행의 개수는    17,843,993개\n",
      "0번 군집에 대한 로그데이터 행의 개수는 3,110,506개\n",
      "1번 군집에 대한 로그데이터 행의 개수는 145,237개\n",
      "2번 군집에 대한 로그데이터 행의 개수는 2,448,780개\n"
     ]
    }
   ],
   "source": [
    "log_sum.rename(columns={0:'count'},inplace=True)\n",
    "logone_sum.rename(columns={0:'count'},inplace=True)\n",
    "logtwo_sum.rename(columns={0:'count'},inplace=True)\n",
    "\n",
    "log_sum['ratio']=round(log_sum['ratio'],3)\n",
    "logone_sum['ratio']=round(logone_sum['ratio'],3)\n",
    "logtwo_sum['ratio']=round(logtwo_sum['ratio'],3)\n",
    "\n",
    "print(\"전체에 대한 로그데이터 행의 개수는    {:,}개\" .format(len(user_log)) )\n",
    "print(\"0번 군집에 대한 로그데이터 행의 개수는 {:,}개\" .format(len(clusterzero_log)) )\n",
    "print(\"1번 군집에 대한 로그데이터 행의 개수는 {:,}개\" .format(len(clusterone_log)) )\n",
    "print(\"2번 군집에 대한 로그데이터 행의 개수는 {:,}개\" .format(len(clustertwo_log)) )"
   ]
  },
  {
   "cell_type": "code",
   "execution_count": 749,
   "id": "b47ee2da",
   "metadata": {
    "scrolled": true
   },
   "outputs": [],
   "source": [
    "# 군집에 따른 로그데이터 만들기\n",
    "clusterzero_log=user_log[user_log['user_id'].isin(user_id_list_cluserzero)]\n",
    "clusterone_log=user_log[user_log['user_id'].isin(user_id_list_clusterone)]\n",
    "clustertwo_log=user_log[user_log['user_id'].isin(user_id_list_clustertwo)]"
   ]
  },
  {
   "cell_type": "code",
   "execution_count": null,
   "id": "00f93ac7",
   "metadata": {},
   "outputs": [],
   "source": []
  },
  {
   "cell_type": "markdown",
   "id": "5ad5f45f",
   "metadata": {},
   "source": [
    "### 오래 걸리는 리스트 따로 저장 정리"
   ]
  },
  {
   "cell_type": "code",
   "execution_count": 750,
   "id": "66bb1f50",
   "metadata": {
    "scrolled": true
   },
   "outputs": [],
   "source": [
    "#log_sum2=log_sum.reset_index()\n",
    "#logone_sum2=logone_sum.reset_index()\n",
    "#logtwo_sum2=logtwo_sum.reset_index()"
   ]
  },
  {
   "cell_type": "code",
   "execution_count": 751,
   "id": "8c6359ae",
   "metadata": {},
   "outputs": [],
   "source": [
    "#log_sum2.to_csv('log_sum.csv',index=False)\n",
    "#logone_sum2.to_csv('logone_sum.csv',index=False)\n",
    "#logtwo_sum2.to_csv('logtwo_sum.csv',index=False)\n",
    "#clusterzero_log.to_csv('clusterzero_log.csv',index=False)\n",
    "#clusterone_log.to_csv('clusterone_log.csv',index=False)\n",
    "#clustertwo_log.to_csv('clustertwo_log.csv',index=False)"
   ]
  },
  {
   "cell_type": "markdown",
   "id": "9898e5ca",
   "metadata": {},
   "source": [
    "### 불러오는 코드"
   ]
  },
  {
   "cell_type": "code",
   "execution_count": 752,
   "id": "aaa2a42b",
   "metadata": {},
   "outputs": [],
   "source": [
    "#log_sum = pd.read_csv('log_sum.csv')\n",
    "#logone_sum = pd.read_csv('logone_sum.csv')\n",
    "#logtwo_sum = pd.read_csv('logtwo_sum.csv')\n",
    "\n",
    "#clusterzero_log = pd.read_csv('clusterzero_log.csv')\n",
    "#clusterone_log = pd.read_csv('clusterone_log.csv')\n",
    "#clustertwo_log = pd.read_csv('clustertwo_log.csv')\n",
    "\n",
    "#log_sum=log_sum.set_index('index')\n",
    "#logone_sum=logone_sum.set_index('index')\n",
    "#logtwo_sum=logtwo_sum.set_index('index')"
   ]
  },
  {
   "cell_type": "code",
   "execution_count": null,
   "id": "038495aa",
   "metadata": {},
   "outputs": [],
   "source": []
  },
  {
   "cell_type": "code",
   "execution_count": 753,
   "id": "b6c2e6e2",
   "metadata": {},
   "outputs": [],
   "source": [
    "# event_group 리스트 만들기\n",
    "event_group=user_log['event'].unique()"
   ]
  },
  {
   "cell_type": "code",
   "execution_count": 754,
   "id": "cd4a0a63",
   "metadata": {},
   "outputs": [],
   "source": [
    "kk=(event_group[9],event_group[3],event_group[6],\n",
    "event_group[1],event_group[0],event_group[7],event_group[2],\n",
    "event_group[4],event_group[5],event_group[8],\n",
    "event_group[10])\n",
    "event_order=list(kk)"
   ]
  },
  {
   "cell_type": "markdown",
   "id": "1bc56fe6",
   "metadata": {},
   "source": [
    "### 군집별 로그 데이터의 event 시각화 "
   ]
  },
  {
   "cell_type": "code",
   "execution_count": 755,
   "id": "d7f84a18",
   "metadata": {},
   "outputs": [],
   "source": [
    "import seaborn as sns"
   ]
  },
  {
   "cell_type": "code",
   "execution_count": 756,
   "id": "6154392c",
   "metadata": {},
   "outputs": [
    {
     "data": {
      "image/png": "[encoded data removed]",
      "text/plain": [
       "<Figure size 1440x1440 with 3 Axes>"
      ]
     },
     "metadata": {},
     "output_type": "display_data"
    }
   ],
   "source": [
    "plt.figure(figsize=(20,20))\n",
    "sns.set_style('whitegrid')\n",
    "\n",
    "plt.subplot(3,1,1)\n",
    "a2=sns.countplot(x='event',data=clusterzero_log, palette='Set3',order=event_order)\n",
    "plt.xticks(rotation=-45)\n",
    "plt.title('군집0')\n",
    "for patch in a2.patches:\n",
    "    a2.text(x= patch.get_x() + patch.get_width()/2,\n",
    "           y= patch.get_height() + len(clusterzero_log)*0.0001,\n",
    "           s= f'{ (patch.get_height()/len(clusterzero_log))*100: 1.3f}%',\n",
    "           ha='center')\n",
    "\n",
    "plt.subplot(3,1,2)\n",
    "a3=sns.countplot(x='event',data=clusterone_log, palette='Set3',order=event_order)\n",
    "plt.xticks(rotation=-45)\n",
    "plt.title('군집1')\n",
    "for patch in a3.patches:\n",
    "    a3.text(x= patch.get_x() + patch.get_width()/2,\n",
    "           y= patch.get_height() + len(clusterone_log)*0.0001,\n",
    "           s= f'{ (patch.get_height()/len(clusterone_log))*100: 1.3f}%',\n",
    "           ha='center')\n",
    "\n",
    "plt.subplot(3,1,3)\n",
    "a4=sns.countplot(x='event',data=clustertwo_log, palette='Set3',order=event_order)\n",
    "plt.xticks(rotation=-45)\n",
    "plt.title('군집2')\n",
    "for patch in a4.patches:\n",
    "    a4.text(x= patch.get_x() + patch.get_width()/2,\n",
    "           y= patch.get_height() + len(clustertwo_log)*0.0001,\n",
    "           s= f'{ (patch.get_height()/len(clustertwo_log))*100: 1.3f}%',\n",
    "           ha='center')\n",
    "\n",
    "plt.subplots_adjust(hspace = 0.4)\n",
    "plt.show()"
   ]
  },
  {
   "cell_type": "markdown",
   "id": "1cff66fa",
   "metadata": {},
   "source": [
    "### Cluster2에서 대출관련 로그 빈도가 타 군집에 비해 상대적으로 높다. 회원가입 비중이 적다. 서비스 활용 비중 적다. 신용조회 서비스 활용이 비중 적다."
   ]
  },
  {
   "cell_type": "code",
   "execution_count": null,
   "id": "6c0376ce",
   "metadata": {},
   "outputs": [],
   "source": []
  },
  {
   "cell_type": "code",
   "execution_count": 757,
   "id": "3aab1ace",
   "metadata": {
    "scrolled": true
   },
   "outputs": [
    {
     "data": {
      "text/html": [
       "<div>\n",
       "<style scoped>\n",
       "    .dataframe tbody tr th:only-of-type {\n",
       "        vertical-align: middle;\n",
       "    }\n",
       "\n",
       "    .dataframe tbody tr th {\n",
       "        vertical-align: top;\n",
       "    }\n",
       "\n",
       "    .dataframe thead th {\n",
       "        text-align: right;\n",
       "    }\n",
       "</style>\n",
       "<table border=\"1\" class=\"dataframe\">\n",
       "  <thead>\n",
       "    <tr style=\"text-align: right;\">\n",
       "      <th></th>\n",
       "      <th>count_0</th>\n",
       "      <th>ratio_0</th>\n",
       "      <th>count_1</th>\n",
       "      <th>ratio_1</th>\n",
       "      <th>count_2</th>\n",
       "      <th>ratio_2</th>\n",
       "    </tr>\n",
       "  </thead>\n",
       "  <tbody>\n",
       "    <tr>\n",
       "      <th>GetCreditInfo</th>\n",
       "      <td>489036.0</td>\n",
       "      <td>0.157</td>\n",
       "      <td>944445.0</td>\n",
       "      <td>0.134</td>\n",
       "      <td>229975.0</td>\n",
       "      <td>0.094</td>\n",
       "    </tr>\n",
       "    <tr>\n",
       "      <th>Login</th>\n",
       "      <td>401453.0</td>\n",
       "      <td>0.129</td>\n",
       "      <td>971285.0</td>\n",
       "      <td>0.138</td>\n",
       "      <td>314416.0</td>\n",
       "      <td>0.128</td>\n",
       "    </tr>\n",
       "    <tr>\n",
       "      <th>EndLoanApply</th>\n",
       "      <td>489563.0</td>\n",
       "      <td>0.157</td>\n",
       "      <td>1125056.0</td>\n",
       "      <td>0.160</td>\n",
       "      <td>500025.0</td>\n",
       "      <td>0.204</td>\n",
       "    </tr>\n",
       "    <tr>\n",
       "      <th>StartLoanApply</th>\n",
       "      <td>349598.0</td>\n",
       "      <td>0.112</td>\n",
       "      <td>781028.0</td>\n",
       "      <td>0.111</td>\n",
       "      <td>326311.0</td>\n",
       "      <td>0.133</td>\n",
       "    </tr>\n",
       "    <tr>\n",
       "      <th>ViewLoanApplyIntro</th>\n",
       "      <td>319324.0</td>\n",
       "      <td>0.103</td>\n",
       "      <td>734754.0</td>\n",
       "      <td>0.104</td>\n",
       "      <td>287428.0</td>\n",
       "      <td>0.117</td>\n",
       "    </tr>\n",
       "    <tr>\n",
       "      <th>CompleteIDCertification</th>\n",
       "      <td>215637.0</td>\n",
       "      <td>0.069</td>\n",
       "      <td>525853.0</td>\n",
       "      <td>0.075</td>\n",
       "      <td>219484.0</td>\n",
       "      <td>0.090</td>\n",
       "    </tr>\n",
       "    <tr>\n",
       "      <th>OpenApp</th>\n",
       "      <td>555824.0</td>\n",
       "      <td>0.179</td>\n",
       "      <td>1322978.0</td>\n",
       "      <td>0.188</td>\n",
       "      <td>416054.0</td>\n",
       "      <td>0.170</td>\n",
       "    </tr>\n",
       "    <tr>\n",
       "      <th>UseLoanManage</th>\n",
       "      <td>282726.0</td>\n",
       "      <td>0.091</td>\n",
       "      <td>617870.0</td>\n",
       "      <td>0.088</td>\n",
       "      <td>152737.0</td>\n",
       "      <td>0.062</td>\n",
       "    </tr>\n",
       "    <tr>\n",
       "      <th>SignUp</th>\n",
       "      <td>5243.0</td>\n",
       "      <td>0.002</td>\n",
       "      <td>8833.0</td>\n",
       "      <td>0.001</td>\n",
       "      <td>1481.0</td>\n",
       "      <td>0.001</td>\n",
       "    </tr>\n",
       "    <tr>\n",
       "      <th>UsePrepayCalc</th>\n",
       "      <td>1313.0</td>\n",
       "      <td>0.000</td>\n",
       "      <td>3492.0</td>\n",
       "      <td>0.000</td>\n",
       "      <td>543.0</td>\n",
       "      <td>0.000</td>\n",
       "    </tr>\n",
       "    <tr>\n",
       "      <th>UseDSRCalc</th>\n",
       "      <td>789.0</td>\n",
       "      <td>0.000</td>\n",
       "      <td>2179.0</td>\n",
       "      <td>0.000</td>\n",
       "      <td>326.0</td>\n",
       "      <td>0.000</td>\n",
       "    </tr>\n",
       "  </tbody>\n",
       "</table>\n",
       "</div>"
      ],
      "text/plain": [
       "                          count_0  ratio_0    count_1  ratio_1   count_2  \\\n",
       "GetCreditInfo            489036.0    0.157   944445.0    0.134  229975.0   \n",
       "Login                    401453.0    0.129   971285.0    0.138  314416.0   \n",
       "EndLoanApply             489563.0    0.157  1125056.0    0.160  500025.0   \n",
       "StartLoanApply           349598.0    0.112   781028.0    0.111  326311.0   \n",
       "ViewLoanApplyIntro       319324.0    0.103   734754.0    0.104  287428.0   \n",
       "CompleteIDCertification  215637.0    0.069   525853.0    0.075  219484.0   \n",
       "OpenApp                  555824.0    0.179  1322978.0    0.188  416054.0   \n",
       "UseLoanManage            282726.0    0.091   617870.0    0.088  152737.0   \n",
       "SignUp                     5243.0    0.002     8833.0    0.001    1481.0   \n",
       "UsePrepayCalc              1313.0    0.000     3492.0    0.000     543.0   \n",
       "UseDSRCalc                  789.0    0.000     2179.0    0.000     326.0   \n",
       "\n",
       "                         ratio_2  \n",
       "GetCreditInfo              0.094  \n",
       "Login                      0.128  \n",
       "EndLoanApply               0.204  \n",
       "StartLoanApply             0.133  \n",
       "ViewLoanApplyIntro         0.117  \n",
       "CompleteIDCertification    0.090  \n",
       "OpenApp                    0.170  \n",
       "UseLoanManage              0.062  \n",
       "SignUp                     0.001  \n",
       "UsePrepayCalc              0.000  \n",
       "UseDSRCalc                 0.000  "
      ]
     },
     "execution_count": 757,
     "metadata": {},
     "output_type": "execute_result"
    }
   ],
   "source": [
    "log_sum.rename(columns={'count':'count_0','ratio':'ratio_0'},inplace=True)\n",
    "logone_sum.rename(columns={'count':'count_1','ratio':'ratio_1'},inplace=True)\n",
    "logtwo_sum.rename(columns={'count':'count_2','ratio':'ratio_2'},inplace=True)\n",
    "\n",
    "event=pd.concat( (log_sum,logone_sum,logtwo_sum), axis=1, join='outer' )\n",
    "event"
   ]
  },
  {
   "cell_type": "markdown",
   "id": "8e367fe2",
   "metadata": {},
   "source": [
    "0번 군집에 대한 로그데이터 행의 개수는 3,110,506개\n",
    "1번 군집에 대한 로그데이터 행의 개수는 7,037,773개\n",
    "2번 군집에 대한 로그데이터 행의 개수는 2,448,780개"
   ]
  },
  {
   "cell_type": "code",
   "execution_count": null,
   "id": "cd5f1698",
   "metadata": {},
   "outputs": [],
   "source": []
  },
  {
   "cell_type": "markdown",
   "id": "43ea1e82",
   "metadata": {},
   "source": [
    "### 재범주화 전 확인"
   ]
  },
  {
   "cell_type": "code",
   "execution_count": 758,
   "id": "adac9cc1",
   "metadata": {},
   "outputs": [
    {
     "data": {
      "text/html": [
       "<div>\n",
       "<style scoped>\n",
       "    .dataframe tbody tr th:only-of-type {\n",
       "        vertical-align: middle;\n",
       "    }\n",
       "\n",
       "    .dataframe tbody tr th {\n",
       "        vertical-align: top;\n",
       "    }\n",
       "\n",
       "    .dataframe thead th {\n",
       "        text-align: right;\n",
       "    }\n",
       "</style>\n",
       "<table border=\"1\" class=\"dataframe\">\n",
       "  <thead>\n",
       "    <tr style=\"text-align: right;\">\n",
       "      <th></th>\n",
       "      <th>count_0</th>\n",
       "      <th>ratio_0</th>\n",
       "      <th>count_1</th>\n",
       "      <th>ratio_1</th>\n",
       "      <th>count_2</th>\n",
       "      <th>ratio_2</th>\n",
       "    </tr>\n",
       "  </thead>\n",
       "  <tbody>\n",
       "    <tr>\n",
       "      <th>Login</th>\n",
       "      <td>401453.0</td>\n",
       "      <td>0.129</td>\n",
       "      <td>971285.0</td>\n",
       "      <td>0.138</td>\n",
       "      <td>314416.0</td>\n",
       "      <td>0.128</td>\n",
       "    </tr>\n",
       "    <tr>\n",
       "      <th>OpenApp</th>\n",
       "      <td>555824.0</td>\n",
       "      <td>0.179</td>\n",
       "      <td>1322978.0</td>\n",
       "      <td>0.188</td>\n",
       "      <td>416054.0</td>\n",
       "      <td>0.170</td>\n",
       "    </tr>\n",
       "  </tbody>\n",
       "</table>\n",
       "</div>"
      ],
      "text/plain": [
       "          count_0  ratio_0    count_1  ratio_1   count_2  ratio_2\n",
       "Login    401453.0    0.129   971285.0    0.138  314416.0    0.128\n",
       "OpenApp  555824.0    0.179  1322978.0    0.188  416054.0    0.170"
      ]
     },
     "execution_count": 758,
     "metadata": {},
     "output_type": "execute_result"
    }
   ],
   "source": [
    "#앱실행시작 관련 :start\n",
    "#Login, OpenApp\n",
    "event.iloc[[1,6],:]"
   ]
  },
  {
   "cell_type": "code",
   "execution_count": 759,
   "id": "acf1a9e9",
   "metadata": {},
   "outputs": [
    {
     "data": {
      "text/html": [
       "<div>\n",
       "<style scoped>\n",
       "    .dataframe tbody tr th:only-of-type {\n",
       "        vertical-align: middle;\n",
       "    }\n",
       "\n",
       "    .dataframe tbody tr th {\n",
       "        vertical-align: top;\n",
       "    }\n",
       "\n",
       "    .dataframe thead th {\n",
       "        text-align: right;\n",
       "    }\n",
       "</style>\n",
       "<table border=\"1\" class=\"dataframe\">\n",
       "  <thead>\n",
       "    <tr style=\"text-align: right;\">\n",
       "      <th></th>\n",
       "      <th>count_0</th>\n",
       "      <th>ratio_0</th>\n",
       "      <th>count_1</th>\n",
       "      <th>ratio_1</th>\n",
       "      <th>count_2</th>\n",
       "      <th>ratio_2</th>\n",
       "    </tr>\n",
       "  </thead>\n",
       "  <tbody>\n",
       "    <tr>\n",
       "      <th>EndLoanApply</th>\n",
       "      <td>489563.0</td>\n",
       "      <td>0.157</td>\n",
       "      <td>1125056.0</td>\n",
       "      <td>0.160</td>\n",
       "      <td>500025.0</td>\n",
       "      <td>0.204</td>\n",
       "    </tr>\n",
       "    <tr>\n",
       "      <th>StartLoanApply</th>\n",
       "      <td>349598.0</td>\n",
       "      <td>0.112</td>\n",
       "      <td>781028.0</td>\n",
       "      <td>0.111</td>\n",
       "      <td>326311.0</td>\n",
       "      <td>0.133</td>\n",
       "    </tr>\n",
       "    <tr>\n",
       "      <th>ViewLoanApplyIntro</th>\n",
       "      <td>319324.0</td>\n",
       "      <td>0.103</td>\n",
       "      <td>734754.0</td>\n",
       "      <td>0.104</td>\n",
       "      <td>287428.0</td>\n",
       "      <td>0.117</td>\n",
       "    </tr>\n",
       "    <tr>\n",
       "      <th>CompleteIDCertification</th>\n",
       "      <td>215637.0</td>\n",
       "      <td>0.069</td>\n",
       "      <td>525853.0</td>\n",
       "      <td>0.075</td>\n",
       "      <td>219484.0</td>\n",
       "      <td>0.090</td>\n",
       "    </tr>\n",
       "  </tbody>\n",
       "</table>\n",
       "</div>"
      ],
      "text/plain": [
       "                          count_0  ratio_0    count_1  ratio_1   count_2  \\\n",
       "EndLoanApply             489563.0    0.157  1125056.0    0.160  500025.0   \n",
       "StartLoanApply           349598.0    0.112   781028.0    0.111  326311.0   \n",
       "ViewLoanApplyIntro       319324.0    0.103   734754.0    0.104  287428.0   \n",
       "CompleteIDCertification  215637.0    0.069   525853.0    0.075  219484.0   \n",
       "\n",
       "                         ratio_2  \n",
       "EndLoanApply               0.204  \n",
       "StartLoanApply             0.133  \n",
       "ViewLoanApplyIntro         0.117  \n",
       "CompleteIDCertification    0.090  "
      ]
     },
     "execution_count": 759,
     "metadata": {},
     "output_type": "execute_result"
    }
   ],
   "source": [
    "#대출관련 :loan\n",
    "#ViewLoanApplyIntro, StartLoanApply, CompleteIDCertification, EndLoanApply\n",
    "event.iloc[2:6,:]"
   ]
  },
  {
   "cell_type": "code",
   "execution_count": 760,
   "id": "cab66f27",
   "metadata": {
    "scrolled": true
   },
   "outputs": [
    {
     "data": {
      "text/html": [
       "<div>\n",
       "<style scoped>\n",
       "    .dataframe tbody tr th:only-of-type {\n",
       "        vertical-align: middle;\n",
       "    }\n",
       "\n",
       "    .dataframe tbody tr th {\n",
       "        vertical-align: top;\n",
       "    }\n",
       "\n",
       "    .dataframe thead th {\n",
       "        text-align: right;\n",
       "    }\n",
       "</style>\n",
       "<table border=\"1\" class=\"dataframe\">\n",
       "  <thead>\n",
       "    <tr style=\"text-align: right;\">\n",
       "      <th></th>\n",
       "      <th>count_0</th>\n",
       "      <th>ratio_0</th>\n",
       "      <th>count_1</th>\n",
       "      <th>ratio_1</th>\n",
       "      <th>count_2</th>\n",
       "      <th>ratio_2</th>\n",
       "    </tr>\n",
       "  </thead>\n",
       "  <tbody>\n",
       "    <tr>\n",
       "      <th>UsePrepayCalc</th>\n",
       "      <td>1313.0</td>\n",
       "      <td>0.0</td>\n",
       "      <td>3492.0</td>\n",
       "      <td>0.0</td>\n",
       "      <td>543.0</td>\n",
       "      <td>0.0</td>\n",
       "    </tr>\n",
       "    <tr>\n",
       "      <th>UseDSRCalc</th>\n",
       "      <td>789.0</td>\n",
       "      <td>0.0</td>\n",
       "      <td>2179.0</td>\n",
       "      <td>0.0</td>\n",
       "      <td>326.0</td>\n",
       "      <td>0.0</td>\n",
       "    </tr>\n",
       "  </tbody>\n",
       "</table>\n",
       "</div>"
      ],
      "text/plain": [
       "               count_0  ratio_0  count_1  ratio_1  count_2  ratio_2\n",
       "UsePrepayCalc   1313.0      0.0   3492.0      0.0    543.0      0.0\n",
       "UseDSRCalc       789.0      0.0   2179.0      0.0    326.0      0.0"
      ]
     },
     "execution_count": 760,
     "metadata": {},
     "output_type": "execute_result"
    }
   ],
   "source": [
    "#서비스관련 :service\n",
    "#UsePrepayCalc, UseDSRCalc\n",
    "event.iloc[[9,10],:]"
   ]
  },
  {
   "cell_type": "code",
   "execution_count": 761,
   "id": "3f9b19f6",
   "metadata": {
    "scrolled": true
   },
   "outputs": [
    {
     "data": {
      "text/plain": [
       "count_0    5243.000\n",
       "ratio_0       0.002\n",
       "count_1    8833.000\n",
       "ratio_1       0.001\n",
       "count_2    1481.000\n",
       "ratio_2       0.001\n",
       "Name: SignUp, dtype: float64"
      ]
     },
     "execution_count": 761,
     "metadata": {},
     "output_type": "execute_result"
    }
   ],
   "source": [
    "#회원가입 : SignUp\n",
    "event.iloc[8,:]"
   ]
  },
  {
   "cell_type": "code",
   "execution_count": 762,
   "id": "aef23e0b",
   "metadata": {
    "scrolled": true
   },
   "outputs": [
    {
     "data": {
      "text/plain": [
       "count_0    489036.000\n",
       "ratio_0         0.157\n",
       "count_1    944445.000\n",
       "ratio_1         0.134\n",
       "count_2    229975.000\n",
       "ratio_2         0.094\n",
       "Name: GetCreditInfo, dtype: float64"
      ]
     },
     "execution_count": 762,
     "metadata": {},
     "output_type": "execute_result"
    }
   ],
   "source": [
    "#KCB 신용정보조회 : GetCreditInfo\n",
    "event.iloc[0,:]"
   ]
  },
  {
   "cell_type": "code",
   "execution_count": 763,
   "id": "99b2ef90",
   "metadata": {
    "scrolled": true
   },
   "outputs": [
    {
     "data": {
      "text/plain": [
       "count_0    282726.000\n",
       "ratio_0         0.091\n",
       "count_1    617870.000\n",
       "ratio_1         0.088\n",
       "count_2    152737.000\n",
       "ratio_2         0.062\n",
       "Name: UseLoanManage, dtype: float64"
      ]
     },
     "execution_count": 763,
     "metadata": {},
     "output_type": "execute_result"
    }
   ],
   "source": [
    "#대출관리 서비스 이용 : UseLoanManage\n",
    "event.iloc[7,:]"
   ]
  },
  {
   "cell_type": "markdown",
   "id": "dc7e127b",
   "metadata": {},
   "source": [
    "### 재범주화 시작"
   ]
  },
  {
   "cell_type": "code",
   "execution_count": 764,
   "id": "864b440a",
   "metadata": {},
   "outputs": [],
   "source": [
    "recate=event.copy()\n",
    "start=pd.DataFrame(recate.iloc[[1,6],:].sum())\n",
    "loan=pd.DataFrame(recate.iloc[[2,3,4,5],:].sum())\n",
    "service=pd.DataFrame(recate.iloc[[9,10],:].sum())\n",
    "SignUp=pd.DataFrame(recate.iloc[8,:])\n",
    "GetCreditInfo=pd.DataFrame(recate.iloc[0,:])\n",
    "UseLoanManage=pd.DataFrame(recate.iloc[7,:])"
   ]
  },
  {
   "cell_type": "code",
   "execution_count": 765,
   "id": "074836ba",
   "metadata": {},
   "outputs": [
    {
     "data": {
      "text/html": [
       "<div>\n",
       "<style scoped>\n",
       "    .dataframe tbody tr th:only-of-type {\n",
       "        vertical-align: middle;\n",
       "    }\n",
       "\n",
       "    .dataframe tbody tr th {\n",
       "        vertical-align: top;\n",
       "    }\n",
       "\n",
       "    .dataframe thead th {\n",
       "        text-align: right;\n",
       "    }\n",
       "</style>\n",
       "<table border=\"1\" class=\"dataframe\">\n",
       "  <thead>\n",
       "    <tr style=\"text-align: right;\">\n",
       "      <th></th>\n",
       "      <th>start</th>\n",
       "      <th>loan</th>\n",
       "      <th>service</th>\n",
       "      <th>SignUp</th>\n",
       "      <th>GetCreditInfo</th>\n",
       "      <th>UseLoanManage</th>\n",
       "    </tr>\n",
       "  </thead>\n",
       "  <tbody>\n",
       "    <tr>\n",
       "      <th>count_0</th>\n",
       "      <td>957277.000</td>\n",
       "      <td>1374122.000</td>\n",
       "      <td>2102.0</td>\n",
       "      <td>5243.000</td>\n",
       "      <td>489036.000</td>\n",
       "      <td>282726.000</td>\n",
       "    </tr>\n",
       "    <tr>\n",
       "      <th>ratio_0</th>\n",
       "      <td>0.308</td>\n",
       "      <td>0.441</td>\n",
       "      <td>0.0</td>\n",
       "      <td>0.002</td>\n",
       "      <td>0.157</td>\n",
       "      <td>0.091</td>\n",
       "    </tr>\n",
       "    <tr>\n",
       "      <th>count_1</th>\n",
       "      <td>2294263.000</td>\n",
       "      <td>3166691.000</td>\n",
       "      <td>5671.0</td>\n",
       "      <td>8833.000</td>\n",
       "      <td>944445.000</td>\n",
       "      <td>617870.000</td>\n",
       "    </tr>\n",
       "    <tr>\n",
       "      <th>ratio_1</th>\n",
       "      <td>0.326</td>\n",
       "      <td>0.450</td>\n",
       "      <td>0.0</td>\n",
       "      <td>0.001</td>\n",
       "      <td>0.134</td>\n",
       "      <td>0.088</td>\n",
       "    </tr>\n",
       "    <tr>\n",
       "      <th>count_2</th>\n",
       "      <td>730470.000</td>\n",
       "      <td>1333248.000</td>\n",
       "      <td>869.0</td>\n",
       "      <td>1481.000</td>\n",
       "      <td>229975.000</td>\n",
       "      <td>152737.000</td>\n",
       "    </tr>\n",
       "    <tr>\n",
       "      <th>ratio_2</th>\n",
       "      <td>0.298</td>\n",
       "      <td>0.544</td>\n",
       "      <td>0.0</td>\n",
       "      <td>0.001</td>\n",
       "      <td>0.094</td>\n",
       "      <td>0.062</td>\n",
       "    </tr>\n",
       "  </tbody>\n",
       "</table>\n",
       "</div>"
      ],
      "text/plain": [
       "               start         loan  service    SignUp  GetCreditInfo  \\\n",
       "count_0   957277.000  1374122.000   2102.0  5243.000     489036.000   \n",
       "ratio_0        0.308        0.441      0.0     0.002          0.157   \n",
       "count_1  2294263.000  3166691.000   5671.0  8833.000     944445.000   \n",
       "ratio_1        0.326        0.450      0.0     0.001          0.134   \n",
       "count_2   730470.000  1333248.000    869.0  1481.000     229975.000   \n",
       "ratio_2        0.298        0.544      0.0     0.001          0.094   \n",
       "\n",
       "         UseLoanManage  \n",
       "count_0     282726.000  \n",
       "ratio_0          0.091  \n",
       "count_1     617870.000  \n",
       "ratio_1          0.088  \n",
       "count_2     152737.000  \n",
       "ratio_2          0.062  "
      ]
     },
     "execution_count": 765,
     "metadata": {},
     "output_type": "execute_result"
    }
   ],
   "source": [
    "recate2=pd.concat( (start,loan,service,SignUp,GetCreditInfo,UseLoanManage), axis=1, join='outer' )\n",
    "recate2.columns = [\"start\",\"loan\",\"service\", \"SignUp\",'GetCreditInfo' ,\"UseLoanManage\"]\n",
    "recate2"
   ]
  },
  {
   "cell_type": "code",
   "execution_count": 766,
   "id": "2c3ac078",
   "metadata": {},
   "outputs": [
    {
     "data": {
      "text/html": [
       "<div>\n",
       "<style scoped>\n",
       "    .dataframe tbody tr th:only-of-type {\n",
       "        vertical-align: middle;\n",
       "    }\n",
       "\n",
       "    .dataframe tbody tr th {\n",
       "        vertical-align: top;\n",
       "    }\n",
       "\n",
       "    .dataframe thead th {\n",
       "        text-align: right;\n",
       "    }\n",
       "</style>\n",
       "<table border=\"1\" class=\"dataframe\">\n",
       "  <thead>\n",
       "    <tr style=\"text-align: right;\">\n",
       "      <th></th>\n",
       "      <th>count_0</th>\n",
       "      <th>ratio_0</th>\n",
       "      <th>count_1</th>\n",
       "      <th>ratio_1</th>\n",
       "      <th>count_2</th>\n",
       "      <th>ratio_2</th>\n",
       "    </tr>\n",
       "  </thead>\n",
       "  <tbody>\n",
       "    <tr>\n",
       "      <th>start</th>\n",
       "      <td>957277.0</td>\n",
       "      <td>0.308</td>\n",
       "      <td>2294263.0</td>\n",
       "      <td>0.326</td>\n",
       "      <td>730470.0</td>\n",
       "      <td>0.298</td>\n",
       "    </tr>\n",
       "    <tr>\n",
       "      <th>loan</th>\n",
       "      <td>1374122.0</td>\n",
       "      <td>0.441</td>\n",
       "      <td>3166691.0</td>\n",
       "      <td>0.450</td>\n",
       "      <td>1333248.0</td>\n",
       "      <td>0.544</td>\n",
       "    </tr>\n",
       "    <tr>\n",
       "      <th>service</th>\n",
       "      <td>2102.0</td>\n",
       "      <td>0.000</td>\n",
       "      <td>5671.0</td>\n",
       "      <td>0.000</td>\n",
       "      <td>869.0</td>\n",
       "      <td>0.000</td>\n",
       "    </tr>\n",
       "    <tr>\n",
       "      <th>SignUp</th>\n",
       "      <td>5243.0</td>\n",
       "      <td>0.002</td>\n",
       "      <td>8833.0</td>\n",
       "      <td>0.001</td>\n",
       "      <td>1481.0</td>\n",
       "      <td>0.001</td>\n",
       "    </tr>\n",
       "    <tr>\n",
       "      <th>GetCreditInfo</th>\n",
       "      <td>489036.0</td>\n",
       "      <td>0.157</td>\n",
       "      <td>944445.0</td>\n",
       "      <td>0.134</td>\n",
       "      <td>229975.0</td>\n",
       "      <td>0.094</td>\n",
       "    </tr>\n",
       "    <tr>\n",
       "      <th>UseLoanManage</th>\n",
       "      <td>282726.0</td>\n",
       "      <td>0.091</td>\n",
       "      <td>617870.0</td>\n",
       "      <td>0.088</td>\n",
       "      <td>152737.0</td>\n",
       "      <td>0.062</td>\n",
       "    </tr>\n",
       "  </tbody>\n",
       "</table>\n",
       "</div>"
      ],
      "text/plain": [
       "                 count_0  ratio_0    count_1  ratio_1    count_2  ratio_2\n",
       "start           957277.0    0.308  2294263.0    0.326   730470.0    0.298\n",
       "loan           1374122.0    0.441  3166691.0    0.450  1333248.0    0.544\n",
       "service           2102.0    0.000     5671.0    0.000      869.0    0.000\n",
       "SignUp            5243.0    0.002     8833.0    0.001     1481.0    0.001\n",
       "GetCreditInfo   489036.0    0.157   944445.0    0.134   229975.0    0.094\n",
       "UseLoanManage   282726.0    0.091   617870.0    0.088   152737.0    0.062"
      ]
     },
     "execution_count": 766,
     "metadata": {},
     "output_type": "execute_result"
    }
   ],
   "source": [
    "recate3=recate2.copy()\n",
    "recate3=recate3.transpose()\n",
    "recate3"
   ]
  },
  {
   "cell_type": "code",
   "execution_count": 767,
   "id": "bd138f1e",
   "metadata": {
    "scrolled": true
   },
   "outputs": [
    {
     "data": {
      "text/html": [
       "<div>\n",
       "<style scoped>\n",
       "    .dataframe tbody tr th:only-of-type {\n",
       "        vertical-align: middle;\n",
       "    }\n",
       "\n",
       "    .dataframe tbody tr th {\n",
       "        vertical-align: top;\n",
       "    }\n",
       "\n",
       "    .dataframe thead th {\n",
       "        text-align: right;\n",
       "    }\n",
       "</style>\n",
       "<table border=\"1\" class=\"dataframe\">\n",
       "  <thead>\n",
       "    <tr style=\"text-align: right;\">\n",
       "      <th></th>\n",
       "      <th>count_0</th>\n",
       "      <th>count_1</th>\n",
       "      <th>count_2</th>\n",
       "      <th>w_ratio_0</th>\n",
       "      <th>w_ratio_1</th>\n",
       "      <th>w_ratio_2</th>\n",
       "    </tr>\n",
       "  </thead>\n",
       "  <tbody>\n",
       "    <tr>\n",
       "      <th>start</th>\n",
       "      <td>957277.0</td>\n",
       "      <td>2294263.0</td>\n",
       "      <td>730470.0</td>\n",
       "      <td>0.330</td>\n",
       "      <td>0.350</td>\n",
       "      <td>0.320</td>\n",
       "    </tr>\n",
       "    <tr>\n",
       "      <th>loan</th>\n",
       "      <td>1374122.0</td>\n",
       "      <td>3166691.0</td>\n",
       "      <td>1333248.0</td>\n",
       "      <td>0.308</td>\n",
       "      <td>0.313</td>\n",
       "      <td>0.379</td>\n",
       "    </tr>\n",
       "    <tr>\n",
       "      <th>service</th>\n",
       "      <td>2102.0</td>\n",
       "      <td>5671.0</td>\n",
       "      <td>869.0</td>\n",
       "      <td>0.368</td>\n",
       "      <td>0.439</td>\n",
       "      <td>0.193</td>\n",
       "    </tr>\n",
       "    <tr>\n",
       "      <th>SignUp</th>\n",
       "      <td>5243.0</td>\n",
       "      <td>8833.0</td>\n",
       "      <td>1481.0</td>\n",
       "      <td>0.475</td>\n",
       "      <td>0.354</td>\n",
       "      <td>0.171</td>\n",
       "    </tr>\n",
       "    <tr>\n",
       "      <th>GetCreditInfo</th>\n",
       "      <td>489036.0</td>\n",
       "      <td>944445.0</td>\n",
       "      <td>229975.0</td>\n",
       "      <td>0.408</td>\n",
       "      <td>0.348</td>\n",
       "      <td>0.244</td>\n",
       "    </tr>\n",
       "    <tr>\n",
       "      <th>UseLoanManage</th>\n",
       "      <td>282726.0</td>\n",
       "      <td>617870.0</td>\n",
       "      <td>152737.0</td>\n",
       "      <td>0.377</td>\n",
       "      <td>0.364</td>\n",
       "      <td>0.259</td>\n",
       "    </tr>\n",
       "  </tbody>\n",
       "</table>\n",
       "</div>"
      ],
      "text/plain": [
       "                 count_0    count_1    count_2  w_ratio_0  w_ratio_1  \\\n",
       "start           957277.0  2294263.0   730470.0      0.330      0.350   \n",
       "loan           1374122.0  3166691.0  1333248.0      0.308      0.313   \n",
       "service           2102.0     5671.0      869.0      0.368      0.439   \n",
       "SignUp            5243.0     8833.0     1481.0      0.475      0.354   \n",
       "GetCreditInfo   489036.0   944445.0   229975.0      0.408      0.348   \n",
       "UseLoanManage   282726.0   617870.0   152737.0      0.377      0.364   \n",
       "\n",
       "               w_ratio_2  \n",
       "start              0.320  \n",
       "loan               0.379  \n",
       "service            0.193  \n",
       "SignUp             0.171  \n",
       "GetCreditInfo      0.244  \n",
       "UseLoanManage      0.259  "
      ]
     },
     "execution_count": 767,
     "metadata": {},
     "output_type": "execute_result"
    }
   ],
   "source": [
    "recate3.drop(['ratio_0','ratio_1','ratio_2'],axis=1,inplace=True)\n",
    "recate3['w_ratio_0'] = round((recate3['count_0']/len(clusterzero_log)) /((recate3['count_0']/len(clusterzero_log)) + (recate3['count_1']/len(clusterone_log)) + (recate3['count_2']/len(clustertwo_log))),3)  \n",
    "recate3['w_ratio_1'] = round((recate3['count_1']/len(clusterone_log)) /((recate3['count_0']/len(clusterzero_log)) + (recate3['count_1']/len(clusterone_log)) + (recate3['count_2']/len(clustertwo_log))),3)  \n",
    "recate3['w_ratio_2'] = round((recate3['count_2']/len(clustertwo_log)) /((recate3['count_0']/len(clusterzero_log)) + (recate3['count_1']/len(clusterone_log)) + (recate3['count_2']/len(clustertwo_log))),3)  \n",
    "\n",
    "recate3"
   ]
  },
  {
   "cell_type": "markdown",
   "id": "c14ac570",
   "metadata": {},
   "source": [
    "### 군집끼리 비교 시각화"
   ]
  },
  {
   "cell_type": "code",
   "execution_count": 768,
   "id": "8d15ff26",
   "metadata": {},
   "outputs": [
    {
     "data": {
      "image/png": "[encoded data removed]",
      "text/plain": [
       "<Figure size 1440x1080 with 1 Axes>"
      ]
     },
     "metadata": {},
     "output_type": "display_data"
    }
   ],
   "source": [
    "#labels = event4.index.tolist()\n",
    "cluster0 = recate3['w_ratio_0']\n",
    "cluster1 = recate3['w_ratio_1']\n",
    "cluster2 = recate3['w_ratio_2']\n",
    "\n",
    "x = np.arange(len(cluster0))  # the label locations\n",
    "width = 0.25  # the width of the bars\n",
    "\n",
    "fig, ax = plt.subplots(figsize=(20,15))\n",
    "rects0 = ax.bar(x - width, cluster0, width, label='cluster0',color=\"dodgerblue\")\n",
    "rects1 = ax.bar(x , cluster1, width, label='cluster1',color=\"mediumblue\")\n",
    "rects2 = ax.bar(x + width, cluster2, width, label='cluster2',color=\"indigo\")\n",
    "\n",
    "# Add some text for labels, title and custom x-axis tick labels, etc.\n",
    "\n",
    "ax.set_ylabel('w_ratio',fontsize=20)\n",
    "ax.set_title('w_ratio by cluster',fontsize=25)\n",
    "#ax.set_xticks(x)\n",
    "ax.set_xticklabels(['asd','start', 'loan', 'service', 'SignUp', 'GetCreditInfo', 'UseLoanManage'] ,fontsize=20)\n",
    "ax.legend(fontsize=30)\n",
    "\n",
    "A_as_ticklabel = [f\"{100*a}%\" for a in cluster0]\n",
    "B_as_ticklabel = [f\"{100*b}%\" for b in cluster1]\n",
    "C_as_ticklabel = [f\"{100*c}%\" for c in cluster2]\n",
    "C_as_ticklabel[5] = \"25.9%\"\n",
    "\n",
    "ax.bar_label(rects0 , labels=A_as_ticklabel, padding=3,size=16)\n",
    "ax.bar_label(rects1, labels=B_as_ticklabel, padding=3,size=16)\n",
    "ax.bar_label(rects2, labels=C_as_ticklabel, padding=3,size=16)\n",
    "\n",
    "plt.xticks(rotation=-45)\n",
    "fig.tight_layout()\n",
    "\n",
    "plt.show()"
   ]
  },
  {
   "cell_type": "code",
   "execution_count": null,
   "id": "321a4d74",
   "metadata": {},
   "outputs": [],
   "source": []
  }
 ],
 "metadata": {
  "kernelspec": {
   "display_name": "Python 3 (ipykernel)",
   "language": "python",
   "name": "python3"
  },
  "language_info": {
   "codemirror_mode": {
    "name": "ipython",
    "version": 3
   },
   "file_extension": ".py",
   "mimetype": "text/x-python",
   "name": "python",
   "nbconvert_exporter": "python",
   "pygments_lexer": "ipython3",
   "version": "3.9.7"
  }
 },
 "nbformat": 4,
 "nbformat_minor": 5
}

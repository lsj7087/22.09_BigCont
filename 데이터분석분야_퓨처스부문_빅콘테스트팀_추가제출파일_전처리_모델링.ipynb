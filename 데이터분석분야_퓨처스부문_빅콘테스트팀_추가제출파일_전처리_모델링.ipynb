{
 "cells": [
  {
   "cell_type": "code",
   "execution_count": 1,
   "id": "771c16b1",
   "metadata": {},
   "outputs": [],
   "source": [
    "import pandas as pd\n",
    "import numpy as np\n",
    "import matplotlib.pyplot as plt\n",
    "import seaborn as sns\n",
    "\n",
    "plt.rcParams['font.family'] ='Malgun Gothic'\n",
    "plt.rcParams['axes.unicode_minus'] =False\n",
    "\n",
    "from tqdm import tqdm_notebook\n",
    "import warnings\n",
    "warnings.filterwarnings('ignore')\n",
    "\n",
    "import scipy.stats as stats\n",
    "from scipy.stats import kstest\n",
    "from scipy.stats import shapiro\n",
    "from scipy.stats import normaltest\n",
    "from scipy.stats import mannwhitneyu\n",
    "\n",
    "import sklearn.neighbors._base\n",
    "import sys\n",
    "sys.modules['sklearn.neighbors.base'] = sklearn.neighbors._base\n",
    "\n",
    "from missingpy import MissForest\n",
    "\n",
    "from sklearn import preprocessing\n",
    "\n",
    "from sklearn.cluster import KMeans\n",
    "from sklearn.preprocessing import StandardScaler\n",
    "\n",
    "from bayes_opt import BayesianOptimization\n",
    "\n",
    "from xgboost import XGBClassifier\n",
    "from catboost import CatBoostClassifier\n",
    "from lightgbm import LGBMClassifier\n",
    "from lightgbm import plot_metric\n",
    "import lightgbm as lightgbm\n",
    "\n",
    "from sklearn.metrics import accuracy_score, recall_score, precision_score, f1_score\n",
    "\n",
    "from sklearn.utils.class_weight import compute_class_weight"
   ]
  },
  {
   "cell_type": "code",
   "execution_count": 2,
   "id": "2ea62161",
   "metadata": {},
   "outputs": [],
   "source": [
    "loan_result = pd.read_csv(\"loan_result.csv\")\n",
    "log_data = pd.read_csv(\"log_data.csv\")\n",
    "user_spec = pd.read_csv(\"user_spec.csv\")"
   ]
  },
  {
   "cell_type": "markdown",
   "id": "14666c92",
   "metadata": {},
   "source": [
    "# EDA"
   ]
  },
  {
   "cell_type": "markdown",
   "id": "39b93f1e",
   "metadata": {},
   "source": [
    "## 1. 대출상품결과(loan_result)"
   ]
  },
  {
   "cell_type": "code",
   "execution_count": 3,
   "id": "ae28e8f2",
   "metadata": {},
   "outputs": [
    {
     "data": {
      "text/html": [
       "<div>\n",
       "<style scoped>\n",
       "    .dataframe tbody tr th:only-of-type {\n",
       "        vertical-align: middle;\n",
       "    }\n",
       "\n",
       "    .dataframe tbody tr th {\n",
       "        vertical-align: top;\n",
       "    }\n",
       "\n",
       "    .dataframe thead th {\n",
       "        text-align: right;\n",
       "    }\n",
       "</style>\n",
       "<table border=\"1\" class=\"dataframe\">\n",
       "  <thead>\n",
       "    <tr style=\"text-align: right;\">\n",
       "      <th></th>\n",
       "      <th>application_id</th>\n",
       "      <th>loanapply_insert_time</th>\n",
       "      <th>bank_id</th>\n",
       "      <th>product_id</th>\n",
       "      <th>loan_limit</th>\n",
       "      <th>loan_rate</th>\n",
       "      <th>is_applied</th>\n",
       "    </tr>\n",
       "  </thead>\n",
       "  <tbody>\n",
       "    <tr>\n",
       "      <th>0</th>\n",
       "      <td>1748340</td>\n",
       "      <td>2022-06-07 13:05:41</td>\n",
       "      <td>7</td>\n",
       "      <td>191</td>\n",
       "      <td>42000000.0</td>\n",
       "      <td>13.6</td>\n",
       "      <td>NaN</td>\n",
       "    </tr>\n",
       "    <tr>\n",
       "      <th>1</th>\n",
       "      <td>1748340</td>\n",
       "      <td>2022-06-07 13:05:41</td>\n",
       "      <td>25</td>\n",
       "      <td>169</td>\n",
       "      <td>24000000.0</td>\n",
       "      <td>17.9</td>\n",
       "      <td>NaN</td>\n",
       "    </tr>\n",
       "    <tr>\n",
       "      <th>2</th>\n",
       "      <td>1748340</td>\n",
       "      <td>2022-06-07 13:05:41</td>\n",
       "      <td>2</td>\n",
       "      <td>7</td>\n",
       "      <td>24000000.0</td>\n",
       "      <td>18.5</td>\n",
       "      <td>NaN</td>\n",
       "    </tr>\n",
       "    <tr>\n",
       "      <th>3</th>\n",
       "      <td>1748340</td>\n",
       "      <td>2022-06-07 13:05:41</td>\n",
       "      <td>4</td>\n",
       "      <td>268</td>\n",
       "      <td>29000000.0</td>\n",
       "      <td>10.8</td>\n",
       "      <td>NaN</td>\n",
       "    </tr>\n",
       "    <tr>\n",
       "      <th>4</th>\n",
       "      <td>1748340</td>\n",
       "      <td>2022-06-07 13:05:41</td>\n",
       "      <td>11</td>\n",
       "      <td>118</td>\n",
       "      <td>5000000.0</td>\n",
       "      <td>16.4</td>\n",
       "      <td>NaN</td>\n",
       "    </tr>\n",
       "  </tbody>\n",
       "</table>\n",
       "</div>"
      ],
      "text/plain": [
       "   application_id loanapply_insert_time  bank_id  product_id  loan_limit  \\\n",
       "0         1748340   2022-06-07 13:05:41        7         191  42000000.0   \n",
       "1         1748340   2022-06-07 13:05:41       25         169  24000000.0   \n",
       "2         1748340   2022-06-07 13:05:41        2           7  24000000.0   \n",
       "3         1748340   2022-06-07 13:05:41        4         268  29000000.0   \n",
       "4         1748340   2022-06-07 13:05:41       11         118   5000000.0   \n",
       "\n",
       "   loan_rate  is_applied  \n",
       "0       13.6         NaN  \n",
       "1       17.9         NaN  \n",
       "2       18.5         NaN  \n",
       "3       10.8         NaN  \n",
       "4       16.4         NaN  "
      ]
     },
     "execution_count": 3,
     "metadata": {},
     "output_type": "execute_result"
    }
   ],
   "source": [
    "loan_result.head()"
   ]
  },
  {
   "cell_type": "markdown",
   "id": "66ed6648",
   "metadata": {},
   "source": [
    "loan_limit, loan_rate 결측인 행 삭제\\\n",
    "데이터분석리그 퓨처스부문 문제 및 데이터 자주 묻는 질문 (ver. 9/20) 7번"
   ]
  },
  {
   "cell_type": "code",
   "execution_count": 4,
   "id": "e6dea245",
   "metadata": {},
   "outputs": [],
   "source": [
    "loan_result = loan_result[(-loan_result[\"loan_limit\"].isna()) & (-loan_result[\"loan_rate\"].isna())]"
   ]
  },
  {
   "cell_type": "markdown",
   "id": "7b671f2f",
   "metadata": {},
   "source": [
    "loan_limit 반올림 과정에서 0이 된 값이 있을 수 있기 때문에 전체적으로 25만을 더해줌."
   ]
  },
  {
   "cell_type": "code",
   "execution_count": 5,
   "id": "820393a6",
   "metadata": {},
   "outputs": [],
   "source": [
    "loan_result[\"loan_limit\"] += 250000"
   ]
  },
  {
   "cell_type": "markdown",
   "id": "7f1821d2",
   "metadata": {},
   "source": [
    "한도 로그 변환 변수 추가"
   ]
  },
  {
   "cell_type": "code",
   "execution_count": 6,
   "id": "ad67bc65",
   "metadata": {},
   "outputs": [],
   "source": [
    "loan_result[\"log_loan_limit\"] = np.log(loan_result[\"loan_limit\"])"
   ]
  },
  {
   "cell_type": "markdown",
   "id": "3d7bf546",
   "metadata": {},
   "source": [
    "## 2. 유저로그데이터(log_data)"
   ]
  },
  {
   "cell_type": "code",
   "execution_count": 7,
   "id": "8b8c264e",
   "metadata": {},
   "outputs": [
    {
     "data": {
      "text/html": [
       "<div>\n",
       "<style scoped>\n",
       "    .dataframe tbody tr th:only-of-type {\n",
       "        vertical-align: middle;\n",
       "    }\n",
       "\n",
       "    .dataframe tbody tr th {\n",
       "        vertical-align: top;\n",
       "    }\n",
       "\n",
       "    .dataframe thead th {\n",
       "        text-align: right;\n",
       "    }\n",
       "</style>\n",
       "<table border=\"1\" class=\"dataframe\">\n",
       "  <thead>\n",
       "    <tr style=\"text-align: right;\">\n",
       "      <th></th>\n",
       "      <th>user_id</th>\n",
       "      <th>event</th>\n",
       "      <th>timestamp</th>\n",
       "      <th>mp_os</th>\n",
       "      <th>mp_app_version</th>\n",
       "      <th>date_cd</th>\n",
       "    </tr>\n",
       "  </thead>\n",
       "  <tbody>\n",
       "    <tr>\n",
       "      <th>0</th>\n",
       "      <td>576409</td>\n",
       "      <td>StartLoanApply</td>\n",
       "      <td>2022-03-25 11:12:09</td>\n",
       "      <td>Android</td>\n",
       "      <td>3.8.2</td>\n",
       "      <td>2022-03-25</td>\n",
       "    </tr>\n",
       "    <tr>\n",
       "      <th>1</th>\n",
       "      <td>576409</td>\n",
       "      <td>ViewLoanApplyIntro</td>\n",
       "      <td>2022-03-25 11:12:09</td>\n",
       "      <td>Android</td>\n",
       "      <td>3.8.2</td>\n",
       "      <td>2022-03-25</td>\n",
       "    </tr>\n",
       "    <tr>\n",
       "      <th>2</th>\n",
       "      <td>72878</td>\n",
       "      <td>EndLoanApply</td>\n",
       "      <td>2022-03-25 11:14:44</td>\n",
       "      <td>Android</td>\n",
       "      <td>3.8.4</td>\n",
       "      <td>2022-03-25</td>\n",
       "    </tr>\n",
       "    <tr>\n",
       "      <th>3</th>\n",
       "      <td>645317</td>\n",
       "      <td>OpenApp</td>\n",
       "      <td>2022-03-25 11:15:09</td>\n",
       "      <td>iOS</td>\n",
       "      <td>3.6.1</td>\n",
       "      <td>2022-03-25</td>\n",
       "    </tr>\n",
       "    <tr>\n",
       "      <th>4</th>\n",
       "      <td>645317</td>\n",
       "      <td>UseLoanManage</td>\n",
       "      <td>2022-03-25 11:15:11</td>\n",
       "      <td>iOS</td>\n",
       "      <td>3.6.1</td>\n",
       "      <td>2022-03-25</td>\n",
       "    </tr>\n",
       "    <tr>\n",
       "      <th>...</th>\n",
       "      <td>...</td>\n",
       "      <td>...</td>\n",
       "      <td>...</td>\n",
       "      <td>...</td>\n",
       "      <td>...</td>\n",
       "      <td>...</td>\n",
       "    </tr>\n",
       "    <tr>\n",
       "      <th>17843988</th>\n",
       "      <td>242442</td>\n",
       "      <td>StartLoanApply</td>\n",
       "      <td>2022-05-27 16:08:21</td>\n",
       "      <td>Android</td>\n",
       "      <td>3.13.0</td>\n",
       "      <td>2022-05-27</td>\n",
       "    </tr>\n",
       "    <tr>\n",
       "      <th>17843989</th>\n",
       "      <td>242442</td>\n",
       "      <td>EndLoanApply</td>\n",
       "      <td>2022-05-27 16:08:21</td>\n",
       "      <td>Android</td>\n",
       "      <td>3.13.0</td>\n",
       "      <td>2022-05-27</td>\n",
       "    </tr>\n",
       "    <tr>\n",
       "      <th>17843990</th>\n",
       "      <td>593062</td>\n",
       "      <td>OpenApp</td>\n",
       "      <td>2022-05-27 16:19:10</td>\n",
       "      <td>Android</td>\n",
       "      <td>3.13.0</td>\n",
       "      <td>2022-05-27</td>\n",
       "    </tr>\n",
       "    <tr>\n",
       "      <th>17843991</th>\n",
       "      <td>593062</td>\n",
       "      <td>Login</td>\n",
       "      <td>2022-05-27 16:19:15</td>\n",
       "      <td>Android</td>\n",
       "      <td>3.13.0</td>\n",
       "      <td>2022-05-27</td>\n",
       "    </tr>\n",
       "    <tr>\n",
       "      <th>17843992</th>\n",
       "      <td>593062</td>\n",
       "      <td>UseLoanManage</td>\n",
       "      <td>2022-05-27 16:19:19</td>\n",
       "      <td>Android</td>\n",
       "      <td>3.13.0</td>\n",
       "      <td>2022-05-27</td>\n",
       "    </tr>\n",
       "  </tbody>\n",
       "</table>\n",
       "<p>17843993 rows × 6 columns</p>\n",
       "</div>"
      ],
      "text/plain": [
       "          user_id               event            timestamp    mp_os  \\\n",
       "0          576409      StartLoanApply  2022-03-25 11:12:09  Android   \n",
       "1          576409  ViewLoanApplyIntro  2022-03-25 11:12:09  Android   \n",
       "2           72878        EndLoanApply  2022-03-25 11:14:44  Android   \n",
       "3          645317             OpenApp  2022-03-25 11:15:09      iOS   \n",
       "4          645317       UseLoanManage  2022-03-25 11:15:11      iOS   \n",
       "...           ...                 ...                  ...      ...   \n",
       "17843988   242442      StartLoanApply  2022-05-27 16:08:21  Android   \n",
       "17843989   242442        EndLoanApply  2022-05-27 16:08:21  Android   \n",
       "17843990   593062             OpenApp  2022-05-27 16:19:10  Android   \n",
       "17843991   593062               Login  2022-05-27 16:19:15  Android   \n",
       "17843992   593062       UseLoanManage  2022-05-27 16:19:19  Android   \n",
       "\n",
       "         mp_app_version     date_cd  \n",
       "0                 3.8.2  2022-03-25  \n",
       "1                 3.8.2  2022-03-25  \n",
       "2                 3.8.4  2022-03-25  \n",
       "3                 3.6.1  2022-03-25  \n",
       "4                 3.6.1  2022-03-25  \n",
       "...                 ...         ...  \n",
       "17843988         3.13.0  2022-05-27  \n",
       "17843989         3.13.0  2022-05-27  \n",
       "17843990         3.13.0  2022-05-27  \n",
       "17843991         3.13.0  2022-05-27  \n",
       "17843992         3.13.0  2022-05-27  \n",
       "\n",
       "[17843993 rows x 6 columns]"
      ]
     },
     "execution_count": 7,
     "metadata": {},
     "output_type": "execute_result"
    }
   ],
   "source": [
    "log_data"
   ]
  },
  {
   "cell_type": "code",
   "execution_count": 8,
   "id": "2cd39bd4",
   "metadata": {},
   "outputs": [
    {
     "data": {
      "text/plain": [
       "user_id                0\n",
       "event                  0\n",
       "timestamp              0\n",
       "mp_os                980\n",
       "mp_app_version    660597\n",
       "date_cd                0\n",
       "dtype: int64"
      ]
     },
     "execution_count": 8,
     "metadata": {},
     "output_type": "execute_result"
    }
   ],
   "source": [
    "log_data.isna().sum()"
   ]
  },
  {
   "cell_type": "markdown",
   "id": "8c006f0d",
   "metadata": {},
   "source": [
    "## 3. 유저스펙테이블(user_spec)"
   ]
  },
  {
   "cell_type": "code",
   "execution_count": 9,
   "id": "5e4cd4c0",
   "metadata": {},
   "outputs": [
    {
     "data": {
      "text/html": [
       "<div>\n",
       "<style scoped>\n",
       "    .dataframe tbody tr th:only-of-type {\n",
       "        vertical-align: middle;\n",
       "    }\n",
       "\n",
       "    .dataframe tbody tr th {\n",
       "        vertical-align: top;\n",
       "    }\n",
       "\n",
       "    .dataframe thead th {\n",
       "        text-align: right;\n",
       "    }\n",
       "</style>\n",
       "<table border=\"1\" class=\"dataframe\">\n",
       "  <thead>\n",
       "    <tr style=\"text-align: right;\">\n",
       "      <th></th>\n",
       "      <th>application_id</th>\n",
       "      <th>user_id</th>\n",
       "      <th>birth_year</th>\n",
       "      <th>gender</th>\n",
       "      <th>insert_time</th>\n",
       "      <th>credit_score</th>\n",
       "      <th>yearly_income</th>\n",
       "      <th>income_type</th>\n",
       "      <th>company_enter_month</th>\n",
       "      <th>employment_type</th>\n",
       "      <th>houseown_type</th>\n",
       "      <th>desired_amount</th>\n",
       "      <th>purpose</th>\n",
       "      <th>personal_rehabilitation_yn</th>\n",
       "      <th>personal_rehabilitation_complete_yn</th>\n",
       "      <th>existing_loan_cnt</th>\n",
       "      <th>existing_loan_amt</th>\n",
       "    </tr>\n",
       "  </thead>\n",
       "  <tbody>\n",
       "    <tr>\n",
       "      <th>0</th>\n",
       "      <td>1249046</td>\n",
       "      <td>118218</td>\n",
       "      <td>1985.0</td>\n",
       "      <td>1.0</td>\n",
       "      <td>2022-06-07 06:28:18</td>\n",
       "      <td>660.0</td>\n",
       "      <td>108000000.0</td>\n",
       "      <td>PRIVATEBUSINESS</td>\n",
       "      <td>20151101.0</td>\n",
       "      <td>기타</td>\n",
       "      <td>자가</td>\n",
       "      <td>1000000.0</td>\n",
       "      <td>기타</td>\n",
       "      <td>0.0</td>\n",
       "      <td>NaN</td>\n",
       "      <td>4.0</td>\n",
       "      <td>162000000.0</td>\n",
       "    </tr>\n",
       "    <tr>\n",
       "      <th>1</th>\n",
       "      <td>954900</td>\n",
       "      <td>553686</td>\n",
       "      <td>1968.0</td>\n",
       "      <td>1.0</td>\n",
       "      <td>2022-06-07 14:29:03</td>\n",
       "      <td>870.0</td>\n",
       "      <td>30000000.0</td>\n",
       "      <td>PRIVATEBUSINESS</td>\n",
       "      <td>20070201.0</td>\n",
       "      <td>정규직</td>\n",
       "      <td>기타가족소유</td>\n",
       "      <td>30000000.0</td>\n",
       "      <td>대환대출</td>\n",
       "      <td>0.0</td>\n",
       "      <td>NaN</td>\n",
       "      <td>1.0</td>\n",
       "      <td>27000000.0</td>\n",
       "    </tr>\n",
       "    <tr>\n",
       "      <th>2</th>\n",
       "      <td>137274</td>\n",
       "      <td>59516</td>\n",
       "      <td>1997.0</td>\n",
       "      <td>1.0</td>\n",
       "      <td>2022-06-07 21:40:22</td>\n",
       "      <td>710.0</td>\n",
       "      <td>30000000.0</td>\n",
       "      <td>FREELANCER</td>\n",
       "      <td>20210901.0</td>\n",
       "      <td>기타</td>\n",
       "      <td>기타가족소유</td>\n",
       "      <td>10000000.0</td>\n",
       "      <td>생활비</td>\n",
       "      <td>0.0</td>\n",
       "      <td>NaN</td>\n",
       "      <td>5.0</td>\n",
       "      <td>15000000.0</td>\n",
       "    </tr>\n",
       "    <tr>\n",
       "      <th>3</th>\n",
       "      <td>1570936</td>\n",
       "      <td>167320</td>\n",
       "      <td>1989.0</td>\n",
       "      <td>1.0</td>\n",
       "      <td>2022-06-07 09:40:27</td>\n",
       "      <td>820.0</td>\n",
       "      <td>62000000.0</td>\n",
       "      <td>EARNEDINCOME</td>\n",
       "      <td>20170101.0</td>\n",
       "      <td>정규직</td>\n",
       "      <td>자가</td>\n",
       "      <td>2000000.0</td>\n",
       "      <td>생활비</td>\n",
       "      <td>0.0</td>\n",
       "      <td>NaN</td>\n",
       "      <td>7.0</td>\n",
       "      <td>344000000.0</td>\n",
       "    </tr>\n",
       "    <tr>\n",
       "      <th>4</th>\n",
       "      <td>967833</td>\n",
       "      <td>33400</td>\n",
       "      <td>2000.0</td>\n",
       "      <td>1.0</td>\n",
       "      <td>2022-06-07 08:55:07</td>\n",
       "      <td>630.0</td>\n",
       "      <td>36000000.0</td>\n",
       "      <td>EARNEDINCOME</td>\n",
       "      <td>20210901.0</td>\n",
       "      <td>정규직</td>\n",
       "      <td>기타가족소유</td>\n",
       "      <td>5000000.0</td>\n",
       "      <td>생활비</td>\n",
       "      <td>0.0</td>\n",
       "      <td>0.0</td>\n",
       "      <td>1.0</td>\n",
       "      <td>16000000.0</td>\n",
       "    </tr>\n",
       "    <tr>\n",
       "      <th>...</th>\n",
       "      <td>...</td>\n",
       "      <td>...</td>\n",
       "      <td>...</td>\n",
       "      <td>...</td>\n",
       "      <td>...</td>\n",
       "      <td>...</td>\n",
       "      <td>...</td>\n",
       "      <td>...</td>\n",
       "      <td>...</td>\n",
       "      <td>...</td>\n",
       "      <td>...</td>\n",
       "      <td>...</td>\n",
       "      <td>...</td>\n",
       "      <td>...</td>\n",
       "      <td>...</td>\n",
       "      <td>...</td>\n",
       "      <td>...</td>\n",
       "    </tr>\n",
       "    <tr>\n",
       "      <th>1394211</th>\n",
       "      <td>1864587</td>\n",
       "      <td>489900</td>\n",
       "      <td>2000.0</td>\n",
       "      <td>1.0</td>\n",
       "      <td>2022-03-22 14:55:32</td>\n",
       "      <td>590.0</td>\n",
       "      <td>25000000.0</td>\n",
       "      <td>FREELANCER</td>\n",
       "      <td>202106.0</td>\n",
       "      <td>기타</td>\n",
       "      <td>기타가족소유</td>\n",
       "      <td>5000000.0</td>\n",
       "      <td>사업자금</td>\n",
       "      <td>NaN</td>\n",
       "      <td>NaN</td>\n",
       "      <td>NaN</td>\n",
       "      <td>NaN</td>\n",
       "    </tr>\n",
       "    <tr>\n",
       "      <th>1394212</th>\n",
       "      <td>1327066</td>\n",
       "      <td>151422</td>\n",
       "      <td>1955.0</td>\n",
       "      <td>1.0</td>\n",
       "      <td>2022-03-22 01:19:24</td>\n",
       "      <td>980.0</td>\n",
       "      <td>20000000.0</td>\n",
       "      <td>OTHERINCOME</td>\n",
       "      <td>NaN</td>\n",
       "      <td>기타</td>\n",
       "      <td>자가</td>\n",
       "      <td>50000000.0</td>\n",
       "      <td>생활비</td>\n",
       "      <td>NaN</td>\n",
       "      <td>NaN</td>\n",
       "      <td>1.0</td>\n",
       "      <td>NaN</td>\n",
       "    </tr>\n",
       "    <tr>\n",
       "      <th>1394213</th>\n",
       "      <td>1319606</td>\n",
       "      <td>173524</td>\n",
       "      <td>1983.0</td>\n",
       "      <td>1.0</td>\n",
       "      <td>2022-03-22 07:34:32</td>\n",
       "      <td>750.0</td>\n",
       "      <td>75000000.0</td>\n",
       "      <td>EARNEDINCOME</td>\n",
       "      <td>200908.0</td>\n",
       "      <td>정규직</td>\n",
       "      <td>자가</td>\n",
       "      <td>100000000.0</td>\n",
       "      <td>대환대출</td>\n",
       "      <td>NaN</td>\n",
       "      <td>NaN</td>\n",
       "      <td>8.0</td>\n",
       "      <td>200000000.0</td>\n",
       "    </tr>\n",
       "    <tr>\n",
       "      <th>1394214</th>\n",
       "      <td>1482466</td>\n",
       "      <td>766546</td>\n",
       "      <td>1975.0</td>\n",
       "      <td>1.0</td>\n",
       "      <td>2022-03-22 22:12:35</td>\n",
       "      <td>640.0</td>\n",
       "      <td>50000000.0</td>\n",
       "      <td>EARNEDINCOME</td>\n",
       "      <td>201705.0</td>\n",
       "      <td>정규직</td>\n",
       "      <td>자가</td>\n",
       "      <td>10000000.0</td>\n",
       "      <td>대환대출</td>\n",
       "      <td>NaN</td>\n",
       "      <td>NaN</td>\n",
       "      <td>10.0</td>\n",
       "      <td>117000000.0</td>\n",
       "    </tr>\n",
       "    <tr>\n",
       "      <th>1394215</th>\n",
       "      <td>816537</td>\n",
       "      <td>3864</td>\n",
       "      <td>1977.0</td>\n",
       "      <td>0.0</td>\n",
       "      <td>2022-03-22 08:55:14</td>\n",
       "      <td>NaN</td>\n",
       "      <td>35000000.0</td>\n",
       "      <td>FREELANCER</td>\n",
       "      <td>201103.0</td>\n",
       "      <td>기타</td>\n",
       "      <td>자가</td>\n",
       "      <td>20000000.0</td>\n",
       "      <td>생활비</td>\n",
       "      <td>NaN</td>\n",
       "      <td>NaN</td>\n",
       "      <td>NaN</td>\n",
       "      <td>NaN</td>\n",
       "    </tr>\n",
       "  </tbody>\n",
       "</table>\n",
       "<p>1394216 rows × 17 columns</p>\n",
       "</div>"
      ],
      "text/plain": [
       "         application_id  user_id  birth_year  gender          insert_time  \\\n",
       "0               1249046   118218      1985.0     1.0  2022-06-07 06:28:18   \n",
       "1                954900   553686      1968.0     1.0  2022-06-07 14:29:03   \n",
       "2                137274    59516      1997.0     1.0  2022-06-07 21:40:22   \n",
       "3               1570936   167320      1989.0     1.0  2022-06-07 09:40:27   \n",
       "4                967833    33400      2000.0     1.0  2022-06-07 08:55:07   \n",
       "...                 ...      ...         ...     ...                  ...   \n",
       "1394211         1864587   489900      2000.0     1.0  2022-03-22 14:55:32   \n",
       "1394212         1327066   151422      1955.0     1.0  2022-03-22 01:19:24   \n",
       "1394213         1319606   173524      1983.0     1.0  2022-03-22 07:34:32   \n",
       "1394214         1482466   766546      1975.0     1.0  2022-03-22 22:12:35   \n",
       "1394215          816537     3864      1977.0     0.0  2022-03-22 08:55:14   \n",
       "\n",
       "         credit_score  yearly_income      income_type  company_enter_month  \\\n",
       "0               660.0    108000000.0  PRIVATEBUSINESS           20151101.0   \n",
       "1               870.0     30000000.0  PRIVATEBUSINESS           20070201.0   \n",
       "2               710.0     30000000.0       FREELANCER           20210901.0   \n",
       "3               820.0     62000000.0     EARNEDINCOME           20170101.0   \n",
       "4               630.0     36000000.0     EARNEDINCOME           20210901.0   \n",
       "...               ...            ...              ...                  ...   \n",
       "1394211         590.0     25000000.0       FREELANCER             202106.0   \n",
       "1394212         980.0     20000000.0      OTHERINCOME                  NaN   \n",
       "1394213         750.0     75000000.0     EARNEDINCOME             200908.0   \n",
       "1394214         640.0     50000000.0     EARNEDINCOME             201705.0   \n",
       "1394215           NaN     35000000.0       FREELANCER             201103.0   \n",
       "\n",
       "        employment_type houseown_type  desired_amount purpose  \\\n",
       "0                    기타            자가       1000000.0      기타   \n",
       "1                   정규직        기타가족소유      30000000.0    대환대출   \n",
       "2                    기타        기타가족소유      10000000.0     생활비   \n",
       "3                   정규직            자가       2000000.0     생활비   \n",
       "4                   정규직        기타가족소유       5000000.0     생활비   \n",
       "...                 ...           ...             ...     ...   \n",
       "1394211              기타        기타가족소유       5000000.0    사업자금   \n",
       "1394212              기타            자가      50000000.0     생활비   \n",
       "1394213             정규직            자가     100000000.0    대환대출   \n",
       "1394214             정규직            자가      10000000.0    대환대출   \n",
       "1394215              기타            자가      20000000.0     생활비   \n",
       "\n",
       "         personal_rehabilitation_yn  personal_rehabilitation_complete_yn  \\\n",
       "0                               0.0                                  NaN   \n",
       "1                               0.0                                  NaN   \n",
       "2                               0.0                                  NaN   \n",
       "3                               0.0                                  NaN   \n",
       "4                               0.0                                  0.0   \n",
       "...                             ...                                  ...   \n",
       "1394211                         NaN                                  NaN   \n",
       "1394212                         NaN                                  NaN   \n",
       "1394213                         NaN                                  NaN   \n",
       "1394214                         NaN                                  NaN   \n",
       "1394215                         NaN                                  NaN   \n",
       "\n",
       "         existing_loan_cnt  existing_loan_amt  \n",
       "0                      4.0        162000000.0  \n",
       "1                      1.0         27000000.0  \n",
       "2                      5.0         15000000.0  \n",
       "3                      7.0        344000000.0  \n",
       "4                      1.0         16000000.0  \n",
       "...                    ...                ...  \n",
       "1394211                NaN                NaN  \n",
       "1394212                1.0                NaN  \n",
       "1394213                8.0        200000000.0  \n",
       "1394214               10.0        117000000.0  \n",
       "1394215                NaN                NaN  \n",
       "\n",
       "[1394216 rows x 17 columns]"
      ]
     },
     "execution_count": 9,
     "metadata": {},
     "output_type": "execute_result"
    }
   ],
   "source": [
    "user_spec"
   ]
  },
  {
   "cell_type": "markdown",
   "id": "0448d4e5",
   "metadata": {},
   "source": [
    "데이터 전체 행 수 : 1,394,216"
   ]
  },
  {
   "cell_type": "code",
   "execution_count": 10,
   "id": "2764dcf4",
   "metadata": {},
   "outputs": [
    {
     "data": {
      "text/plain": [
       "1394216"
      ]
     },
     "execution_count": 10,
     "metadata": {},
     "output_type": "execute_result"
    }
   ],
   "source": [
    "len(user_spec)"
   ]
  },
  {
   "cell_type": "markdown",
   "id": "d6edad0e",
   "metadata": {},
   "source": [
    "application_id(신청서) 수 : 1,394,216 ( == 데이터 전체 행 수)"
   ]
  },
  {
   "cell_type": "code",
   "execution_count": 11,
   "id": "5c0b812b",
   "metadata": {},
   "outputs": [
    {
     "data": {
      "text/plain": [
       "1394216"
      ]
     },
     "execution_count": 11,
     "metadata": {},
     "output_type": "execute_result"
    }
   ],
   "source": [
    "len(user_spec[\"application_id\"].unique())"
   ]
  },
  {
   "cell_type": "markdown",
   "id": "a034b8c6",
   "metadata": {},
   "source": [
    "user_id(이용자) 수 : 405,213\\\n",
    " => 평균적으로 이용자 한 명당 약 3번 정도 핀다 신청을 함"
   ]
  },
  {
   "cell_type": "code",
   "execution_count": 12,
   "id": "40c1af1e",
   "metadata": {},
   "outputs": [
    {
     "data": {
      "text/plain": [
       "405213"
      ]
     },
     "execution_count": 12,
     "metadata": {},
     "output_type": "execute_result"
    }
   ],
   "source": [
    "len(user_spec[\"user_id\"].unique())"
   ]
  },
  {
   "cell_type": "markdown",
   "id": "7f69bd24",
   "metadata": {},
   "source": [
    "### loan_result에는 있지만 user_spec에는 없는 경우 and user_spec에는 있지만 loan_result에는 없는 경우"
   ]
  },
  {
   "cell_type": "code",
   "execution_count": 13,
   "id": "b455a474",
   "metadata": {},
   "outputs": [],
   "source": [
    "loan_app_id = loan_result['application_id'].unique()\n",
    "user_app_id = user_spec['application_id'].unique()"
   ]
  },
  {
   "cell_type": "code",
   "execution_count": 14,
   "id": "877a647e",
   "metadata": {},
   "outputs": [
    {
     "name": "stdout",
     "output_type": "stream",
     "text": [
      "loan_result에는 있지만 user_spec에는 없는 경우 : 0\n",
      "user_spec에는 있지만 loan_result에는 없는 경우 : 425489\n"
     ]
    }
   ],
   "source": [
    "print(\"loan_result에는 있지만 user_spec에는 없는 경우 :\", sum(1-np.isin(loan_app_id, user_app_id)))\n",
    "print(\"user_spec에는 있지만 loan_result에는 없는 경우 :\", sum(1-np.isin(user_app_id, loan_app_id)))"
   ]
  },
  {
   "cell_type": "markdown",
   "id": "a18704b6",
   "metadata": {},
   "source": [
    "### 날짜 형식 맞춰주기"
   ]
  },
  {
   "cell_type": "markdown",
   "id": "9ebec395",
   "metadata": {},
   "source": [
    "년월까지만 있는 형식도 있고 년월일까지 있는 형식도 있어서 전체적으로 년월 형식으로 바꿔줌."
   ]
  },
  {
   "cell_type": "code",
   "execution_count": 15,
   "id": "f8a53642",
   "metadata": {},
   "outputs": [
    {
     "data": {
      "application/vnd.jupyter.widget-view+json": {
       "model_id": "2dfe6e9b9a4649afad3b8252d827d815",
       "version_major": 2,
       "version_minor": 0
      },
      "text/plain": [
       "  0%|          | 0/1394216 [00:00<?, ?it/s]"
      ]
     },
     "metadata": {},
     "output_type": "display_data"
    }
   ],
   "source": [
    "# company_enter_month\n",
    "company_enter_month_d = []\n",
    "for i in tqdm_notebook(user_spec[\"company_enter_month\"].astype(str)):\n",
    "    try:\n",
    "        company_enter_month_d.append(pd.to_datetime(i[0:6]+\"01\"))\n",
    "    except:\n",
    "        company_enter_month_d.append(np.nan)"
   ]
  },
  {
   "cell_type": "code",
   "execution_count": 16,
   "id": "c17d10a3",
   "metadata": {},
   "outputs": [],
   "source": [
    "user_spec[\"company_enter_month\"] = company_enter_month_d"
   ]
  },
  {
   "cell_type": "code",
   "execution_count": 17,
   "id": "b9031e9b",
   "metadata": {},
   "outputs": [],
   "source": [
    "# insert_time\n",
    "user_spec[\"insert_time\"] = pd.to_datetime(user_spec[\"insert_time\"])"
   ]
  },
  {
   "cell_type": "markdown",
   "id": "422800d0",
   "metadata": {},
   "source": [
    "### 신용점수"
   ]
  },
  {
   "cell_type": "code",
   "execution_count": 18,
   "id": "c0962aa9",
   "metadata": {
    "scrolled": false
   },
   "outputs": [
    {
     "data": {
      "text/plain": [
       "{'whiskers': [<matplotlib.lines.Line2D at 0x1b3b8f9c5b0>,\n",
       "  <matplotlib.lines.Line2D at 0x1b3b8f9c910>],\n",
       " 'caps': [<matplotlib.lines.Line2D at 0x1b3b8f9cc70>,\n",
       "  <matplotlib.lines.Line2D at 0x1b3b8f9cfd0>],\n",
       " 'boxes': [<matplotlib.lines.Line2D at 0x1b3b8f9c250>],\n",
       " 'medians': [<matplotlib.lines.Line2D at 0x1b3b8f8c370>],\n",
       " 'fliers': [<matplotlib.lines.Line2D at 0x1b3b8f8c6d0>],\n",
       " 'means': []}"
      ]
     },
     "execution_count": 18,
     "metadata": {},
     "output_type": "execute_result"
    },
    {
     "data": {
      "image/png": "[encoded data removed]",
      "text/plain": [
       "<Figure size 360x720 with 1 Axes>"
      ]
     },
     "metadata": {
      "needs_background": "light"
     },
     "output_type": "display_data"
    }
   ],
   "source": [
    "plt.figure(figsize=(5,10))\n",
    "plt.boxplot(user_spec.loc[user_spec[\"credit_score\"].notna(),\"credit_score\"])"
   ]
  },
  {
   "cell_type": "markdown",
   "id": "dcdc8d4a",
   "metadata": {},
   "source": [
    "결측인 행이 꽤 많음"
   ]
  },
  {
   "cell_type": "code",
   "execution_count": 19,
   "id": "4d17415d",
   "metadata": {},
   "outputs": [
    {
     "data": {
      "text/plain": [
       "105115"
      ]
     },
     "execution_count": 19,
     "metadata": {},
     "output_type": "execute_result"
    }
   ],
   "source": [
    "user_spec[\"credit_score\"].isna().sum()"
   ]
  },
  {
   "cell_type": "markdown",
   "id": "4fc013bb",
   "metadata": {},
   "source": [
    "### purpose 명칭 통합"
   ]
  },
  {
   "cell_type": "code",
   "execution_count": 20,
   "id": "f29bea6c",
   "metadata": {},
   "outputs": [
    {
     "data": {
      "text/plain": [
       "생활비             866079\n",
       "대환대출            353794\n",
       "사업자금             62115\n",
       "기타               30132\n",
       "전월세보증금           27236\n",
       "주택구입             17471\n",
       "LIVING           15432\n",
       "투자               12532\n",
       "자동차구입             3394\n",
       "SWITCHLOAN        3248\n",
       "BUSINESS           935\n",
       "ETC                593\n",
       "HOUSEDEPOSIT       562\n",
       "BUYHOUSE           307\n",
       "INVEST             166\n",
       "BUYCAR             135\n",
       "Name: purpose, dtype: int64"
      ]
     },
     "execution_count": 20,
     "metadata": {},
     "output_type": "execute_result"
    }
   ],
   "source": [
    "user_spec[\"purpose\"].value_counts()"
   ]
  },
  {
   "cell_type": "code",
   "execution_count": 21,
   "id": "d31362d1",
   "metadata": {},
   "outputs": [],
   "source": [
    "user_spec[\"purpose\"].replace(\"LIVING\", \"생활비\", inplace = True)\n",
    "user_spec[\"purpose\"].replace(\"SWITCHLOAN\", \"대환대출\", inplace = True)\n",
    "user_spec[\"purpose\"].replace(\"BUSINESS\", \"사업자금\", inplace = True)\n",
    "user_spec[\"purpose\"].replace(\"ETC\", \"기타\", inplace = True)\n",
    "user_spec[\"purpose\"].replace(\"HOUSEDEPOSIT\", \"전월세보증금\", inplace = True)\n",
    "user_spec[\"purpose\"].replace(\"BUYHOUSE\", \"주택구입\", inplace = True)\n",
    "user_spec[\"purpose\"].replace(\"INVEST\", \"투자\", inplace = True)\n",
    "user_spec[\"purpose\"].replace(\"BUYCAR\", \"자동차구입\", inplace = True)"
   ]
  },
  {
   "cell_type": "code",
   "execution_count": 22,
   "id": "b9b60de2",
   "metadata": {},
   "outputs": [
    {
     "data": {
      "text/plain": [
       "생활비       881511\n",
       "대환대출      357042\n",
       "사업자금       63050\n",
       "기타         30725\n",
       "전월세보증금     27798\n",
       "주택구입       17778\n",
       "투자         12698\n",
       "자동차구입       3529\n",
       "Name: purpose, dtype: int64"
      ]
     },
     "execution_count": 22,
     "metadata": {},
     "output_type": "execute_result"
    }
   ],
   "source": [
    "user_spec[\"purpose\"].value_counts()"
   ]
  },
  {
   "cell_type": "markdown",
   "id": "3e5a17fb",
   "metadata": {},
   "source": [
    "### income_type, employment_type, houseown_type 비율"
   ]
  },
  {
   "cell_type": "code",
   "execution_count": 23,
   "id": "a74d81c5",
   "metadata": {},
   "outputs": [
    {
     "data": {
      "text/plain": [
       "EARNEDINCOME       892579\n",
       "OTHERINCOME        172600\n",
       "PRIVATEBUSINESS    126108\n",
       "FREELANCER         103913\n",
       "EARNEDINCOME2       78806\n",
       "PRACTITIONER        20125\n",
       "Name: income_type, dtype: int64"
      ]
     },
     "execution_count": 23,
     "metadata": {},
     "output_type": "execute_result"
    }
   ],
   "source": [
    "user_spec[\"income_type\"].value_counts()"
   ]
  },
  {
   "cell_type": "code",
   "execution_count": 24,
   "id": "b6c994f2",
   "metadata": {},
   "outputs": [
    {
     "data": {
      "text/plain": [
       "정규직    918032\n",
       "기타     345801\n",
       "계약직    111445\n",
       "일용직     18853\n",
       "Name: employment_type, dtype: int64"
      ]
     },
     "execution_count": 24,
     "metadata": {},
     "output_type": "execute_result"
    }
   ],
   "source": [
    "user_spec[\"employment_type\"].value_counts()"
   ]
  },
  {
   "cell_type": "code",
   "execution_count": 25,
   "id": "f9c64cfa",
   "metadata": {},
   "outputs": [
    {
     "data": {
      "text/plain": [
       "전월세       642838\n",
       "기타가족소유    465893\n",
       "자가        283454\n",
       "배우자         1946\n",
       "Name: houseown_type, dtype: int64"
      ]
     },
     "execution_count": 25,
     "metadata": {},
     "output_type": "execute_result"
    }
   ],
   "source": [
    "user_spec[\"houseown_type\"].value_counts()"
   ]
  },
  {
   "cell_type": "code",
   "execution_count": 26,
   "id": "1bf9c721",
   "metadata": {},
   "outputs": [
    {
     "data": {
      "text/plain": [
       "생활비       881511\n",
       "대환대출      357042\n",
       "사업자금       63050\n",
       "기타         30725\n",
       "전월세보증금     27798\n",
       "주택구입       17778\n",
       "투자         12698\n",
       "자동차구입       3529\n",
       "Name: purpose, dtype: int64"
      ]
     },
     "execution_count": 26,
     "metadata": {},
     "output_type": "execute_result"
    }
   ],
   "source": [
    "user_spec[\"purpose\"].value_counts()"
   ]
  },
  {
   "cell_type": "markdown",
   "id": "b9911f3d",
   "metadata": {},
   "source": [
    "### desired_amount"
   ]
  },
  {
   "cell_type": "code",
   "execution_count": 27,
   "id": "3f60f8d1",
   "metadata": {},
   "outputs": [],
   "source": [
    "user_spec[\"desired_amount\"] += 250000 # 0인 경우 존재 -> 반올림 과정에서 오류"
   ]
  },
  {
   "cell_type": "markdown",
   "id": "decf5275",
   "metadata": {},
   "source": [
    "### existing_loan_cnt, existing_loan_amt"
   ]
  },
  {
   "cell_type": "code",
   "execution_count": 28,
   "id": "b4dd9462",
   "metadata": {},
   "outputs": [
    {
     "data": {
      "text/html": [
       "<div>\n",
       "<style scoped>\n",
       "    .dataframe tbody tr th:only-of-type {\n",
       "        vertical-align: middle;\n",
       "    }\n",
       "\n",
       "    .dataframe tbody tr th {\n",
       "        vertical-align: top;\n",
       "    }\n",
       "\n",
       "    .dataframe thead th {\n",
       "        text-align: right;\n",
       "    }\n",
       "</style>\n",
       "<table border=\"1\" class=\"dataframe\">\n",
       "  <thead>\n",
       "    <tr style=\"text-align: right;\">\n",
       "      <th></th>\n",
       "      <th>application_id</th>\n",
       "      <th>user_id</th>\n",
       "      <th>birth_year</th>\n",
       "      <th>gender</th>\n",
       "      <th>insert_time</th>\n",
       "      <th>credit_score</th>\n",
       "      <th>yearly_income</th>\n",
       "      <th>income_type</th>\n",
       "      <th>company_enter_month</th>\n",
       "      <th>employment_type</th>\n",
       "      <th>houseown_type</th>\n",
       "      <th>desired_amount</th>\n",
       "      <th>purpose</th>\n",
       "      <th>personal_rehabilitation_yn</th>\n",
       "      <th>personal_rehabilitation_complete_yn</th>\n",
       "      <th>existing_loan_cnt</th>\n",
       "      <th>existing_loan_amt</th>\n",
       "    </tr>\n",
       "  </thead>\n",
       "  <tbody>\n",
       "    <tr>\n",
       "      <th>7</th>\n",
       "      <td>1146166</td>\n",
       "      <td>588743</td>\n",
       "      <td>1992.0</td>\n",
       "      <td>0.0</td>\n",
       "      <td>2022-06-07 17:19:33</td>\n",
       "      <td>750.0</td>\n",
       "      <td>46000000.0</td>\n",
       "      <td>EARNEDINCOME</td>\n",
       "      <td>2015-10-01</td>\n",
       "      <td>정규직</td>\n",
       "      <td>기타가족소유</td>\n",
       "      <td>6250000.0</td>\n",
       "      <td>생활비</td>\n",
       "      <td>0.0</td>\n",
       "      <td>0.0</td>\n",
       "      <td>NaN</td>\n",
       "      <td>NaN</td>\n",
       "    </tr>\n",
       "    <tr>\n",
       "      <th>23</th>\n",
       "      <td>1237618</td>\n",
       "      <td>717213</td>\n",
       "      <td>1986.0</td>\n",
       "      <td>1.0</td>\n",
       "      <td>2022-06-07 03:26:54</td>\n",
       "      <td>530.0</td>\n",
       "      <td>51000000.0</td>\n",
       "      <td>EARNEDINCOME</td>\n",
       "      <td>2017-05-01</td>\n",
       "      <td>정규직</td>\n",
       "      <td>전월세</td>\n",
       "      <td>5250000.0</td>\n",
       "      <td>생활비</td>\n",
       "      <td>0.0</td>\n",
       "      <td>0.0</td>\n",
       "      <td>NaN</td>\n",
       "      <td>NaN</td>\n",
       "    </tr>\n",
       "    <tr>\n",
       "      <th>25</th>\n",
       "      <td>272600</td>\n",
       "      <td>754046</td>\n",
       "      <td>1980.0</td>\n",
       "      <td>1.0</td>\n",
       "      <td>2022-06-07 19:24:28</td>\n",
       "      <td>NaN</td>\n",
       "      <td>22000000.0</td>\n",
       "      <td>EARNEDINCOME</td>\n",
       "      <td>2009-01-01</td>\n",
       "      <td>정규직</td>\n",
       "      <td>전월세</td>\n",
       "      <td>22250000.0</td>\n",
       "      <td>대환대출</td>\n",
       "      <td>0.0</td>\n",
       "      <td>NaN</td>\n",
       "      <td>NaN</td>\n",
       "      <td>NaN</td>\n",
       "    </tr>\n",
       "    <tr>\n",
       "      <th>37</th>\n",
       "      <td>703129</td>\n",
       "      <td>324991</td>\n",
       "      <td>1994.0</td>\n",
       "      <td>0.0</td>\n",
       "      <td>2022-06-07 11:12:24</td>\n",
       "      <td>950.0</td>\n",
       "      <td>0.0</td>\n",
       "      <td>OTHERINCOME</td>\n",
       "      <td>NaT</td>\n",
       "      <td>기타</td>\n",
       "      <td>자가</td>\n",
       "      <td>50250000.0</td>\n",
       "      <td>기타</td>\n",
       "      <td>0.0</td>\n",
       "      <td>NaN</td>\n",
       "      <td>NaN</td>\n",
       "      <td>NaN</td>\n",
       "    </tr>\n",
       "    <tr>\n",
       "      <th>48</th>\n",
       "      <td>612258</td>\n",
       "      <td>59149</td>\n",
       "      <td>1998.0</td>\n",
       "      <td>1.0</td>\n",
       "      <td>2022-06-07 07:31:21</td>\n",
       "      <td>NaN</td>\n",
       "      <td>0.0</td>\n",
       "      <td>PRIVATEBUSINESS</td>\n",
       "      <td>2022-03-01</td>\n",
       "      <td>기타</td>\n",
       "      <td>전월세</td>\n",
       "      <td>1250000.0</td>\n",
       "      <td>생활비</td>\n",
       "      <td>0.0</td>\n",
       "      <td>0.0</td>\n",
       "      <td>NaN</td>\n",
       "      <td>NaN</td>\n",
       "    </tr>\n",
       "    <tr>\n",
       "      <th>...</th>\n",
       "      <td>...</td>\n",
       "      <td>...</td>\n",
       "      <td>...</td>\n",
       "      <td>...</td>\n",
       "      <td>...</td>\n",
       "      <td>...</td>\n",
       "      <td>...</td>\n",
       "      <td>...</td>\n",
       "      <td>...</td>\n",
       "      <td>...</td>\n",
       "      <td>...</td>\n",
       "      <td>...</td>\n",
       "      <td>...</td>\n",
       "      <td>...</td>\n",
       "      <td>...</td>\n",
       "      <td>...</td>\n",
       "      <td>...</td>\n",
       "    </tr>\n",
       "    <tr>\n",
       "      <th>1394184</th>\n",
       "      <td>1107103</td>\n",
       "      <td>162983</td>\n",
       "      <td>1978.0</td>\n",
       "      <td>1.0</td>\n",
       "      <td>2022-03-22 12:14:17</td>\n",
       "      <td>750.0</td>\n",
       "      <td>55000000.0</td>\n",
       "      <td>EARNEDINCOME</td>\n",
       "      <td>2014-08-01</td>\n",
       "      <td>정규직</td>\n",
       "      <td>전월세</td>\n",
       "      <td>50250000.0</td>\n",
       "      <td>생활비</td>\n",
       "      <td>NaN</td>\n",
       "      <td>NaN</td>\n",
       "      <td>NaN</td>\n",
       "      <td>NaN</td>\n",
       "    </tr>\n",
       "    <tr>\n",
       "      <th>1394203</th>\n",
       "      <td>943512</td>\n",
       "      <td>183117</td>\n",
       "      <td>1996.0</td>\n",
       "      <td>0.0</td>\n",
       "      <td>2022-03-22 16:22:21</td>\n",
       "      <td>710.0</td>\n",
       "      <td>24000000.0</td>\n",
       "      <td>EARNEDINCOME</td>\n",
       "      <td>2022-01-01</td>\n",
       "      <td>정규직</td>\n",
       "      <td>전월세</td>\n",
       "      <td>25250000.0</td>\n",
       "      <td>전월세보증금</td>\n",
       "      <td>NaN</td>\n",
       "      <td>NaN</td>\n",
       "      <td>NaN</td>\n",
       "      <td>NaN</td>\n",
       "    </tr>\n",
       "    <tr>\n",
       "      <th>1394204</th>\n",
       "      <td>1663661</td>\n",
       "      <td>183117</td>\n",
       "      <td>1996.0</td>\n",
       "      <td>0.0</td>\n",
       "      <td>2022-03-22 17:37:49</td>\n",
       "      <td>710.0</td>\n",
       "      <td>30000000.0</td>\n",
       "      <td>OTHERINCOME</td>\n",
       "      <td>NaT</td>\n",
       "      <td>기타</td>\n",
       "      <td>전월세</td>\n",
       "      <td>25250000.0</td>\n",
       "      <td>기타</td>\n",
       "      <td>NaN</td>\n",
       "      <td>NaN</td>\n",
       "      <td>NaN</td>\n",
       "      <td>NaN</td>\n",
       "    </tr>\n",
       "    <tr>\n",
       "      <th>1394211</th>\n",
       "      <td>1864587</td>\n",
       "      <td>489900</td>\n",
       "      <td>2000.0</td>\n",
       "      <td>1.0</td>\n",
       "      <td>2022-03-22 14:55:32</td>\n",
       "      <td>590.0</td>\n",
       "      <td>25000000.0</td>\n",
       "      <td>FREELANCER</td>\n",
       "      <td>2021-06-01</td>\n",
       "      <td>기타</td>\n",
       "      <td>기타가족소유</td>\n",
       "      <td>5250000.0</td>\n",
       "      <td>사업자금</td>\n",
       "      <td>NaN</td>\n",
       "      <td>NaN</td>\n",
       "      <td>NaN</td>\n",
       "      <td>NaN</td>\n",
       "    </tr>\n",
       "    <tr>\n",
       "      <th>1394215</th>\n",
       "      <td>816537</td>\n",
       "      <td>3864</td>\n",
       "      <td>1977.0</td>\n",
       "      <td>0.0</td>\n",
       "      <td>2022-03-22 08:55:14</td>\n",
       "      <td>NaN</td>\n",
       "      <td>35000000.0</td>\n",
       "      <td>FREELANCER</td>\n",
       "      <td>2011-03-01</td>\n",
       "      <td>기타</td>\n",
       "      <td>자가</td>\n",
       "      <td>20250000.0</td>\n",
       "      <td>생활비</td>\n",
       "      <td>NaN</td>\n",
       "      <td>NaN</td>\n",
       "      <td>NaN</td>\n",
       "      <td>NaN</td>\n",
       "    </tr>\n",
       "  </tbody>\n",
       "</table>\n",
       "<p>198556 rows × 17 columns</p>\n",
       "</div>"
      ],
      "text/plain": [
       "         application_id  user_id  birth_year  gender         insert_time  \\\n",
       "7               1146166   588743      1992.0     0.0 2022-06-07 17:19:33   \n",
       "23              1237618   717213      1986.0     1.0 2022-06-07 03:26:54   \n",
       "25               272600   754046      1980.0     1.0 2022-06-07 19:24:28   \n",
       "37               703129   324991      1994.0     0.0 2022-06-07 11:12:24   \n",
       "48               612258    59149      1998.0     1.0 2022-06-07 07:31:21   \n",
       "...                 ...      ...         ...     ...                 ...   \n",
       "1394184         1107103   162983      1978.0     1.0 2022-03-22 12:14:17   \n",
       "1394203          943512   183117      1996.0     0.0 2022-03-22 16:22:21   \n",
       "1394204         1663661   183117      1996.0     0.0 2022-03-22 17:37:49   \n",
       "1394211         1864587   489900      2000.0     1.0 2022-03-22 14:55:32   \n",
       "1394215          816537     3864      1977.0     0.0 2022-03-22 08:55:14   \n",
       "\n",
       "         credit_score  yearly_income      income_type company_enter_month  \\\n",
       "7               750.0     46000000.0     EARNEDINCOME          2015-10-01   \n",
       "23              530.0     51000000.0     EARNEDINCOME          2017-05-01   \n",
       "25                NaN     22000000.0     EARNEDINCOME          2009-01-01   \n",
       "37              950.0            0.0      OTHERINCOME                 NaT   \n",
       "48                NaN            0.0  PRIVATEBUSINESS          2022-03-01   \n",
       "...               ...            ...              ...                 ...   \n",
       "1394184         750.0     55000000.0     EARNEDINCOME          2014-08-01   \n",
       "1394203         710.0     24000000.0     EARNEDINCOME          2022-01-01   \n",
       "1394204         710.0     30000000.0      OTHERINCOME                 NaT   \n",
       "1394211         590.0     25000000.0       FREELANCER          2021-06-01   \n",
       "1394215           NaN     35000000.0       FREELANCER          2011-03-01   \n",
       "\n",
       "        employment_type houseown_type  desired_amount purpose  \\\n",
       "7                   정규직        기타가족소유       6250000.0     생활비   \n",
       "23                  정규직           전월세       5250000.0     생활비   \n",
       "25                  정규직           전월세      22250000.0    대환대출   \n",
       "37                   기타            자가      50250000.0      기타   \n",
       "48                   기타           전월세       1250000.0     생활비   \n",
       "...                 ...           ...             ...     ...   \n",
       "1394184             정규직           전월세      50250000.0     생활비   \n",
       "1394203             정규직           전월세      25250000.0  전월세보증금   \n",
       "1394204              기타           전월세      25250000.0      기타   \n",
       "1394211              기타        기타가족소유       5250000.0    사업자금   \n",
       "1394215              기타            자가      20250000.0     생활비   \n",
       "\n",
       "         personal_rehabilitation_yn  personal_rehabilitation_complete_yn  \\\n",
       "7                               0.0                                  0.0   \n",
       "23                              0.0                                  0.0   \n",
       "25                              0.0                                  NaN   \n",
       "37                              0.0                                  NaN   \n",
       "48                              0.0                                  0.0   \n",
       "...                             ...                                  ...   \n",
       "1394184                         NaN                                  NaN   \n",
       "1394203                         NaN                                  NaN   \n",
       "1394204                         NaN                                  NaN   \n",
       "1394211                         NaN                                  NaN   \n",
       "1394215                         NaN                                  NaN   \n",
       "\n",
       "         existing_loan_cnt  existing_loan_amt  \n",
       "7                      NaN                NaN  \n",
       "23                     NaN                NaN  \n",
       "25                     NaN                NaN  \n",
       "37                     NaN                NaN  \n",
       "48                     NaN                NaN  \n",
       "...                    ...                ...  \n",
       "1394184                NaN                NaN  \n",
       "1394203                NaN                NaN  \n",
       "1394204                NaN                NaN  \n",
       "1394211                NaN                NaN  \n",
       "1394215                NaN                NaN  \n",
       "\n",
       "[198556 rows x 17 columns]"
      ]
     },
     "execution_count": 28,
     "metadata": {},
     "output_type": "execute_result"
    }
   ],
   "source": [
    "user_spec[user_spec[\"existing_loan_cnt\"].isna()]"
   ]
  },
  {
   "cell_type": "code",
   "execution_count": 29,
   "id": "71413d8f",
   "metadata": {},
   "outputs": [
    {
     "data": {
      "text/html": [
       "<div>\n",
       "<style scoped>\n",
       "    .dataframe tbody tr th:only-of-type {\n",
       "        vertical-align: middle;\n",
       "    }\n",
       "\n",
       "    .dataframe tbody tr th {\n",
       "        vertical-align: top;\n",
       "    }\n",
       "\n",
       "    .dataframe thead th {\n",
       "        text-align: right;\n",
       "    }\n",
       "</style>\n",
       "<table border=\"1\" class=\"dataframe\">\n",
       "  <thead>\n",
       "    <tr style=\"text-align: right;\">\n",
       "      <th></th>\n",
       "      <th>application_id</th>\n",
       "      <th>user_id</th>\n",
       "      <th>birth_year</th>\n",
       "      <th>gender</th>\n",
       "      <th>insert_time</th>\n",
       "      <th>credit_score</th>\n",
       "      <th>yearly_income</th>\n",
       "      <th>income_type</th>\n",
       "      <th>company_enter_month</th>\n",
       "      <th>employment_type</th>\n",
       "      <th>houseown_type</th>\n",
       "      <th>desired_amount</th>\n",
       "      <th>purpose</th>\n",
       "      <th>personal_rehabilitation_yn</th>\n",
       "      <th>personal_rehabilitation_complete_yn</th>\n",
       "      <th>existing_loan_cnt</th>\n",
       "      <th>existing_loan_amt</th>\n",
       "    </tr>\n",
       "  </thead>\n",
       "  <tbody>\n",
       "    <tr>\n",
       "      <th>7</th>\n",
       "      <td>1146166</td>\n",
       "      <td>588743</td>\n",
       "      <td>1992.0</td>\n",
       "      <td>0.0</td>\n",
       "      <td>2022-06-07 17:19:33</td>\n",
       "      <td>750.0</td>\n",
       "      <td>46000000.0</td>\n",
       "      <td>EARNEDINCOME</td>\n",
       "      <td>2015-10-01</td>\n",
       "      <td>정규직</td>\n",
       "      <td>기타가족소유</td>\n",
       "      <td>6250000.0</td>\n",
       "      <td>생활비</td>\n",
       "      <td>0.0</td>\n",
       "      <td>0.0</td>\n",
       "      <td>NaN</td>\n",
       "      <td>NaN</td>\n",
       "    </tr>\n",
       "    <tr>\n",
       "      <th>23</th>\n",
       "      <td>1237618</td>\n",
       "      <td>717213</td>\n",
       "      <td>1986.0</td>\n",
       "      <td>1.0</td>\n",
       "      <td>2022-06-07 03:26:54</td>\n",
       "      <td>530.0</td>\n",
       "      <td>51000000.0</td>\n",
       "      <td>EARNEDINCOME</td>\n",
       "      <td>2017-05-01</td>\n",
       "      <td>정규직</td>\n",
       "      <td>전월세</td>\n",
       "      <td>5250000.0</td>\n",
       "      <td>생활비</td>\n",
       "      <td>0.0</td>\n",
       "      <td>0.0</td>\n",
       "      <td>NaN</td>\n",
       "      <td>NaN</td>\n",
       "    </tr>\n",
       "    <tr>\n",
       "      <th>25</th>\n",
       "      <td>272600</td>\n",
       "      <td>754046</td>\n",
       "      <td>1980.0</td>\n",
       "      <td>1.0</td>\n",
       "      <td>2022-06-07 19:24:28</td>\n",
       "      <td>NaN</td>\n",
       "      <td>22000000.0</td>\n",
       "      <td>EARNEDINCOME</td>\n",
       "      <td>2009-01-01</td>\n",
       "      <td>정규직</td>\n",
       "      <td>전월세</td>\n",
       "      <td>22250000.0</td>\n",
       "      <td>대환대출</td>\n",
       "      <td>0.0</td>\n",
       "      <td>NaN</td>\n",
       "      <td>NaN</td>\n",
       "      <td>NaN</td>\n",
       "    </tr>\n",
       "    <tr>\n",
       "      <th>37</th>\n",
       "      <td>703129</td>\n",
       "      <td>324991</td>\n",
       "      <td>1994.0</td>\n",
       "      <td>0.0</td>\n",
       "      <td>2022-06-07 11:12:24</td>\n",
       "      <td>950.0</td>\n",
       "      <td>0.0</td>\n",
       "      <td>OTHERINCOME</td>\n",
       "      <td>NaT</td>\n",
       "      <td>기타</td>\n",
       "      <td>자가</td>\n",
       "      <td>50250000.0</td>\n",
       "      <td>기타</td>\n",
       "      <td>0.0</td>\n",
       "      <td>NaN</td>\n",
       "      <td>NaN</td>\n",
       "      <td>NaN</td>\n",
       "    </tr>\n",
       "    <tr>\n",
       "      <th>48</th>\n",
       "      <td>612258</td>\n",
       "      <td>59149</td>\n",
       "      <td>1998.0</td>\n",
       "      <td>1.0</td>\n",
       "      <td>2022-06-07 07:31:21</td>\n",
       "      <td>NaN</td>\n",
       "      <td>0.0</td>\n",
       "      <td>PRIVATEBUSINESS</td>\n",
       "      <td>2022-03-01</td>\n",
       "      <td>기타</td>\n",
       "      <td>전월세</td>\n",
       "      <td>1250000.0</td>\n",
       "      <td>생활비</td>\n",
       "      <td>0.0</td>\n",
       "      <td>0.0</td>\n",
       "      <td>NaN</td>\n",
       "      <td>NaN</td>\n",
       "    </tr>\n",
       "    <tr>\n",
       "      <th>...</th>\n",
       "      <td>...</td>\n",
       "      <td>...</td>\n",
       "      <td>...</td>\n",
       "      <td>...</td>\n",
       "      <td>...</td>\n",
       "      <td>...</td>\n",
       "      <td>...</td>\n",
       "      <td>...</td>\n",
       "      <td>...</td>\n",
       "      <td>...</td>\n",
       "      <td>...</td>\n",
       "      <td>...</td>\n",
       "      <td>...</td>\n",
       "      <td>...</td>\n",
       "      <td>...</td>\n",
       "      <td>...</td>\n",
       "      <td>...</td>\n",
       "    </tr>\n",
       "    <tr>\n",
       "      <th>1394184</th>\n",
       "      <td>1107103</td>\n",
       "      <td>162983</td>\n",
       "      <td>1978.0</td>\n",
       "      <td>1.0</td>\n",
       "      <td>2022-03-22 12:14:17</td>\n",
       "      <td>750.0</td>\n",
       "      <td>55000000.0</td>\n",
       "      <td>EARNEDINCOME</td>\n",
       "      <td>2014-08-01</td>\n",
       "      <td>정규직</td>\n",
       "      <td>전월세</td>\n",
       "      <td>50250000.0</td>\n",
       "      <td>생활비</td>\n",
       "      <td>NaN</td>\n",
       "      <td>NaN</td>\n",
       "      <td>NaN</td>\n",
       "      <td>NaN</td>\n",
       "    </tr>\n",
       "    <tr>\n",
       "      <th>1394203</th>\n",
       "      <td>943512</td>\n",
       "      <td>183117</td>\n",
       "      <td>1996.0</td>\n",
       "      <td>0.0</td>\n",
       "      <td>2022-03-22 16:22:21</td>\n",
       "      <td>710.0</td>\n",
       "      <td>24000000.0</td>\n",
       "      <td>EARNEDINCOME</td>\n",
       "      <td>2022-01-01</td>\n",
       "      <td>정규직</td>\n",
       "      <td>전월세</td>\n",
       "      <td>25250000.0</td>\n",
       "      <td>전월세보증금</td>\n",
       "      <td>NaN</td>\n",
       "      <td>NaN</td>\n",
       "      <td>NaN</td>\n",
       "      <td>NaN</td>\n",
       "    </tr>\n",
       "    <tr>\n",
       "      <th>1394204</th>\n",
       "      <td>1663661</td>\n",
       "      <td>183117</td>\n",
       "      <td>1996.0</td>\n",
       "      <td>0.0</td>\n",
       "      <td>2022-03-22 17:37:49</td>\n",
       "      <td>710.0</td>\n",
       "      <td>30000000.0</td>\n",
       "      <td>OTHERINCOME</td>\n",
       "      <td>NaT</td>\n",
       "      <td>기타</td>\n",
       "      <td>전월세</td>\n",
       "      <td>25250000.0</td>\n",
       "      <td>기타</td>\n",
       "      <td>NaN</td>\n",
       "      <td>NaN</td>\n",
       "      <td>NaN</td>\n",
       "      <td>NaN</td>\n",
       "    </tr>\n",
       "    <tr>\n",
       "      <th>1394211</th>\n",
       "      <td>1864587</td>\n",
       "      <td>489900</td>\n",
       "      <td>2000.0</td>\n",
       "      <td>1.0</td>\n",
       "      <td>2022-03-22 14:55:32</td>\n",
       "      <td>590.0</td>\n",
       "      <td>25000000.0</td>\n",
       "      <td>FREELANCER</td>\n",
       "      <td>2021-06-01</td>\n",
       "      <td>기타</td>\n",
       "      <td>기타가족소유</td>\n",
       "      <td>5250000.0</td>\n",
       "      <td>사업자금</td>\n",
       "      <td>NaN</td>\n",
       "      <td>NaN</td>\n",
       "      <td>NaN</td>\n",
       "      <td>NaN</td>\n",
       "    </tr>\n",
       "    <tr>\n",
       "      <th>1394215</th>\n",
       "      <td>816537</td>\n",
       "      <td>3864</td>\n",
       "      <td>1977.0</td>\n",
       "      <td>0.0</td>\n",
       "      <td>2022-03-22 08:55:14</td>\n",
       "      <td>NaN</td>\n",
       "      <td>35000000.0</td>\n",
       "      <td>FREELANCER</td>\n",
       "      <td>2011-03-01</td>\n",
       "      <td>기타</td>\n",
       "      <td>자가</td>\n",
       "      <td>20250000.0</td>\n",
       "      <td>생활비</td>\n",
       "      <td>NaN</td>\n",
       "      <td>NaN</td>\n",
       "      <td>NaN</td>\n",
       "      <td>NaN</td>\n",
       "    </tr>\n",
       "  </tbody>\n",
       "</table>\n",
       "<p>198556 rows × 17 columns</p>\n",
       "</div>"
      ],
      "text/plain": [
       "         application_id  user_id  birth_year  gender         insert_time  \\\n",
       "7               1146166   588743      1992.0     0.0 2022-06-07 17:19:33   \n",
       "23              1237618   717213      1986.0     1.0 2022-06-07 03:26:54   \n",
       "25               272600   754046      1980.0     1.0 2022-06-07 19:24:28   \n",
       "37               703129   324991      1994.0     0.0 2022-06-07 11:12:24   \n",
       "48               612258    59149      1998.0     1.0 2022-06-07 07:31:21   \n",
       "...                 ...      ...         ...     ...                 ...   \n",
       "1394184         1107103   162983      1978.0     1.0 2022-03-22 12:14:17   \n",
       "1394203          943512   183117      1996.0     0.0 2022-03-22 16:22:21   \n",
       "1394204         1663661   183117      1996.0     0.0 2022-03-22 17:37:49   \n",
       "1394211         1864587   489900      2000.0     1.0 2022-03-22 14:55:32   \n",
       "1394215          816537     3864      1977.0     0.0 2022-03-22 08:55:14   \n",
       "\n",
       "         credit_score  yearly_income      income_type company_enter_month  \\\n",
       "7               750.0     46000000.0     EARNEDINCOME          2015-10-01   \n",
       "23              530.0     51000000.0     EARNEDINCOME          2017-05-01   \n",
       "25                NaN     22000000.0     EARNEDINCOME          2009-01-01   \n",
       "37              950.0            0.0      OTHERINCOME                 NaT   \n",
       "48                NaN            0.0  PRIVATEBUSINESS          2022-03-01   \n",
       "...               ...            ...              ...                 ...   \n",
       "1394184         750.0     55000000.0     EARNEDINCOME          2014-08-01   \n",
       "1394203         710.0     24000000.0     EARNEDINCOME          2022-01-01   \n",
       "1394204         710.0     30000000.0      OTHERINCOME                 NaT   \n",
       "1394211         590.0     25000000.0       FREELANCER          2021-06-01   \n",
       "1394215           NaN     35000000.0       FREELANCER          2011-03-01   \n",
       "\n",
       "        employment_type houseown_type  desired_amount purpose  \\\n",
       "7                   정규직        기타가족소유       6250000.0     생활비   \n",
       "23                  정규직           전월세       5250000.0     생활비   \n",
       "25                  정규직           전월세      22250000.0    대환대출   \n",
       "37                   기타            자가      50250000.0      기타   \n",
       "48                   기타           전월세       1250000.0     생활비   \n",
       "...                 ...           ...             ...     ...   \n",
       "1394184             정규직           전월세      50250000.0     생활비   \n",
       "1394203             정규직           전월세      25250000.0  전월세보증금   \n",
       "1394204              기타           전월세      25250000.0      기타   \n",
       "1394211              기타        기타가족소유       5250000.0    사업자금   \n",
       "1394215              기타            자가      20250000.0     생활비   \n",
       "\n",
       "         personal_rehabilitation_yn  personal_rehabilitation_complete_yn  \\\n",
       "7                               0.0                                  0.0   \n",
       "23                              0.0                                  0.0   \n",
       "25                              0.0                                  NaN   \n",
       "37                              0.0                                  NaN   \n",
       "48                              0.0                                  0.0   \n",
       "...                             ...                                  ...   \n",
       "1394184                         NaN                                  NaN   \n",
       "1394203                         NaN                                  NaN   \n",
       "1394204                         NaN                                  NaN   \n",
       "1394211                         NaN                                  NaN   \n",
       "1394215                         NaN                                  NaN   \n",
       "\n",
       "         existing_loan_cnt  existing_loan_amt  \n",
       "7                      NaN                NaN  \n",
       "23                     NaN                NaN  \n",
       "25                     NaN                NaN  \n",
       "37                     NaN                NaN  \n",
       "48                     NaN                NaN  \n",
       "...                    ...                ...  \n",
       "1394184                NaN                NaN  \n",
       "1394203                NaN                NaN  \n",
       "1394204                NaN                NaN  \n",
       "1394211                NaN                NaN  \n",
       "1394215                NaN                NaN  \n",
       "\n",
       "[198556 rows x 17 columns]"
      ]
     },
     "execution_count": 29,
     "metadata": {},
     "output_type": "execute_result"
    }
   ],
   "source": [
    "user_spec[(user_spec[\"existing_loan_cnt\"].isna()) & (user_spec[\"existing_loan_amt\"].isna())]"
   ]
  },
  {
   "cell_type": "markdown",
   "id": "7fd367ed",
   "metadata": {},
   "source": [
    "cnt != NA, amt == NA 인 행들은 전부 cnt 가 1이다!"
   ]
  },
  {
   "cell_type": "code",
   "execution_count": 30,
   "id": "9d4ceff2",
   "metadata": {},
   "outputs": [
    {
     "data": {
      "text/plain": [
       "1.0    115218\n",
       "Name: existing_loan_cnt, dtype: int64"
      ]
     },
     "execution_count": 30,
     "metadata": {},
     "output_type": "execute_result"
    }
   ],
   "source": [
    "user_spec[(-user_spec[\"existing_loan_cnt\"].isna()) & (user_spec[\"existing_loan_amt\"].isna())][\"existing_loan_cnt\"].value_counts()"
   ]
  },
  {
   "cell_type": "markdown",
   "id": "01aa102b",
   "metadata": {},
   "source": [
    "amt(잔액)이 0인 행들이 존재 -> 반올림 과정 중 생긴 것"
   ]
  },
  {
   "cell_type": "code",
   "execution_count": 31,
   "id": "ea7ad1cc",
   "metadata": {},
   "outputs": [
    {
     "data": {
      "text/plain": [
       "1.0     4636\n",
       "2.0      409\n",
       "3.0       68\n",
       "4.0       11\n",
       "13.0       3\n",
       "6.0        1\n",
       "9.0        1\n",
       "5.0        1\n",
       "Name: existing_loan_cnt, dtype: int64"
      ]
     },
     "execution_count": 31,
     "metadata": {},
     "output_type": "execute_result"
    }
   ],
   "source": [
    "user_spec[user_spec[\"existing_loan_amt\"] == 0][\"existing_loan_cnt\"].value_counts()"
   ]
  },
  {
   "cell_type": "markdown",
   "id": "8360d357",
   "metadata": {},
   "source": [
    "# 결측치 대체"
   ]
  },
  {
   "cell_type": "markdown",
   "id": "446b893f",
   "metadata": {},
   "source": [
    "## user_spec"
   ]
  },
  {
   "cell_type": "markdown",
   "id": "a0896fc1",
   "metadata": {},
   "source": [
    "### 출생년도, 성별 결측치 대체"
   ]
  },
  {
   "cell_type": "code",
   "execution_count": 32,
   "id": "ae8de1d6",
   "metadata": {},
   "outputs": [
    {
     "data": {
      "application/vnd.jupyter.widget-view+json": {
       "model_id": "1170b8b1839b4de49f2f391e30ad4ecf",
       "version_major": 2,
       "version_minor": 0
      },
      "text/plain": [
       "  0%|          | 0/12961 [00:00<?, ?it/s]"
      ]
     },
     "metadata": {},
     "output_type": "display_data"
    },
    {
     "data": {
      "text/plain": [
       "application_id                               0\n",
       "user_id                                      0\n",
       "birth_year                                9724\n",
       "gender                                    9724\n",
       "insert_time                                  0\n",
       "credit_score                            105115\n",
       "yearly_income                               90\n",
       "income_type                                 85\n",
       "company_enter_month                     171760\n",
       "employment_type                             85\n",
       "houseown_type                               85\n",
       "desired_amount                              85\n",
       "purpose                                     85\n",
       "personal_rehabilitation_yn              587461\n",
       "personal_rehabilitation_complete_yn    1203354\n",
       "existing_loan_cnt                       198556\n",
       "existing_loan_amt                       313774\n",
       "dtype: int64"
      ]
     },
     "execution_count": 32,
     "metadata": {},
     "output_type": "execute_result"
    }
   ],
   "source": [
    "for i in tqdm_notebook(user_spec[user_spec[\"birth_year\"].isna()].index):\n",
    "    user_spec.loc[i,\"birth_year\"] = user_spec.loc[user_spec[\"user_id\"] == user_spec.loc[i,\"user_id\"],\"birth_year\"].mean()\n",
    "    user_spec.loc[i,\"gender\"] = user_spec.loc[user_spec[\"user_id\"] == user_spec.loc[i,\"user_id\"],\"gender\"].mean()\n",
    "\n",
    "user_spec.isna().sum()"
   ]
  },
  {
   "cell_type": "markdown",
   "id": "350f3e5e",
   "metadata": {},
   "source": [
    "**대체할 수 없는 출생년도와 성별은 대체보단 범주화**"
   ]
  },
  {
   "cell_type": "code",
   "execution_count": 33,
   "id": "2836977b",
   "metadata": {},
   "outputs": [
    {
     "data": {
      "text/plain": [
       "<AxesSubplot:>"
      ]
     },
     "execution_count": 33,
     "metadata": {},
     "output_type": "execute_result"
    },
    {
     "data": {
      "image/png": "[encoded data removed]",
      "text/plain": [
       "<Figure size 432x288 with 1 Axes>"
      ]
     },
     "metadata": {
      "needs_background": "light"
     },
     "output_type": "display_data"
    }
   ],
   "source": [
    "user_spec[\"birth_year\"].hist()"
   ]
  },
  {
   "cell_type": "code",
   "execution_count": 34,
   "id": "f37385c5",
   "metadata": {},
   "outputs": [],
   "source": [
    "user_spec[\"only_age\"] = 2022 - user_spec[\"birth_year\"]"
   ]
  },
  {
   "cell_type": "markdown",
   "id": "897ca3e0",
   "metadata": {},
   "source": [
    "**만으로 청소년(13-18세), 청년(19-29세), 중년(30-49세), 장년(50-64세), 노년(65세 이상)** / 청년기본법에 의거"
   ]
  },
  {
   "cell_type": "code",
   "execution_count": 35,
   "id": "fe1cf30c",
   "metadata": {},
   "outputs": [
    {
     "data": {
      "text/plain": [
       "0          중년\n",
       "1          장년\n",
       "2          청년\n",
       "3          중년\n",
       "4          청년\n",
       "           ..\n",
       "1394211    청년\n",
       "1394212    노년\n",
       "1394213    중년\n",
       "1394214    중년\n",
       "1394215    중년\n",
       "Name: cat_age, Length: 1394216, dtype: object"
      ]
     },
     "execution_count": 35,
     "metadata": {},
     "output_type": "execute_result"
    }
   ],
   "source": [
    "user_spec[\"cat_age\"] =  pd.cut(user_spec[\"only_age\"],[12,18, 29, 49, 64,100], right=False, labels=['청소년', '청년', '중년', '장년', '노년']).astype(object)\n",
    "user_spec[\"cat_age\"]"
   ]
  },
  {
   "cell_type": "code",
   "execution_count": 36,
   "id": "231adf0a",
   "metadata": {},
   "outputs": [],
   "source": [
    "user_spec.loc[user_spec[\"cat_age\"].isna(),\"cat_age\"] = \"Missing_age\""
   ]
  },
  {
   "cell_type": "code",
   "execution_count": 37,
   "id": "73c38e9e",
   "metadata": {},
   "outputs": [],
   "source": [
    "user_spec[\"cat_gender\"] = \"Missing_gender\"\n",
    "user_spec.loc[user_spec[\"gender\"] == 1,\"cat_gender\"] = \"남성\"\n",
    "user_spec.loc[user_spec[\"gender\"] == 0,\"cat_gender\"] = \"여성\""
   ]
  },
  {
   "cell_type": "markdown",
   "id": "2439152c",
   "metadata": {},
   "source": [
    "나이 성별 범주화 완료"
   ]
  },
  {
   "cell_type": "markdown",
   "id": "88a609c9",
   "metadata": {},
   "source": [
    "**청소년 제거**\\\n",
    "법적으로 대출을 받을 수 없는 나이이며, 실제로 대출을 받은 내역이 없다."
   ]
  },
  {
   "cell_type": "code",
   "execution_count": 38,
   "id": "36b7489b",
   "metadata": {},
   "outputs": [],
   "source": [
    "user_spec = user_spec[-(user_spec[\"cat_age\"] == \"청소년\")]"
   ]
  },
  {
   "cell_type": "markdown",
   "id": "8abf00fd",
   "metadata": {},
   "source": [
    "### 개인정보(yearly_income, income_type, employment_type, houseown_type, desired_amount, purpose) 결측치 대체"
   ]
  },
  {
   "cell_type": "code",
   "execution_count": 39,
   "id": "574dd847",
   "metadata": {
    "scrolled": false
   },
   "outputs": [
    {
     "data": {
      "text/html": [
       "<div>\n",
       "<style scoped>\n",
       "    .dataframe tbody tr th:only-of-type {\n",
       "        vertical-align: middle;\n",
       "    }\n",
       "\n",
       "    .dataframe tbody tr th {\n",
       "        vertical-align: top;\n",
       "    }\n",
       "\n",
       "    .dataframe thead th {\n",
       "        text-align: right;\n",
       "    }\n",
       "</style>\n",
       "<table border=\"1\" class=\"dataframe\">\n",
       "  <thead>\n",
       "    <tr style=\"text-align: right;\">\n",
       "      <th></th>\n",
       "      <th>application_id</th>\n",
       "      <th>user_id</th>\n",
       "      <th>birth_year</th>\n",
       "      <th>gender</th>\n",
       "      <th>insert_time</th>\n",
       "      <th>credit_score</th>\n",
       "      <th>yearly_income</th>\n",
       "      <th>income_type</th>\n",
       "      <th>company_enter_month</th>\n",
       "      <th>employment_type</th>\n",
       "      <th>houseown_type</th>\n",
       "      <th>desired_amount</th>\n",
       "      <th>purpose</th>\n",
       "      <th>personal_rehabilitation_yn</th>\n",
       "      <th>personal_rehabilitation_complete_yn</th>\n",
       "      <th>existing_loan_cnt</th>\n",
       "      <th>existing_loan_amt</th>\n",
       "      <th>only_age</th>\n",
       "      <th>cat_age</th>\n",
       "      <th>cat_gender</th>\n",
       "    </tr>\n",
       "  </thead>\n",
       "  <tbody>\n",
       "    <tr>\n",
       "      <th>5353</th>\n",
       "      <td>129515</td>\n",
       "      <td>135984</td>\n",
       "      <td>1974.0</td>\n",
       "      <td>1.0</td>\n",
       "      <td>2022-06-13 18:26:44</td>\n",
       "      <td>750.0</td>\n",
       "      <td>NaN</td>\n",
       "      <td>NaN</td>\n",
       "      <td>NaT</td>\n",
       "      <td>NaN</td>\n",
       "      <td>NaN</td>\n",
       "      <td>NaN</td>\n",
       "      <td>NaN</td>\n",
       "      <td>NaN</td>\n",
       "      <td>NaN</td>\n",
       "      <td>4.0</td>\n",
       "      <td>67000000.0</td>\n",
       "      <td>48.0</td>\n",
       "      <td>중년</td>\n",
       "      <td>남성</td>\n",
       "    </tr>\n",
       "    <tr>\n",
       "      <th>8864</th>\n",
       "      <td>1468193</td>\n",
       "      <td>151012</td>\n",
       "      <td>1996.0</td>\n",
       "      <td>1.0</td>\n",
       "      <td>2022-06-16 16:34:35</td>\n",
       "      <td>810.0</td>\n",
       "      <td>NaN</td>\n",
       "      <td>NaN</td>\n",
       "      <td>NaT</td>\n",
       "      <td>NaN</td>\n",
       "      <td>NaN</td>\n",
       "      <td>NaN</td>\n",
       "      <td>NaN</td>\n",
       "      <td>NaN</td>\n",
       "      <td>NaN</td>\n",
       "      <td>2.0</td>\n",
       "      <td>6000000.0</td>\n",
       "      <td>26.0</td>\n",
       "      <td>청년</td>\n",
       "      <td>남성</td>\n",
       "    </tr>\n",
       "    <tr>\n",
       "      <th>17484</th>\n",
       "      <td>1234909</td>\n",
       "      <td>596908</td>\n",
       "      <td>1996.0</td>\n",
       "      <td>0.0</td>\n",
       "      <td>2022-06-16 16:28:10</td>\n",
       "      <td>640.0</td>\n",
       "      <td>NaN</td>\n",
       "      <td>NaN</td>\n",
       "      <td>NaT</td>\n",
       "      <td>NaN</td>\n",
       "      <td>NaN</td>\n",
       "      <td>NaN</td>\n",
       "      <td>NaN</td>\n",
       "      <td>NaN</td>\n",
       "      <td>NaN</td>\n",
       "      <td>3.0</td>\n",
       "      <td>36000000.0</td>\n",
       "      <td>26.0</td>\n",
       "      <td>청년</td>\n",
       "      <td>여성</td>\n",
       "    </tr>\n",
       "    <tr>\n",
       "      <th>17552</th>\n",
       "      <td>1068316</td>\n",
       "      <td>142003</td>\n",
       "      <td>1976.0</td>\n",
       "      <td>0.0</td>\n",
       "      <td>2022-06-16 16:28:59</td>\n",
       "      <td>770.0</td>\n",
       "      <td>NaN</td>\n",
       "      <td>NaN</td>\n",
       "      <td>NaT</td>\n",
       "      <td>NaN</td>\n",
       "      <td>NaN</td>\n",
       "      <td>NaN</td>\n",
       "      <td>NaN</td>\n",
       "      <td>NaN</td>\n",
       "      <td>NaN</td>\n",
       "      <td>NaN</td>\n",
       "      <td>NaN</td>\n",
       "      <td>46.0</td>\n",
       "      <td>중년</td>\n",
       "      <td>여성</td>\n",
       "    </tr>\n",
       "    <tr>\n",
       "      <th>20510</th>\n",
       "      <td>2082836</td>\n",
       "      <td>827892</td>\n",
       "      <td>1993.0</td>\n",
       "      <td>1.0</td>\n",
       "      <td>2022-06-16 16:30:46</td>\n",
       "      <td>940.0</td>\n",
       "      <td>NaN</td>\n",
       "      <td>NaN</td>\n",
       "      <td>NaT</td>\n",
       "      <td>NaN</td>\n",
       "      <td>NaN</td>\n",
       "      <td>NaN</td>\n",
       "      <td>NaN</td>\n",
       "      <td>NaN</td>\n",
       "      <td>NaN</td>\n",
       "      <td>3.0</td>\n",
       "      <td>61000000.0</td>\n",
       "      <td>29.0</td>\n",
       "      <td>중년</td>\n",
       "      <td>남성</td>\n",
       "    </tr>\n",
       "  </tbody>\n",
       "</table>\n",
       "</div>"
      ],
      "text/plain": [
       "       application_id  user_id  birth_year  gender         insert_time  \\\n",
       "5353           129515   135984      1974.0     1.0 2022-06-13 18:26:44   \n",
       "8864          1468193   151012      1996.0     1.0 2022-06-16 16:34:35   \n",
       "17484         1234909   596908      1996.0     0.0 2022-06-16 16:28:10   \n",
       "17552         1068316   142003      1976.0     0.0 2022-06-16 16:28:59   \n",
       "20510         2082836   827892      1993.0     1.0 2022-06-16 16:30:46   \n",
       "\n",
       "       credit_score  yearly_income income_type company_enter_month  \\\n",
       "5353          750.0            NaN         NaN                 NaT   \n",
       "8864          810.0            NaN         NaN                 NaT   \n",
       "17484         640.0            NaN         NaN                 NaT   \n",
       "17552         770.0            NaN         NaN                 NaT   \n",
       "20510         940.0            NaN         NaN                 NaT   \n",
       "\n",
       "      employment_type houseown_type  desired_amount purpose  \\\n",
       "5353              NaN           NaN             NaN     NaN   \n",
       "8864              NaN           NaN             NaN     NaN   \n",
       "17484             NaN           NaN             NaN     NaN   \n",
       "17552             NaN           NaN             NaN     NaN   \n",
       "20510             NaN           NaN             NaN     NaN   \n",
       "\n",
       "       personal_rehabilitation_yn  personal_rehabilitation_complete_yn  \\\n",
       "5353                          NaN                                  NaN   \n",
       "8864                          NaN                                  NaN   \n",
       "17484                         NaN                                  NaN   \n",
       "17552                         NaN                                  NaN   \n",
       "20510                         NaN                                  NaN   \n",
       "\n",
       "       existing_loan_cnt  existing_loan_amt  only_age cat_age cat_gender  \n",
       "5353                 4.0         67000000.0      48.0      중년         남성  \n",
       "8864                 2.0          6000000.0      26.0      청년         남성  \n",
       "17484                3.0         36000000.0      26.0      청년         여성  \n",
       "17552                NaN                NaN      46.0      중년         여성  \n",
       "20510                3.0         61000000.0      29.0      중년         남성  "
      ]
     },
     "execution_count": 39,
     "metadata": {},
     "output_type": "execute_result"
    }
   ],
   "source": [
    "#income_type, employment_type, houseown_type, desired_amount, purpose 결측 85개\n",
    "#yearly_income 결측 85개\n",
    "user_info_na = user_spec[(user_spec[\"income_type\"].isna()) & (user_spec[\"employment_type\"].isna()) & \n",
    "         (user_spec[\"houseown_type\"].isna()) & (user_spec[\"desired_amount\"].isna()) & \n",
    "                (user_spec[\"purpose\"].isna()) & (user_spec[\"yearly_income\"].isna())]\n",
    "user_info_na.head()"
   ]
  },
  {
   "cell_type": "markdown",
   "id": "161e2ec3",
   "metadata": {},
   "source": [
    "**위의 85개 경우는 전부 loan_result에 없는 application_id 이다.\\\n",
    "6개의 개인정보 변수가 결측이라면 대출을 신청할 수 없음**"
   ]
  },
  {
   "cell_type": "code",
   "execution_count": 40,
   "id": "fa9e63fb",
   "metadata": {},
   "outputs": [],
   "source": [
    "l_list = []\n",
    "for i in user_info_na[\"application_id\"]:\n",
    "    l_list.append(len(loan_result[loan_result[\"application_id\"] == i]))"
   ]
  },
  {
   "cell_type": "code",
   "execution_count": 41,
   "id": "7c93af21",
   "metadata": {},
   "outputs": [
    {
     "data": {
      "text/plain": [
       "array([0])"
      ]
     },
     "execution_count": 41,
     "metadata": {},
     "output_type": "execute_result"
    }
   ],
   "source": [
    "np.unique(l_list)"
   ]
  },
  {
   "cell_type": "markdown",
   "id": "63a3df82",
   "metadata": {},
   "source": [
    "**따라서 삭제가 적절하다고 판단**"
   ]
  },
  {
   "cell_type": "markdown",
   "id": "185be89e",
   "metadata": {},
   "source": [
    "#### yearly_income만 결측인 경우"
   ]
  },
  {
   "cell_type": "code",
   "execution_count": 42,
   "id": "4570a607",
   "metadata": {},
   "outputs": [
    {
     "data": {
      "text/html": [
       "<div>\n",
       "<style scoped>\n",
       "    .dataframe tbody tr th:only-of-type {\n",
       "        vertical-align: middle;\n",
       "    }\n",
       "\n",
       "    .dataframe tbody tr th {\n",
       "        vertical-align: top;\n",
       "    }\n",
       "\n",
       "    .dataframe thead th {\n",
       "        text-align: right;\n",
       "    }\n",
       "</style>\n",
       "<table border=\"1\" class=\"dataframe\">\n",
       "  <thead>\n",
       "    <tr style=\"text-align: right;\">\n",
       "      <th></th>\n",
       "      <th>application_id</th>\n",
       "      <th>user_id</th>\n",
       "      <th>birth_year</th>\n",
       "      <th>gender</th>\n",
       "      <th>insert_time</th>\n",
       "      <th>credit_score</th>\n",
       "      <th>yearly_income</th>\n",
       "      <th>income_type</th>\n",
       "      <th>company_enter_month</th>\n",
       "      <th>employment_type</th>\n",
       "      <th>houseown_type</th>\n",
       "      <th>desired_amount</th>\n",
       "      <th>purpose</th>\n",
       "      <th>personal_rehabilitation_yn</th>\n",
       "      <th>personal_rehabilitation_complete_yn</th>\n",
       "      <th>existing_loan_cnt</th>\n",
       "      <th>existing_loan_amt</th>\n",
       "      <th>only_age</th>\n",
       "      <th>cat_age</th>\n",
       "      <th>cat_gender</th>\n",
       "    </tr>\n",
       "  </thead>\n",
       "  <tbody>\n",
       "    <tr>\n",
       "      <th>165422</th>\n",
       "      <td>1026915</td>\n",
       "      <td>861363</td>\n",
       "      <td>1995.0</td>\n",
       "      <td>1.0</td>\n",
       "      <td>2022-06-30 21:11:51</td>\n",
       "      <td>NaN</td>\n",
       "      <td>NaN</td>\n",
       "      <td>OTHERINCOME</td>\n",
       "      <td>NaT</td>\n",
       "      <td>기타</td>\n",
       "      <td>전월세</td>\n",
       "      <td>5250000.0</td>\n",
       "      <td>생활비</td>\n",
       "      <td>0.0</td>\n",
       "      <td>0.0</td>\n",
       "      <td>NaN</td>\n",
       "      <td>NaN</td>\n",
       "      <td>27.0</td>\n",
       "      <td>청년</td>\n",
       "      <td>남성</td>\n",
       "    </tr>\n",
       "    <tr>\n",
       "      <th>233316</th>\n",
       "      <td>2045613</td>\n",
       "      <td>702899</td>\n",
       "      <td>1995.0</td>\n",
       "      <td>1.0</td>\n",
       "      <td>2022-06-30 18:37:04</td>\n",
       "      <td>520.0</td>\n",
       "      <td>NaN</td>\n",
       "      <td>FREELANCER</td>\n",
       "      <td>2022-06-01</td>\n",
       "      <td>기타</td>\n",
       "      <td>전월세</td>\n",
       "      <td>5250000.0</td>\n",
       "      <td>전월세보증금</td>\n",
       "      <td>0.0</td>\n",
       "      <td>0.0</td>\n",
       "      <td>1.0</td>\n",
       "      <td>1000000.0</td>\n",
       "      <td>27.0</td>\n",
       "      <td>청년</td>\n",
       "      <td>남성</td>\n",
       "    </tr>\n",
       "    <tr>\n",
       "      <th>597591</th>\n",
       "      <td>391560</td>\n",
       "      <td>329226</td>\n",
       "      <td>1996.0</td>\n",
       "      <td>0.0</td>\n",
       "      <td>2022-06-30 19:27:28</td>\n",
       "      <td>590.0</td>\n",
       "      <td>NaN</td>\n",
       "      <td>OTHERINCOME</td>\n",
       "      <td>NaT</td>\n",
       "      <td>기타</td>\n",
       "      <td>전월세</td>\n",
       "      <td>20250000.0</td>\n",
       "      <td>생활비</td>\n",
       "      <td>0.0</td>\n",
       "      <td>0.0</td>\n",
       "      <td>9.0</td>\n",
       "      <td>27000000.0</td>\n",
       "      <td>26.0</td>\n",
       "      <td>청년</td>\n",
       "      <td>여성</td>\n",
       "    </tr>\n",
       "    <tr>\n",
       "      <th>597613</th>\n",
       "      <td>341149</td>\n",
       "      <td>670502</td>\n",
       "      <td>1981.0</td>\n",
       "      <td>1.0</td>\n",
       "      <td>2022-06-30 21:32:18</td>\n",
       "      <td>930.0</td>\n",
       "      <td>NaN</td>\n",
       "      <td>OTHERINCOME</td>\n",
       "      <td>NaT</td>\n",
       "      <td>기타</td>\n",
       "      <td>기타가족소유</td>\n",
       "      <td>6250000.0</td>\n",
       "      <td>사업자금</td>\n",
       "      <td>0.0</td>\n",
       "      <td>0.0</td>\n",
       "      <td>1.0</td>\n",
       "      <td>3000000.0</td>\n",
       "      <td>41.0</td>\n",
       "      <td>중년</td>\n",
       "      <td>남성</td>\n",
       "    </tr>\n",
       "    <tr>\n",
       "      <th>971960</th>\n",
       "      <td>1330905</td>\n",
       "      <td>771592</td>\n",
       "      <td>2003.0</td>\n",
       "      <td>1.0</td>\n",
       "      <td>2022-06-30 18:57:05</td>\n",
       "      <td>750.0</td>\n",
       "      <td>NaN</td>\n",
       "      <td>OTHERINCOME</td>\n",
       "      <td>NaT</td>\n",
       "      <td>기타</td>\n",
       "      <td>자가</td>\n",
       "      <td>3250000.0</td>\n",
       "      <td>생활비</td>\n",
       "      <td>0.0</td>\n",
       "      <td>0.0</td>\n",
       "      <td>1.0</td>\n",
       "      <td>3000000.0</td>\n",
       "      <td>19.0</td>\n",
       "      <td>청년</td>\n",
       "      <td>남성</td>\n",
       "    </tr>\n",
       "  </tbody>\n",
       "</table>\n",
       "</div>"
      ],
      "text/plain": [
       "        application_id  user_id  birth_year  gender         insert_time  \\\n",
       "165422         1026915   861363      1995.0     1.0 2022-06-30 21:11:51   \n",
       "233316         2045613   702899      1995.0     1.0 2022-06-30 18:37:04   \n",
       "597591          391560   329226      1996.0     0.0 2022-06-30 19:27:28   \n",
       "597613          341149   670502      1981.0     1.0 2022-06-30 21:32:18   \n",
       "971960         1330905   771592      2003.0     1.0 2022-06-30 18:57:05   \n",
       "\n",
       "        credit_score  yearly_income  income_type company_enter_month  \\\n",
       "165422           NaN            NaN  OTHERINCOME                 NaT   \n",
       "233316         520.0            NaN   FREELANCER          2022-06-01   \n",
       "597591         590.0            NaN  OTHERINCOME                 NaT   \n",
       "597613         930.0            NaN  OTHERINCOME                 NaT   \n",
       "971960         750.0            NaN  OTHERINCOME                 NaT   \n",
       "\n",
       "       employment_type houseown_type  desired_amount purpose  \\\n",
       "165422              기타           전월세       5250000.0     생활비   \n",
       "233316              기타           전월세       5250000.0  전월세보증금   \n",
       "597591              기타           전월세      20250000.0     생활비   \n",
       "597613              기타        기타가족소유       6250000.0    사업자금   \n",
       "971960              기타            자가       3250000.0     생활비   \n",
       "\n",
       "        personal_rehabilitation_yn  personal_rehabilitation_complete_yn  \\\n",
       "165422                         0.0                                  0.0   \n",
       "233316                         0.0                                  0.0   \n",
       "597591                         0.0                                  0.0   \n",
       "597613                         0.0                                  0.0   \n",
       "971960                         0.0                                  0.0   \n",
       "\n",
       "        existing_loan_cnt  existing_loan_amt  only_age cat_age cat_gender  \n",
       "165422                NaN                NaN      27.0      청년         남성  \n",
       "233316                1.0          1000000.0      27.0      청년         남성  \n",
       "597591                9.0         27000000.0      26.0      청년         여성  \n",
       "597613                1.0          3000000.0      41.0      중년         남성  \n",
       "971960                1.0          3000000.0      19.0      청년         남성  "
      ]
     },
     "execution_count": 42,
     "metadata": {},
     "output_type": "execute_result"
    }
   ],
   "source": [
    "# yearly_income만 결측인 값 5개\n",
    "user_spec[(-user_spec[\"purpose\"].isna()) & (user_spec[\"yearly_income\"].isna())]"
   ]
  },
  {
   "cell_type": "markdown",
   "id": "74cff9cf",
   "metadata": {},
   "source": [
    "- 전부 6월 30일에 생성되었다는 특징이 있음, 이유는 발견 못함 -> 데이터를 잘라오면서 생긴 문제일 수 있음 Q&A 9월 20일 4번"
   ]
  },
  {
   "cell_type": "markdown",
   "id": "02a44f05",
   "metadata": {},
   "source": [
    "yearly_income 기준 결측 행 삭제"
   ]
  },
  {
   "cell_type": "markdown",
   "id": "2b12832e",
   "metadata": {},
   "source": [
    "- application_id : 341149 만 loan_result에 행이 존재"
   ]
  },
  {
   "cell_type": "code",
   "execution_count": 43,
   "id": "86007cbc",
   "metadata": {
    "scrolled": true
   },
   "outputs": [
    {
     "data": {
      "text/html": [
       "<div>\n",
       "<style scoped>\n",
       "    .dataframe tbody tr th:only-of-type {\n",
       "        vertical-align: middle;\n",
       "    }\n",
       "\n",
       "    .dataframe tbody tr th {\n",
       "        vertical-align: top;\n",
       "    }\n",
       "\n",
       "    .dataframe thead th {\n",
       "        text-align: right;\n",
       "    }\n",
       "</style>\n",
       "<table border=\"1\" class=\"dataframe\">\n",
       "  <thead>\n",
       "    <tr style=\"text-align: right;\">\n",
       "      <th></th>\n",
       "      <th>application_id</th>\n",
       "      <th>loanapply_insert_time</th>\n",
       "      <th>bank_id</th>\n",
       "      <th>product_id</th>\n",
       "      <th>loan_limit</th>\n",
       "      <th>loan_rate</th>\n",
       "      <th>is_applied</th>\n",
       "      <th>log_loan_limit</th>\n",
       "    </tr>\n",
       "  </thead>\n",
       "  <tbody>\n",
       "    <tr>\n",
       "      <th>4495392</th>\n",
       "      <td>341149</td>\n",
       "      <td>2022-06-30 21:32:20</td>\n",
       "      <td>64</td>\n",
       "      <td>254</td>\n",
       "      <td>45250000.0</td>\n",
       "      <td>10.3</td>\n",
       "      <td>NaN</td>\n",
       "      <td>17.627713</td>\n",
       "    </tr>\n",
       "    <tr>\n",
       "      <th>4495394</th>\n",
       "      <td>341149</td>\n",
       "      <td>2022-06-30 21:32:19</td>\n",
       "      <td>13</td>\n",
       "      <td>262</td>\n",
       "      <td>35250000.0</td>\n",
       "      <td>16.4</td>\n",
       "      <td>NaN</td>\n",
       "      <td>17.377976</td>\n",
       "    </tr>\n",
       "    <tr>\n",
       "      <th>4495395</th>\n",
       "      <td>341149</td>\n",
       "      <td>2022-06-30 21:32:19</td>\n",
       "      <td>38</td>\n",
       "      <td>113</td>\n",
       "      <td>5250000.0</td>\n",
       "      <td>19.5</td>\n",
       "      <td>NaN</td>\n",
       "      <td>15.473739</td>\n",
       "    </tr>\n",
       "    <tr>\n",
       "      <th>4495396</th>\n",
       "      <td>341149</td>\n",
       "      <td>2022-06-30 21:32:19</td>\n",
       "      <td>14</td>\n",
       "      <td>128</td>\n",
       "      <td>15250000.0</td>\n",
       "      <td>12.5</td>\n",
       "      <td>NaN</td>\n",
       "      <td>16.540090</td>\n",
       "    </tr>\n",
       "    <tr>\n",
       "      <th>4495399</th>\n",
       "      <td>341149</td>\n",
       "      <td>2022-06-30 21:32:19</td>\n",
       "      <td>29</td>\n",
       "      <td>265</td>\n",
       "      <td>10250000.0</td>\n",
       "      <td>9.1</td>\n",
       "      <td>NaN</td>\n",
       "      <td>16.142788</td>\n",
       "    </tr>\n",
       "    <tr>\n",
       "      <th>4495401</th>\n",
       "      <td>341149</td>\n",
       "      <td>2022-06-30 21:32:19</td>\n",
       "      <td>57</td>\n",
       "      <td>71</td>\n",
       "      <td>23250000.0</td>\n",
       "      <td>15.4</td>\n",
       "      <td>NaN</td>\n",
       "      <td>16.961816</td>\n",
       "    </tr>\n",
       "  </tbody>\n",
       "</table>\n",
       "</div>"
      ],
      "text/plain": [
       "         application_id loanapply_insert_time  bank_id  product_id  \\\n",
       "4495392          341149   2022-06-30 21:32:20       64         254   \n",
       "4495394          341149   2022-06-30 21:32:19       13         262   \n",
       "4495395          341149   2022-06-30 21:32:19       38         113   \n",
       "4495396          341149   2022-06-30 21:32:19       14         128   \n",
       "4495399          341149   2022-06-30 21:32:19       29         265   \n",
       "4495401          341149   2022-06-30 21:32:19       57          71   \n",
       "\n",
       "         loan_limit  loan_rate  is_applied  log_loan_limit  \n",
       "4495392  45250000.0       10.3         NaN       17.627713  \n",
       "4495394  35250000.0       16.4         NaN       17.377976  \n",
       "4495395   5250000.0       19.5         NaN       15.473739  \n",
       "4495396  15250000.0       12.5         NaN       16.540090  \n",
       "4495399  10250000.0        9.1         NaN       16.142788  \n",
       "4495401  23250000.0       15.4         NaN       16.961816  "
      ]
     },
     "execution_count": 43,
     "metadata": {},
     "output_type": "execute_result"
    }
   ],
   "source": [
    "loan_result[loan_result[\"application_id\"] == 341149]"
   ]
  },
  {
   "cell_type": "code",
   "execution_count": 44,
   "id": "2f89891d",
   "metadata": {},
   "outputs": [
    {
     "data": {
      "text/html": [
       "<div>\n",
       "<style scoped>\n",
       "    .dataframe tbody tr th:only-of-type {\n",
       "        vertical-align: middle;\n",
       "    }\n",
       "\n",
       "    .dataframe tbody tr th {\n",
       "        vertical-align: top;\n",
       "    }\n",
       "\n",
       "    .dataframe thead th {\n",
       "        text-align: right;\n",
       "    }\n",
       "</style>\n",
       "<table border=\"1\" class=\"dataframe\">\n",
       "  <thead>\n",
       "    <tr style=\"text-align: right;\">\n",
       "      <th></th>\n",
       "      <th>application_id</th>\n",
       "      <th>user_id</th>\n",
       "      <th>birth_year</th>\n",
       "      <th>gender</th>\n",
       "      <th>insert_time</th>\n",
       "      <th>credit_score</th>\n",
       "      <th>yearly_income</th>\n",
       "      <th>income_type</th>\n",
       "      <th>company_enter_month</th>\n",
       "      <th>employment_type</th>\n",
       "      <th>houseown_type</th>\n",
       "      <th>desired_amount</th>\n",
       "      <th>purpose</th>\n",
       "      <th>personal_rehabilitation_yn</th>\n",
       "      <th>personal_rehabilitation_complete_yn</th>\n",
       "      <th>existing_loan_cnt</th>\n",
       "      <th>existing_loan_amt</th>\n",
       "      <th>only_age</th>\n",
       "      <th>cat_age</th>\n",
       "      <th>cat_gender</th>\n",
       "    </tr>\n",
       "  </thead>\n",
       "  <tbody>\n",
       "    <tr>\n",
       "      <th>566158</th>\n",
       "      <td>1746224</td>\n",
       "      <td>670502</td>\n",
       "      <td>1981.0</td>\n",
       "      <td>1.0</td>\n",
       "      <td>2022-06-30 22:41:11</td>\n",
       "      <td>930.0</td>\n",
       "      <td>0.0</td>\n",
       "      <td>OTHERINCOME</td>\n",
       "      <td>NaT</td>\n",
       "      <td>기타</td>\n",
       "      <td>기타가족소유</td>\n",
       "      <td>6250000.0</td>\n",
       "      <td>사업자금</td>\n",
       "      <td>0.0</td>\n",
       "      <td>0.0</td>\n",
       "      <td>1.0</td>\n",
       "      <td>3000000.0</td>\n",
       "      <td>41.0</td>\n",
       "      <td>중년</td>\n",
       "      <td>남성</td>\n",
       "    </tr>\n",
       "    <tr>\n",
       "      <th>597613</th>\n",
       "      <td>341149</td>\n",
       "      <td>670502</td>\n",
       "      <td>1981.0</td>\n",
       "      <td>1.0</td>\n",
       "      <td>2022-06-30 21:32:18</td>\n",
       "      <td>930.0</td>\n",
       "      <td>NaN</td>\n",
       "      <td>OTHERINCOME</td>\n",
       "      <td>NaT</td>\n",
       "      <td>기타</td>\n",
       "      <td>기타가족소유</td>\n",
       "      <td>6250000.0</td>\n",
       "      <td>사업자금</td>\n",
       "      <td>0.0</td>\n",
       "      <td>0.0</td>\n",
       "      <td>1.0</td>\n",
       "      <td>3000000.0</td>\n",
       "      <td>41.0</td>\n",
       "      <td>중년</td>\n",
       "      <td>남성</td>\n",
       "    </tr>\n",
       "  </tbody>\n",
       "</table>\n",
       "</div>"
      ],
      "text/plain": [
       "        application_id  user_id  birth_year  gender         insert_time  \\\n",
       "566158         1746224   670502      1981.0     1.0 2022-06-30 22:41:11   \n",
       "597613          341149   670502      1981.0     1.0 2022-06-30 21:32:18   \n",
       "\n",
       "        credit_score  yearly_income  income_type company_enter_month  \\\n",
       "566158         930.0            0.0  OTHERINCOME                 NaT   \n",
       "597613         930.0            NaN  OTHERINCOME                 NaT   \n",
       "\n",
       "       employment_type houseown_type  desired_amount purpose  \\\n",
       "566158              기타        기타가족소유       6250000.0    사업자금   \n",
       "597613              기타        기타가족소유       6250000.0    사업자금   \n",
       "\n",
       "        personal_rehabilitation_yn  personal_rehabilitation_complete_yn  \\\n",
       "566158                         0.0                                  0.0   \n",
       "597613                         0.0                                  0.0   \n",
       "\n",
       "        existing_loan_cnt  existing_loan_amt  only_age cat_age cat_gender  \n",
       "566158                1.0          3000000.0      41.0      중년         남성  \n",
       "597613                1.0          3000000.0      41.0      중년         남성  "
      ]
     },
     "execution_count": 44,
     "metadata": {},
     "output_type": "execute_result"
    }
   ],
   "source": [
    "user_spec[user_spec[\"user_id\"] == 670502]"
   ]
  },
  {
   "cell_type": "code",
   "execution_count": 45,
   "id": "668337b7",
   "metadata": {},
   "outputs": [],
   "source": [
    "#같은 user의 다른 application을 이용하여 대체, 생성일시를 제외한 모든 조건이 동일하기 때문에 연소득 대체 가능하다고 판단\n",
    "user_spec.loc[user_spec[\"application_id\"] == 341149, \"yearly_income\"] = user_spec.loc[user_spec[\"user_id\"] == 670502,\"yearly_income\"].mean()"
   ]
  },
  {
   "cell_type": "code",
   "execution_count": 46,
   "id": "9e8b55f5",
   "metadata": {},
   "outputs": [],
   "source": [
    "#연소득 기준 결측인 행 삭제\n",
    "user_spec = user_spec[-user_spec[\"yearly_income\"].isna()]"
   ]
  },
  {
   "cell_type": "code",
   "execution_count": null,
   "id": "486956ed",
   "metadata": {},
   "outputs": [],
   "source": []
  },
  {
   "cell_type": "code",
   "execution_count": 47,
   "id": "393108b5",
   "metadata": {},
   "outputs": [],
   "source": [
    "#yearly_income, desired_amount 로그 변환 변수 추가\n",
    "user_spec[\"log_yearly_income\"] = np.log(user_spec[\"yearly_income\"]+1)\n",
    "user_spec[\"log_desired_amount\"] = np.log(user_spec[\"desired_amount\"])"
   ]
  },
  {
   "cell_type": "markdown",
   "id": "eea365e4",
   "metadata": {},
   "source": [
    "### 입사년도 결측치 대체\n",
    "입사년도 - 출생년도 : 몇 살에 입사를 했는가\n",
    "\n",
    "생성년도 - 입사년도 : 입사한지 얼마나 지났는가 ( = 경력)\n",
    "\n",
    "Quantile을 이용해 범주화"
   ]
  },
  {
   "cell_type": "code",
   "execution_count": 48,
   "id": "04eb3dba",
   "metadata": {},
   "outputs": [],
   "source": [
    "user_spec[\"aft_enter_time\"] = (user_spec[\"insert_time\"] - user_spec[\"company_enter_month\"]).dt.days / 365\n",
    "\n",
    "user_spec[\"cat_aft_enter_time\"] =  pd.cut(user_spec[\"aft_enter_time\"],\n",
    "                                          [user_spec[\"aft_enter_time\"].describe()[\"min\"],\n",
    "                                           user_spec[\"aft_enter_time\"].describe()[\"25%\"],\n",
    "                                           user_spec[\"aft_enter_time\"].describe()[\"50%\"],\n",
    "                                           user_spec[\"aft_enter_time\"].describe()[\"75%\"],\n",
    "                                           user_spec[\"aft_enter_time\"].describe()[\"max\"]+1], right=False, labels=['0~25','25~50', '50~75','75~100']).astype(object)\n",
    "\n",
    "user_spec[\"cat_aft_enter_time\"] = user_spec[\"cat_aft_enter_time\"].fillna(\"cat_aft_enter_NA\")"
   ]
  },
  {
   "cell_type": "code",
   "execution_count": 49,
   "id": "f6c95be9",
   "metadata": {},
   "outputs": [],
   "source": [
    "user_spec[\"bef_enter_time\"] = (user_spec[\"company_enter_month\"].dt.year - user_spec[\"birth_year\"])\n",
    "\n",
    "user_spec[\"cat_bef_enter_time\"] =  pd.cut(user_spec[\"bef_enter_time\"],\n",
    "                                          [user_spec[\"bef_enter_time\"].describe()[\"min\"],\n",
    "                                           user_spec[\"bef_enter_time\"].describe()[\"25%\"],\n",
    "                                           user_spec[\"bef_enter_time\"].describe()[\"50%\"],\n",
    "                                           user_spec[\"bef_enter_time\"].describe()[\"75%\"],\n",
    "                                           user_spec[\"bef_enter_time\"].describe()[\"max\"]+1], right=False, labels=['0~25','25~50', '50~75','75~100']).astype(object)\n",
    "\n",
    "user_spec[\"cat_bef_enter_time\"] = user_spec[\"cat_bef_enter_time\"].fillna(\"cat_bef_enter_NA\")"
   ]
  },
  {
   "cell_type": "code",
   "execution_count": 50,
   "id": "0ce91e6b",
   "metadata": {
    "scrolled": false
   },
   "outputs": [
    {
     "data": {
      "text/html": [
       "<div>\n",
       "<style scoped>\n",
       "    .dataframe tbody tr th:only-of-type {\n",
       "        vertical-align: middle;\n",
       "    }\n",
       "\n",
       "    .dataframe tbody tr th {\n",
       "        vertical-align: top;\n",
       "    }\n",
       "\n",
       "    .dataframe thead th {\n",
       "        text-align: right;\n",
       "    }\n",
       "</style>\n",
       "<table border=\"1\" class=\"dataframe\">\n",
       "  <thead>\n",
       "    <tr style=\"text-align: right;\">\n",
       "      <th></th>\n",
       "      <th>cat_bef_enter_time</th>\n",
       "      <th>cat_aft_enter_time</th>\n",
       "      <th>0</th>\n",
       "    </tr>\n",
       "  </thead>\n",
       "  <tbody>\n",
       "    <tr>\n",
       "      <th>0</th>\n",
       "      <td>cat_bef_enter_NA</td>\n",
       "      <td>cat_aft_enter_NA</td>\n",
       "      <td>171623</td>\n",
       "    </tr>\n",
       "    <tr>\n",
       "      <th>1</th>\n",
       "      <td>75~100</td>\n",
       "      <td>25~50</td>\n",
       "      <td>90929</td>\n",
       "    </tr>\n",
       "    <tr>\n",
       "      <th>2</th>\n",
       "      <td>25~50</td>\n",
       "      <td>75~100</td>\n",
       "      <td>90184</td>\n",
       "    </tr>\n",
       "    <tr>\n",
       "      <th>3</th>\n",
       "      <td>75~100</td>\n",
       "      <td>50~75</td>\n",
       "      <td>89814</td>\n",
       "    </tr>\n",
       "    <tr>\n",
       "      <th>4</th>\n",
       "      <td>50~75</td>\n",
       "      <td>50~75</td>\n",
       "      <td>88934</td>\n",
       "    </tr>\n",
       "    <tr>\n",
       "      <th>5</th>\n",
       "      <td>0~25</td>\n",
       "      <td>75~100</td>\n",
       "      <td>85008</td>\n",
       "    </tr>\n",
       "    <tr>\n",
       "      <th>6</th>\n",
       "      <td>25~50</td>\n",
       "      <td>0~25</td>\n",
       "      <td>83215</td>\n",
       "    </tr>\n",
       "    <tr>\n",
       "      <th>7</th>\n",
       "      <td>75~100</td>\n",
       "      <td>0~25</td>\n",
       "      <td>82461</td>\n",
       "    </tr>\n",
       "    <tr>\n",
       "      <th>8</th>\n",
       "      <td>50~75</td>\n",
       "      <td>25~50</td>\n",
       "      <td>76671</td>\n",
       "    </tr>\n",
       "    <tr>\n",
       "      <th>9</th>\n",
       "      <td>50~75</td>\n",
       "      <td>75~100</td>\n",
       "      <td>76355</td>\n",
       "    </tr>\n",
       "    <tr>\n",
       "      <th>10</th>\n",
       "      <td>25~50</td>\n",
       "      <td>25~50</td>\n",
       "      <td>74934</td>\n",
       "    </tr>\n",
       "    <tr>\n",
       "      <th>11</th>\n",
       "      <td>25~50</td>\n",
       "      <td>50~75</td>\n",
       "      <td>69760</td>\n",
       "    </tr>\n",
       "    <tr>\n",
       "      <th>12</th>\n",
       "      <td>0~25</td>\n",
       "      <td>0~25</td>\n",
       "      <td>69044</td>\n",
       "    </tr>\n",
       "    <tr>\n",
       "      <th>13</th>\n",
       "      <td>50~75</td>\n",
       "      <td>0~25</td>\n",
       "      <td>68693</td>\n",
       "    </tr>\n",
       "    <tr>\n",
       "      <th>14</th>\n",
       "      <td>0~25</td>\n",
       "      <td>25~50</td>\n",
       "      <td>60971</td>\n",
       "    </tr>\n",
       "    <tr>\n",
       "      <th>15</th>\n",
       "      <td>0~25</td>\n",
       "      <td>50~75</td>\n",
       "      <td>55585</td>\n",
       "    </tr>\n",
       "    <tr>\n",
       "      <th>16</th>\n",
       "      <td>75~100</td>\n",
       "      <td>75~100</td>\n",
       "      <td>52638</td>\n",
       "    </tr>\n",
       "    <tr>\n",
       "      <th>17</th>\n",
       "      <td>cat_bef_enter_NA</td>\n",
       "      <td>0~25</td>\n",
       "      <td>2139</td>\n",
       "    </tr>\n",
       "    <tr>\n",
       "      <th>18</th>\n",
       "      <td>cat_bef_enter_NA</td>\n",
       "      <td>50~75</td>\n",
       "      <td>1759</td>\n",
       "    </tr>\n",
       "    <tr>\n",
       "      <th>19</th>\n",
       "      <td>cat_bef_enter_NA</td>\n",
       "      <td>25~50</td>\n",
       "      <td>1735</td>\n",
       "    </tr>\n",
       "    <tr>\n",
       "      <th>20</th>\n",
       "      <td>cat_bef_enter_NA</td>\n",
       "      <td>75~100</td>\n",
       "      <td>1618</td>\n",
       "    </tr>\n",
       "  </tbody>\n",
       "</table>\n",
       "</div>"
      ],
      "text/plain": [
       "   cat_bef_enter_time cat_aft_enter_time       0\n",
       "0    cat_bef_enter_NA   cat_aft_enter_NA  171623\n",
       "1              75~100              25~50   90929\n",
       "2               25~50             75~100   90184\n",
       "3              75~100              50~75   89814\n",
       "4               50~75              50~75   88934\n",
       "5                0~25             75~100   85008\n",
       "6               25~50               0~25   83215\n",
       "7              75~100               0~25   82461\n",
       "8               50~75              25~50   76671\n",
       "9               50~75             75~100   76355\n",
       "10              25~50              25~50   74934\n",
       "11              25~50              50~75   69760\n",
       "12               0~25               0~25   69044\n",
       "13              50~75               0~25   68693\n",
       "14               0~25              25~50   60971\n",
       "15               0~25              50~75   55585\n",
       "16             75~100             75~100   52638\n",
       "17   cat_bef_enter_NA               0~25    2139\n",
       "18   cat_bef_enter_NA              50~75    1759\n",
       "19   cat_bef_enter_NA              25~50    1735\n",
       "20   cat_bef_enter_NA             75~100    1618"
      ]
     },
     "execution_count": 50,
     "metadata": {},
     "output_type": "execute_result"
    }
   ],
   "source": [
    "user_spec.value_counts([\"cat_bef_enter_time\",\"cat_aft_enter_time\"]).reset_index()"
   ]
  },
  {
   "cell_type": "markdown",
   "id": "1f433c4d",
   "metadata": {},
   "source": [
    "### personal_rehabilitation_yn, personal_rehabilitation_complete_yn\n",
    "\n",
    "- 개인 회생자 신청 여부(0:개인회생자 X, 1:개인회생자O)\n",
    "- 개인 회생 완료 여부(personal_rehabilitation_yn == 1인 사람들 중, 0:납입중, 1:완료)\n",
    "\n",
    "4월18일에 개인회생자 전용 대출이 생김\n",
    "\n",
    "4월18일 이전 데이터에서는 전부 (NA, NA)\n",
    "\n",
    "상식적으로 존재 가능한 경우의 수 : (0,NA), (1,0), (1,1)"
   ]
  },
  {
   "cell_type": "markdown",
   "id": "208ee358",
   "metadata": {},
   "source": [
    "이상값인 0,0 or 0,1 는 아마도 개인회생자 여부를 체크 한 후, 다시 해제한 경우일 가능성이 있음!\n",
    "\n",
    "-> 그렇다면 전부 0, NA로 대체하는 것이 옳음"
   ]
  },
  {
   "cell_type": "code",
   "execution_count": 51,
   "id": "2dce56f4",
   "metadata": {},
   "outputs": [],
   "source": [
    "user_spec.loc[(user_spec[\"personal_rehabilitation_yn\"] == 0) & (-user_spec[\"personal_rehabilitation_complete_yn\"].isna()), \"personal_rehabilitation_complete_yn\"] = np.nan"
   ]
  },
  {
   "cell_type": "code",
   "execution_count": 52,
   "id": "8ad9080d",
   "metadata": {},
   "outputs": [
    {
     "name": "stdout",
     "output_type": "stream",
     "text": [
      "NA,NA :  (587360, 26)\n",
      "1,NA : (0, 26)\n",
      "1,0 or 1,1 : (12705, 26)\n",
      "0,NA : (794005, 26)\n",
      "0,0 or 0,1 : (0, 26)\n"
     ]
    }
   ],
   "source": [
    "print(\"NA,NA : \", user_spec[(user_spec[\"personal_rehabilitation_yn\"].isna()) & (user_spec[\"personal_rehabilitation_complete_yn\"].isna())].shape)\n",
    "print(\"1,NA :\",user_spec[(user_spec[\"personal_rehabilitation_yn\"] == 1) & (user_spec[\"personal_rehabilitation_complete_yn\"].isna())].shape)\n",
    "print(\"1,0 or 1,1 :\",user_spec[(user_spec[\"personal_rehabilitation_yn\"] == 1) & (-user_spec[\"personal_rehabilitation_complete_yn\"].isna())].shape)\n",
    "print(\"0,NA :\",user_spec[(user_spec[\"personal_rehabilitation_yn\"] == 0) & (user_spec[\"personal_rehabilitation_complete_yn\"].isna())].shape)\n",
    "print(\"0,0 or 0,1 :\",user_spec[(user_spec[\"personal_rehabilitation_yn\"] == 0) & (-user_spec[\"personal_rehabilitation_complete_yn\"].isna())].shape)"
   ]
  },
  {
   "cell_type": "markdown",
   "id": "f86e9c9d",
   "metadata": {},
   "source": [
    "**개인회생 관련 변수를 하나의 변수로 범주화**"
   ]
  },
  {
   "cell_type": "code",
   "execution_count": 53,
   "id": "de8231fe",
   "metadata": {},
   "outputs": [],
   "source": [
    "user_spec[\"rehabilitation\"] = \"rehabilitation_not\"\n",
    "user_spec.loc[(user_spec[\"personal_rehabilitation_yn\"] == 1) & (user_spec[\"personal_rehabilitation_complete_yn\"] == 0),\"rehabilitation\"] = \"rehabilitation\"\n",
    "user_spec.loc[(user_spec[\"personal_rehabilitation_yn\"] == 1) & (user_spec[\"personal_rehabilitation_complete_yn\"] == 1),\"rehabilitation\"] = \"rehabilitation_completed\"\n",
    "user_spec.loc[(user_spec[\"personal_rehabilitation_yn\"].isna()) & (user_spec[\"personal_rehabilitation_complete_yn\"].isna()),\"rehabilitation\"] = \"rehabilitation_NA\""
   ]
  },
  {
   "cell_type": "markdown",
   "id": "2b9b369f",
   "metadata": {},
   "source": [
    "rehabilitation_not : 개인회생자가 아님\\\n",
    "rehabilitation : 개인회생자이며, 납입중임\\\n",
    "rehabilitation_completed : 개인회생자이며, 납입 완료했음\\\n",
    "rehabilitation_NA : 아마도 앱 버전의 이유로 선택란이 없었을 것. 즉, 알 수 없음"
   ]
  },
  {
   "cell_type": "code",
   "execution_count": 54,
   "id": "d456b449",
   "metadata": {},
   "outputs": [
    {
     "data": {
      "text/plain": [
       "rehabilitation_not          794005\n",
       "rehabilitation_NA           587360\n",
       "rehabilitation               11358\n",
       "rehabilitation_completed      1347\n",
       "Name: rehabilitation, dtype: int64"
      ]
     },
     "execution_count": 54,
     "metadata": {},
     "output_type": "execute_result"
    }
   ],
   "source": [
    "user_spec[\"rehabilitation\"].value_counts()"
   ]
  },
  {
   "cell_type": "markdown",
   "id": "a2e73127",
   "metadata": {},
   "source": [
    "#### 집단간 신용 점수 차이가 있는지 검정"
   ]
  },
  {
   "cell_type": "code",
   "execution_count": 55,
   "id": "eb5953cb",
   "metadata": {},
   "outputs": [],
   "source": [
    "rehabilitation_not = user_spec[(user_spec[\"rehabilitation\"] == \"rehabilitation_not\") & (user_spec[\"credit_score\"].notna())].copy()\n",
    "rehabilitation = user_spec[(user_spec[\"rehabilitation\"] == \"rehabilitation\") & (user_spec[\"credit_score\"].notna())].copy()\n",
    "rehabilitation_completed = user_spec[(user_spec[\"rehabilitation\"] == \"rehabilitation_completed\") & (user_spec[\"credit_score\"].notna())].copy()"
   ]
  },
  {
   "cell_type": "code",
   "execution_count": 56,
   "id": "7eca7e21",
   "metadata": {},
   "outputs": [
    {
     "name": "stdout",
     "output_type": "stream",
     "text": [
      "<size>\n",
      "rehabilitation_not :  745799\n",
      "rehabilitation :  10106\n",
      "rehabilitation_completed :  1234\n"
     ]
    }
   ],
   "source": [
    "#집단 크기 확인\n",
    "rehabilitation_not_c_score = rehabilitation_not[\"credit_score\"]\n",
    "rehabilitation_c_score = rehabilitation[\"credit_score\"]\n",
    "rehabilitation_completed_c_score = rehabilitation_completed[\"credit_score\"]\n",
    "\n",
    "print(\"<size>\")\n",
    "print(\"rehabilitation_not : \", len(rehabilitation_not_c_score))\n",
    "print(\"rehabilitation : \", len(rehabilitation_c_score))\n",
    "print(\"rehabilitation_completed : \", len(rehabilitation_completed_c_score))"
   ]
  },
  {
   "cell_type": "code",
   "execution_count": 57,
   "id": "6fc606b1",
   "metadata": {},
   "outputs": [
    {
     "data": {
      "text/plain": [
       "Text(0.5, 1.0, 'rehabilitation_completed')"
      ]
     },
     "execution_count": 57,
     "metadata": {},
     "output_type": "execute_result"
    },
    {
     "data": {
      "image/png": "[encoded data removed]",
      "text/plain": [
       "<Figure size 576x864 with 3 Axes>"
      ]
     },
     "metadata": {
      "needs_background": "light"
     },
     "output_type": "display_data"
    }
   ],
   "source": [
    "#정규성 확인 hist\n",
    "plt.figure(figsize=(8,12))\n",
    "plt.subplot(3,1,1)\n",
    "plt.hist(rehabilitation_not_c_score,bins=25)\n",
    "plt.title(\"rehabilitation_not\")\n",
    "plt.subplot(3,1,2)\n",
    "plt.hist(rehabilitation_c_score,25)\n",
    "plt.title(\"rehabilitation\")\n",
    "plt.subplot(3,1,3)\n",
    "plt.hist(rehabilitation_completed_c_score,bins=25)\n",
    "plt.title(\"rehabilitation_completed\")"
   ]
  },
  {
   "cell_type": "markdown",
   "id": "30c6cf2c",
   "metadata": {},
   "source": [
    "정규성검정 1 : Shapiro test\n",
    "\n",
    " - 전부 기각 (= 정규성을 만족하지 않음)"
   ]
  },
  {
   "cell_type": "code",
   "execution_count": 58,
   "id": "6a55c244",
   "metadata": {},
   "outputs": [
    {
     "name": "stdout",
     "output_type": "stream",
     "text": [
      "H0 : 정규성을 충족한다\n",
      "rehabilitation_not : ShapiroResult(statistic=0.927108108997345, pvalue=0.0)\n",
      "rehabilitation : ShapiroResult(statistic=0.8658428192138672, pvalue=0.0)\n",
      "rehabilitation_completed : ShapiroResult(statistic=0.8606172800064087, pvalue=1.0479840117100609e-31)\n"
     ]
    }
   ],
   "source": [
    "print(\"H0 : 정규성을 충족한다\")\n",
    "print(\"rehabilitation_not :\",shapiro(rehabilitation_not_c_score))\n",
    "print(\"rehabilitation :\",shapiro(rehabilitation_c_score))\n",
    "print(\"rehabilitation_completed :\",shapiro(rehabilitation_completed_c_score))"
   ]
  },
  {
   "cell_type": "markdown",
   "id": "57d07ad3",
   "metadata": {},
   "source": [
    "정규성검정 2 : D’Agostino’s K^2 Test\n",
    " - 전부 기각 (= 정규성을 만족하지 않음)"
   ]
  },
  {
   "cell_type": "code",
   "execution_count": 59,
   "id": "855bfb73",
   "metadata": {},
   "outputs": [
    {
     "name": "stdout",
     "output_type": "stream",
     "text": [
      "H0 : 정규성을 충족한다\n",
      "rehabilitation_not : NormaltestResult(statistic=48567.60090796639, pvalue=0.0)\n",
      "rehabilitation : NormaltestResult(statistic=13294.510090538757, pvalue=0.0)\n",
      "rehabilitation_completed : NormaltestResult(statistic=214.14520170290868, pvalue=3.154716136195898e-47)\n"
     ]
    }
   ],
   "source": [
    "print(\"H0 : 정규성을 충족한다\")\n",
    "print(\"rehabilitation_not :\",normaltest(rehabilitation_not_c_score))\n",
    "print(\"rehabilitation :\",normaltest(rehabilitation_c_score))\n",
    "print(\"rehabilitation_completed :\",normaltest(rehabilitation_completed_c_score))"
   ]
  },
  {
   "cell_type": "markdown",
   "id": "e4182055",
   "metadata": {},
   "source": [
    "정규성검정 3 : Kolmogorove-Smirnov test\n",
    " - 전부 기각 (= 정규성을 만족하지 않음)"
   ]
  },
  {
   "cell_type": "code",
   "execution_count": 60,
   "id": "a84b3003",
   "metadata": {},
   "outputs": [
    {
     "name": "stdout",
     "output_type": "stream",
     "text": [
      "H0 : 정규성을 충족한다\n",
      "rehabilitation_not : KstestResult(statistic=1.0, pvalue=0.0)\n",
      "rehabilitation : KstestResult(statistic=1.0, pvalue=0.0)\n",
      "rehabilitation_completed : KstestResult(statistic=1.0, pvalue=0.0)\n"
     ]
    }
   ],
   "source": [
    "\n",
    "print(\"H0 : 정규성을 충족한다\")\n",
    "print(\"rehabilitation_not :\",kstest(rehabilitation_not_c_score, \"norm\"))\n",
    "print(\"rehabilitation :\",kstest(rehabilitation_c_score, \"norm\"))\n",
    "print(\"rehabilitation_completed :\",kstest(rehabilitation_completed_c_score, \"norm\"))"
   ]
  },
  {
   "cell_type": "markdown",
   "id": "7e53f49c",
   "metadata": {},
   "source": [
    "결론 : 4개의 집단 모두 정규성을 만족하지 않음.\n",
    "    \n",
    "--> 비모수적 방법인 맨 휘트니 U test(우측검정)사용"
   ]
  },
  {
   "cell_type": "code",
   "execution_count": 61,
   "id": "3b662255",
   "metadata": {},
   "outputs": [
    {
     "name": "stdout",
     "output_type": "stream",
     "text": [
      "rehabilitation_not vs rehabilitation :  MannwhitneyuResult(statistic=5597927668.0, pvalue=0.0)\n",
      "rehabilitation_not vs rehabilitation_completed :  MannwhitneyuResult(statistic=588407278.5, pvalue=8.94387655845642e-65)\n",
      "rehabilitation vs rehabilitation_completed :  MannwhitneyuResult(statistic=5238011.5, pvalue=1.0)\n"
     ]
    }
   ],
   "source": [
    "#맨휘트니 U test\n",
    "print(\"rehabilitation_not vs rehabilitation : \",mannwhitneyu(rehabilitation_not_c_score, rehabilitation_c_score, alternative='greater'))\n",
    "#rehabilitation_not > rehabilitation\n",
    "\n",
    "print(\"rehabilitation_not vs rehabilitation_completed : \",mannwhitneyu(rehabilitation_not_c_score, rehabilitation_completed_c_score, alternative='greater'))\n",
    "#rehabilitation_not > rehabilitation_completed\n",
    "\n",
    "print(\"rehabilitation vs rehabilitation_completed : \",mannwhitneyu(rehabilitation_c_score, rehabilitation_completed_c_score, alternative='greater'))\n",
    "#rehabilitation < rehabilitation_completed"
   ]
  },
  {
   "cell_type": "markdown",
   "id": "375b3543",
   "metadata": {},
   "source": [
    "신용 점수 큰 순서\n",
    "\n",
    "rehabilitation_not(개인회생아님) > rehabilitation_completed(개인회생 납부완료) > rehabilitation(개인회생중)"
   ]
  },
  {
   "cell_type": "code",
   "execution_count": null,
   "id": "0e7cbf5f",
   "metadata": {},
   "outputs": [],
   "source": []
  },
  {
   "cell_type": "markdown",
   "id": "089ba66a",
   "metadata": {},
   "source": [
    "### existing_loan_cnt, existing_loan_amt 결측치 대체"
   ]
  },
  {
   "cell_type": "markdown",
   "id": "6f8815f9",
   "metadata": {},
   "source": [
    "먼저, 기대출 횟수, 잔액이 변동된 경우는 없다."
   ]
  },
  {
   "cell_type": "code",
   "execution_count": 62,
   "id": "c99a9a53",
   "metadata": {},
   "outputs": [
    {
     "data": {
      "text/plain": [
       "nan"
      ]
     },
     "execution_count": 62,
     "metadata": {},
     "output_type": "execute_result"
    }
   ],
   "source": [
    "user_loan_amt_min = user_spec.groupby(\"user_id\").min()[\"existing_loan_amt\"]\n",
    "user_loan_amt_max = user_spec.groupby(\"user_id\").max()[\"existing_loan_amt\"]\n",
    "user_loan_amt_min[user_loan_amt_min != user_loan_amt_max].max()"
   ]
  },
  {
   "cell_type": "code",
   "execution_count": 63,
   "id": "86aebb6d",
   "metadata": {},
   "outputs": [
    {
     "data": {
      "text/plain": [
       "nan"
      ]
     },
     "execution_count": 63,
     "metadata": {},
     "output_type": "execute_result"
    }
   ],
   "source": [
    "user_loan_cnt_min = user_spec.groupby(\"user_id\").min()[\"existing_loan_cnt\"]\n",
    "user_loan_cnt_max = user_spec.groupby(\"user_id\").max()[\"existing_loan_cnt\"]\n",
    "user_loan_cnt_min[user_loan_cnt_min != user_loan_cnt_max].max()"
   ]
  },
  {
   "cell_type": "markdown",
   "id": "89881ce1",
   "metadata": {},
   "source": [
    "#### 기대출 횟수와 잔액의 NA여부를 바탕으로 그룹 형성\n",
    "\n",
    "- 횟수가 0인 경우는 없음\n",
    "- 잔액이 NA인 경우는 횟수가 NA또는 1\n",
    "- 잔액이 0인 경우 존재\n",
    "\n",
    "NA NA : 대출 경험 없음\n",
    "\n",
    "1 NA : 이상값 ->    문의 결과 *-특별한 의미는 없습니다. 대출 금액을 못받아오는 케이스들이 있습니다.-*\n",
    "\n",
    "!NA 0 : 이상값 ->     문의 결과 *-반올림 과정에서 0이 된 경우가 맞습니다.-*\n",
    "\n",
    "!NA !NA : 기대출 보유자"
   ]
  },
  {
   "cell_type": "code",
   "execution_count": 64,
   "id": "5a8a6627",
   "metadata": {},
   "outputs": [
    {
     "data": {
      "text/plain": [
       "Series([], dtype: int64)"
      ]
     },
     "execution_count": 64,
     "metadata": {},
     "output_type": "execute_result"
    }
   ],
   "source": [
    "loan_na_na = user_spec[(user_spec[\"existing_loan_cnt\"].isna()) & (user_spec[\"existing_loan_amt\"].isna())]\n",
    "loan_na_na.value_counts(\"existing_loan_cnt\")"
   ]
  },
  {
   "cell_type": "code",
   "execution_count": 65,
   "id": "c5c099ce",
   "metadata": {},
   "outputs": [
    {
     "data": {
      "text/plain": [
       "existing_loan_cnt\n",
       "1.0    115187\n",
       "dtype: int64"
      ]
     },
     "execution_count": 65,
     "metadata": {},
     "output_type": "execute_result"
    }
   ],
   "source": [
    "loan_notna_na = user_spec[-(user_spec[\"existing_loan_cnt\"].isna()) & (user_spec[\"existing_loan_amt\"].isna())]\n",
    "loan_notna_na.value_counts(\"existing_loan_cnt\")"
   ]
  },
  {
   "cell_type": "code",
   "execution_count": 66,
   "id": "22e3dc82",
   "metadata": {},
   "outputs": [
    {
     "data": {
      "text/plain": [
       "existing_loan_cnt\n",
       "3.0      155923\n",
       "2.0      145538\n",
       "4.0      144384\n",
       "1.0      126369\n",
       "5.0      124044\n",
       "          ...  \n",
       "81.0          1\n",
       "169.0         1\n",
       "176.0         1\n",
       "71.0          1\n",
       "67.0          1\n",
       "Length: 100, dtype: int64"
      ]
     },
     "execution_count": 66,
     "metadata": {},
     "output_type": "execute_result"
    }
   ],
   "source": [
    "loan_notna_notna = user_spec[-(user_spec[\"existing_loan_cnt\"].isna()) & (-user_spec[\"existing_loan_amt\"].isna())]\n",
    "loan_notna_notna.value_counts(\"existing_loan_cnt\")"
   ]
  },
  {
   "cell_type": "code",
   "execution_count": 67,
   "id": "f9626599",
   "metadata": {},
   "outputs": [
    {
     "data": {
      "text/plain": [
       "existing_loan_cnt\n",
       "1.0     4636\n",
       "2.0      409\n",
       "3.0       68\n",
       "4.0       11\n",
       "13.0       3\n",
       "9.0        1\n",
       "6.0        1\n",
       "5.0        1\n",
       "dtype: int64"
      ]
     },
     "execution_count": 67,
     "metadata": {},
     "output_type": "execute_result"
    }
   ],
   "source": [
    "loan_notna_0 = user_spec[-(user_spec[\"existing_loan_cnt\"].isna()) & (user_spec[\"existing_loan_amt\"]==0)]\n",
    "loan_notna_0.value_counts(\"existing_loan_cnt\")"
   ]
  },
  {
   "cell_type": "code",
   "execution_count": 68,
   "id": "97c9c8f9",
   "metadata": {},
   "outputs": [],
   "source": [
    "user_spec[\"existing_loan_cnt_2\"] = user_spec[\"existing_loan_cnt\"].copy()\n",
    "user_spec[\"existing_loan_amt_2\"] = user_spec[\"existing_loan_amt\"].copy()\n",
    "\n",
    "med_cnt_1 = user_spec.loc[user_spec[\"existing_loan_cnt_2\"]==1,\"existing_loan_amt_2\"].median()\n",
    "\n",
    "user_spec.loc[-user_spec[\"existing_loan_amt_2\"].isna(),\"existing_loan_amt_2\"] += 250000 # 반올림 과정 중 0으로 바뀐 값을 위해\n",
    "\n",
    "user_spec.loc[-(user_spec[\"existing_loan_amt_2\"].isna()) & (user_spec[\"existing_loan_amt_2\"].isna()),\"existing_loan_amt_2\"] = med_cnt_1\n",
    "\n",
    "user_spec[\"existing_loan_cnt_2\"] = user_spec[\"existing_loan_cnt_2\"].fillna(0)\n",
    "user_spec[\"existing_loan_amt_2\"] = user_spec[\"existing_loan_amt_2\"].fillna(0)\n",
    "user_spec[\"log_existing_loan_amt_2\"] = np.log(user_spec[\"existing_loan_amt_2\"]+1)"
   ]
  },
  {
   "cell_type": "code",
   "execution_count": 69,
   "id": "1b02973c",
   "metadata": {},
   "outputs": [
    {
     "data": {
      "text/plain": [
       "application_id                               0\n",
       "user_id                                      0\n",
       "birth_year                                9723\n",
       "gender                                    9723\n",
       "insert_time                                  0\n",
       "credit_score                            105054\n",
       "yearly_income                                0\n",
       "income_type                                  0\n",
       "company_enter_month                     171623\n",
       "employment_type                              0\n",
       "houseown_type                                0\n",
       "desired_amount                               0\n",
       "purpose                                      0\n",
       "personal_rehabilitation_yn              587360\n",
       "personal_rehabilitation_complete_yn    1381365\n",
       "existing_loan_cnt                       198507\n",
       "existing_loan_amt                       313694\n",
       "only_age                                  9723\n",
       "cat_age                                      0\n",
       "cat_gender                                   0\n",
       "log_yearly_income                            0\n",
       "log_desired_amount                           0\n",
       "aft_enter_time                          171623\n",
       "cat_aft_enter_time                           0\n",
       "bef_enter_time                          178874\n",
       "cat_bef_enter_time                           0\n",
       "rehabilitation                               0\n",
       "existing_loan_cnt_2                          0\n",
       "existing_loan_amt_2                          0\n",
       "log_existing_loan_amt_2                      0\n",
       "dtype: int64"
      ]
     },
     "execution_count": 69,
     "metadata": {},
     "output_type": "execute_result"
    }
   ],
   "source": [
    "user_spec.isna().sum()"
   ]
  },
  {
   "cell_type": "code",
   "execution_count": 70,
   "id": "84ec158e",
   "metadata": {},
   "outputs": [],
   "source": [
    "user_spec1_1 = user_spec.drop([\"company_enter_month\",\"personal_rehabilitation_yn\",\"personal_rehabilitation_complete_yn\",\n",
    "                               \"existing_loan_cnt\",\"existing_loan_amt\", \"only_age\",\"aft_enter_time\", \"bef_enter_time\"],axis = 1)\n",
    "user_spec1_1.to_csv(\"user_spec1_1.csv\", index = False)"
   ]
  },
  {
   "cell_type": "code",
   "execution_count": 71,
   "id": "2ab7e604",
   "metadata": {},
   "outputs": [],
   "source": [
    "user_spec1_2 = user_spec.drop([\"personal_rehabilitation_yn\",\"personal_rehabilitation_complete_yn\",\n",
    "               \"existing_loan_cnt\",\"existing_loan_amt\", \"only_age\",\"aft_enter_time\", \"bef_enter_time\"],axis = 1)\n",
    "user_spec1_2.to_csv(\"user_spec1_2.csv\", index=False)"
   ]
  },
  {
   "cell_type": "markdown",
   "id": "56a21630",
   "metadata": {},
   "source": [
    "### Credit Score"
   ]
  },
  {
   "cell_type": "code",
   "execution_count": 72,
   "id": "a52ca619",
   "metadata": {},
   "outputs": [],
   "source": [
    "user_spec2 = user_spec.drop([\"birth_year\",\"gender\",\"company_enter_month\",\"personal_rehabilitation_yn\",\"personal_rehabilitation_complete_yn\",\n",
    "               \"existing_loan_cnt\",\"existing_loan_amt\", \"only_age\",\"aft_enter_time\", \"bef_enter_time\"],axis = 1)"
   ]
  },
  {
   "cell_type": "code",
   "execution_count": 73,
   "id": "595dfd7a",
   "metadata": {},
   "outputs": [],
   "source": [
    "user_spec2.to_csv(\"user_spec2.csv\", index = False)"
   ]
  },
  {
   "cell_type": "code",
   "execution_count": 74,
   "id": "02827f03",
   "metadata": {},
   "outputs": [
    {
     "data": {
      "text/plain": [
       "application_id                  0\n",
       "user_id                         0\n",
       "insert_time                     0\n",
       "credit_score               105054\n",
       "yearly_income                   0\n",
       "income_type                     0\n",
       "employment_type                 0\n",
       "houseown_type                   0\n",
       "desired_amount                  0\n",
       "purpose                         0\n",
       "cat_age                         0\n",
       "cat_gender                      0\n",
       "log_yearly_income               0\n",
       "log_desired_amount              0\n",
       "cat_aft_enter_time              0\n",
       "cat_bef_enter_time              0\n",
       "rehabilitation                  0\n",
       "existing_loan_cnt_2             0\n",
       "existing_loan_amt_2             0\n",
       "log_existing_loan_amt_2         0\n",
       "dtype: int64"
      ]
     },
     "execution_count": 74,
     "metadata": {},
     "output_type": "execute_result"
    }
   ],
   "source": [
    "user_spec2.isna().sum()"
   ]
  },
  {
   "cell_type": "markdown",
   "id": "55e8efb7",
   "metadata": {},
   "source": [
    "#### credit score가 NA가 아닌 행이 존재하는 user_id\n",
    "\n",
    "**EX)**\\\n",
    "NA --> 810으로 대체\\\n",
    "NA --> 810으로 대체\\\n",
    "810\\\n",
    "810\\\n",
    "820"
   ]
  },
  {
   "cell_type": "code",
   "execution_count": 75,
   "id": "18722809",
   "metadata": {},
   "outputs": [],
   "source": [
    "credit_na_ids = user_spec2[user_spec2[\"credit_score\"].isna()][\"user_id\"].unique()"
   ]
  },
  {
   "cell_type": "code",
   "execution_count": 76,
   "id": "d01fb842",
   "metadata": {},
   "outputs": [
    {
     "data": {
      "text/plain": [
       "array([553686,  93773, 131488, ..., 140245, 140769, 421807], dtype=int64)"
      ]
     },
     "execution_count": 76,
     "metadata": {},
     "output_type": "execute_result"
    }
   ],
   "source": [
    "credit_not_na_ids = user_spec2[(user_spec2[\"user_id\"].isin(credit_na_ids)) & (-user_spec2[\"credit_score\"].isna())][\"user_id\"].unique()\n",
    "credit_not_na_ids"
   ]
  },
  {
   "cell_type": "code",
   "execution_count": 77,
   "id": "7a32e28e",
   "metadata": {},
   "outputs": [],
   "source": [
    "df1 = user_spec2[user_spec2[\"user_id\"].isin(credit_not_na_ids)].copy()\n",
    "df2 = user_spec2[-user_spec2[\"user_id\"].isin(credit_not_na_ids)].copy()"
   ]
  },
  {
   "cell_type": "code",
   "execution_count": 78,
   "id": "19f0b0da",
   "metadata": {},
   "outputs": [
    {
     "data": {
      "text/plain": [
       "True"
      ]
     },
     "execution_count": 78,
     "metadata": {},
     "output_type": "execute_result"
    }
   ],
   "source": [
    "len(df1) + len(df2) == len(user_spec2)"
   ]
  },
  {
   "cell_type": "code",
   "execution_count": 79,
   "id": "3bc620be",
   "metadata": {
    "scrolled": true
   },
   "outputs": [
    {
     "data": {
      "application/vnd.jupyter.widget-view+json": {
       "model_id": "c503b6d9cbd44c5e96866a70274290f2",
       "version_major": 2,
       "version_minor": 0
      },
      "text/plain": [
       "  0%|          | 0/10922 [00:00<?, ?it/s]"
      ]
     },
     "metadata": {},
     "output_type": "display_data"
    }
   ],
   "source": [
    "df1_1 = pd.DataFrame()\n",
    "for i in tqdm_notebook(credit_not_na_ids):\n",
    "    df1_1 = df1_1.append(df1[df1[\"user_id\"] == i].sort_values(\"insert_time\").fillna(method='bfill'))"
   ]
  },
  {
   "cell_type": "code",
   "execution_count": 80,
   "id": "75c2160a",
   "metadata": {},
   "outputs": [
    {
     "data": {
      "text/plain": [
       "application_id             0\n",
       "user_id                    0\n",
       "insert_time                0\n",
       "credit_score               0\n",
       "yearly_income              0\n",
       "income_type                0\n",
       "employment_type            0\n",
       "houseown_type              0\n",
       "desired_amount             0\n",
       "purpose                    0\n",
       "cat_age                    0\n",
       "cat_gender                 0\n",
       "log_yearly_income          0\n",
       "log_desired_amount         0\n",
       "cat_aft_enter_time         0\n",
       "cat_bef_enter_time         0\n",
       "rehabilitation             0\n",
       "existing_loan_cnt_2        0\n",
       "existing_loan_amt_2        0\n",
       "log_existing_loan_amt_2    0\n",
       "dtype: int64"
      ]
     },
     "execution_count": 80,
     "metadata": {},
     "output_type": "execute_result"
    }
   ],
   "source": [
    "df1_1.isna().sum()"
   ]
  },
  {
   "cell_type": "code",
   "execution_count": 81,
   "id": "b0b4f2d2",
   "metadata": {},
   "outputs": [
    {
     "data": {
      "text/plain": [
       "True"
      ]
     },
     "execution_count": 81,
     "metadata": {},
     "output_type": "execute_result"
    }
   ],
   "source": [
    "len(df1_1) + len(df2) == len(user_spec2)"
   ]
  },
  {
   "cell_type": "markdown",
   "id": "5857ebc1",
   "metadata": {},
   "source": [
    "처리 후 병합"
   ]
  },
  {
   "cell_type": "code",
   "execution_count": 82,
   "id": "e50e501c",
   "metadata": {},
   "outputs": [],
   "source": [
    "user_spec3 = pd.concat([df1_1,df2]).sort_index()"
   ]
  },
  {
   "cell_type": "code",
   "execution_count": 83,
   "id": "2f017e93",
   "metadata": {},
   "outputs": [
    {
     "data": {
      "text/plain": [
       "application_id                 0\n",
       "user_id                        0\n",
       "insert_time                    0\n",
       "credit_score               87464\n",
       "yearly_income                  0\n",
       "income_type                    0\n",
       "employment_type                0\n",
       "houseown_type                  0\n",
       "desired_amount                 0\n",
       "purpose                        0\n",
       "cat_age                        0\n",
       "cat_gender                     0\n",
       "log_yearly_income              0\n",
       "log_desired_amount             0\n",
       "cat_aft_enter_time             0\n",
       "cat_bef_enter_time             0\n",
       "rehabilitation                 0\n",
       "existing_loan_cnt_2            0\n",
       "existing_loan_amt_2            0\n",
       "log_existing_loan_amt_2        0\n",
       "dtype: int64"
      ]
     },
     "execution_count": 83,
     "metadata": {},
     "output_type": "execute_result"
    }
   ],
   "source": [
    "user_spec3.isna().sum()"
   ]
  },
  {
   "cell_type": "code",
   "execution_count": 84,
   "id": "3e130a89",
   "metadata": {},
   "outputs": [],
   "source": [
    "user_spec3.to_csv(\"user_spec3.csv\", index = False)\n",
    "loan_result.to_csv(\"loan_result2.csv\", index = False)"
   ]
  },
  {
   "cell_type": "markdown",
   "id": "acbbf148",
   "metadata": {},
   "source": [
    "application_id 별 승인된 상품들의 한도, 금리에 대하여 통계량 값 추가"
   ]
  },
  {
   "cell_type": "code",
   "execution_count": 85,
   "id": "31f8c603",
   "metadata": {},
   "outputs": [],
   "source": [
    "features = ['application_id','loan_rate','log_loan_limit']\n",
    "loan_result_preprocess = loan_result[features].groupby('application_id').agg(['max', 'min', 'mean',\"count\"])"
   ]
  },
  {
   "cell_type": "code",
   "execution_count": 86,
   "id": "8f36e7ca",
   "metadata": {},
   "outputs": [],
   "source": [
    "loan_result_preprocess.columns=[i[1]+'_'+i[0] for i in loan_result_preprocess.columns]\n",
    "loan_result_preprocess = loan_result_preprocess.reset_index()"
   ]
  },
  {
   "cell_type": "code",
   "execution_count": 87,
   "id": "7020503e",
   "metadata": {},
   "outputs": [],
   "source": [
    "user_spec3_1 = pd.merge(user_spec3, loan_result_preprocess, how='left', on=\"application_id\")"
   ]
  },
  {
   "cell_type": "code",
   "execution_count": 88,
   "id": "01997177",
   "metadata": {},
   "outputs": [],
   "source": [
    "#loan_rate 관련 변수는 999\n",
    "user_spec3_1.loc[:,loan_result_preprocess.columns[1:5]] = user_spec3_1.loc[:,loan_result_preprocess.columns[1:5]].fillna(999) \n",
    "#loan_limit 관련 변수는 -999\n",
    "user_spec3_1.loc[:,loan_result_preprocess.columns[5:10]] = user_spec3_1.loc[:,loan_result_preprocess.columns[5:10]].fillna(-999) \n",
    "#개수는 0\n",
    "user_spec3_1.loc[:,[\"count_loan_rate\",\"count_log_loan_limit\"]] = user_spec3_1.loc[:,[\"count_loan_rate\",\"count_log_loan_limit\"]].fillna(0)"
   ]
  },
  {
   "cell_type": "code",
   "execution_count": 89,
   "id": "c8ad859e",
   "metadata": {},
   "outputs": [],
   "source": [
    "user_spec3_1.to_csv(\"user_spec3_1.csv\",index=False)"
   ]
  },
  {
   "cell_type": "markdown",
   "id": "9af88a48",
   "metadata": {},
   "source": [
    "#### MissForest"
   ]
  },
  {
   "cell_type": "markdown",
   "id": "7091cef2",
   "metadata": {},
   "source": [
    "##### 신용점수 모델 검증"
   ]
  },
  {
   "cell_type": "code",
   "execution_count": 90,
   "id": "9ce7aa43",
   "metadata": {},
   "outputs": [],
   "source": [
    "train_set = user_spec3_1[-user_spec3_1[\"credit_score\"].isna()].copy()"
   ]
  },
  {
   "cell_type": "code",
   "execution_count": 91,
   "id": "d6d812d0",
   "metadata": {},
   "outputs": [],
   "source": [
    "np.random.seed(1234)\n",
    "#랜덤하게 validset으로 사용할 user_id 선택\n",
    "valid_ids = np.random.choice(train_set[\"user_id\"], int(0.01*len(user_spec3)))\n",
    "true_credit = train_set.loc[train_set[\"user_id\"].isin(valid_ids), \"credit_score\"].copy()\n",
    "train_set.loc[train_set[\"user_id\"].isin(valid_ids), \"credit_score\"] = np.nan"
   ]
  },
  {
   "cell_type": "code",
   "execution_count": null,
   "id": "1e9aecab",
   "metadata": {},
   "outputs": [],
   "source": []
  },
  {
   "cell_type": "code",
   "execution_count": 92,
   "id": "12e57451",
   "metadata": {},
   "outputs": [],
   "source": [
    "RS = 100\n",
    "train_set_2 = train_set.copy()"
   ]
  },
  {
   "cell_type": "code",
   "execution_count": 93,
   "id": "c3ccab45",
   "metadata": {},
   "outputs": [],
   "source": [
    "train_set.drop(\"application_id\",axis=1,inplace = True)\n",
    "train_set.drop(\"user_id\",axis=1,inplace = True)\n",
    "\n",
    "#train_set[\"user_id\"] = train_set[\"user_id\"].astype('category')\n",
    "train_set[\"cat_age\"] = train_set[\"cat_age\"].astype('category')\n",
    "train_set[\"cat_aft_enter_time\"] = train_set[\"cat_aft_enter_time\"].astype('category')\n",
    "train_set[\"cat_bef_enter_time\"] = train_set[\"cat_bef_enter_time\"].astype('category')\n",
    "train_set[\"income_type\"] = train_set[\"income_type\"].astype('category')\n",
    "train_set[\"employment_type\"] = train_set[\"rehabilitation\"].astype('category')\n",
    "train_set[\"houseown_type\"] = train_set[\"houseown_type\"].astype('category')\n",
    "train_set[\"purpose\"] = train_set[\"purpose\"].astype('category')\n",
    "train_set[\"cat_gender\"] = train_set[\"cat_gender\"].astype('category')\n",
    "train_set[\"rehabilitation\"] = train_set[\"rehabilitation\"].astype('category')\n",
    "train_set['insert_time'] = pd.to_numeric(train_set['insert_time'])"
   ]
  },
  {
   "cell_type": "code",
   "execution_count": 94,
   "id": "2e6456bb",
   "metadata": {},
   "outputs": [],
   "source": [
    "## categorial label Encoder\n",
    "cat_t = train_set[train_set.select_dtypes(['category']).columns.tolist()]\n",
    "\n",
    "for col in train_set.select_dtypes(['category']).columns.tolist():\n",
    "    le = preprocessing.LabelEncoder()\n",
    "    le.fit(cat_t[col])\n",
    "    train_set[col]=le.transform(cat_t[col])\n",
    "    train_set[col] = train_set[col].astype('category')"
   ]
  },
  {
   "cell_type": "code",
   "execution_count": 95,
   "id": "e7b8c03b",
   "metadata": {},
   "outputs": [],
   "source": [
    "fac_var = train_set.select_dtypes(['category']).columns"
   ]
  },
  {
   "cell_type": "code",
   "execution_count": 96,
   "id": "6277e4e7",
   "metadata": {},
   "outputs": [
    {
     "name": "stdout",
     "output_type": "stream",
     "text": [
      "Iteration: 0\n",
      "Iteration: 1\n",
      "Iteration: 2\n"
     ]
    }
   ],
   "source": [
    "UseCols = train_set.columns.tolist()\n",
    "cat_var = [idx for idx , col in enumerate(UseCols) if col in fac_var]\n",
    "MISSForest_algo = MissForest(max_iter = 20, verbose = 0, n_jobs  = -1 , max_depth=10)\n",
    "MISSForest_algo.fit(X =train_set  , cat_vars= cat_var)\n",
    "Tr_imputed = MISSForest_algo.transform(train_set)\n",
    "Tr_imputed = pd.DataFrame(Tr_imputed, columns= UseCols)                          \n",
    "Tr_imputed[fac_var] = Tr_imputed[fac_var].astype(int)"
   ]
  },
  {
   "cell_type": "code",
   "execution_count": 97,
   "id": "df37f0da",
   "metadata": {},
   "outputs": [],
   "source": [
    "Tr_imputed.index = train_set.index\n",
    "predict_credit = Tr_imputed.loc[train_set[\"credit_score\"].isna(),\"credit_score\"]"
   ]
  },
  {
   "cell_type": "code",
   "execution_count": 98,
   "id": "dd6a8df2",
   "metadata": {},
   "outputs": [
    {
     "name": "stdout",
     "output_type": "stream",
     "text": [
      "67.16435073818369\n"
     ]
    }
   ],
   "source": [
    "#예측 신용점수 RMSE ver2\n",
    "print(np.sqrt(np.mean((true_credit - predict_credit)**2)))"
   ]
  },
  {
   "cell_type": "code",
   "execution_count": 99,
   "id": "dc5ac53e",
   "metadata": {},
   "outputs": [
    {
     "data": {
      "text/plain": [
       "<matplotlib.collections.PathCollection at 0x1b3ad338ee0>"
      ]
     },
     "execution_count": 99,
     "metadata": {},
     "output_type": "execute_result"
    },
    {
     "data": {
      "image/png": "[encoded data removed]",
      "text/plain": [
       "<Figure size 432x432 with 1 Axes>"
      ]
     },
     "metadata": {
      "needs_background": "light"
     },
     "output_type": "display_data"
    }
   ],
   "source": [
    "plt.figure(figsize=(6,6))\n",
    "plt.scatter(true_credit, predict_credit, s=5,alpha=0.1)"
   ]
  },
  {
   "cell_type": "code",
   "execution_count": null,
   "id": "8b15e533",
   "metadata": {},
   "outputs": [],
   "source": []
  },
  {
   "cell_type": "markdown",
   "id": "fa877e2a",
   "metadata": {},
   "source": [
    "##### 신용점수 모델링 및 예측"
   ]
  },
  {
   "cell_type": "code",
   "execution_count": 100,
   "id": "1dc60871",
   "metadata": {},
   "outputs": [],
   "source": [
    "#!pip install missingpy"
   ]
  },
  {
   "cell_type": "code",
   "execution_count": 101,
   "id": "dc6e9a27",
   "metadata": {},
   "outputs": [],
   "source": [
    "RS = 100"
   ]
  },
  {
   "cell_type": "code",
   "execution_count": 102,
   "id": "8ee7dc13",
   "metadata": {},
   "outputs": [],
   "source": [
    "credit_na_id = user_spec3_1.loc[user_spec3_1[\"credit_score\"].isna(), \"user_id\"].unique()"
   ]
  },
  {
   "cell_type": "code",
   "execution_count": 103,
   "id": "3b3e1014",
   "metadata": {},
   "outputs": [],
   "source": [
    "user_spec3_1[\"insert_time\"] = pd.to_datetime(user_spec3_1[\"insert_time\"])"
   ]
  },
  {
   "cell_type": "code",
   "execution_count": 104,
   "id": "7f727bdb",
   "metadata": {},
   "outputs": [],
   "source": [
    "user_spec4 = user_spec3_1.copy()\n",
    "user_spec4.drop([\"user_id\",\"application_id\"],axis=1,inplace = True)\n",
    "user_spec4[\"cat_age\"] = user_spec4[\"cat_age\"].astype('category')\n",
    "user_spec4[\"cat_aft_enter_time\"] = user_spec4[\"cat_aft_enter_time\"].astype('category')\n",
    "user_spec4[\"cat_bef_enter_time\"] = user_spec4[\"cat_bef_enter_time\"].astype('category')\n",
    "user_spec4[\"income_type\"] = user_spec4[\"income_type\"].astype('category')\n",
    "user_spec4[\"employment_type\"] = user_spec4[\"rehabilitation\"].astype('category')\n",
    "user_spec4[\"houseown_type\"] = user_spec4[\"houseown_type\"].astype('category')\n",
    "user_spec4[\"purpose\"] = user_spec4[\"purpose\"].astype('category')\n",
    "user_spec4[\"cat_gender\"] = user_spec4[\"cat_gender\"].astype('category')\n",
    "user_spec4[\"rehabilitation\"] = user_spec4[\"rehabilitation\"].astype('category')\n",
    "user_spec4['insert_time'] = pd.to_numeric(user_spec4['insert_time'])"
   ]
  },
  {
   "cell_type": "code",
   "execution_count": 105,
   "id": "e2cabc8a",
   "metadata": {},
   "outputs": [],
   "source": [
    "## categorial label Encoder\n",
    "cat_t = user_spec4[user_spec4.select_dtypes(['category']).columns.tolist()]\n",
    "\n",
    "for col in user_spec4.select_dtypes(['category']).columns.tolist():\n",
    "    le = preprocessing.LabelEncoder()\n",
    "    le.fit(cat_t[col])\n",
    "    user_spec4[col]=le.transform(cat_t[col])\n",
    "    user_spec4[col] = user_spec4[col].astype('category')"
   ]
  },
  {
   "cell_type": "code",
   "execution_count": 106,
   "id": "6cd470f3",
   "metadata": {},
   "outputs": [],
   "source": [
    "fac_var = user_spec4.select_dtypes(['category']).columns"
   ]
  },
  {
   "cell_type": "code",
   "execution_count": 107,
   "id": "8cebb274",
   "metadata": {},
   "outputs": [
    {
     "name": "stdout",
     "output_type": "stream",
     "text": [
      "Iteration: 0\n",
      "Iteration: 1\n",
      "Iteration: 2\n"
     ]
    }
   ],
   "source": [
    "UseCols = user_spec4.columns.tolist()\n",
    "cat_var = [idx for idx , col in enumerate(UseCols) if col in fac_var]\n",
    "MISSForest_algo = MissForest(max_iter = 20, verbose = 0, n_jobs  = -1 , max_depth=10)\n",
    "MISSForest_algo.fit(X =user_spec4  , cat_vars= cat_var)\n",
    "Tr_imputed = MISSForest_algo.transform(user_spec4)\n",
    "Tr_imputed = pd.DataFrame(Tr_imputed, columns= UseCols)                          \n",
    "Tr_imputed[fac_var] = Tr_imputed[fac_var].astype(int)"
   ]
  },
  {
   "cell_type": "code",
   "execution_count": 108,
   "id": "06e22e72",
   "metadata": {},
   "outputs": [],
   "source": [
    "Tr_imputed[\"user_id\"] = user_spec3_1[\"user_id\"]"
   ]
  },
  {
   "cell_type": "code",
   "execution_count": 109,
   "id": "aa569323",
   "metadata": {},
   "outputs": [],
   "source": [
    "tmp = Tr_imputed.loc[Tr_imputed[\"user_id\"].isin(credit_na_id),[\"user_id\",\"credit_score\"]].groupby(\"user_id\",as_index=False).mean()[[\"user_id\",\"credit_score\"]]\n",
    "tmp[\"credit_score\"] = round(tmp[\"credit_score\"], -1)\n",
    "tmp.rename(columns={\"credit_score\" : \"credit_score2\"}, inplace = True)\n",
    "\n",
    "user_spec5 = pd.merge(user_spec3_1, tmp, how='left', on = \"user_id\")\n",
    "user_spec5['credit_score_last'] = np.nansum((user_spec5[\"credit_score\"], user_spec5[\"credit_score2\"]), axis=0)"
   ]
  },
  {
   "cell_type": "code",
   "execution_count": 110,
   "id": "cf811e9e",
   "metadata": {},
   "outputs": [],
   "source": [
    "user_spec5.drop([\"credit_score\",\"credit_score2\"],axis=1,inplace = True)"
   ]
  },
  {
   "cell_type": "code",
   "execution_count": 111,
   "id": "fef4f3d2",
   "metadata": {},
   "outputs": [
    {
     "data": {
      "text/plain": [
       "application_id             0\n",
       "user_id                    0\n",
       "insert_time                0\n",
       "yearly_income              0\n",
       "income_type                0\n",
       "employment_type            0\n",
       "houseown_type              0\n",
       "desired_amount             0\n",
       "purpose                    0\n",
       "cat_age                    0\n",
       "cat_gender                 0\n",
       "log_yearly_income          0\n",
       "log_desired_amount         0\n",
       "cat_aft_enter_time         0\n",
       "cat_bef_enter_time         0\n",
       "rehabilitation             0\n",
       "existing_loan_cnt_2        0\n",
       "existing_loan_amt_2        0\n",
       "log_existing_loan_amt_2    0\n",
       "max_loan_rate              0\n",
       "min_loan_rate              0\n",
       "mean_loan_rate             0\n",
       "count_loan_rate            0\n",
       "max_log_loan_limit         0\n",
       "min_log_loan_limit         0\n",
       "mean_log_loan_limit        0\n",
       "count_log_loan_limit       0\n",
       "credit_score_last          0\n",
       "dtype: int64"
      ]
     },
     "execution_count": 111,
     "metadata": {},
     "output_type": "execute_result"
    }
   ],
   "source": [
    "user_spec5.isna().sum()"
   ]
  },
  {
   "cell_type": "code",
   "execution_count": 112,
   "id": "15ba0851",
   "metadata": {},
   "outputs": [],
   "source": [
    "user_spec5.to_csv(\"user_spec5.csv\",index=False)"
   ]
  },
  {
   "cell_type": "markdown",
   "id": "f1582221",
   "metadata": {},
   "source": [
    "#### 선형 회귀 어쩌고 (배정민)"
   ]
  },
  {
   "cell_type": "code",
   "execution_count": 113,
   "id": "fee98b6d",
   "metadata": {},
   "outputs": [
    {
     "name": "stdout",
     "output_type": "stream",
     "text": [
      "<class 'pandas.core.frame.DataFrame'>\n",
      "Int64Index: 1394070 entries, 0 to 1394069\n",
      "Data columns (total 28 columns):\n",
      " #   Column                   Non-Null Count    Dtype         \n",
      "---  ------                   --------------    -----         \n",
      " 0   application_id           1394070 non-null  int64         \n",
      " 1   user_id                  1394070 non-null  int64         \n",
      " 2   insert_time              1394070 non-null  datetime64[ns]\n",
      " 3   yearly_income            1394070 non-null  float64       \n",
      " 4   income_type              1394070 non-null  object        \n",
      " 5   employment_type          1394070 non-null  object        \n",
      " 6   houseown_type            1394070 non-null  object        \n",
      " 7   desired_amount           1394070 non-null  float64       \n",
      " 8   purpose                  1394070 non-null  object        \n",
      " 9   cat_age                  1394070 non-null  object        \n",
      " 10  cat_gender               1394070 non-null  object        \n",
      " 11  log_yearly_income        1394070 non-null  float64       \n",
      " 12  log_desired_amount       1394070 non-null  float64       \n",
      " 13  cat_aft_enter_time       1394070 non-null  object        \n",
      " 14  cat_bef_enter_time       1394070 non-null  object        \n",
      " 15  rehabilitation           1394070 non-null  object        \n",
      " 16  existing_loan_cnt_2      1394070 non-null  float64       \n",
      " 17  existing_loan_amt_2      1394070 non-null  float64       \n",
      " 18  log_existing_loan_amt_2  1394070 non-null  float64       \n",
      " 19  max_loan_rate            1394070 non-null  float64       \n",
      " 20  min_loan_rate            1394070 non-null  float64       \n",
      " 21  mean_loan_rate           1394070 non-null  float64       \n",
      " 22  count_loan_rate          1394070 non-null  float64       \n",
      " 23  max_log_loan_limit       1394070 non-null  float64       \n",
      " 24  min_log_loan_limit       1394070 non-null  float64       \n",
      " 25  mean_log_loan_limit      1394070 non-null  float64       \n",
      " 26  count_log_loan_limit     1394070 non-null  float64       \n",
      " 27  credit_score_last        1394070 non-null  float64       \n",
      "dtypes: datetime64[ns](1), float64(16), int64(2), object(9)\n",
      "memory usage: 308.4+ MB\n"
     ]
    }
   ],
   "source": [
    "user_spec5.info()"
   ]
  },
  {
   "cell_type": "code",
   "execution_count": 114,
   "id": "89b982a4",
   "metadata": {
    "scrolled": false
   },
   "outputs": [],
   "source": [
    "loan_result_yn_df = loan_result.groupby(\"application_id\",as_index=False).max()[[\"application_id\",\"is_applied\"]]\n",
    "user_spec6 = pd.merge(user_spec5,loan_result_yn_df,how='left',on='application_id')"
   ]
  },
  {
   "cell_type": "markdown",
   "id": "8395d428",
   "metadata": {},
   "source": [
    "#### loan_reslut에 없는 application_id는 버리자"
   ]
  },
  {
   "cell_type": "code",
   "execution_count": 115,
   "id": "4836e612",
   "metadata": {},
   "outputs": [],
   "source": [
    "#승인 상품이 없는 application_id는 학습에 사용하지 않는다.\n",
    "user_spec6 = user_spec6[user_spec6[\"mean_loan_rate\"] != 999]"
   ]
  },
  {
   "cell_type": "code",
   "execution_count": 116,
   "id": "d6669d82",
   "metadata": {},
   "outputs": [],
   "source": [
    "user_spec6[\"time_rank\"] = user_spec6.groupby(\"user_id\").rank(ascending=True)[\"insert_time\"]"
   ]
  },
  {
   "cell_type": "code",
   "execution_count": 117,
   "id": "465a25af",
   "metadata": {},
   "outputs": [],
   "source": [
    "user_spec6 = user_spec6.drop([\"yearly_income\",\"desired_amount\",\"count_log_loan_limit\"],axis=1)"
   ]
  },
  {
   "cell_type": "code",
   "execution_count": 118,
   "id": "24e4ed62",
   "metadata": {},
   "outputs": [
    {
     "data": {
      "text/plain": [
       "application_id                  0\n",
       "user_id                         0\n",
       "insert_time                     0\n",
       "income_type                     0\n",
       "employment_type                 0\n",
       "houseown_type                   0\n",
       "purpose                         0\n",
       "cat_age                         0\n",
       "cat_gender                      0\n",
       "log_yearly_income               0\n",
       "log_desired_amount              0\n",
       "cat_aft_enter_time              0\n",
       "cat_bef_enter_time              0\n",
       "rehabilitation                  0\n",
       "existing_loan_cnt_2             0\n",
       "existing_loan_amt_2             0\n",
       "log_existing_loan_amt_2         0\n",
       "max_loan_rate                   0\n",
       "min_loan_rate                   0\n",
       "mean_loan_rate                  0\n",
       "count_loan_rate                 0\n",
       "max_log_loan_limit              0\n",
       "min_log_loan_limit              0\n",
       "mean_log_loan_limit             0\n",
       "credit_score_last               0\n",
       "is_applied                 239865\n",
       "time_rank                       0\n",
       "dtype: int64"
      ]
     },
     "execution_count": 118,
     "metadata": {},
     "output_type": "execute_result"
    }
   ],
   "source": [
    "user_spec6.isna().sum()"
   ]
  },
  {
   "cell_type": "code",
   "execution_count": 119,
   "id": "36281e28",
   "metadata": {},
   "outputs": [],
   "source": [
    "user_spec6.to_csv(\"user_spec6.csv\",index=False)"
   ]
  },
  {
   "cell_type": "code",
   "execution_count": 120,
   "id": "ec604973",
   "metadata": {},
   "outputs": [],
   "source": [
    "loan_result3 = pd.merge(loan_result,loan_result_yn_df.rename(columns={'is_applied':'is_applied_tot'}),how='left',on='application_id')\n",
    "loan_result4 = pd.merge(loan_result3, user_spec6[[\"user_id\",\"application_id\"]], how=\"left\", on=\"application_id\")"
   ]
  },
  {
   "cell_type": "code",
   "execution_count": 121,
   "id": "c3f590d5",
   "metadata": {},
   "outputs": [],
   "source": [
    "loan_result4.to_csv('loan_result4.csv',index=False)"
   ]
  },
  {
   "cell_type": "markdown",
   "id": "216d2d9b",
   "metadata": {},
   "source": [
    "### Validation Set 분리"
   ]
  },
  {
   "cell_type": "code",
   "execution_count": 122,
   "id": "8a2df3b7",
   "metadata": {},
   "outputs": [],
   "source": [
    "loan_result_df = loan_result4[loan_result4[\"is_applied\"].notna()]\n",
    "loan_result_test = loan_result4[loan_result4[\"is_applied\"].isna()]"
   ]
  },
  {
   "cell_type": "code",
   "execution_count": 123,
   "id": "8498645d",
   "metadata": {},
   "outputs": [],
   "source": [
    "user_spec6_valid = user_spec6[(user_spec6[\"insert_time\"] >= '2022-05-10') & (user_spec6[\"insert_time\"] < '2022-06-01')]\n",
    "user_spec6_train = user_spec6[user_spec6[\"insert_time\"] < '2022-05-10']\n",
    "user_spec6_test = user_spec6[user_spec6[\"insert_time\"] >= '2022-06-01']"
   ]
  },
  {
   "cell_type": "code",
   "execution_count": 124,
   "id": "3d75c485",
   "metadata": {},
   "outputs": [],
   "source": [
    "user_spec6_valid.to_csv(\"user_spec6_valid.csv\",index=False)\n",
    "user_spec6_train.to_csv(\"user_spec6_train.csv\",index=False)\n",
    "user_spec6_test.to_csv(\"user_spec6_test.csv\",index=False)\n",
    "loan_result_df.to_csv(\"loan_result_df.csv\",index=False)\n",
    "loan_result_test.to_csv(\"loan_result_test.csv\",index=False)"
   ]
  },
  {
   "cell_type": "code",
   "execution_count": 125,
   "id": "c79d2cb3",
   "metadata": {},
   "outputs": [
    {
     "name": "stdout",
     "output_type": "stream",
     "text": [
      "(541881, 27)\n",
      "(186981, 27)\n"
     ]
    }
   ],
   "source": [
    "print(user_spec6_train.shape)\n",
    "print(user_spec6_valid.shape)"
   ]
  },
  {
   "cell_type": "code",
   "execution_count": 126,
   "id": "d12cca28",
   "metadata": {},
   "outputs": [],
   "source": [
    "y_train = user_spec6_train[\"is_applied\"].copy()\n",
    "x_train = user_spec6_train.copy()\n",
    "\n",
    "y_valid = user_spec6_valid[\"is_applied\"].copy()\n",
    "x_valid = user_spec6_valid.copy()"
   ]
  },
  {
   "cell_type": "markdown",
   "id": "f6552547",
   "metadata": {},
   "source": [
    "# 모델링 1"
   ]
  },
  {
   "cell_type": "markdown",
   "id": "a7742583",
   "metadata": {},
   "source": [
    "### Catboost"
   ]
  },
  {
   "cell_type": "code",
   "execution_count": 127,
   "id": "949f2aaf",
   "metadata": {},
   "outputs": [
    {
     "data": {
      "text/plain": [
       "Index(['application_id', 'user_id', 'insert_time', 'income_type',\n",
       "       'employment_type', 'houseown_type', 'purpose', 'cat_age', 'cat_gender',\n",
       "       'log_yearly_income', 'log_desired_amount', 'cat_aft_enter_time',\n",
       "       'cat_bef_enter_time', 'rehabilitation', 'existing_loan_cnt_2',\n",
       "       'existing_loan_amt_2', 'log_existing_loan_amt_2', 'max_loan_rate',\n",
       "       'min_loan_rate', 'mean_loan_rate', 'count_loan_rate',\n",
       "       'max_log_loan_limit', 'min_log_loan_limit', 'mean_log_loan_limit',\n",
       "       'credit_score_last', 'is_applied', 'time_rank'],\n",
       "      dtype='object')"
      ]
     },
     "execution_count": 127,
     "metadata": {},
     "output_type": "execute_result"
    }
   ],
   "source": [
    "x_train.columns"
   ]
  },
  {
   "cell_type": "code",
   "execution_count": 128,
   "id": "8ffa536e",
   "metadata": {},
   "outputs": [
    {
     "name": "stdout",
     "output_type": "stream",
     "text": [
      "<class 'pandas.core.frame.DataFrame'>\n",
      "Int64Index: 541881 entries, 153 to 1394069\n",
      "Data columns (total 27 columns):\n",
      " #   Column                   Non-Null Count   Dtype         \n",
      "---  ------                   --------------   -----         \n",
      " 0   application_id           541881 non-null  int64         \n",
      " 1   user_id                  541881 non-null  int64         \n",
      " 2   insert_time              541881 non-null  datetime64[ns]\n",
      " 3   income_type              541881 non-null  object        \n",
      " 4   employment_type          541881 non-null  object        \n",
      " 5   houseown_type            541881 non-null  object        \n",
      " 6   purpose                  541881 non-null  object        \n",
      " 7   cat_age                  541881 non-null  object        \n",
      " 8   cat_gender               541881 non-null  object        \n",
      " 9   log_yearly_income        541881 non-null  float64       \n",
      " 10  log_desired_amount       541881 non-null  float64       \n",
      " 11  cat_aft_enter_time       541881 non-null  object        \n",
      " 12  cat_bef_enter_time       541881 non-null  object        \n",
      " 13  rehabilitation           541881 non-null  object        \n",
      " 14  existing_loan_cnt_2      541881 non-null  float64       \n",
      " 15  existing_loan_amt_2      541881 non-null  float64       \n",
      " 16  log_existing_loan_amt_2  541881 non-null  float64       \n",
      " 17  max_loan_rate            541881 non-null  float64       \n",
      " 18  min_loan_rate            541881 non-null  float64       \n",
      " 19  mean_loan_rate           541881 non-null  float64       \n",
      " 20  count_loan_rate          541881 non-null  float64       \n",
      " 21  max_log_loan_limit       541881 non-null  float64       \n",
      " 22  min_log_loan_limit       541881 non-null  float64       \n",
      " 23  mean_log_loan_limit      541881 non-null  float64       \n",
      " 24  credit_score_last        541881 non-null  float64       \n",
      " 25  is_applied               541881 non-null  float64       \n",
      " 26  time_rank                541881 non-null  float64       \n",
      "dtypes: datetime64[ns](1), float64(15), int64(2), object(9)\n",
      "memory usage: 115.8+ MB\n"
     ]
    }
   ],
   "source": [
    "x_train.info()"
   ]
  },
  {
   "cell_type": "code",
   "execution_count": 129,
   "id": "7ce82e73",
   "metadata": {},
   "outputs": [
    {
     "data": {
      "text/plain": [
       "array([1.02160741, 0.97928767])"
      ]
     },
     "execution_count": 129,
     "metadata": {},
     "output_type": "execute_result"
    }
   ],
   "source": [
    "weigt_m1 = compute_class_weight(class_weight = \"balanced\" , \n",
    "                     classes=[0,1], \n",
    "                     y = y_train)\n",
    "weigt_m1"
   ]
  },
  {
   "cell_type": "code",
   "execution_count": 130,
   "id": "7d538b26",
   "metadata": {},
   "outputs": [],
   "source": [
    "#fbeta-score 함수 생성\n",
    "def my_fbeta_score(precision, recall, beta=1.5):\n",
    "    return (1.0 + (beta ** 2)) * (precision * recall) / (((beta ** 2) * precision) + recall )"
   ]
  },
  {
   "cell_type": "code",
   "execution_count": 144,
   "id": "7089ab13",
   "metadata": {},
   "outputs": [
    {
     "name": "stderr",
     "output_type": "stream",
     "text": [
      "Custom logger is already specified. Specify more than one logger at same time is not thread safe."
     ]
    },
    {
     "data": {
      "text/plain": [
       "<catboost.core.CatBoostClassifier at 0x1b3b1db2d30>"
      ]
     },
     "execution_count": 144,
     "metadata": {},
     "output_type": "execute_result"
    }
   ],
   "source": [
    "cat_01_BO_tuned = CatBoostClassifier(iterations = 2000, depth = 8,eval_metric = 'Logloss',cat_features=np.where(x_train.drop([\"application_id\",\"user_id\",\"insert_time\",\"is_applied\",\"existing_loan_amt_2\"],axis=1).dtypes != np.float)[0], \n",
    "                                   verbose = False, class_weights={0:weigt_m1[0],1:weigt_m1[1]},early_stopping_rounds = 200)\n",
    "cat_01_BO_tuned.fit(x_train.drop([\"application_id\",\"user_id\",\"insert_time\",\"is_applied\",\"existing_loan_amt_2\"],axis=1),y_train, eval_set = evals)"
   ]
  },
  {
   "cell_type": "code",
   "execution_count": 145,
   "id": "3918ad6d",
   "metadata": {},
   "outputs": [],
   "source": [
    "pred_cat_01_BO_valid = cat_01_BO_tuned.predict(x_valid.drop([\"application_id\",\"user_id\",\"insert_time\",\"is_applied\",\"existing_loan_amt_2\"],axis=1))\n",
    "pred_cat_01_BO_train = cat_01_BO_tuned.predict(x_train.drop([\"application_id\",\"user_id\",\"insert_time\",\"is_applied\",\"existing_loan_amt_2\"],axis=1))"
   ]
  },
  {
   "cell_type": "code",
   "execution_count": 147,
   "id": "5bd20835",
   "metadata": {},
   "outputs": [
    {
     "name": "stdout",
     "output_type": "stream",
     "text": [
      "Train Set 결과\n",
      "accuracy_score :  0.6905095399174358\n",
      "recall_score :  0.7093623834807407\n",
      "precision_score :  0.6921384135761542\n",
      "f1_score :  0.70064456015151\n",
      "f1.5_score :  0.7039720903256743\n"
     ]
    }
   ],
   "source": [
    "print(\"Train Set 결과\")\n",
    "print(\"accuracy_score : \",accuracy_score(y_train, pred_cat_01_BO_train))\n",
    "print(\"recall_score : \",recall_score(y_train, pred_cat_01_BO_train))\n",
    "print(\"precision_score : \",precision_score(y_train, pred_cat_01_BO_train))\n",
    "print(\"f1_score : \",f1_score(y_train, pred_cat_01_BO_train))\n",
    "f1_5 = my_fbeta_score(precision_score(y_train, pred_cat_01_BO_train), recall_score(y_train, pred_cat_01_BO_train))\n",
    "print(\"f1.5_score : \",f1_5)"
   ]
  },
  {
   "cell_type": "code",
   "execution_count": 148,
   "id": "bd8b1541",
   "metadata": {},
   "outputs": [
    {
     "name": "stdout",
     "output_type": "stream",
     "text": [
      "Valid Set 결과\n",
      "accuracy_score :  0.659425289200507\n",
      "recall_score :  0.7020479000347102\n",
      "precision_score :  0.677892902286743\n",
      "f1_score :  0.6897589921223016\n",
      "f1.5_score :  0.6944342365496629\n"
     ]
    }
   ],
   "source": [
    "print(\"Valid Set 결과\")\n",
    "print(\"accuracy_score : \",accuracy_score(y_valid, pred_cat_01_BO_valid))\n",
    "print(\"recall_score : \",recall_score(y_valid, pred_cat_01_BO_valid))\n",
    "print(\"precision_score : \",precision_score(y_valid, pred_cat_01_BO_valid))\n",
    "print(\"f1_score : \",f1_score(y_valid, pred_cat_01_BO_valid))\n",
    "f1_5 = my_fbeta_score(precision_score(y_valid, pred_cat_01_BO_valid), recall_score(y_valid, pred_cat_01_BO_valid))\n",
    "print(\"f1.5_score : \",f1_5)"
   ]
  },
  {
   "cell_type": "markdown",
   "id": "e88fc6ce",
   "metadata": {},
   "source": [
    "변수 중요도"
   ]
  },
  {
   "cell_type": "code",
   "execution_count": 506,
   "id": "cfefb4c5",
   "metadata": {},
   "outputs": [
    {
     "data": {
      "image/png": "[encoded data removed]",
      "text/plain": [
       "<Figure size 842.4x595.44 with 1 Axes>"
      ]
     },
     "metadata": {},
     "output_type": "display_data"
    }
   ],
   "source": [
    "sns.set(rc={'figure.figsize':(11.7,8.27)})\n",
    "cat_feature_imp = pd.DataFrame([cat_01_BO_tuned.feature_names_ , cat_01_BO_tuned.feature_importances_]).T\n",
    "cat_feature_imp.columns = [\"feature\",\"varimp\"]\n",
    "cat_feature_imp = cat_feature_imp.sort_values(by=\"varimp\", ascending = False)\n",
    "sns.barplot(y=\"feature\", x=\"varimp\",data = cat_feature_imp,)\n",
    "plt.show()"
   ]
  },
  {
   "cell_type": "code",
   "execution_count": 519,
   "id": "7e69bcc9",
   "metadata": {},
   "outputs": [],
   "source": [
    "#첫 조회일수록 신청을 많이해"
   ]
  },
  {
   "cell_type": "code",
   "execution_count": 518,
   "id": "93692112",
   "metadata": {},
   "outputs": [
    {
     "name": "stdout",
     "output_type": "stream",
     "text": [
      "1 : 0.5109825488655573\n",
      "2 : 0.5671068522441545\n",
      "3 : 0.5579266767809806\n",
      "4 : 0.5401594114040466\n",
      "5 : 0.5108175307084276\n",
      "6 : 0.4889536667689475\n",
      "7 : 0.4716916780354707\n",
      "8 : 0.4575984322109389\n",
      "9 : 0.44118653736451796\n",
      "10 : 0.4200939234381671\n",
      "11 : 0.41007319623562216\n",
      "12 : 0.39449348465741907\n",
      "13 : 0.39056984367120523\n",
      "14 : 0.3765376537653765\n",
      "15 : 0.37224746592100666\n",
      "16 : 0.37124289195775795\n",
      "17 : 0.3682225365393682\n",
      "18 : 0.3533916849015317\n",
      "19 : 0.34308841843088417\n",
      "20 : 0.35724533715925394\n"
     ]
    }
   ],
   "source": [
    "for i in range(20):\n",
    "    print(i+1, \":\", x_train.loc[x_train[\"time_rank\"] == i+1,\"is_applied\"].mean())"
   ]
  },
  {
   "cell_type": "code",
   "execution_count": null,
   "id": "9d18fab4",
   "metadata": {},
   "outputs": [],
   "source": []
  },
  {
   "cell_type": "code",
   "execution_count": null,
   "id": "c605c23d",
   "metadata": {},
   "outputs": [],
   "source": []
  },
  {
   "cell_type": "markdown",
   "id": "26deb6b5",
   "metadata": {},
   "source": [
    "f1.5-score 최대인 구분값을 기준으로 예측"
   ]
  },
  {
   "cell_type": "code",
   "execution_count": 151,
   "id": "aec7b8a9",
   "metadata": {},
   "outputs": [],
   "source": [
    "proba_cat_01_BO_valid = cat_01_BO_tuned.predict_proba(x_valid.drop([\"application_id\",\"user_id\",\"insert_time\",\"is_applied\",\"existing_loan_amt_2\"],axis=1))\n",
    "proba_cat_01_BO_test = cat_01_BO_tuned.predict_proba(user_spec6_test.drop([\"application_id\",\"user_id\",\"insert_time\",\"is_applied\",\"existing_loan_amt_2\"],axis=1))"
   ]
  },
  {
   "cell_type": "code",
   "execution_count": 152,
   "id": "682e43a5",
   "metadata": {},
   "outputs": [],
   "source": [
    "mypredictions_045 = []\n",
    "mypredictions_040 = []\n",
    "mypredictions_035 = []\n",
    "mypredictions_030 = []\n",
    "mypredictions_025 = []\n",
    "mypredictions_020 = []\n",
    "mypredictions_015 = []\n",
    "mypredictions_010 = []\n",
    "\n",
    "for i in proba_cat_01_BO_valid:\n",
    "    if i[1] >= 0.45:\n",
    "        mypredictions_045.append(1)\n",
    "    else:\n",
    "        mypredictions_045.append(0)\n",
    "    \n",
    "    if i[1] >= 0.4:\n",
    "        mypredictions_040.append(1)\n",
    "    else:\n",
    "        mypredictions_040.append(0)\n",
    "        \n",
    "    if i[1] >= 0.35:\n",
    "        mypredictions_035.append(1)\n",
    "    else:\n",
    "        mypredictions_035.append(0)\n",
    "        \n",
    "    if i[1] >= 0.3:\n",
    "        mypredictions_030.append(1)\n",
    "    else:\n",
    "        mypredictions_030.append(0)\n",
    "        \n",
    "    if i[1] >= 0.25:\n",
    "        mypredictions_025.append(1)\n",
    "    else:\n",
    "        mypredictions_025.append(0)\n",
    "        \n",
    "    if i[1] >= 0.2:\n",
    "        mypredictions_020.append(1)\n",
    "    else:\n",
    "        mypredictions_020.append(0)\n",
    "        \n",
    "    if i[1] >= 0.15:\n",
    "        mypredictions_015.append(1)\n",
    "    else:\n",
    "        mypredictions_015.append(0)\n",
    "        \n",
    "    if i[1] >= 0.1:\n",
    "        mypredictions_010.append(1)\n",
    "    else:\n",
    "        mypredictions_010.append(0)\n",
    "\n",
    "myprediction_lst = [pred_cat_01_BO_valid, mypredictions_045, mypredictions_040, mypredictions_035, mypredictions_030,\n",
    "                    mypredictions_025, mypredictions_020, mypredictions_015, mypredictions_010]"
   ]
  },
  {
   "cell_type": "code",
   "execution_count": 153,
   "id": "6fe65941",
   "metadata": {
    "scrolled": true
   },
   "outputs": [
    {
     "name": "stdout",
     "output_type": "stream",
     "text": [
      "기준값 :  0.5\n",
      "accuracy_score :  0.659425289200507\n",
      "recall_score :  0.7020479000347102\n",
      "precision_score :  0.677892902286743\n",
      "f1_score :  0.6897589921223016\n",
      "f1.5_score :  0.6944342365496629\n",
      "\n",
      "\n",
      "기준값 :  0.45\n",
      "accuracy_score :  0.6602863392537209\n",
      "recall_score :  0.7856101552040462\n",
      "precision_score :  0.654042718318348\n",
      "f1_score :  0.7138145741910487\n",
      "f1.5_score :  0.7398187200922994\n",
      "\n",
      "\n",
      "기준값 :  0.4\n",
      "accuracy_score :  0.6531840133489499\n",
      "recall_score :  0.8540586106014777\n",
      "precision_score :  0.6320614160630014\n",
      "f1_score :  0.7264789991817315\n",
      "f1.5_score :  0.7707623790119098\n",
      "\n",
      "\n",
      "기준값 :  0.35\n",
      "accuracy_score :  0.6388617025259251\n",
      "recall_score :  0.9064312986562205\n",
      "precision_score :  0.6114080446314494\n",
      "f1_score :  0.7302477569249699\n",
      "f1.5_score :  0.7892504644701122\n",
      "\n",
      "\n",
      "기준값 :  0.3\n",
      "accuracy_score :  0.6217957974339638\n",
      "recall_score :  0.9440372886398571\n",
      "precision_score :  0.5939625372817691\n",
      "f1_score :  0.7291584482633158\n",
      "f1.5_score :  0.7991171260878522\n",
      "\n",
      "\n",
      "기준값 :  0.25\n",
      "accuracy_score :  0.6031201031120809\n",
      "recall_score :  0.9683641592700947\n",
      "precision_score :  0.5789320779775174\n",
      "f1_score :  0.7246409077584703\n",
      "f1.5_score :  0.802305819029675\n",
      "\n",
      "\n",
      "기준값 :  0.19999999999999996\n",
      "accuracy_score :  0.5865890117177681\n",
      "recall_score :  0.9838647295086032\n",
      "precision_score :  0.5672886133999692\n",
      "f1_score :  0.7196390488763801\n",
      "f1.5_score :  0.802534350442024\n",
      "\n",
      "\n",
      "기준값 :  0.14999999999999997\n",
      "accuracy_score :  0.5720099903198721\n",
      "recall_score :  0.9925521892200129\n",
      "precision_score :  0.5580093555383338\n",
      "f1_score :  0.7143907435562504\n",
      "f1.5_score :  0.8006961440683442\n",
      "\n",
      "\n",
      "기준값 :  0.09999999999999998\n",
      "accuracy_score :  0.5607040287515844\n",
      "recall_score :  0.9974909505628006\n",
      "precision_score :  0.5512278798042407\n",
      "f1_score :  0.7100641007539603\n",
      "f1.5_score :  0.7985667442901543\n",
      "\n",
      "\n"
     ]
    }
   ],
   "source": [
    "max_i = 0\n",
    "max_f1 = 0\n",
    "for i in range(9):\n",
    "    print(\"기준값 : \", 0.5-i*0.05)\n",
    "    print(\"accuracy_score : \",accuracy_score(y_valid, myprediction_lst[i]))\n",
    "    print(\"recall_score : \",recall_score(y_valid, myprediction_lst[i]))\n",
    "    print(\"precision_score : \",precision_score(y_valid, myprediction_lst[i]))\n",
    "    print(\"f1_score : \",f1_score(y_valid, myprediction_lst[i]))\n",
    "    f1_5 = my_fbeta_score(precision_score(y_valid, myprediction_lst[i]), recall_score(y_valid, myprediction_lst[i]))\n",
    "    print(\"f1.5_score : \",f1_5)\n",
    "    print(\"\\n\")\n",
    "    if f1_5 >= max_f1:\n",
    "        max_f1 = f1_5\n",
    "        max_i = 0.5-i*0.05"
   ]
  },
  {
   "cell_type": "code",
   "execution_count": 154,
   "id": "c7543dbf",
   "metadata": {},
   "outputs": [
    {
     "data": {
      "application/vnd.jupyter.widget-view+json": {
       "model_id": "b2ab3fc89026461b956cf579148ac6f3",
       "version_major": 2,
       "version_minor": 0
      },
      "text/plain": [
       "  0%|          | 0/186981 [00:00<?, ?it/s]"
      ]
     },
     "metadata": {},
     "output_type": "display_data"
    },
    {
     "data": {
      "application/vnd.jupyter.widget-view+json": {
       "model_id": "ffed4f8e550e4872a3435f110aa7e4ce",
       "version_major": 2,
       "version_minor": 0
      },
      "text/plain": [
       "  0%|          | 0/239865 [00:00<?, ?it/s]"
      ]
     },
     "metadata": {},
     "output_type": "display_data"
    }
   ],
   "source": [
    "prediction1_valid = []\n",
    "for i in tqdm_notebook(proba_cat_01_BO_valid):\n",
    "    if i[1] >= max_i:\n",
    "        prediction1_valid.append(1)\n",
    "    else:\n",
    "        prediction1_valid.append(0)\n",
    "x_valid[\"model1_pred\"] = prediction1_valid            \n",
    "\n",
    "\n",
    "\n",
    "prediction1_test = []\n",
    "for i in tqdm_notebook(proba_cat_01_BO_test):\n",
    "    if i[1] >= max_i:\n",
    "        prediction1_test.append(1)\n",
    "    else:\n",
    "        prediction1_test.append(0)\n",
    "user_spec6_test[\"model1_pred\"] = prediction1_test   "
   ]
  },
  {
   "cell_type": "markdown",
   "id": "4c1ae6f9",
   "metadata": {},
   "source": [
    "모델 1을 바탕으로 1로 예측된 application_id에 대해서 모델 2 진행"
   ]
  },
  {
   "cell_type": "code",
   "execution_count": 155,
   "id": "0c5580a5",
   "metadata": {
    "scrolled": true
   },
   "outputs": [],
   "source": [
    "x_valid2 = x_valid[x_valid[\"model1_pred\"] == 1].copy()"
   ]
  },
  {
   "cell_type": "code",
   "execution_count": 163,
   "id": "7f44e699",
   "metadata": {},
   "outputs": [],
   "source": [
    "model1_failed_app = user_spec6_test.loc[user_spec6_test[\"model1_pred\"] == 0,\"application_id\"]\n",
    "loan_result_test.loc[loan_result_test[\"application_id\"].isin(model1_failed_app),\"is_applied\"] = 0"
   ]
  },
  {
   "cell_type": "markdown",
   "id": "5d745de2",
   "metadata": {},
   "source": [
    "## 모델링2"
   ]
  },
  {
   "cell_type": "code",
   "execution_count": 304,
   "id": "5a02a5ae",
   "metadata": {},
   "outputs": [],
   "source": [
    "applied_pred_appid_valid_lst = x_valid2[\"application_id\"].unique()\n",
    "applied_pred_appid_train_lst = x_train.loc[x_train[\"is_applied\"]==1,\"application_id\"].unique()"
   ]
  },
  {
   "cell_type": "code",
   "execution_count": 409,
   "id": "d0c534b7",
   "metadata": {},
   "outputs": [],
   "source": [
    "loan_result_model2_valid = loan_result_df[loan_result_df[\"application_id\"].isin(applied_pred_appid_valid_lst)]\n",
    "#loan_result_model2_valid.to_csv(\"loan_result_model2_valid.csv\",index=False)\n",
    "loan_result_model2_train = loan_result_df[loan_result_df[\"application_id\"].isin(applied_pred_appid_train_lst)]\n",
    "#loan_result_model2_train.to_csv(\"loan_result_model2_train.csv\",index=False)"
   ]
  },
  {
   "cell_type": "code",
   "execution_count": 410,
   "id": "dc1a076e",
   "metadata": {},
   "outputs": [],
   "source": [
    "#model2 test_set 생성\n",
    "loan_result_model2_test = loan_result_test[loan_result_test[\"is_applied\"].isna()]"
   ]
  },
  {
   "cell_type": "markdown",
   "id": "7fca27cc",
   "metadata": {},
   "source": [
    "### bank_id , product_id clustering"
   ]
  },
  {
   "cell_type": "markdown",
   "id": "fb826280",
   "metadata": {},
   "source": [
    "bank_id 기준\n",
    "\n",
    "1금융권, 2금융권, 3금융권\n",
    "\n",
    "가명화되지 않은 데이터에서는 알 수 있는 정보, 현재 가명화되어 있기 때문에 금리와 한도를 바탕으로 군집화한다."
   ]
  },
  {
   "cell_type": "code",
   "execution_count": 411,
   "id": "838f691c",
   "metadata": {},
   "outputs": [],
   "source": [
    "bank_grp_loan = loan_result4.groupby(\"bank_id\",as_index=False).mean()[[\"bank_id\",\"loan_rate\",\"loan_limit\",\"log_loan_limit\"]]\n",
    "\n",
    "# StandardScaler\n",
    "sdscaler = StandardScaler()\n",
    "bank_grp_loan[[\"loan_rate\",\"loan_limit\",\"log_loan_limit\"]] = sdscaler.fit_transform(bank_grp_loan[[\"loan_rate\",\"loan_limit\",\"log_loan_limit\"]])"
   ]
  },
  {
   "cell_type": "code",
   "execution_count": 412,
   "id": "1b1bcc3e",
   "metadata": {},
   "outputs": [],
   "source": [
    "kmeans1 = KMeans(n_clusters=3,random_state=42)\n",
    "kmeans1.fit(bank_grp_loan[[\"loan_rate\",\"log_loan_limit\"]])\n",
    "bank_labels = kmeans1.labels_"
   ]
  },
  {
   "cell_type": "code",
   "execution_count": 413,
   "id": "c35513ea",
   "metadata": {},
   "outputs": [
    {
     "data": {
      "text/html": [
       "<div>\n",
       "<style scoped>\n",
       "    .dataframe tbody tr th:only-of-type {\n",
       "        vertical-align: middle;\n",
       "    }\n",
       "\n",
       "    .dataframe tbody tr th {\n",
       "        vertical-align: top;\n",
       "    }\n",
       "\n",
       "    .dataframe thead th {\n",
       "        text-align: right;\n",
       "    }\n",
       "</style>\n",
       "<table border=\"1\" class=\"dataframe\">\n",
       "  <thead>\n",
       "    <tr style=\"text-align: right;\">\n",
       "      <th></th>\n",
       "      <th>bank_id</th>\n",
       "      <th>loan_rate</th>\n",
       "      <th>loan_limit</th>\n",
       "      <th>log_loan_limit</th>\n",
       "      <th>bank_label</th>\n",
       "    </tr>\n",
       "  </thead>\n",
       "  <tbody>\n",
       "    <tr>\n",
       "      <th>0</th>\n",
       "      <td>1</td>\n",
       "      <td>-0.064256</td>\n",
       "      <td>-0.003137</td>\n",
       "      <td>-0.327713</td>\n",
       "      <td>2</td>\n",
       "    </tr>\n",
       "    <tr>\n",
       "      <th>1</th>\n",
       "      <td>2</td>\n",
       "      <td>0.545474</td>\n",
       "      <td>0.861612</td>\n",
       "      <td>1.237194</td>\n",
       "      <td>1</td>\n",
       "    </tr>\n",
       "    <tr>\n",
       "      <th>2</th>\n",
       "      <td>3</td>\n",
       "      <td>1.344608</td>\n",
       "      <td>-0.665900</td>\n",
       "      <td>-0.710461</td>\n",
       "      <td>2</td>\n",
       "    </tr>\n",
       "    <tr>\n",
       "      <th>3</th>\n",
       "      <td>4</td>\n",
       "      <td>-1.361191</td>\n",
       "      <td>0.581790</td>\n",
       "      <td>0.269521</td>\n",
       "      <td>3</td>\n",
       "    </tr>\n",
       "    <tr>\n",
       "      <th>4</th>\n",
       "      <td>5</td>\n",
       "      <td>0.038516</td>\n",
       "      <td>0.689296</td>\n",
       "      <td>0.948644</td>\n",
       "      <td>1</td>\n",
       "    </tr>\n",
       "  </tbody>\n",
       "</table>\n",
       "</div>"
      ],
      "text/plain": [
       "   bank_id  loan_rate  loan_limit  log_loan_limit bank_label\n",
       "0        1  -0.064256   -0.003137       -0.327713          2\n",
       "1        2   0.545474    0.861612        1.237194          1\n",
       "2        3   1.344608   -0.665900       -0.710461          2\n",
       "3        4  -1.361191    0.581790        0.269521          3\n",
       "4        5   0.038516    0.689296        0.948644          1"
      ]
     },
     "execution_count": 413,
     "metadata": {},
     "output_type": "execute_result"
    }
   ],
   "source": [
    "bank_grp_loan[\"bank_label\"] = bank_labels+1\n",
    "bank_grp_loan[\"bank_label\"] = bank_grp_loan[\"bank_label\"].astype(object)\n",
    "bank_grp_loan.head()"
   ]
  },
  {
   "cell_type": "code",
   "execution_count": 414,
   "id": "0680de72",
   "metadata": {},
   "outputs": [
    {
     "data": {
      "text/plain": [
       "Text(0, 0.5, 'mean_log_loan_limit')"
      ]
     },
     "execution_count": 414,
     "metadata": {},
     "output_type": "execute_result"
    },
    {
     "data": {
      "image/png": "[encoded data removed]",
      "text/plain": [
       "<Figure size 842.4x595.44 with 1 Axes>"
      ]
     },
     "metadata": {},
     "output_type": "display_data"
    }
   ],
   "source": [
    "color={1:'red', 2:'blue', 3:'green'}\n",
    "plt.scatter(bank_grp_loan[\"loan_rate\"],bank_grp_loan[\"log_loan_limit\"], c = [color[i] for i in bank_grp_loan[\"bank_label\"]])\n",
    "\n",
    "plt.xlabel(\"mean_loan_rate\")\n",
    "plt.ylabel(\"mean_log_loan_limit\")"
   ]
  },
  {
   "cell_type": "code",
   "execution_count": 415,
   "id": "589a880b",
   "metadata": {},
   "outputs": [
    {
     "name": "stdout",
     "output_type": "stream",
     "text": [
      "<class 'pandas.core.frame.DataFrame'>\n",
      "Int64Index: 3500253 entries, 13276 to 13489704\n",
      "Data columns (total 10 columns):\n",
      " #   Column                 Dtype  \n",
      "---  ------                 -----  \n",
      " 0   application_id         int64  \n",
      " 1   loanapply_insert_time  object \n",
      " 2   bank_id                int64  \n",
      " 3   product_id             int64  \n",
      " 4   loan_limit             float64\n",
      " 5   loan_rate              float64\n",
      " 6   is_applied             float64\n",
      " 7   log_loan_limit         float64\n",
      " 8   is_applied_tot         float64\n",
      " 9   user_id                int64  \n",
      "dtypes: float64(5), int64(4), object(1)\n",
      "memory usage: 293.8+ MB\n"
     ]
    }
   ],
   "source": [
    "loan_result_model2_train.info()"
   ]
  },
  {
   "cell_type": "code",
   "execution_count": 416,
   "id": "a6495ea8",
   "metadata": {},
   "outputs": [],
   "source": [
    "#bank_id cluster 변수 train 추가\n",
    "loan_result_model2_train = pd.merge(loan_result_model2_train, bank_grp_loan[['bank_id','bank_label']],how='left',on='bank_id')\n",
    "#bank_id cluster 변수 valid 추가\n",
    "loan_result_model2_valid = pd.merge(loan_result_model2_valid, bank_grp_loan[['bank_id','bank_label']],how='left',on='bank_id')\n",
    "\n",
    "\n",
    "#bank_id cluster 변수 test 추가\n",
    "loan_result_model2_test = pd.merge(loan_result_model2_test, bank_grp_loan[['bank_id','bank_label']],how='left',on='bank_id')"
   ]
  },
  {
   "cell_type": "code",
   "execution_count": 417,
   "id": "02f3386f",
   "metadata": {},
   "outputs": [
    {
     "name": "stdout",
     "output_type": "stream",
     "text": [
      "train NA 개수 :  0\n",
      "valid NA 개수 :  0\n"
     ]
    }
   ],
   "source": [
    "print(\"train NA 개수 : \",loan_result_model2_train.isna().sum().sum())\n",
    "print(\"valid NA 개수 : \",loan_result_model2_valid.isna().sum().sum())"
   ]
  },
  {
   "cell_type": "code",
   "execution_count": 418,
   "id": "d2a0b83e",
   "metadata": {
    "scrolled": true
   },
   "outputs": [],
   "source": [
    "#train preprocess"
   ]
  },
  {
   "cell_type": "code",
   "execution_count": 419,
   "id": "ee6cd751",
   "metadata": {},
   "outputs": [],
   "source": [
    "#같은 application_id 내에서 loan_limit 과 loan_rate의 순위\n",
    "loan_rate_rank = loan_result_model2_train.groupby(\"application_id\").rank(ascending=True)[\"loan_rate\"]\n",
    "loan_limit_rank = loan_result_model2_train.groupby(\"application_id\").rank(ascending=False)[\"loan_limit\"]"
   ]
  },
  {
   "cell_type": "code",
   "execution_count": 420,
   "id": "5cc2f850",
   "metadata": {},
   "outputs": [],
   "source": [
    "loan_result_model2_train.drop([\"is_applied_tot\", \"loanapply_insert_time\"], axis = 1,inplace = True)"
   ]
  },
  {
   "cell_type": "code",
   "execution_count": 421,
   "id": "5e33546c",
   "metadata": {},
   "outputs": [],
   "source": [
    "loan_result_model2_train[\"loan_rate_rank\"] = loan_rate_rank\n",
    "loan_result_model2_train[\"loan_limit_rank\"] = loan_limit_rank"
   ]
  },
  {
   "cell_type": "code",
   "execution_count": 422,
   "id": "b457ea95",
   "metadata": {},
   "outputs": [],
   "source": [
    "#loan_result_model2_train[\"bank_id\"] = loan_result_model2_train[\"bank_id\"].astype(object)\n",
    "#loan_result_model2_train[\"product_id\"] = loan_result_model2_train[\"product_id\"].astype(object)"
   ]
  },
  {
   "cell_type": "code",
   "execution_count": 423,
   "id": "2ee22638",
   "metadata": {},
   "outputs": [],
   "source": [
    "loan_result_model2_train_2 = pd.merge(loan_result_model2_train, user_spec6[[\"application_id\",\"log_desired_amount\",\"credit_score_last\",\"time_rank\"]],how='left',on='application_id')"
   ]
  },
  {
   "cell_type": "code",
   "execution_count": 424,
   "id": "9096760c",
   "metadata": {},
   "outputs": [],
   "source": [
    "#valid preprocess"
   ]
  },
  {
   "cell_type": "code",
   "execution_count": 425,
   "id": "6e3c7247",
   "metadata": {},
   "outputs": [],
   "source": [
    "#같은 application_id 내에서 loan_limit 과 loan_rate의 순위\n",
    "loan_rate_rank = loan_result_model2_valid.groupby(\"application_id\").rank(ascending=True)[\"loan_rate\"]\n",
    "loan_limit_rank = loan_result_model2_valid.groupby(\"application_id\").rank(ascending=False)[\"loan_limit\"]"
   ]
  },
  {
   "cell_type": "code",
   "execution_count": 426,
   "id": "8e2d59c9",
   "metadata": {},
   "outputs": [],
   "source": [
    "loan_result_model2_valid.drop([\"is_applied_tot\", \"loanapply_insert_time\"], axis = 1,inplace = True)"
   ]
  },
  {
   "cell_type": "code",
   "execution_count": 427,
   "id": "f9c9d74e",
   "metadata": {},
   "outputs": [],
   "source": [
    "loan_result_model2_valid[\"loan_rate_rank\"] = loan_rate_rank\n",
    "loan_result_model2_valid[\"loan_limit_rank\"] = loan_limit_rank"
   ]
  },
  {
   "cell_type": "code",
   "execution_count": 428,
   "id": "3f43fb1f",
   "metadata": {},
   "outputs": [],
   "source": [
    "loan_result_model2_valid_2 = pd.merge(loan_result_model2_valid, user_spec6[[\"application_id\",\"log_desired_amount\",\"credit_score_last\",\"time_rank\"]],how='left',on='application_id')"
   ]
  },
  {
   "cell_type": "code",
   "execution_count": 429,
   "id": "eac7a885",
   "metadata": {},
   "outputs": [],
   "source": [
    "#test preprocess"
   ]
  },
  {
   "cell_type": "code",
   "execution_count": 430,
   "id": "b3a0309a",
   "metadata": {},
   "outputs": [],
   "source": [
    "#같은 application_id 내에서 loan_limit 과 loan_rate의 순위\n",
    "loan_rate_rank = loan_result_model2_test.groupby(\"application_id\").rank(ascending=True)[\"loan_rate\"]\n",
    "loan_limit_rank = loan_result_model2_test.groupby(\"application_id\").rank(ascending=False)[\"loan_limit\"]"
   ]
  },
  {
   "cell_type": "code",
   "execution_count": 431,
   "id": "f803c22b",
   "metadata": {},
   "outputs": [],
   "source": [
    "loan_result_model2_test.drop([\"is_applied_tot\", \"loanapply_insert_time\"], axis = 1,inplace = True)"
   ]
  },
  {
   "cell_type": "code",
   "execution_count": 432,
   "id": "aabc82f5",
   "metadata": {},
   "outputs": [],
   "source": [
    "loan_result_model2_test[\"loan_rate_rank\"] = loan_rate_rank\n",
    "loan_result_model2_test[\"loan_limit_rank\"] = loan_limit_rank"
   ]
  },
  {
   "cell_type": "code",
   "execution_count": 433,
   "id": "eb2d553d",
   "metadata": {},
   "outputs": [],
   "source": [
    "loan_result_model2_test = pd.merge(loan_result_model2_test, user_spec6[[\"application_id\",\"log_desired_amount\",\"credit_score_last\",\"time_rank\"]],how='left',on='application_id')"
   ]
  },
  {
   "cell_type": "code",
   "execution_count": 434,
   "id": "1e25e0ec",
   "metadata": {},
   "outputs": [],
   "source": [
    "#마지막 test 데이터에 붙일거임\n",
    "last_product_id = loan_result_model2_test[\"product_id\"]"
   ]
  },
  {
   "cell_type": "code",
   "execution_count": 435,
   "id": "56d96361",
   "metadata": {},
   "outputs": [],
   "source": [
    "loan_result_model2_train_2.drop([\"bank_id\",\"product_id\"],axis=1,inplace = True)\n",
    "loan_result_model2_valid_2.drop([\"bank_id\",\"product_id\"],axis=1,inplace = True)\n",
    "loan_result_model2_test.drop([\"bank_id\",\"product_id\"],axis=1,inplace = True)"
   ]
  },
  {
   "cell_type": "code",
   "execution_count": 436,
   "id": "15191de5",
   "metadata": {},
   "outputs": [],
   "source": [
    "#rank 2개의 제곱합루트\n",
    "loan_result_model2_train_2[\"loan_rank_ed\"] = np.sqrt(loan_result_model2_train_2[\"loan_rate_rank\"]**2 + loan_result_model2_train_2[\"loan_limit_rank\"]**2)\n",
    "loan_result_model2_valid_2[\"loan_rank_ed\"] = np.sqrt(loan_result_model2_valid_2[\"loan_rate_rank\"]**2 + loan_result_model2_valid_2[\"loan_limit_rank\"]**2)\n",
    "loan_result_model2_test[\"loan_rank_ed\"] = np.sqrt(loan_result_model2_test[\"loan_rate_rank\"]**2 + loan_result_model2_test[\"loan_limit_rank\"]**2)"
   ]
  },
  {
   "cell_type": "code",
   "execution_count": 437,
   "id": "9ae6867b",
   "metadata": {},
   "outputs": [],
   "source": [
    "#필요 금액과 대출 한도 간의 거리 / 금리\n",
    "train_rate = (np.exp(loan_result_model2_train_2[\"log_desired_amount\"]) - loan_result_model2_train_2[\"loan_limit\"])/loan_result_model2_train_2[\"loan_rate\"]\n",
    "valid_rate = (np.exp(loan_result_model2_valid_2[\"log_desired_amount\"]) - loan_result_model2_valid_2[\"loan_limit\"])/loan_result_model2_valid_2[\"loan_rate\"]\n",
    "test_rate = (np.exp(loan_result_model2_test[\"log_desired_amount\"]) - loan_result_model2_test[\"loan_limit\"])/loan_result_model2_test[\"loan_rate\"]\n",
    "loan_result_model2_train_2['log_money_distance_rate'] = np.log(train_rate - train_rate.min() + 1)\n",
    "loan_result_model2_valid_2['log_money_distance_rate'] = np.log(valid_rate - valid_rate.min() + 1)\n",
    "loan_result_model2_test['log_money_distance_rate'] = np.log(test_rate - test_rate.min() + 1)"
   ]
  },
  {
   "cell_type": "code",
   "execution_count": 438,
   "id": "5c2236c6",
   "metadata": {},
   "outputs": [
    {
     "name": "stdout",
     "output_type": "stream",
     "text": [
      "<class 'pandas.core.frame.DataFrame'>\n",
      "Int64Index: 3500253 entries, 0 to 3500252\n",
      "Data columns (total 14 columns):\n",
      " #   Column                   Dtype  \n",
      "---  ------                   -----  \n",
      " 0   application_id           int64  \n",
      " 1   loan_limit               float64\n",
      " 2   loan_rate                float64\n",
      " 3   is_applied               float64\n",
      " 4   log_loan_limit           float64\n",
      " 5   user_id                  int64  \n",
      " 6   bank_label               object \n",
      " 7   loan_rate_rank           float64\n",
      " 8   loan_limit_rank          float64\n",
      " 9   log_desired_amount       float64\n",
      " 10  credit_score_last        float64\n",
      " 11  time_rank                float64\n",
      " 12  loan_rank_ed             float64\n",
      " 13  log_money_distance_rate  float64\n",
      "dtypes: float64(11), int64(2), object(1)\n",
      "memory usage: 400.6+ MB\n"
     ]
    }
   ],
   "source": [
    "loan_result_model2_train_2.info()"
   ]
  },
  {
   "cell_type": "code",
   "execution_count": 439,
   "id": "9c7d9145",
   "metadata": {},
   "outputs": [
    {
     "data": {
      "text/plain": [
       "Index(['application_id', 'loan_limit', 'loan_rate', 'is_applied',\n",
       "       'log_loan_limit', 'user_id', 'loan_rate_rank', 'loan_limit_rank',\n",
       "       'log_desired_amount', 'credit_score_last', 'time_rank', 'loan_rank_ed',\n",
       "       'log_money_distance_rate', 'bank_label_1', 'bank_label_2',\n",
       "       'bank_label_3'],\n",
       "      dtype='object')"
      ]
     },
     "execution_count": 439,
     "metadata": {},
     "output_type": "execute_result"
    }
   ],
   "source": [
    "loan_result_model2_train_2_dummy = pd.get_dummies(loan_result_model2_train_2)\n",
    "loan_result_model2_train_2_dummy.columns"
   ]
  },
  {
   "cell_type": "code",
   "execution_count": 440,
   "id": "3fbba6d0",
   "metadata": {},
   "outputs": [
    {
     "name": "stdout",
     "output_type": "stream",
     "text": [
      "<class 'pandas.core.frame.DataFrame'>\n",
      "Int64Index: 2358173 entries, 0 to 2358172\n",
      "Data columns (total 14 columns):\n",
      " #   Column                   Dtype  \n",
      "---  ------                   -----  \n",
      " 0   application_id           int64  \n",
      " 1   loan_limit               float64\n",
      " 2   loan_rate                float64\n",
      " 3   is_applied               float64\n",
      " 4   log_loan_limit           float64\n",
      " 5   user_id                  int64  \n",
      " 6   bank_label               object \n",
      " 7   loan_rate_rank           float64\n",
      " 8   loan_limit_rank          float64\n",
      " 9   log_desired_amount       float64\n",
      " 10  credit_score_last        float64\n",
      " 11  time_rank                float64\n",
      " 12  loan_rank_ed             float64\n",
      " 13  log_money_distance_rate  float64\n",
      "dtypes: float64(11), int64(2), object(1)\n",
      "memory usage: 269.9+ MB\n"
     ]
    }
   ],
   "source": [
    "loan_result_model2_valid_2.info()"
   ]
  },
  {
   "cell_type": "code",
   "execution_count": 441,
   "id": "6012939a",
   "metadata": {},
   "outputs": [
    {
     "data": {
      "text/plain": [
       "Index(['application_id', 'loan_limit', 'loan_rate', 'is_applied',\n",
       "       'log_loan_limit', 'user_id', 'loan_rate_rank', 'loan_limit_rank',\n",
       "       'log_desired_amount', 'credit_score_last', 'time_rank', 'loan_rank_ed',\n",
       "       'log_money_distance_rate', 'bank_label_1', 'bank_label_2',\n",
       "       'bank_label_3'],\n",
       "      dtype='object')"
      ]
     },
     "execution_count": 441,
     "metadata": {},
     "output_type": "execute_result"
    }
   ],
   "source": [
    "loan_result_model2_valid_2_dummy = pd.get_dummies(loan_result_model2_valid_2)\n",
    "loan_result_model2_valid_2_dummy.columns"
   ]
  },
  {
   "cell_type": "code",
   "execution_count": 442,
   "id": "660a8d70",
   "metadata": {},
   "outputs": [
    {
     "data": {
      "text/plain": [
       "application_id                   0\n",
       "loan_limit                       0\n",
       "loan_rate                        0\n",
       "is_applied                 2876513\n",
       "log_loan_limit                   0\n",
       "user_id                          0\n",
       "bank_label                       0\n",
       "loan_rate_rank                   0\n",
       "loan_limit_rank                  0\n",
       "log_desired_amount               0\n",
       "credit_score_last                0\n",
       "time_rank                        0\n",
       "loan_rank_ed                     0\n",
       "log_money_distance_rate          0\n",
       "dtype: int64"
      ]
     },
     "execution_count": 442,
     "metadata": {},
     "output_type": "execute_result"
    }
   ],
   "source": [
    "loan_result_model2_test.isna().sum()"
   ]
  },
  {
   "cell_type": "code",
   "execution_count": 443,
   "id": "fadfac27",
   "metadata": {},
   "outputs": [
    {
     "data": {
      "text/plain": [
       "Index(['application_id', 'loan_limit', 'loan_rate', 'is_applied',\n",
       "       'log_loan_limit', 'user_id', 'loan_rate_rank', 'loan_limit_rank',\n",
       "       'log_desired_amount', 'credit_score_last', 'time_rank', 'loan_rank_ed',\n",
       "       'log_money_distance_rate', 'bank_label_1', 'bank_label_2',\n",
       "       'bank_label_3'],\n",
       "      dtype='object')"
      ]
     },
     "execution_count": 443,
     "metadata": {},
     "output_type": "execute_result"
    }
   ],
   "source": [
    "loan_result_model2_test_dummy = pd.get_dummies(loan_result_model2_test)\n",
    "loan_result_model2_test_dummy.columns"
   ]
  },
  {
   "cell_type": "code",
   "execution_count": 444,
   "id": "01f3cdc7",
   "metadata": {},
   "outputs": [],
   "source": [
    "x_train_model2_dummy = loan_result_model2_train_2_dummy.drop([\"application_id\",\"user_id\",\"is_applied\",\"loan_limit\"],axis=1)\n",
    "x_valid_model2_dummy = loan_result_model2_valid_2_dummy.drop([\"application_id\",\"user_id\",\"is_applied\",\"loan_limit\"],axis=1)\n",
    "\n",
    "x_train_model2 = loan_result_model2_train_2.drop([\"application_id\",\"user_id\",\"is_applied\",\"loan_limit\"],axis=1)\n",
    "x_valid_model2 = loan_result_model2_valid_2.drop([\"application_id\",\"user_id\",\"is_applied\",\"loan_limit\"],axis=1)\n",
    "\n",
    "y_train_model2 = loan_result_model2_train_2[\"is_applied\"]\n",
    "y_valid_model2 = loan_result_model2_valid_2[\"is_applied\"]\n",
    "\n",
    "x_model2_total_dummy = pd.concat([x_train_model2_dummy,x_valid_model2_dummy])\n",
    "x_model2_total = pd.concat([x_train_model2, x_valid_model2])\n",
    "y_model2_total = pd.concat([y_train_model2, y_valid_model2])"
   ]
  },
  {
   "cell_type": "code",
   "execution_count": null,
   "id": "691b2d25",
   "metadata": {},
   "outputs": [],
   "source": []
  },
  {
   "cell_type": "code",
   "execution_count": 445,
   "id": "3df6e792",
   "metadata": {
    "scrolled": true
   },
   "outputs": [
    {
     "data": {
      "text/plain": [
       "array([0.56552983, 4.31505649])"
      ]
     },
     "execution_count": 445,
     "metadata": {},
     "output_type": "execute_result"
    }
   ],
   "source": [
    "weight_m2 = compute_class_weight(class_weight = \"balanced\" , \n",
    "                     classes=[0,1], \n",
    "                     y = y_train_model2)\n",
    "weight_m2"
   ]
  },
  {
   "cell_type": "markdown",
   "id": "8a888da2",
   "metadata": {},
   "source": [
    "### 모델 2_1 Xgboost"
   ]
  },
  {
   "cell_type": "markdown",
   "id": "c9f3d5b2",
   "metadata": {},
   "source": [
    "기본"
   ]
  },
  {
   "cell_type": "code",
   "execution_count": 446,
   "id": "036632b4",
   "metadata": {},
   "outputs": [],
   "source": [
    "evals = [(x_train_model2_dummy, y_train_model2),(x_valid_model2_dummy, y_valid_model2)]"
   ]
  },
  {
   "cell_type": "code",
   "execution_count": 447,
   "id": "98ad1b24",
   "metadata": {},
   "outputs": [
    {
     "data": {
      "text/html": [
       "<style>#sk-container-id-5 {color: black;background-color: white;}#sk-container-id-5 pre{padding: 0;}#sk-container-id-5 div.sk-toggleable {background-color: white;}#sk-container-id-5 label.sk-toggleable__label {cursor: pointer;display: block;width: 100%;margin-bottom: 0;padding: 0.3em;box-sizing: border-box;text-align: center;}#sk-container-id-5 label.sk-toggleable__label-arrow:before {content: \"▸\";float: left;margin-right: 0.25em;color: #696969;}#sk-container-id-5 label.sk-toggleable__label-arrow:hover:before {color: black;}#sk-container-id-5 div.sk-estimator:hover label.sk-toggleable__label-arrow:before {color: black;}#sk-container-id-5 div.sk-toggleable__content {max-height: 0;max-width: 0;overflow: hidden;text-align: left;background-color: #f0f8ff;}#sk-container-id-5 div.sk-toggleable__content pre {margin: 0.2em;color: black;border-radius: 0.25em;background-color: #f0f8ff;}#sk-container-id-5 input.sk-toggleable__control:checked~div.sk-toggleable__content {max-height: 200px;max-width: 100%;overflow: auto;}#sk-container-id-5 input.sk-toggleable__control:checked~label.sk-toggleable__label-arrow:before {content: \"▾\";}#sk-container-id-5 div.sk-estimator input.sk-toggleable__control:checked~label.sk-toggleable__label {background-color: #d4ebff;}#sk-container-id-5 div.sk-label input.sk-toggleable__control:checked~label.sk-toggleable__label {background-color: #d4ebff;}#sk-container-id-5 input.sk-hidden--visually {border: 0;clip: rect(1px 1px 1px 1px);clip: rect(1px, 1px, 1px, 1px);height: 1px;margin: -1px;overflow: hidden;padding: 0;position: absolute;width: 1px;}#sk-container-id-5 div.sk-estimator {font-family: monospace;background-color: #f0f8ff;border: 1px dotted black;border-radius: 0.25em;box-sizing: border-box;margin-bottom: 0.5em;}#sk-container-id-5 div.sk-estimator:hover {background-color: #d4ebff;}#sk-container-id-5 div.sk-parallel-item::after {content: \"\";width: 100%;border-bottom: 1px solid gray;flex-grow: 1;}#sk-container-id-5 div.sk-label:hover label.sk-toggleable__label {background-color: #d4ebff;}#sk-container-id-5 div.sk-serial::before {content: \"\";position: absolute;border-left: 1px solid gray;box-sizing: border-box;top: 0;bottom: 0;left: 50%;z-index: 0;}#sk-container-id-5 div.sk-serial {display: flex;flex-direction: column;align-items: center;background-color: white;padding-right: 0.2em;padding-left: 0.2em;position: relative;}#sk-container-id-5 div.sk-item {position: relative;z-index: 1;}#sk-container-id-5 div.sk-parallel {display: flex;align-items: stretch;justify-content: center;background-color: white;position: relative;}#sk-container-id-5 div.sk-item::before, #sk-container-id-5 div.sk-parallel-item::before {content: \"\";position: absolute;border-left: 1px solid gray;box-sizing: border-box;top: 0;bottom: 0;left: 50%;z-index: -1;}#sk-container-id-5 div.sk-parallel-item {display: flex;flex-direction: column;z-index: 1;position: relative;background-color: white;}#sk-container-id-5 div.sk-parallel-item:first-child::after {align-self: flex-end;width: 50%;}#sk-container-id-5 div.sk-parallel-item:last-child::after {align-self: flex-start;width: 50%;}#sk-container-id-5 div.sk-parallel-item:only-child::after {width: 0;}#sk-container-id-5 div.sk-dashed-wrapped {border: 1px dashed gray;margin: 0 0.4em 0.5em 0.4em;box-sizing: border-box;padding-bottom: 0.4em;background-color: white;}#sk-container-id-5 div.sk-label label {font-family: monospace;font-weight: bold;display: inline-block;line-height: 1.2em;}#sk-container-id-5 div.sk-label-container {text-align: center;}#sk-container-id-5 div.sk-container {/* jupyter's `normalize.less` sets `[hidden] { display: none; }` but bootstrap.min.css set `[hidden] { display: none !important; }` so we also need the `!important` here to be able to override the default hidden behavior on the sphinx rendered scikit-learn.org. See: https://github.com/scikit-learn/scikit-learn/issues/21755 */display: inline-block !important;position: relative;}#sk-container-id-5 div.sk-text-repr-fallback {display: none;}</style><div id=\"sk-container-id-5\" class=\"sk-top-container\"><div class=\"sk-text-repr-fallback\"><pre>XGBClassifier(base_score=0.5, booster=&#x27;gbtree&#x27;, colsample_bylevel=1,\n",
       "              colsample_bynode=1, colsample_bytree=1, enable_categorical=False,\n",
       "              gamma=0, gpu_id=-1, importance_type=None,\n",
       "              interaction_constraints=&#x27;&#x27;, learning_rate=0.03, max_delta_step=0,\n",
       "              max_depth=14, min_child_weight=1, missing=nan,\n",
       "              monotone_constraints=&#x27;()&#x27;, n_estimators=500, n_jobs=-1,\n",
       "              num_parallel_tree=1, predictor=&#x27;auto&#x27;, random_state=0,\n",
       "              reg_alpha=0, reg_lambda=1, scale_pos_weight=7.630112972341255,\n",
       "              subsample=1, tree_method=&#x27;exact&#x27;, validate_parameters=1,\n",
       "              verbosity=None)</pre><b>In a Jupyter environment, please rerun this cell to show the HTML representation or trust the notebook. <br />On GitHub, the HTML representation is unable to render, please try loading this page with nbviewer.org.</b></div><div class=\"sk-container\" hidden><div class=\"sk-item\"><div class=\"sk-estimator sk-toggleable\"><input class=\"sk-toggleable__control sk-hidden--visually\" id=\"sk-estimator-id-5\" type=\"checkbox\" checked><label for=\"sk-estimator-id-5\" class=\"sk-toggleable__label sk-toggleable__label-arrow\">XGBClassifier</label><div class=\"sk-toggleable__content\"><pre>XGBClassifier(base_score=0.5, booster=&#x27;gbtree&#x27;, colsample_bylevel=1,\n",
       "              colsample_bynode=1, colsample_bytree=1, enable_categorical=False,\n",
       "              gamma=0, gpu_id=-1, importance_type=None,\n",
       "              interaction_constraints=&#x27;&#x27;, learning_rate=0.03, max_delta_step=0,\n",
       "              max_depth=14, min_child_weight=1, missing=nan,\n",
       "              monotone_constraints=&#x27;()&#x27;, n_estimators=500, n_jobs=-1,\n",
       "              num_parallel_tree=1, predictor=&#x27;auto&#x27;, random_state=0,\n",
       "              reg_alpha=0, reg_lambda=1, scale_pos_weight=7.630112972341255,\n",
       "              subsample=1, tree_method=&#x27;exact&#x27;, validate_parameters=1,\n",
       "              verbosity=None)</pre></div></div></div></div></div>"
      ],
      "text/plain": [
       "XGBClassifier(base_score=0.5, booster='gbtree', colsample_bylevel=1,\n",
       "              colsample_bynode=1, colsample_bytree=1, enable_categorical=False,\n",
       "              gamma=0, gpu_id=-1, importance_type=None,\n",
       "              interaction_constraints='', learning_rate=0.03, max_delta_step=0,\n",
       "              max_depth=14, min_child_weight=1, missing=nan,\n",
       "              monotone_constraints='()', n_estimators=500, n_jobs=-1,\n",
       "              num_parallel_tree=1, predictor='auto', random_state=0,\n",
       "              reg_alpha=0, reg_lambda=1, scale_pos_weight=7.630112972341255,\n",
       "              subsample=1, tree_method='exact', validate_parameters=1,\n",
       "              verbosity=None)"
      ]
     },
     "execution_count": 447,
     "metadata": {},
     "output_type": "execute_result"
    }
   ],
   "source": [
    "xgb_02_BO_tuend = XGBClassifier(n_estimators = 500, max_depth = 14, learning_rate = 0.03, n_jobs=-1,scale_pos_weight = weight_m2[1]/weight_m2[0],\n",
    "                          objective='binary:logistic')\n",
    "\n",
    "xgb_02_BO_tuend.fit(x_train_model2_dummy, y_train_model2, eval_set = evals, eval_metric = \"logloss\",early_stopping_rounds = 200, verbose=False)"
   ]
  },
  {
   "cell_type": "code",
   "execution_count": 448,
   "id": "d22157b3",
   "metadata": {
    "scrolled": false
   },
   "outputs": [
    {
     "data": {
      "image/png": "[encoded data removed]",
      "text/plain": [
       "<Figure size 864x864 with 1 Axes>"
      ]
     },
     "metadata": {},
     "output_type": "display_data"
    }
   ],
   "source": [
    "#retrieve performance metrics\n",
    "results = xgb_02_BO_tuend.evals_result()\n",
    "epochs = len(results['validation_0']['logloss'])\n",
    "x_axis = range(0, epochs)\n",
    "\n",
    "# plot log loss\n",
    "fig, ax = plt.subplots(figsize=(12,12))\n",
    "ax.plot(x_axis, results['validation_0']['logloss'], label='Train')\n",
    "ax.plot(x_axis, results['validation_1']['logloss'], label='Valid')\n",
    "ax.legend()\n",
    "\n",
    "plt.ylabel('Log Loss')\n",
    "plt.title('XGBoost Log Loss')\n",
    "plt.show()"
   ]
  },
  {
   "cell_type": "code",
   "execution_count": 449,
   "id": "a36ff48c",
   "metadata": {},
   "outputs": [
    {
     "data": {
      "text/plain": [
       "Text(0.5, 0, 'Xgboost Feature Importance')"
      ]
     },
     "execution_count": 449,
     "metadata": {},
     "output_type": "execute_result"
    },
    {
     "data": {
      "image/png": "[encoded data removed]",
      "text/plain": [
       "<Figure size 842.4x595.44 with 1 Axes>"
      ]
     },
     "metadata": {},
     "output_type": "display_data"
    }
   ],
   "source": [
    "sorted_idx = xgb_02_BO_tuend.feature_importances_.argsort()\n",
    "plt.barh(x_train_model2_dummy.columns[sorted_idx], xgb_02_BO_tuend.feature_importances_[sorted_idx])\n",
    "plt.xlabel(\"Xgboost Feature Importance\")"
   ]
  },
  {
   "cell_type": "code",
   "execution_count": 450,
   "id": "226c901a",
   "metadata": {},
   "outputs": [],
   "source": [
    "pred_xgb_02_BO_train = xgb_02_BO_tuend.predict(x_train_model2_dummy)\n",
    "pred_xgb_02_BO_valid = xgb_02_BO_tuend.predict(x_valid_model2_dummy)\n",
    "proba_xgb_02_BO_valid = xgb_02_BO_tuend.predict_proba(x_valid_model2_dummy)\n",
    "#y_train_model2, y_valid_model2"
   ]
  },
  {
   "cell_type": "code",
   "execution_count": 451,
   "id": "83b628b3",
   "metadata": {},
   "outputs": [
    {
     "name": "stdout",
     "output_type": "stream",
     "text": [
      "Train Set 결과\n",
      "accuracy_score :  0.8673804436422167\n",
      "recall_score :  0.9212472817109072\n",
      "precision_score :  0.4636334758644308\n",
      "f1_score :  0.6168344487623525\n"
     ]
    }
   ],
   "source": [
    "print(\"Train Set 결과\")\n",
    "print(\"accuracy_score : \",accuracy_score(y_train_model2, pred_xgb_02_BO_train))\n",
    "print(\"recall_score : \",recall_score(y_train_model2, pred_xgb_02_BO_train))\n",
    "print(\"precision_score : \",precision_score(y_train_model2, pred_xgb_02_BO_train))\n",
    "print(\"f1_score : \",f1_score(y_train_model2, pred_xgb_02_BO_train))"
   ]
  },
  {
   "cell_type": "code",
   "execution_count": 452,
   "id": "1b1b1c72",
   "metadata": {},
   "outputs": [
    {
     "name": "stdout",
     "output_type": "stream",
     "text": [
      "Valid Set 결과\n",
      "accuracy_score :  0.9275731678719076\n",
      "recall_score :  0.3499065166400381\n",
      "precision_score :  0.4063896653558851\n",
      "f1_score :  0.37603890007196955\n"
     ]
    }
   ],
   "source": [
    "print(\"Valid Set 결과\")\n",
    "print(\"accuracy_score : \",accuracy_score(y_valid_model2, pred_xgb_02_BO_valid))\n",
    "print(\"recall_score : \",recall_score(y_valid_model2, pred_xgb_02_BO_valid))\n",
    "print(\"precision_score : \",precision_score(y_valid_model2, pred_xgb_02_BO_valid))\n",
    "print(\"f1_score : \",f1_score(y_valid_model2, pred_xgb_02_BO_valid))"
   ]
  },
  {
   "cell_type": "code",
   "execution_count": null,
   "id": "519b9c0d",
   "metadata": {},
   "outputs": [],
   "source": []
  },
  {
   "cell_type": "code",
   "execution_count": null,
   "id": "cf1bcd1f",
   "metadata": {},
   "outputs": [],
   "source": []
  },
  {
   "cell_type": "code",
   "execution_count": 459,
   "id": "396b3d7e",
   "metadata": {},
   "outputs": [
    {
     "name": "stdout",
     "output_type": "stream",
     "text": [
      "[13:06:39] WARNING: C:\\Windows\\Temp\\abs_557yfx631l\\croots\\recipe\\xgboost-split_1659548953302\\work\\src\\learner.cc:1115: Starting in XGBoost 1.3.0, the default evaluation metric used with the objective 'binary:logistic' was changed from 'error' to 'logloss'. Explicitly set eval_metric if you'd like to restore the old behavior.\n"
     ]
    },
    {
     "data": {
      "text/html": [
       "<style>#sk-container-id-7 {color: black;background-color: white;}#sk-container-id-7 pre{padding: 0;}#sk-container-id-7 div.sk-toggleable {background-color: white;}#sk-container-id-7 label.sk-toggleable__label {cursor: pointer;display: block;width: 100%;margin-bottom: 0;padding: 0.3em;box-sizing: border-box;text-align: center;}#sk-container-id-7 label.sk-toggleable__label-arrow:before {content: \"▸\";float: left;margin-right: 0.25em;color: #696969;}#sk-container-id-7 label.sk-toggleable__label-arrow:hover:before {color: black;}#sk-container-id-7 div.sk-estimator:hover label.sk-toggleable__label-arrow:before {color: black;}#sk-container-id-7 div.sk-toggleable__content {max-height: 0;max-width: 0;overflow: hidden;text-align: left;background-color: #f0f8ff;}#sk-container-id-7 div.sk-toggleable__content pre {margin: 0.2em;color: black;border-radius: 0.25em;background-color: #f0f8ff;}#sk-container-id-7 input.sk-toggleable__control:checked~div.sk-toggleable__content {max-height: 200px;max-width: 100%;overflow: auto;}#sk-container-id-7 input.sk-toggleable__control:checked~label.sk-toggleable__label-arrow:before {content: \"▾\";}#sk-container-id-7 div.sk-estimator input.sk-toggleable__control:checked~label.sk-toggleable__label {background-color: #d4ebff;}#sk-container-id-7 div.sk-label input.sk-toggleable__control:checked~label.sk-toggleable__label {background-color: #d4ebff;}#sk-container-id-7 input.sk-hidden--visually {border: 0;clip: rect(1px 1px 1px 1px);clip: rect(1px, 1px, 1px, 1px);height: 1px;margin: -1px;overflow: hidden;padding: 0;position: absolute;width: 1px;}#sk-container-id-7 div.sk-estimator {font-family: monospace;background-color: #f0f8ff;border: 1px dotted black;border-radius: 0.25em;box-sizing: border-box;margin-bottom: 0.5em;}#sk-container-id-7 div.sk-estimator:hover {background-color: #d4ebff;}#sk-container-id-7 div.sk-parallel-item::after {content: \"\";width: 100%;border-bottom: 1px solid gray;flex-grow: 1;}#sk-container-id-7 div.sk-label:hover label.sk-toggleable__label {background-color: #d4ebff;}#sk-container-id-7 div.sk-serial::before {content: \"\";position: absolute;border-left: 1px solid gray;box-sizing: border-box;top: 0;bottom: 0;left: 50%;z-index: 0;}#sk-container-id-7 div.sk-serial {display: flex;flex-direction: column;align-items: center;background-color: white;padding-right: 0.2em;padding-left: 0.2em;position: relative;}#sk-container-id-7 div.sk-item {position: relative;z-index: 1;}#sk-container-id-7 div.sk-parallel {display: flex;align-items: stretch;justify-content: center;background-color: white;position: relative;}#sk-container-id-7 div.sk-item::before, #sk-container-id-7 div.sk-parallel-item::before {content: \"\";position: absolute;border-left: 1px solid gray;box-sizing: border-box;top: 0;bottom: 0;left: 50%;z-index: -1;}#sk-container-id-7 div.sk-parallel-item {display: flex;flex-direction: column;z-index: 1;position: relative;background-color: white;}#sk-container-id-7 div.sk-parallel-item:first-child::after {align-self: flex-end;width: 50%;}#sk-container-id-7 div.sk-parallel-item:last-child::after {align-self: flex-start;width: 50%;}#sk-container-id-7 div.sk-parallel-item:only-child::after {width: 0;}#sk-container-id-7 div.sk-dashed-wrapped {border: 1px dashed gray;margin: 0 0.4em 0.5em 0.4em;box-sizing: border-box;padding-bottom: 0.4em;background-color: white;}#sk-container-id-7 div.sk-label label {font-family: monospace;font-weight: bold;display: inline-block;line-height: 1.2em;}#sk-container-id-7 div.sk-label-container {text-align: center;}#sk-container-id-7 div.sk-container {/* jupyter's `normalize.less` sets `[hidden] { display: none; }` but bootstrap.min.css set `[hidden] { display: none !important; }` so we also need the `!important` here to be able to override the default hidden behavior on the sphinx rendered scikit-learn.org. See: https://github.com/scikit-learn/scikit-learn/issues/21755 */display: inline-block !important;position: relative;}#sk-container-id-7 div.sk-text-repr-fallback {display: none;}</style><div id=\"sk-container-id-7\" class=\"sk-top-container\"><div class=\"sk-text-repr-fallback\"><pre>XGBClassifier(base_score=0.5, booster=&#x27;gbtree&#x27;, colsample_bylevel=1,\n",
       "              colsample_bynode=1, colsample_bytree=1, enable_categorical=False,\n",
       "              gamma=0, gpu_id=-1, importance_type=None,\n",
       "              interaction_constraints=&#x27;&#x27;, learning_rate=0.03, max_delta_step=0,\n",
       "              max_depth=14, min_child_weight=1, missing=nan,\n",
       "              monotone_constraints=&#x27;()&#x27;, n_estimators=500, n_jobs=-1,\n",
       "              num_parallel_tree=1, predictor=&#x27;auto&#x27;, random_state=0,\n",
       "              reg_alpha=0, reg_lambda=1, scale_pos_weight=7.630112972341255,\n",
       "              subsample=1, tree_method=&#x27;approx&#x27;, validate_parameters=1,\n",
       "              verbosity=None)</pre><b>In a Jupyter environment, please rerun this cell to show the HTML representation or trust the notebook. <br />On GitHub, the HTML representation is unable to render, please try loading this page with nbviewer.org.</b></div><div class=\"sk-container\" hidden><div class=\"sk-item\"><div class=\"sk-estimator sk-toggleable\"><input class=\"sk-toggleable__control sk-hidden--visually\" id=\"sk-estimator-id-7\" type=\"checkbox\" checked><label for=\"sk-estimator-id-7\" class=\"sk-toggleable__label sk-toggleable__label-arrow\">XGBClassifier</label><div class=\"sk-toggleable__content\"><pre>XGBClassifier(base_score=0.5, booster=&#x27;gbtree&#x27;, colsample_bylevel=1,\n",
       "              colsample_bynode=1, colsample_bytree=1, enable_categorical=False,\n",
       "              gamma=0, gpu_id=-1, importance_type=None,\n",
       "              interaction_constraints=&#x27;&#x27;, learning_rate=0.03, max_delta_step=0,\n",
       "              max_depth=14, min_child_weight=1, missing=nan,\n",
       "              monotone_constraints=&#x27;()&#x27;, n_estimators=500, n_jobs=-1,\n",
       "              num_parallel_tree=1, predictor=&#x27;auto&#x27;, random_state=0,\n",
       "              reg_alpha=0, reg_lambda=1, scale_pos_weight=7.630112972341255,\n",
       "              subsample=1, tree_method=&#x27;approx&#x27;, validate_parameters=1,\n",
       "              verbosity=None)</pre></div></div></div></div></div>"
      ],
      "text/plain": [
       "XGBClassifier(base_score=0.5, booster='gbtree', colsample_bylevel=1,\n",
       "              colsample_bynode=1, colsample_bytree=1, enable_categorical=False,\n",
       "              gamma=0, gpu_id=-1, importance_type=None,\n",
       "              interaction_constraints='', learning_rate=0.03, max_delta_step=0,\n",
       "              max_depth=14, min_child_weight=1, missing=nan,\n",
       "              monotone_constraints='()', n_estimators=500, n_jobs=-1,\n",
       "              num_parallel_tree=1, predictor='auto', random_state=0,\n",
       "              reg_alpha=0, reg_lambda=1, scale_pos_weight=7.630112972341255,\n",
       "              subsample=1, tree_method='approx', validate_parameters=1,\n",
       "              verbosity=None)"
      ]
     },
     "execution_count": 459,
     "metadata": {},
     "output_type": "execute_result"
    }
   ],
   "source": [
    "#전체 데이터에 대한 학습\n",
    "xgb_02_BO_last = XGBClassifier(n_estimators = 500, max_depth = 14, learning_rate = 0.03, n_jobs=-1, scale_pos_weight = weight_m2[1]/weight_m2[0],\n",
    "                          objective='binary:logistic')\n",
    "\n",
    "xgb_02_BO_last.fit(x_model2_total_dummy, y_model2_total)"
   ]
  },
  {
   "cell_type": "code",
   "execution_count": 460,
   "id": "a07adfe7",
   "metadata": {},
   "outputs": [],
   "source": [
    "pred_xgb_02_BO_test = xgb_02_BO_last.predict(loan_result_model2_test_dummy.drop([\"application_id\",\"user_id\",\"is_applied\",\"loan_limit\"],axis=1))\n",
    "proba_xgb_02_BO_test = xgb_02_BO_last.predict_proba(loan_result_model2_test_dummy.drop([\"application_id\",\"user_id\",\"is_applied\",\"loan_limit\"],axis=1))"
   ]
  },
  {
   "cell_type": "code",
   "execution_count": null,
   "id": "b2e4794c",
   "metadata": {},
   "outputs": [],
   "source": []
  },
  {
   "cell_type": "markdown",
   "id": "56e21f6e",
   "metadata": {},
   "source": [
    "### 모델 2_2 LGBM"
   ]
  },
  {
   "cell_type": "code",
   "execution_count": 239,
   "id": "5d9a8309",
   "metadata": {},
   "outputs": [],
   "source": [
    "evals = [(x_train_model2_dummy, y_train_model2),(x_valid_model2_dummy, y_valid_model2)]"
   ]
  },
  {
   "cell_type": "code",
   "execution_count": 240,
   "id": "1e24d52c",
   "metadata": {},
   "outputs": [
    {
     "data": {
      "text/html": [
       "<style>#sk-container-id-3 {color: black;background-color: white;}#sk-container-id-3 pre{padding: 0;}#sk-container-id-3 div.sk-toggleable {background-color: white;}#sk-container-id-3 label.sk-toggleable__label {cursor: pointer;display: block;width: 100%;margin-bottom: 0;padding: 0.3em;box-sizing: border-box;text-align: center;}#sk-container-id-3 label.sk-toggleable__label-arrow:before {content: \"▸\";float: left;margin-right: 0.25em;color: #696969;}#sk-container-id-3 label.sk-toggleable__label-arrow:hover:before {color: black;}#sk-container-id-3 div.sk-estimator:hover label.sk-toggleable__label-arrow:before {color: black;}#sk-container-id-3 div.sk-toggleable__content {max-height: 0;max-width: 0;overflow: hidden;text-align: left;background-color: #f0f8ff;}#sk-container-id-3 div.sk-toggleable__content pre {margin: 0.2em;color: black;border-radius: 0.25em;background-color: #f0f8ff;}#sk-container-id-3 input.sk-toggleable__control:checked~div.sk-toggleable__content {max-height: 200px;max-width: 100%;overflow: auto;}#sk-container-id-3 input.sk-toggleable__control:checked~label.sk-toggleable__label-arrow:before {content: \"▾\";}#sk-container-id-3 div.sk-estimator input.sk-toggleable__control:checked~label.sk-toggleable__label {background-color: #d4ebff;}#sk-container-id-3 div.sk-label input.sk-toggleable__control:checked~label.sk-toggleable__label {background-color: #d4ebff;}#sk-container-id-3 input.sk-hidden--visually {border: 0;clip: rect(1px 1px 1px 1px);clip: rect(1px, 1px, 1px, 1px);height: 1px;margin: -1px;overflow: hidden;padding: 0;position: absolute;width: 1px;}#sk-container-id-3 div.sk-estimator {font-family: monospace;background-color: #f0f8ff;border: 1px dotted black;border-radius: 0.25em;box-sizing: border-box;margin-bottom: 0.5em;}#sk-container-id-3 div.sk-estimator:hover {background-color: #d4ebff;}#sk-container-id-3 div.sk-parallel-item::after {content: \"\";width: 100%;border-bottom: 1px solid gray;flex-grow: 1;}#sk-container-id-3 div.sk-label:hover label.sk-toggleable__label {background-color: #d4ebff;}#sk-container-id-3 div.sk-serial::before {content: \"\";position: absolute;border-left: 1px solid gray;box-sizing: border-box;top: 0;bottom: 0;left: 50%;z-index: 0;}#sk-container-id-3 div.sk-serial {display: flex;flex-direction: column;align-items: center;background-color: white;padding-right: 0.2em;padding-left: 0.2em;position: relative;}#sk-container-id-3 div.sk-item {position: relative;z-index: 1;}#sk-container-id-3 div.sk-parallel {display: flex;align-items: stretch;justify-content: center;background-color: white;position: relative;}#sk-container-id-3 div.sk-item::before, #sk-container-id-3 div.sk-parallel-item::before {content: \"\";position: absolute;border-left: 1px solid gray;box-sizing: border-box;top: 0;bottom: 0;left: 50%;z-index: -1;}#sk-container-id-3 div.sk-parallel-item {display: flex;flex-direction: column;z-index: 1;position: relative;background-color: white;}#sk-container-id-3 div.sk-parallel-item:first-child::after {align-self: flex-end;width: 50%;}#sk-container-id-3 div.sk-parallel-item:last-child::after {align-self: flex-start;width: 50%;}#sk-container-id-3 div.sk-parallel-item:only-child::after {width: 0;}#sk-container-id-3 div.sk-dashed-wrapped {border: 1px dashed gray;margin: 0 0.4em 0.5em 0.4em;box-sizing: border-box;padding-bottom: 0.4em;background-color: white;}#sk-container-id-3 div.sk-label label {font-family: monospace;font-weight: bold;display: inline-block;line-height: 1.2em;}#sk-container-id-3 div.sk-label-container {text-align: center;}#sk-container-id-3 div.sk-container {/* jupyter's `normalize.less` sets `[hidden] { display: none; }` but bootstrap.min.css set `[hidden] { display: none !important; }` so we also need the `!important` here to be able to override the default hidden behavior on the sphinx rendered scikit-learn.org. See: https://github.com/scikit-learn/scikit-learn/issues/21755 */display: inline-block !important;position: relative;}#sk-container-id-3 div.sk-text-repr-fallback {display: none;}</style><div id=\"sk-container-id-3\" class=\"sk-top-container\"><div class=\"sk-text-repr-fallback\"><pre>LGBMClassifier(boost_from_average=False,\n",
       "               class_weight={0: 0.565529829219105, 1: 4.3150564861706275},\n",
       "               max_depth=8, n_estimators=1000, num_leaves=200)</pre><b>In a Jupyter environment, please rerun this cell to show the HTML representation or trust the notebook. <br />On GitHub, the HTML representation is unable to render, please try loading this page with nbviewer.org.</b></div><div class=\"sk-container\" hidden><div class=\"sk-item\"><div class=\"sk-estimator sk-toggleable\"><input class=\"sk-toggleable__control sk-hidden--visually\" id=\"sk-estimator-id-3\" type=\"checkbox\" checked><label for=\"sk-estimator-id-3\" class=\"sk-toggleable__label sk-toggleable__label-arrow\">LGBMClassifier</label><div class=\"sk-toggleable__content\"><pre>LGBMClassifier(boost_from_average=False,\n",
       "               class_weight={0: 0.565529829219105, 1: 4.3150564861706275},\n",
       "               max_depth=8, n_estimators=1000, num_leaves=200)</pre></div></div></div></div></div>"
      ],
      "text/plain": [
       "LGBMClassifier(boost_from_average=False,\n",
       "               class_weight={0: 0.565529829219105, 1: 4.3150564861706275},\n",
       "               max_depth=8, n_estimators=1000, num_leaves=200)"
      ]
     },
     "execution_count": 240,
     "metadata": {},
     "output_type": "execute_result"
    }
   ],
   "source": [
    "lgb_02_BO_tuend = LGBMClassifier(max_depth=8, learning_rate = 0.1 , num_leaves = 200,n_estimators = 1000, n_jobs=-1, boost_from_average=False,\n",
    "                        class_weight={0:weight_m2[0],1:weight_m2[1]})\n",
    "\n",
    "lgb_02_BO_tuend.fit(x_train_model2_dummy, y_train_model2, eval_set = evals, eval_metric = \"logloss\",early_stopping_rounds = 200, verbose=False)"
   ]
  },
  {
   "cell_type": "code",
   "execution_count": 248,
   "id": "dd7abab2",
   "metadata": {
    "scrolled": false
   },
   "outputs": [
    {
     "data": {
      "text/plain": [
       "<matplotlib.legend.Legend at 0x1b3ac930940>"
      ]
     },
     "execution_count": 248,
     "metadata": {},
     "output_type": "execute_result"
    },
    {
     "data": {
      "image/png": "[encoded data removed]",
      "text/plain": [
       "<Figure size 842.4x595.44 with 1 Axes>"
      ]
     },
     "metadata": {},
     "output_type": "display_data"
    }
   ],
   "source": [
    "plot_metric(lgb_02_BO_tuend)\n",
    "plt.legend([\"train\", \"valid\"])"
   ]
  },
  {
   "cell_type": "code",
   "execution_count": 251,
   "id": "68354239",
   "metadata": {},
   "outputs": [
    {
     "data": {
      "image/png": "[encoded data removed]",
      "text/plain": [
       "<Figure size 1080x1080 with 1 Axes>"
      ]
     },
     "metadata": {},
     "output_type": "display_data"
    }
   ],
   "source": [
    "ax = lightgbm.plot_importance(lgb_02_BO_tuend, max_num_features=40, figsize=(15,15)) \n",
    "plt.show()"
   ]
  },
  {
   "cell_type": "code",
   "execution_count": 252,
   "id": "fdd883dd",
   "metadata": {},
   "outputs": [],
   "source": [
    "pred_lgb_02_BO_train = lgb_02_BO_tuend.predict(x_train_model2_dummy)\n",
    "pred_lgb_02_BO_valid = lgb_02_BO_tuend.predict(x_valid_model2_dummy)\n",
    "proba_lgb_02_BO_valid = lgb_02_BO_tuend.predict_proba(x_valid_model2_dummy)"
   ]
  },
  {
   "cell_type": "code",
   "execution_count": 253,
   "id": "38ca3ec4",
   "metadata": {},
   "outputs": [
    {
     "name": "stdout",
     "output_type": "stream",
     "text": [
      "Train Set 결과\n",
      "accuracy_score :  0.8429107838776225\n",
      "recall_score :  0.886238676877407\n",
      "precision_score :  0.4164312906791109\n",
      "f1_score :  0.5666170638048338\n"
     ]
    }
   ],
   "source": [
    "print(\"Train Set 결과\")\n",
    "print(\"accuracy_score : \",accuracy_score(y_train_model2, pred_lgb_02_BO_train))\n",
    "print(\"recall_score : \",recall_score(y_train_model2, pred_lgb_02_BO_train))\n",
    "print(\"precision_score : \",precision_score(y_train_model2, pred_lgb_02_BO_train))\n",
    "print(\"f1_score : \",f1_score(y_train_model2, pred_lgb_02_BO_train))"
   ]
  },
  {
   "cell_type": "code",
   "execution_count": 254,
   "id": "fb7dd6ab",
   "metadata": {},
   "outputs": [
    {
     "name": "stdout",
     "output_type": "stream",
     "text": [
      "Valid Set 결과\n",
      "accuracy_score :  0.8848307566917271\n",
      "recall_score :  0.6107080939592753\n",
      "precision_score :  0.295328712897329\n",
      "f1_score :  0.3981287161405989\n"
     ]
    }
   ],
   "source": [
    "print(\"Valid Set 결과\")\n",
    "print(\"accuracy_score : \",accuracy_score(y_valid_model2, pred_lgb_02_BO_valid))\n",
    "print(\"recall_score : \",recall_score(y_valid_model2, pred_lgb_02_BO_valid))\n",
    "print(\"precision_score : \",precision_score(y_valid_model2, pred_lgb_02_BO_valid))\n",
    "print(\"f1_score : \",f1_score(y_valid_model2, pred_lgb_02_BO_valid))"
   ]
  },
  {
   "cell_type": "code",
   "execution_count": 455,
   "id": "65bfc86a",
   "metadata": {},
   "outputs": [
    {
     "data": {
      "text/html": [
       "<style>#sk-container-id-6 {color: black;background-color: white;}#sk-container-id-6 pre{padding: 0;}#sk-container-id-6 div.sk-toggleable {background-color: white;}#sk-container-id-6 label.sk-toggleable__label {cursor: pointer;display: block;width: 100%;margin-bottom: 0;padding: 0.3em;box-sizing: border-box;text-align: center;}#sk-container-id-6 label.sk-toggleable__label-arrow:before {content: \"▸\";float: left;margin-right: 0.25em;color: #696969;}#sk-container-id-6 label.sk-toggleable__label-arrow:hover:before {color: black;}#sk-container-id-6 div.sk-estimator:hover label.sk-toggleable__label-arrow:before {color: black;}#sk-container-id-6 div.sk-toggleable__content {max-height: 0;max-width: 0;overflow: hidden;text-align: left;background-color: #f0f8ff;}#sk-container-id-6 div.sk-toggleable__content pre {margin: 0.2em;color: black;border-radius: 0.25em;background-color: #f0f8ff;}#sk-container-id-6 input.sk-toggleable__control:checked~div.sk-toggleable__content {max-height: 200px;max-width: 100%;overflow: auto;}#sk-container-id-6 input.sk-toggleable__control:checked~label.sk-toggleable__label-arrow:before {content: \"▾\";}#sk-container-id-6 div.sk-estimator input.sk-toggleable__control:checked~label.sk-toggleable__label {background-color: #d4ebff;}#sk-container-id-6 div.sk-label input.sk-toggleable__control:checked~label.sk-toggleable__label {background-color: #d4ebff;}#sk-container-id-6 input.sk-hidden--visually {border: 0;clip: rect(1px 1px 1px 1px);clip: rect(1px, 1px, 1px, 1px);height: 1px;margin: -1px;overflow: hidden;padding: 0;position: absolute;width: 1px;}#sk-container-id-6 div.sk-estimator {font-family: monospace;background-color: #f0f8ff;border: 1px dotted black;border-radius: 0.25em;box-sizing: border-box;margin-bottom: 0.5em;}#sk-container-id-6 div.sk-estimator:hover {background-color: #d4ebff;}#sk-container-id-6 div.sk-parallel-item::after {content: \"\";width: 100%;border-bottom: 1px solid gray;flex-grow: 1;}#sk-container-id-6 div.sk-label:hover label.sk-toggleable__label {background-color: #d4ebff;}#sk-container-id-6 div.sk-serial::before {content: \"\";position: absolute;border-left: 1px solid gray;box-sizing: border-box;top: 0;bottom: 0;left: 50%;z-index: 0;}#sk-container-id-6 div.sk-serial {display: flex;flex-direction: column;align-items: center;background-color: white;padding-right: 0.2em;padding-left: 0.2em;position: relative;}#sk-container-id-6 div.sk-item {position: relative;z-index: 1;}#sk-container-id-6 div.sk-parallel {display: flex;align-items: stretch;justify-content: center;background-color: white;position: relative;}#sk-container-id-6 div.sk-item::before, #sk-container-id-6 div.sk-parallel-item::before {content: \"\";position: absolute;border-left: 1px solid gray;box-sizing: border-box;top: 0;bottom: 0;left: 50%;z-index: -1;}#sk-container-id-6 div.sk-parallel-item {display: flex;flex-direction: column;z-index: 1;position: relative;background-color: white;}#sk-container-id-6 div.sk-parallel-item:first-child::after {align-self: flex-end;width: 50%;}#sk-container-id-6 div.sk-parallel-item:last-child::after {align-self: flex-start;width: 50%;}#sk-container-id-6 div.sk-parallel-item:only-child::after {width: 0;}#sk-container-id-6 div.sk-dashed-wrapped {border: 1px dashed gray;margin: 0 0.4em 0.5em 0.4em;box-sizing: border-box;padding-bottom: 0.4em;background-color: white;}#sk-container-id-6 div.sk-label label {font-family: monospace;font-weight: bold;display: inline-block;line-height: 1.2em;}#sk-container-id-6 div.sk-label-container {text-align: center;}#sk-container-id-6 div.sk-container {/* jupyter's `normalize.less` sets `[hidden] { display: none; }` but bootstrap.min.css set `[hidden] { display: none !important; }` so we also need the `!important` here to be able to override the default hidden behavior on the sphinx rendered scikit-learn.org. See: https://github.com/scikit-learn/scikit-learn/issues/21755 */display: inline-block !important;position: relative;}#sk-container-id-6 div.sk-text-repr-fallback {display: none;}</style><div id=\"sk-container-id-6\" class=\"sk-top-container\"><div class=\"sk-text-repr-fallback\"><pre>LGBMClassifier(boost_from_average=False,\n",
       "               class_weight={0: 0.565529829219105, 1: 4.3150564861706275},\n",
       "               max_depth=8, n_estimators=500, num_leaves=200)</pre><b>In a Jupyter environment, please rerun this cell to show the HTML representation or trust the notebook. <br />On GitHub, the HTML representation is unable to render, please try loading this page with nbviewer.org.</b></div><div class=\"sk-container\" hidden><div class=\"sk-item\"><div class=\"sk-estimator sk-toggleable\"><input class=\"sk-toggleable__control sk-hidden--visually\" id=\"sk-estimator-id-6\" type=\"checkbox\" checked><label for=\"sk-estimator-id-6\" class=\"sk-toggleable__label sk-toggleable__label-arrow\">LGBMClassifier</label><div class=\"sk-toggleable__content\"><pre>LGBMClassifier(boost_from_average=False,\n",
       "               class_weight={0: 0.565529829219105, 1: 4.3150564861706275},\n",
       "               max_depth=8, n_estimators=500, num_leaves=200)</pre></div></div></div></div></div>"
      ],
      "text/plain": [
       "LGBMClassifier(boost_from_average=False,\n",
       "               class_weight={0: 0.565529829219105, 1: 4.3150564861706275},\n",
       "               max_depth=8, n_estimators=500, num_leaves=200)"
      ]
     },
     "execution_count": 455,
     "metadata": {},
     "output_type": "execute_result"
    }
   ],
   "source": [
    "#전체 데이터에 대한 학습\n",
    "lgb_02_BO_last = LGBMClassifier(max_depth=8, learning_rate = 0.1 , num_leaves = 200, n_estimators = 500, n_jobs=-1, boost_from_average=False,\n",
    "                        class_weight={0:weight_m2[0],1:weight_m2[1]})\n",
    "\n",
    "lgb_02_BO_last.fit(x_model2_total_dummy, y_model2_total)"
   ]
  },
  {
   "cell_type": "code",
   "execution_count": 456,
   "id": "1dfa4177",
   "metadata": {},
   "outputs": [],
   "source": [
    "pred_lgb_02_BO_test = lgb_02_BO_last.predict(loan_result_model2_test_dummy.drop([\"application_id\",\"user_id\",\"is_applied\",\"loan_limit\"],axis=1))\n",
    "proba_lgb_02_BO_test = lgb_02_BO_last.predict_proba(loan_result_model2_test_dummy.drop([\"application_id\",\"user_id\",\"is_applied\",\"loan_limit\"],axis=1))"
   ]
  },
  {
   "cell_type": "code",
   "execution_count": null,
   "id": "e02463df",
   "metadata": {},
   "outputs": [],
   "source": []
  },
  {
   "cell_type": "code",
   "execution_count": null,
   "id": "867066df",
   "metadata": {},
   "outputs": [],
   "source": []
  },
  {
   "cell_type": "code",
   "execution_count": null,
   "id": "2476890d",
   "metadata": {},
   "outputs": [],
   "source": []
  },
  {
   "cell_type": "markdown",
   "id": "b97334ba",
   "metadata": {},
   "source": [
    "### 모델 2_3 Catboost"
   ]
  },
  {
   "cell_type": "code",
   "execution_count": 342,
   "id": "56446811",
   "metadata": {},
   "outputs": [],
   "source": [
    "evals = [(x_train_model2, y_train_model2),(x_valid_model2, y_valid_model2)]"
   ]
  },
  {
   "cell_type": "code",
   "execution_count": 356,
   "id": "a93627d1",
   "metadata": {},
   "outputs": [
    {
     "name": "stderr",
     "output_type": "stream",
     "text": [
      "Custom logger is already specified. Specify more than one logger at same time is not thread safe."
     ]
    },
    {
     "data": {
      "application/vnd.jupyter.widget-view+json": {
       "model_id": "f9022e37f5a044fe9f821277dd9cfdbf",
       "version_major": 2,
       "version_minor": 0
      },
      "text/plain": [
       "MetricVisualizer(layout=Layout(align_self='stretch', height='500px'))"
      ]
     },
     "metadata": {},
     "output_type": "display_data"
    },
    {
     "data": {
      "text/plain": [
       "<catboost.core.CatBoostClassifier at 0x1b3afec4f40>"
      ]
     },
     "execution_count": 356,
     "metadata": {},
     "output_type": "execute_result"
    }
   ],
   "source": [
    "cat_02_BO_tuend = CatBoostClassifier(max_depth = 8,n_estimators = 2000, eval_metric = \"Logloss\",\n",
    "                               cat_features=np.where(x_train_model2.dtypes != np.float)[0], class_weights={0:weight_m2[0],1:weight_m2[1]},\n",
    "                        random_state=42,early_stopping_rounds = 300)\n",
    "\n",
    "cat_02_BO_tuend.fit(x_train_model2, y_train_model2, eval_set = evals, verbose=False, plot=True\n",
    "               )"
   ]
  },
  {
   "cell_type": "code",
   "execution_count": 344,
   "id": "a8da11ac",
   "metadata": {
    "scrolled": false
   },
   "outputs": [
    {
     "data": {
      "image/png": "[encoded data removed]",
      "text/plain": [
       "<Figure size 842.4x595.44 with 1 Axes>"
      ]
     },
     "metadata": {},
     "output_type": "display_data"
    }
   ],
   "source": [
    "sns.set(rc={'figure.figsize':(11.7,8.27)})\n",
    "cat_feature_imp = pd.DataFrame([cat_02_BO_tuend.feature_names_ , cat_02_BO_tuend.feature_importances_]).T\n",
    "cat_feature_imp.columns = [\"feature\",\"varimp\"]\n",
    "cat_feature_imp = cat_feature_imp.sort_values(by=\"varimp\", ascending = False)\n",
    "sns.barplot(y=\"feature\", x=\"varimp\",data = cat_feature_imp,)\n",
    "plt.show()"
   ]
  },
  {
   "cell_type": "code",
   "execution_count": 345,
   "id": "d50ded4b",
   "metadata": {},
   "outputs": [],
   "source": [
    "pred_cat_02_BO_train = cat_02_BO_tuend.predict(x_train_model2)\n",
    "pred_cat_02_BO_valid = cat_02_BO_tuend.predict(x_valid_model2)\n",
    "proba_cat_02_BO_valid = cat_02_BO_tuend.predict_proba(x_valid_model2)\n",
    "#y_train_model2, y_valid_model2"
   ]
  },
  {
   "cell_type": "code",
   "execution_count": 346,
   "id": "2351057b",
   "metadata": {},
   "outputs": [
    {
     "name": "stdout",
     "output_type": "stream",
     "text": [
      "Train Set 결과\n",
      "accuracy_score :  0.830698523792423\n",
      "recall_score :  0.864778370062083\n",
      "precision_score :  0.39475923358124293\n",
      "f1_score :  0.5420707497670164\n"
     ]
    }
   ],
   "source": [
    "print(\"Train Set 결과\")\n",
    "print(\"accuracy_score : \",accuracy_score(y_train_model2, pred_cat_02_BO_train))\n",
    "print(\"recall_score : \",recall_score(y_train_model2, pred_cat_02_BO_train))\n",
    "print(\"precision_score : \",precision_score(y_train_model2, pred_cat_02_BO_train))\n",
    "print(\"f1_score : \",f1_score(y_train_model2, pred_cat_02_BO_train))"
   ]
  },
  {
   "cell_type": "code",
   "execution_count": 347,
   "id": "a7a6ee8a",
   "metadata": {},
   "outputs": [
    {
     "name": "stdout",
     "output_type": "stream",
     "text": [
      "Valid Set 결과\n",
      "accuracy_score :  0.8547655324694159\n",
      "recall_score :  0.7473229765101812\n",
      "precision_score :  0.26471246956601313\n",
      "f1_score :  0.3909462093297862\n"
     ]
    }
   ],
   "source": [
    "print(\"Valid Set 결과\")\n",
    "print(\"accuracy_score : \",accuracy_score(y_valid_model2, pred_cat_02_BO_valid))\n",
    "print(\"recall_score : \",recall_score(y_valid_model2, pred_cat_02_BO_valid))\n",
    "print(\"precision_score : \",precision_score(y_valid_model2, pred_cat_02_BO_valid))\n",
    "print(\"f1_score : \",f1_score(y_valid_model2, pred_cat_02_BO_valid))"
   ]
  },
  {
   "cell_type": "code",
   "execution_count": 360,
   "id": "b6881862",
   "metadata": {},
   "outputs": [],
   "source": [
    "lea = cat_02_BO_tuend.get_all_params()[\"learning_rate\"]\n",
    "lea"
   ]
  },
  {
   "cell_type": "code",
   "execution_count": 457,
   "id": "45609d4e",
   "metadata": {
    "scrolled": true
   },
   "outputs": [
    {
     "name": "stdout",
     "output_type": "stream",
     "text": [
      "0:\tlearn: 0.5739579\ttotal: 3.94s\tremaining: 26m 10s\n",
      "1:\tlearn: 0.5029368\ttotal: 8.3s\tremaining: 27m 31s\n",
      "2:\tlearn: 0.4597792\ttotal: 12.6s\tremaining: 27m 52s\n",
      "3:\tlearn: 0.4297064\ttotal: 17.2s\tremaining: 28m 27s\n",
      "4:\tlearn: 0.4123537\ttotal: 21.3s\tremaining: 27m 58s\n",
      "5:\tlearn: 0.3978995\ttotal: 25.3s\tremaining: 27m 38s\n",
      "6:\tlearn: 0.3901242\ttotal: 27.4s\tremaining: 25m 39s\n",
      "7:\tlearn: 0.3838148\ttotal: 29.1s\tremaining: 23m 45s\n",
      "8:\tlearn: 0.3786550\ttotal: 31.1s\tremaining: 22m 31s\n",
      "9:\tlearn: 0.3750654\ttotal: 32.8s\tremaining: 21m 20s\n",
      "10:\tlearn: 0.3724543\ttotal: 34.6s\tremaining: 20m 22s\n",
      "11:\tlearn: 0.3704178\ttotal: 36.3s\tremaining: 19m 33s\n",
      "12:\tlearn: 0.3686761\ttotal: 38.1s\tremaining: 18m 53s\n",
      "13:\tlearn: 0.3673203\ttotal: 39.9s\tremaining: 18m 19s\n",
      "14:\tlearn: 0.3662074\ttotal: 41.8s\tremaining: 17m 53s\n",
      "15:\tlearn: 0.3653416\ttotal: 43.8s\tremaining: 17m 30s\n",
      "16:\tlearn: 0.3643832\ttotal: 45.6s\tremaining: 17m 8s\n",
      "17:\tlearn: 0.3636305\ttotal: 47.4s\tremaining: 16m 46s\n",
      "18:\tlearn: 0.3627901\ttotal: 49.3s\tremaining: 16m 28s\n",
      "19:\tlearn: 0.3622195\ttotal: 51.2s\tremaining: 16m 12s\n",
      "20:\tlearn: 0.3616529\ttotal: 53s\tremaining: 15m 56s\n",
      "21:\tlearn: 0.3612027\ttotal: 54.9s\tremaining: 15m 44s\n",
      "22:\tlearn: 0.3607157\ttotal: 56.7s\tremaining: 15m 30s\n",
      "23:\tlearn: 0.3603244\ttotal: 58.6s\tremaining: 15m 17s\n",
      "24:\tlearn: 0.3599786\ttotal: 1m\tremaining: 15m 7s\n",
      "25:\tlearn: 0.3596867\ttotal: 1m 2s\tremaining: 14m 55s\n",
      "26:\tlearn: 0.3592860\ttotal: 1m 4s\tremaining: 14m 45s\n",
      "27:\tlearn: 0.3590297\ttotal: 1m 5s\tremaining: 14m 35s\n",
      "28:\tlearn: 0.3588027\ttotal: 1m 7s\tremaining: 14m 26s\n",
      "29:\tlearn: 0.3586478\ttotal: 1m 9s\tremaining: 14m 19s\n",
      "30:\tlearn: 0.3584064\ttotal: 1m 11s\tremaining: 14m 11s\n",
      "31:\tlearn: 0.3582026\ttotal: 1m 13s\tremaining: 14m 5s\n",
      "32:\tlearn: 0.3579997\ttotal: 1m 15s\tremaining: 14m\n",
      "33:\tlearn: 0.3578256\ttotal: 1m 17s\tremaining: 13m 53s\n",
      "34:\tlearn: 0.3576881\ttotal: 1m 19s\tremaining: 13m 44s\n",
      "35:\tlearn: 0.3574676\ttotal: 1m 20s\tremaining: 13m 38s\n",
      "36:\tlearn: 0.3573296\ttotal: 1m 22s\tremaining: 13m 31s\n",
      "37:\tlearn: 0.3571657\ttotal: 1m 24s\tremaining: 13m 27s\n",
      "38:\tlearn: 0.3570417\ttotal: 1m 26s\tremaining: 13m 21s\n",
      "39:\tlearn: 0.3568219\ttotal: 1m 28s\tremaining: 13m 16s\n",
      "40:\tlearn: 0.3566125\ttotal: 1m 30s\tremaining: 13m 10s\n",
      "41:\tlearn: 0.3564048\ttotal: 1m 32s\tremaining: 13m 5s\n",
      "42:\tlearn: 0.3562356\ttotal: 1m 34s\tremaining: 13m 1s\n",
      "43:\tlearn: 0.3561020\ttotal: 1m 35s\tremaining: 12m 55s\n",
      "44:\tlearn: 0.3559257\ttotal: 1m 37s\tremaining: 12m 52s\n",
      "45:\tlearn: 0.3558343\ttotal: 1m 39s\tremaining: 12m 47s\n",
      "46:\tlearn: 0.3557671\ttotal: 1m 41s\tremaining: 12m 43s\n",
      "47:\tlearn: 0.3556358\ttotal: 1m 43s\tremaining: 12m 39s\n",
      "48:\tlearn: 0.3555305\ttotal: 1m 45s\tremaining: 12m 35s\n",
      "49:\tlearn: 0.3554319\ttotal: 1m 47s\tremaining: 12m 31s\n",
      "50:\tlearn: 0.3553393\ttotal: 1m 49s\tremaining: 12m 26s\n",
      "51:\tlearn: 0.3552665\ttotal: 1m 51s\tremaining: 12m 23s\n",
      "52:\tlearn: 0.3551881\ttotal: 1m 52s\tremaining: 12m 19s\n",
      "53:\tlearn: 0.3551062\ttotal: 1m 54s\tremaining: 12m 16s\n",
      "54:\tlearn: 0.3550068\ttotal: 1m 56s\tremaining: 12m 12s\n",
      "55:\tlearn: 0.3549180\ttotal: 1m 58s\tremaining: 12m 9s\n",
      "56:\tlearn: 0.3548485\ttotal: 2m\tremaining: 12m 7s\n",
      "57:\tlearn: 0.3548065\ttotal: 2m 2s\tremaining: 12m 3s\n",
      "58:\tlearn: 0.3546874\ttotal: 2m 4s\tremaining: 11m 58s\n",
      "59:\tlearn: 0.3546070\ttotal: 2m 6s\tremaining: 11m 55s\n",
      "60:\tlearn: 0.3545204\ttotal: 2m 8s\tremaining: 11m 52s\n",
      "61:\tlearn: 0.3544764\ttotal: 2m 10s\tremaining: 11m 49s\n",
      "62:\tlearn: 0.3544108\ttotal: 2m 12s\tremaining: 11m 46s\n",
      "63:\tlearn: 0.3542957\ttotal: 2m 13s\tremaining: 11m 43s\n",
      "64:\tlearn: 0.3542478\ttotal: 2m 15s\tremaining: 11m 39s\n",
      "65:\tlearn: 0.3541840\ttotal: 2m 17s\tremaining: 11m 35s\n",
      "66:\tlearn: 0.3541249\ttotal: 2m 19s\tremaining: 11m 33s\n",
      "67:\tlearn: 0.3540422\ttotal: 2m 21s\tremaining: 11m 29s\n",
      "68:\tlearn: 0.3539787\ttotal: 2m 23s\tremaining: 11m 26s\n",
      "69:\tlearn: 0.3539308\ttotal: 2m 25s\tremaining: 11m 23s\n",
      "70:\tlearn: 0.3538410\ttotal: 2m 26s\tremaining: 11m 20s\n",
      "71:\tlearn: 0.3537910\ttotal: 2m 28s\tremaining: 11m 18s\n",
      "72:\tlearn: 0.3536909\ttotal: 2m 30s\tremaining: 11m 15s\n",
      "73:\tlearn: 0.3536490\ttotal: 2m 32s\tremaining: 11m 12s\n",
      "74:\tlearn: 0.3535789\ttotal: 2m 34s\tremaining: 11m 9s\n",
      "75:\tlearn: 0.3534814\ttotal: 2m 36s\tremaining: 11m 7s\n",
      "76:\tlearn: 0.3534252\ttotal: 2m 38s\tremaining: 11m 4s\n",
      "77:\tlearn: 0.3533938\ttotal: 2m 40s\tremaining: 11m 1s\n",
      "78:\tlearn: 0.3533347\ttotal: 2m 42s\tremaining: 10m 59s\n",
      "79:\tlearn: 0.3532746\ttotal: 2m 44s\tremaining: 10m 57s\n",
      "80:\tlearn: 0.3531407\ttotal: 2m 46s\tremaining: 10m 55s\n",
      "81:\tlearn: 0.3530974\ttotal: 2m 48s\tremaining: 10m 52s\n",
      "82:\tlearn: 0.3530639\ttotal: 2m 50s\tremaining: 10m 50s\n",
      "83:\tlearn: 0.3529885\ttotal: 2m 52s\tremaining: 10m 47s\n",
      "84:\tlearn: 0.3529419\ttotal: 2m 54s\tremaining: 10m 45s\n",
      "85:\tlearn: 0.3529037\ttotal: 2m 56s\tremaining: 10m 43s\n",
      "86:\tlearn: 0.3528477\ttotal: 2m 58s\tremaining: 10m 40s\n",
      "87:\tlearn: 0.3527765\ttotal: 2m 59s\tremaining: 10m 38s\n",
      "88:\tlearn: 0.3527229\ttotal: 3m 1s\tremaining: 10m 34s\n",
      "89:\tlearn: 0.3526386\ttotal: 3m 3s\tremaining: 10m 33s\n",
      "90:\tlearn: 0.3525450\ttotal: 3m 5s\tremaining: 10m 30s\n",
      "91:\tlearn: 0.3524971\ttotal: 3m 7s\tremaining: 10m 27s\n",
      "92:\tlearn: 0.3524458\ttotal: 3m 9s\tremaining: 10m 24s\n",
      "93:\tlearn: 0.3524032\ttotal: 3m 11s\tremaining: 10m 22s\n",
      "94:\tlearn: 0.3523658\ttotal: 3m 13s\tremaining: 10m 19s\n",
      "95:\tlearn: 0.3523337\ttotal: 3m 14s\tremaining: 10m 17s\n",
      "96:\tlearn: 0.3522745\ttotal: 3m 16s\tremaining: 10m 14s\n",
      "97:\tlearn: 0.3522420\ttotal: 3m 18s\tremaining: 10m 12s\n",
      "98:\tlearn: 0.3522097\ttotal: 3m 20s\tremaining: 10m 10s\n",
      "99:\tlearn: 0.3521643\ttotal: 3m 22s\tremaining: 10m 6s\n",
      "100:\tlearn: 0.3521140\ttotal: 3m 23s\tremaining: 10m 3s\n",
      "101:\tlearn: 0.3520646\ttotal: 3m 25s\tremaining: 10m 1s\n",
      "102:\tlearn: 0.3520167\ttotal: 3m 27s\tremaining: 9m 59s\n",
      "103:\tlearn: 0.3519505\ttotal: 3m 29s\tremaining: 9m 56s\n",
      "104:\tlearn: 0.3519006\ttotal: 3m 31s\tremaining: 9m 53s\n",
      "105:\tlearn: 0.3518496\ttotal: 3m 33s\tremaining: 9m 51s\n",
      "106:\tlearn: 0.3518080\ttotal: 3m 35s\tremaining: 9m 49s\n",
      "107:\tlearn: 0.3517570\ttotal: 3m 37s\tremaining: 9m 47s\n",
      "108:\tlearn: 0.3517085\ttotal: 3m 39s\tremaining: 9m 45s\n",
      "109:\tlearn: 0.3516587\ttotal: 3m 41s\tremaining: 9m 42s\n",
      "110:\tlearn: 0.3516112\ttotal: 3m 42s\tremaining: 9m 40s\n",
      "111:\tlearn: 0.3515651\ttotal: 3m 44s\tremaining: 9m 38s\n",
      "112:\tlearn: 0.3515305\ttotal: 3m 46s\tremaining: 9m 36s\n",
      "113:\tlearn: 0.3514847\ttotal: 3m 48s\tremaining: 9m 34s\n",
      "114:\tlearn: 0.3514336\ttotal: 3m 50s\tremaining: 9m 31s\n",
      "115:\tlearn: 0.3514054\ttotal: 3m 52s\tremaining: 9m 29s\n",
      "116:\tlearn: 0.3513754\ttotal: 3m 54s\tremaining: 9m 26s\n",
      "117:\tlearn: 0.3513361\ttotal: 3m 56s\tremaining: 9m 24s\n",
      "118:\tlearn: 0.3512646\ttotal: 3m 58s\tremaining: 9m 22s\n",
      "119:\tlearn: 0.3512282\ttotal: 4m\tremaining: 9m 20s\n",
      "120:\tlearn: 0.3511851\ttotal: 4m 1s\tremaining: 9m 17s\n",
      "121:\tlearn: 0.3511475\ttotal: 4m 3s\tremaining: 9m 15s\n",
      "122:\tlearn: 0.3511052\ttotal: 4m 5s\tremaining: 9m 12s\n",
      "123:\tlearn: 0.3510689\ttotal: 4m 7s\tremaining: 9m 10s\n",
      "124:\tlearn: 0.3510396\ttotal: 4m 9s\tremaining: 9m 8s\n",
      "125:\tlearn: 0.3510056\ttotal: 4m 11s\tremaining: 9m 6s\n",
      "126:\tlearn: 0.3509696\ttotal: 4m 12s\tremaining: 9m 3s\n",
      "127:\tlearn: 0.3509299\ttotal: 4m 14s\tremaining: 9m\n",
      "128:\tlearn: 0.3508871\ttotal: 4m 16s\tremaining: 8m 58s\n",
      "129:\tlearn: 0.3508486\ttotal: 4m 18s\tremaining: 8m 56s\n",
      "130:\tlearn: 0.3508153\ttotal: 4m 20s\tremaining: 8m 54s\n",
      "131:\tlearn: 0.3507835\ttotal: 4m 22s\tremaining: 8m 52s\n",
      "132:\tlearn: 0.3507355\ttotal: 4m 24s\tremaining: 8m 50s\n",
      "133:\tlearn: 0.3506986\ttotal: 4m 25s\tremaining: 8m 47s\n",
      "134:\tlearn: 0.3506652\ttotal: 4m 27s\tremaining: 8m 45s\n",
      "135:\tlearn: 0.3506190\ttotal: 4m 29s\tremaining: 8m 42s\n",
      "136:\tlearn: 0.3505685\ttotal: 4m 31s\tremaining: 8m 40s\n",
      "137:\tlearn: 0.3505267\ttotal: 4m 33s\tremaining: 8m 38s\n",
      "138:\tlearn: 0.3504950\ttotal: 4m 35s\tremaining: 8m 36s\n",
      "139:\tlearn: 0.3504603\ttotal: 4m 36s\tremaining: 8m 34s\n",
      "140:\tlearn: 0.3504252\ttotal: 4m 38s\tremaining: 8m 31s\n",
      "141:\tlearn: 0.3503934\ttotal: 4m 40s\tremaining: 8m 29s\n",
      "142:\tlearn: 0.3503461\ttotal: 4m 42s\tremaining: 8m 27s\n",
      "143:\tlearn: 0.3502962\ttotal: 4m 44s\tremaining: 8m 25s\n",
      "144:\tlearn: 0.3502674\ttotal: 4m 46s\tremaining: 8m 23s\n",
      "145:\tlearn: 0.3502338\ttotal: 4m 47s\tremaining: 8m 20s\n",
      "146:\tlearn: 0.3502035\ttotal: 4m 49s\tremaining: 8m 18s\n",
      "147:\tlearn: 0.3501710\ttotal: 4m 51s\tremaining: 8m 15s\n",
      "148:\tlearn: 0.3501387\ttotal: 4m 53s\tremaining: 8m 13s\n",
      "149:\tlearn: 0.3500970\ttotal: 4m 55s\tremaining: 8m 11s\n",
      "150:\tlearn: 0.3500684\ttotal: 4m 56s\tremaining: 8m 9s\n",
      "151:\tlearn: 0.3500390\ttotal: 4m 58s\tremaining: 8m 7s\n",
      "152:\tlearn: 0.3500091\ttotal: 5m\tremaining: 8m 4s\n",
      "153:\tlearn: 0.3499825\ttotal: 5m 1s\tremaining: 8m 2s\n"
     ]
    },
    {
     "name": "stdout",
     "output_type": "stream",
     "text": [
      "154:\tlearn: 0.3499575\ttotal: 5m 3s\tremaining: 8m\n",
      "155:\tlearn: 0.3499265\ttotal: 5m 5s\tremaining: 7m 57s\n",
      "156:\tlearn: 0.3498760\ttotal: 5m 7s\tremaining: 7m 55s\n",
      "157:\tlearn: 0.3498468\ttotal: 5m 9s\tremaining: 7m 53s\n",
      "158:\tlearn: 0.3498167\ttotal: 5m 10s\tremaining: 7m 51s\n",
      "159:\tlearn: 0.3497773\ttotal: 5m 12s\tremaining: 7m 48s\n",
      "160:\tlearn: 0.3497445\ttotal: 5m 14s\tremaining: 7m 46s\n",
      "161:\tlearn: 0.3497139\ttotal: 5m 15s\tremaining: 7m 43s\n",
      "162:\tlearn: 0.3496866\ttotal: 5m 17s\tremaining: 7m 41s\n",
      "163:\tlearn: 0.3496483\ttotal: 5m 19s\tremaining: 7m 39s\n",
      "164:\tlearn: 0.3496100\ttotal: 5m 20s\tremaining: 7m 37s\n",
      "165:\tlearn: 0.3495620\ttotal: 5m 22s\tremaining: 7m 34s\n",
      "166:\tlearn: 0.3495248\ttotal: 5m 24s\tremaining: 7m 32s\n",
      "167:\tlearn: 0.3494907\ttotal: 5m 26s\tremaining: 7m 30s\n",
      "168:\tlearn: 0.3494559\ttotal: 5m 28s\tremaining: 7m 28s\n",
      "169:\tlearn: 0.3494267\ttotal: 5m 29s\tremaining: 7m 26s\n",
      "170:\tlearn: 0.3493925\ttotal: 5m 31s\tremaining: 7m 24s\n",
      "171:\tlearn: 0.3493583\ttotal: 5m 33s\tremaining: 7m 21s\n",
      "172:\tlearn: 0.3493119\ttotal: 5m 35s\tremaining: 7m 19s\n",
      "173:\tlearn: 0.3492703\ttotal: 5m 36s\tremaining: 7m 17s\n",
      "174:\tlearn: 0.3492472\ttotal: 5m 38s\tremaining: 7m 15s\n",
      "175:\tlearn: 0.3492237\ttotal: 5m 40s\tremaining: 7m 12s\n",
      "176:\tlearn: 0.3492070\ttotal: 5m 41s\tremaining: 7m 10s\n",
      "177:\tlearn: 0.3491843\ttotal: 5m 43s\tremaining: 7m 8s\n",
      "178:\tlearn: 0.3491633\ttotal: 5m 45s\tremaining: 7m 6s\n",
      "179:\tlearn: 0.3491290\ttotal: 5m 47s\tremaining: 7m 4s\n",
      "180:\tlearn: 0.3491014\ttotal: 5m 49s\tremaining: 7m 2s\n",
      "181:\tlearn: 0.3490720\ttotal: 5m 51s\tremaining: 7m\n",
      "182:\tlearn: 0.3490250\ttotal: 5m 52s\tremaining: 6m 58s\n",
      "183:\tlearn: 0.3489918\ttotal: 5m 54s\tremaining: 6m 56s\n",
      "184:\tlearn: 0.3489626\ttotal: 5m 56s\tremaining: 6m 54s\n",
      "185:\tlearn: 0.3489377\ttotal: 5m 58s\tremaining: 6m 52s\n",
      "186:\tlearn: 0.3489109\ttotal: 5m 59s\tremaining: 6m 49s\n",
      "187:\tlearn: 0.3488797\ttotal: 6m 1s\tremaining: 6m 47s\n",
      "188:\tlearn: 0.3488511\ttotal: 6m 3s\tremaining: 6m 45s\n",
      "189:\tlearn: 0.3488274\ttotal: 6m 5s\tremaining: 6m 43s\n",
      "190:\tlearn: 0.3488030\ttotal: 6m 7s\tremaining: 6m 41s\n",
      "191:\tlearn: 0.3487695\ttotal: 6m 8s\tremaining: 6m 39s\n",
      "192:\tlearn: 0.3487436\ttotal: 6m 10s\tremaining: 6m 37s\n",
      "193:\tlearn: 0.3487094\ttotal: 6m 12s\tremaining: 6m 35s\n",
      "194:\tlearn: 0.3486622\ttotal: 6m 14s\tremaining: 6m 33s\n",
      "195:\tlearn: 0.3486365\ttotal: 6m 16s\tremaining: 6m 31s\n",
      "196:\tlearn: 0.3486099\ttotal: 6m 18s\tremaining: 6m 29s\n",
      "197:\tlearn: 0.3485860\ttotal: 6m 19s\tremaining: 6m 27s\n",
      "198:\tlearn: 0.3485605\ttotal: 6m 21s\tremaining: 6m 25s\n",
      "199:\tlearn: 0.3485429\ttotal: 6m 23s\tremaining: 6m 23s\n",
      "200:\tlearn: 0.3485107\ttotal: 6m 25s\tremaining: 6m 21s\n",
      "201:\tlearn: 0.3484671\ttotal: 6m 27s\tremaining: 6m 19s\n",
      "202:\tlearn: 0.3484474\ttotal: 6m 29s\tremaining: 6m 17s\n",
      "203:\tlearn: 0.3484219\ttotal: 6m 30s\tremaining: 6m 15s\n",
      "204:\tlearn: 0.3483906\ttotal: 6m 32s\tremaining: 6m 13s\n",
      "205:\tlearn: 0.3483714\ttotal: 6m 34s\tremaining: 6m 11s\n",
      "206:\tlearn: 0.3483425\ttotal: 6m 36s\tremaining: 6m 9s\n",
      "207:\tlearn: 0.3483202\ttotal: 6m 38s\tremaining: 6m 7s\n",
      "208:\tlearn: 0.3482937\ttotal: 6m 40s\tremaining: 6m 5s\n",
      "209:\tlearn: 0.3482690\ttotal: 6m 42s\tremaining: 6m 4s\n",
      "210:\tlearn: 0.3482454\ttotal: 6m 44s\tremaining: 6m 2s\n",
      "211:\tlearn: 0.3482097\ttotal: 6m 45s\tremaining: 5m 59s\n",
      "212:\tlearn: 0.3481812\ttotal: 6m 47s\tremaining: 5m 57s\n",
      "213:\tlearn: 0.3481510\ttotal: 6m 49s\tremaining: 5m 55s\n",
      "214:\tlearn: 0.3481282\ttotal: 6m 51s\tremaining: 5m 53s\n",
      "215:\tlearn: 0.3481008\ttotal: 6m 52s\tremaining: 5m 51s\n",
      "216:\tlearn: 0.3480706\ttotal: 6m 54s\tremaining: 5m 49s\n",
      "217:\tlearn: 0.3480554\ttotal: 6m 56s\tremaining: 5m 47s\n",
      "218:\tlearn: 0.3480361\ttotal: 6m 58s\tremaining: 5m 45s\n",
      "219:\tlearn: 0.3480122\ttotal: 7m\tremaining: 5m 43s\n",
      "220:\tlearn: 0.3479842\ttotal: 7m 2s\tremaining: 5m 41s\n",
      "221:\tlearn: 0.3479509\ttotal: 7m 3s\tremaining: 5m 39s\n",
      "222:\tlearn: 0.3479294\ttotal: 7m 5s\tremaining: 5m 37s\n",
      "223:\tlearn: 0.3479169\ttotal: 7m 7s\tremaining: 5m 36s\n",
      "224:\tlearn: 0.3478895\ttotal: 7m 9s\tremaining: 5m 34s\n",
      "225:\tlearn: 0.3478564\ttotal: 7m 11s\tremaining: 5m 32s\n",
      "226:\tlearn: 0.3478224\ttotal: 7m 13s\tremaining: 5m 30s\n",
      "227:\tlearn: 0.3477856\ttotal: 7m 15s\tremaining: 5m 28s\n",
      "228:\tlearn: 0.3477593\ttotal: 7m 17s\tremaining: 5m 26s\n",
      "229:\tlearn: 0.3477462\ttotal: 7m 19s\tremaining: 5m 24s\n",
      "230:\tlearn: 0.3477218\ttotal: 7m 20s\tremaining: 5m 22s\n",
      "231:\tlearn: 0.3476977\ttotal: 7m 22s\tremaining: 5m 20s\n",
      "232:\tlearn: 0.3476726\ttotal: 7m 24s\tremaining: 5m 18s\n",
      "233:\tlearn: 0.3476339\ttotal: 7m 26s\tremaining: 5m 16s\n",
      "234:\tlearn: 0.3476134\ttotal: 7m 28s\tremaining: 5m 15s\n",
      "235:\tlearn: 0.3475915\ttotal: 7m 30s\tremaining: 5m 13s\n",
      "236:\tlearn: 0.3475676\ttotal: 7m 32s\tremaining: 5m 11s\n",
      "237:\tlearn: 0.3475507\ttotal: 7m 34s\tremaining: 5m 9s\n",
      "238:\tlearn: 0.3475233\ttotal: 7m 36s\tremaining: 5m 7s\n",
      "239:\tlearn: 0.3475061\ttotal: 7m 38s\tremaining: 5m 5s\n",
      "240:\tlearn: 0.3474815\ttotal: 7m 40s\tremaining: 5m 3s\n",
      "241:\tlearn: 0.3474498\ttotal: 7m 42s\tremaining: 5m 2s\n",
      "242:\tlearn: 0.3474026\ttotal: 7m 44s\tremaining: 4m 59s\n",
      "243:\tlearn: 0.3473844\ttotal: 7m 46s\tremaining: 4m 57s\n",
      "244:\tlearn: 0.3473634\ttotal: 7m 47s\tremaining: 4m 56s\n",
      "245:\tlearn: 0.3473464\ttotal: 7m 49s\tremaining: 4m 54s\n",
      "246:\tlearn: 0.3473311\ttotal: 7m 51s\tremaining: 4m 52s\n",
      "247:\tlearn: 0.3473068\ttotal: 7m 53s\tremaining: 4m 50s\n",
      "248:\tlearn: 0.3472662\ttotal: 7m 55s\tremaining: 4m 48s\n",
      "249:\tlearn: 0.3472379\ttotal: 7m 57s\tremaining: 4m 46s\n",
      "250:\tlearn: 0.3472140\ttotal: 7m 59s\tremaining: 4m 44s\n",
      "251:\tlearn: 0.3471919\ttotal: 8m 1s\tremaining: 4m 42s\n",
      "252:\tlearn: 0.3471651\ttotal: 8m 3s\tremaining: 4m 40s\n",
      "253:\tlearn: 0.3471371\ttotal: 8m 5s\tremaining: 4m 38s\n",
      "254:\tlearn: 0.3471138\ttotal: 8m 7s\tremaining: 4m 37s\n",
      "255:\tlearn: 0.3470956\ttotal: 8m 9s\tremaining: 4m 35s\n",
      "256:\tlearn: 0.3470791\ttotal: 8m 10s\tremaining: 4m 33s\n",
      "257:\tlearn: 0.3470604\ttotal: 8m 12s\tremaining: 4m 31s\n",
      "258:\tlearn: 0.3470394\ttotal: 8m 14s\tremaining: 4m 29s\n",
      "259:\tlearn: 0.3470217\ttotal: 8m 16s\tremaining: 4m 27s\n",
      "260:\tlearn: 0.3470079\ttotal: 8m 18s\tremaining: 4m 25s\n",
      "261:\tlearn: 0.3469856\ttotal: 8m 20s\tremaining: 4m 23s\n",
      "262:\tlearn: 0.3469574\ttotal: 8m 22s\tremaining: 4m 21s\n",
      "263:\tlearn: 0.3469324\ttotal: 8m 23s\tremaining: 4m 19s\n",
      "264:\tlearn: 0.3469124\ttotal: 8m 25s\tremaining: 4m 17s\n",
      "265:\tlearn: 0.3468953\ttotal: 8m 27s\tremaining: 4m 15s\n",
      "266:\tlearn: 0.3468710\ttotal: 8m 29s\tremaining: 4m 13s\n",
      "267:\tlearn: 0.3468433\ttotal: 8m 31s\tremaining: 4m 11s\n",
      "268:\tlearn: 0.3468232\ttotal: 8m 33s\tremaining: 4m 10s\n",
      "269:\tlearn: 0.3468053\ttotal: 8m 35s\tremaining: 4m 8s\n",
      "270:\tlearn: 0.3467874\ttotal: 8m 37s\tremaining: 4m 6s\n",
      "271:\tlearn: 0.3467694\ttotal: 8m 39s\tremaining: 4m 4s\n",
      "272:\tlearn: 0.3467515\ttotal: 8m 41s\tremaining: 4m 2s\n",
      "273:\tlearn: 0.3467237\ttotal: 8m 42s\tremaining: 4m\n",
      "274:\tlearn: 0.3467036\ttotal: 8m 44s\tremaining: 3m 58s\n",
      "275:\tlearn: 0.3466743\ttotal: 8m 46s\tremaining: 3m 56s\n",
      "276:\tlearn: 0.3466546\ttotal: 8m 48s\tremaining: 3m 54s\n",
      "277:\tlearn: 0.3466361\ttotal: 8m 49s\tremaining: 3m 52s\n",
      "278:\tlearn: 0.3466119\ttotal: 8m 51s\tremaining: 3m 50s\n",
      "279:\tlearn: 0.3465851\ttotal: 8m 53s\tremaining: 3m 48s\n",
      "280:\tlearn: 0.3465647\ttotal: 8m 55s\tremaining: 3m 46s\n",
      "281:\tlearn: 0.3465533\ttotal: 8m 57s\tremaining: 3m 45s\n",
      "282:\tlearn: 0.3465375\ttotal: 8m 59s\tremaining: 3m 43s\n",
      "283:\tlearn: 0.3465255\ttotal: 9m 1s\tremaining: 3m 41s\n",
      "284:\tlearn: 0.3465080\ttotal: 9m 3s\tremaining: 3m 39s\n",
      "285:\tlearn: 0.3464891\ttotal: 9m 5s\tremaining: 3m 37s\n",
      "286:\tlearn: 0.3464578\ttotal: 9m 6s\tremaining: 3m 35s\n",
      "287:\tlearn: 0.3464258\ttotal: 9m 8s\tremaining: 3m 33s\n",
      "288:\tlearn: 0.3463970\ttotal: 9m 10s\tremaining: 3m 31s\n",
      "289:\tlearn: 0.3463772\ttotal: 9m 12s\tremaining: 3m 29s\n",
      "290:\tlearn: 0.3463706\ttotal: 9m 13s\tremaining: 3m 27s\n",
      "291:\tlearn: 0.3463496\ttotal: 9m 15s\tremaining: 3m 25s\n",
      "292:\tlearn: 0.3463362\ttotal: 9m 17s\tremaining: 3m 23s\n",
      "293:\tlearn: 0.3463111\ttotal: 9m 19s\tremaining: 3m 21s\n",
      "294:\tlearn: 0.3462897\ttotal: 9m 21s\tremaining: 3m 19s\n",
      "295:\tlearn: 0.3462565\ttotal: 9m 23s\tremaining: 3m 17s\n",
      "296:\tlearn: 0.3462346\ttotal: 9m 25s\tremaining: 3m 16s\n",
      "297:\tlearn: 0.3462228\ttotal: 9m 27s\tremaining: 3m 14s\n",
      "298:\tlearn: 0.3462096\ttotal: 9m 29s\tremaining: 3m 12s\n",
      "299:\tlearn: 0.3461917\ttotal: 9m 30s\tremaining: 3m 10s\n",
      "300:\tlearn: 0.3461666\ttotal: 9m 32s\tremaining: 3m 8s\n",
      "301:\tlearn: 0.3461502\ttotal: 9m 34s\tremaining: 3m 6s\n",
      "302:\tlearn: 0.3461202\ttotal: 9m 36s\tremaining: 3m 4s\n",
      "303:\tlearn: 0.3461032\ttotal: 9m 38s\tremaining: 3m 2s\n",
      "304:\tlearn: 0.3460888\ttotal: 9m 40s\tremaining: 3m\n",
      "305:\tlearn: 0.3460700\ttotal: 9m 41s\tremaining: 2m 58s\n",
      "306:\tlearn: 0.3460565\ttotal: 9m 43s\tremaining: 2m 56s\n"
     ]
    },
    {
     "name": "stdout",
     "output_type": "stream",
     "text": [
      "307:\tlearn: 0.3460387\ttotal: 9m 45s\tremaining: 2m 54s\n",
      "308:\tlearn: 0.3460251\ttotal: 9m 47s\tremaining: 2m 53s\n",
      "309:\tlearn: 0.3460007\ttotal: 9m 49s\tremaining: 2m 51s\n",
      "310:\tlearn: 0.3459842\ttotal: 9m 51s\tremaining: 2m 49s\n",
      "311:\tlearn: 0.3459636\ttotal: 9m 53s\tremaining: 2m 47s\n",
      "312:\tlearn: 0.3459488\ttotal: 9m 55s\tremaining: 2m 45s\n",
      "313:\tlearn: 0.3459341\ttotal: 9m 57s\tremaining: 2m 43s\n",
      "314:\tlearn: 0.3459145\ttotal: 9m 59s\tremaining: 2m 41s\n",
      "315:\tlearn: 0.3458874\ttotal: 10m 1s\tremaining: 2m 39s\n",
      "316:\tlearn: 0.3458769\ttotal: 10m 3s\tremaining: 2m 37s\n",
      "317:\tlearn: 0.3458550\ttotal: 10m 5s\tremaining: 2m 36s\n",
      "318:\tlearn: 0.3458398\ttotal: 10m 6s\tremaining: 2m 34s\n",
      "319:\tlearn: 0.3458176\ttotal: 10m 8s\tremaining: 2m 32s\n",
      "320:\tlearn: 0.3457932\ttotal: 10m 10s\tremaining: 2m 30s\n",
      "321:\tlearn: 0.3457728\ttotal: 10m 12s\tremaining: 2m 28s\n",
      "322:\tlearn: 0.3457501\ttotal: 10m 14s\tremaining: 2m 26s\n",
      "323:\tlearn: 0.3457300\ttotal: 10m 16s\tremaining: 2m 24s\n",
      "324:\tlearn: 0.3457046\ttotal: 10m 18s\tremaining: 2m 22s\n",
      "325:\tlearn: 0.3456793\ttotal: 10m 20s\tremaining: 2m 20s\n",
      "326:\tlearn: 0.3456605\ttotal: 10m 22s\tremaining: 2m 18s\n",
      "327:\tlearn: 0.3456389\ttotal: 10m 23s\tremaining: 2m 16s\n",
      "328:\tlearn: 0.3456265\ttotal: 10m 25s\tremaining: 2m 15s\n",
      "329:\tlearn: 0.3456011\ttotal: 10m 27s\tremaining: 2m 13s\n",
      "330:\tlearn: 0.3455763\ttotal: 10m 29s\tremaining: 2m 11s\n",
      "331:\tlearn: 0.3455526\ttotal: 10m 31s\tremaining: 2m 9s\n",
      "332:\tlearn: 0.3455214\ttotal: 10m 33s\tremaining: 2m 7s\n",
      "333:\tlearn: 0.3455028\ttotal: 10m 35s\tremaining: 2m 5s\n",
      "334:\tlearn: 0.3454758\ttotal: 10m 36s\tremaining: 2m 3s\n",
      "335:\tlearn: 0.3454559\ttotal: 10m 38s\tremaining: 2m 1s\n",
      "336:\tlearn: 0.3454315\ttotal: 10m 40s\tremaining: 1m 59s\n",
      "337:\tlearn: 0.3454065\ttotal: 10m 42s\tremaining: 1m 57s\n",
      "338:\tlearn: 0.3453877\ttotal: 10m 44s\tremaining: 1m 55s\n",
      "339:\tlearn: 0.3453686\ttotal: 10m 46s\tremaining: 1m 54s\n",
      "340:\tlearn: 0.3453408\ttotal: 10m 47s\tremaining: 1m 52s\n",
      "341:\tlearn: 0.3453182\ttotal: 10m 49s\tremaining: 1m 50s\n",
      "342:\tlearn: 0.3452988\ttotal: 10m 51s\tremaining: 1m 48s\n",
      "343:\tlearn: 0.3452726\ttotal: 10m 52s\tremaining: 1m 46s\n",
      "344:\tlearn: 0.3452519\ttotal: 10m 54s\tremaining: 1m 44s\n",
      "345:\tlearn: 0.3452415\ttotal: 10m 56s\tremaining: 1m 42s\n",
      "346:\tlearn: 0.3452088\ttotal: 10m 57s\tremaining: 1m 40s\n",
      "347:\tlearn: 0.3451894\ttotal: 10m 59s\tremaining: 1m 38s\n",
      "348:\tlearn: 0.3451735\ttotal: 11m 1s\tremaining: 1m 36s\n",
      "349:\tlearn: 0.3451570\ttotal: 11m 2s\tremaining: 1m 34s\n",
      "350:\tlearn: 0.3451398\ttotal: 11m 4s\tremaining: 1m 32s\n",
      "351:\tlearn: 0.3451200\ttotal: 11m 6s\tremaining: 1m 30s\n",
      "352:\tlearn: 0.3450979\ttotal: 11m 8s\tremaining: 1m 28s\n",
      "353:\tlearn: 0.3450806\ttotal: 11m 9s\tremaining: 1m 27s\n",
      "354:\tlearn: 0.3450515\ttotal: 11m 11s\tremaining: 1m 25s\n",
      "355:\tlearn: 0.3450282\ttotal: 11m 13s\tremaining: 1m 23s\n",
      "356:\tlearn: 0.3450104\ttotal: 11m 15s\tremaining: 1m 21s\n",
      "357:\tlearn: 0.3449866\ttotal: 11m 17s\tremaining: 1m 19s\n",
      "358:\tlearn: 0.3449663\ttotal: 11m 18s\tremaining: 1m 17s\n",
      "359:\tlearn: 0.3449527\ttotal: 11m 20s\tremaining: 1m 15s\n",
      "360:\tlearn: 0.3449332\ttotal: 11m 22s\tremaining: 1m 13s\n",
      "361:\tlearn: 0.3449067\ttotal: 11m 24s\tremaining: 1m 11s\n",
      "362:\tlearn: 0.3448821\ttotal: 11m 25s\tremaining: 1m 9s\n",
      "363:\tlearn: 0.3448665\ttotal: 11m 27s\tremaining: 1m 8s\n",
      "364:\tlearn: 0.3448553\ttotal: 11m 29s\tremaining: 1m 6s\n",
      "365:\tlearn: 0.3448241\ttotal: 11m 31s\tremaining: 1m 4s\n",
      "366:\tlearn: 0.3448049\ttotal: 11m 32s\tremaining: 1m 2s\n",
      "367:\tlearn: 0.3447877\ttotal: 11m 34s\tremaining: 1m\n",
      "368:\tlearn: 0.3447686\ttotal: 11m 36s\tremaining: 58.5s\n",
      "369:\tlearn: 0.3447475\ttotal: 11m 38s\tremaining: 56.6s\n",
      "370:\tlearn: 0.3447297\ttotal: 11m 40s\tremaining: 54.7s\n",
      "371:\tlearn: 0.3447102\ttotal: 11m 41s\tremaining: 52.8s\n",
      "372:\tlearn: 0.3446998\ttotal: 11m 43s\tremaining: 51s\n",
      "373:\tlearn: 0.3446857\ttotal: 11m 45s\tremaining: 49.1s\n",
      "374:\tlearn: 0.3446657\ttotal: 11m 47s\tremaining: 47.2s\n",
      "375:\tlearn: 0.3446435\ttotal: 11m 49s\tremaining: 45.3s\n",
      "376:\tlearn: 0.3446251\ttotal: 11m 51s\tremaining: 43.4s\n",
      "377:\tlearn: 0.3446036\ttotal: 11m 53s\tremaining: 41.5s\n",
      "378:\tlearn: 0.3445831\ttotal: 11m 55s\tremaining: 39.6s\n",
      "379:\tlearn: 0.3445709\ttotal: 11m 57s\tremaining: 37.7s\n",
      "380:\tlearn: 0.3445416\ttotal: 11m 58s\tremaining: 35.9s\n",
      "381:\tlearn: 0.3445199\ttotal: 12m\tremaining: 34s\n",
      "382:\tlearn: 0.3445027\ttotal: 12m 2s\tremaining: 32.1s\n",
      "383:\tlearn: 0.3444906\ttotal: 12m 4s\tremaining: 30.2s\n",
      "384:\tlearn: 0.3444669\ttotal: 12m 6s\tremaining: 28.3s\n",
      "385:\tlearn: 0.3444484\ttotal: 12m 8s\tremaining: 26.4s\n",
      "386:\tlearn: 0.3444324\ttotal: 12m 10s\tremaining: 24.5s\n",
      "387:\tlearn: 0.3444072\ttotal: 12m 12s\tremaining: 22.6s\n",
      "388:\tlearn: 0.3443833\ttotal: 12m 14s\tremaining: 20.8s\n",
      "389:\tlearn: 0.3443718\ttotal: 12m 16s\tremaining: 18.9s\n",
      "390:\tlearn: 0.3443501\ttotal: 12m 18s\tremaining: 17s\n",
      "391:\tlearn: 0.3443305\ttotal: 12m 20s\tremaining: 15.1s\n",
      "392:\tlearn: 0.3443080\ttotal: 12m 21s\tremaining: 13.2s\n",
      "393:\tlearn: 0.3442889\ttotal: 12m 23s\tremaining: 11.3s\n",
      "394:\tlearn: 0.3442711\ttotal: 12m 25s\tremaining: 9.44s\n",
      "395:\tlearn: 0.3442521\ttotal: 12m 27s\tremaining: 7.55s\n",
      "396:\tlearn: 0.3442356\ttotal: 12m 29s\tremaining: 5.67s\n",
      "397:\tlearn: 0.3442193\ttotal: 12m 31s\tremaining: 3.78s\n",
      "398:\tlearn: 0.3442027\ttotal: 12m 33s\tremaining: 1.89s\n",
      "399:\tlearn: 0.3441822\ttotal: 12m 35s\tremaining: 0us\n"
     ]
    },
    {
     "data": {
      "text/plain": [
       "<catboost.core.CatBoostClassifier at 0x1b3bc78f580>"
      ]
     },
     "execution_count": 457,
     "metadata": {},
     "output_type": "execute_result"
    }
   ],
   "source": [
    "#전체 데이터에 대한 학습\n",
    "cat_02_BO_last = CatBoostClassifier(max_depth = 8,n_estimators = 400, learning_rate = lea,\n",
    "                               cat_features=np.where(x_train_model2.dtypes != np.float)[0], class_weights={0:weight_m2[0],1:weight_m2[1]},\n",
    "                        random_state=42,early_stopping_rounds = 300)\n",
    "\n",
    "cat_02_BO_last.fit(x_model2_total, y_model2_total)"
   ]
  },
  {
   "cell_type": "code",
   "execution_count": 458,
   "id": "84b272e6",
   "metadata": {},
   "outputs": [],
   "source": [
    "pred_cat_02_BO_test = cat_02_BO_last.predict(loan_result_model2_test.drop([\"application_id\",\"user_id\",\"is_applied\",\"loan_limit\"],axis=1))\n",
    "proba_cat_02_BO_test = cat_02_BO_last.predict_proba(loan_result_model2_test.drop([\"application_id\",\"user_id\",\"is_applied\",\"loan_limit\"],axis=1))"
   ]
  },
  {
   "cell_type": "code",
   "execution_count": null,
   "id": "0869f93e",
   "metadata": {},
   "outputs": [],
   "source": []
  },
  {
   "cell_type": "code",
   "execution_count": null,
   "id": "d9df259c",
   "metadata": {},
   "outputs": [],
   "source": []
  },
  {
   "cell_type": "markdown",
   "id": "3dfa1d40",
   "metadata": {},
   "source": [
    "## 앙상블"
   ]
  },
  {
   "cell_type": "code",
   "execution_count": 280,
   "id": "1ceee629",
   "metadata": {},
   "outputs": [],
   "source": [
    "def my_fbeta_score(precision, recall, beta=1.5):\n",
    "    return (1.0 + (beta ** 2)) * (precision * recall) / (((beta ** 2) * precision) + recall )\n",
    "\n",
    "\n",
    "def best_standard(prob):\n",
    "    \n",
    "    mypredictions_model2 = [[], [], [], [], [], [], [], [], [], [], [], [], [], [], [], [], []]\n",
    "\n",
    "\n",
    "    for i in tqdm_notebook(prob):\n",
    "        for j in range(0,17):\n",
    "            std_prob = (j+2)* 0.05\n",
    "            if i[1] >= std_prob:\n",
    "                mypredictions_model2[j].append(1)\n",
    "            else:\n",
    "                mypredictions_model2[j].append(0)\n",
    "            \n",
    "    std_p = []\n",
    "    accuracy = []\n",
    "    recall = []\n",
    "    precision = []\n",
    "    f1_s = []\n",
    "    f1_5_s = []\n",
    "    f0_66_s = []\n",
    "\n",
    "    for i in tqdm_notebook(range(0,17)):\n",
    "        std_p.append((i+2) * 0.5)\n",
    "        accuracy.append(accuracy_score(y_valid_model2, mypredictions_model2[i]))\n",
    "        recall.append(recall_score(y_valid_model2, mypredictions_model2[i]))\n",
    "        precision.append(precision_score(y_valid_model2, mypredictions_model2[i]))\n",
    "        f1_s.append(f1_score(y_valid_model2, mypredictions_model2[i]))\n",
    "        f1_5_s.append(my_fbeta_score(precision_score(y_valid_model2, mypredictions_model2[i]), recall_score(y_valid_model2, mypredictions_model2[i])))\n",
    "        f0_66_s.append(my_fbeta_score(precision_score(y_valid_model2, mypredictions_model2[i]), recall_score(y_valid_model2, mypredictions_model2[i]),2/3))\n",
    "\n",
    "    result_model2 = pd.DataFrame()\n",
    "    result_model2[\"std_p\"] = std_p\n",
    "    result_model2[\"accuracy\"] = accuracy\n",
    "    result_model2[\"recall\"] = recall\n",
    "    result_model2[\"precision\"] = precision\n",
    "    result_model2[\"f1_s\"] = f1_s\n",
    "    result_model2[\"f1_5_s\"] = f1_5_s\n",
    "    result_model2[\"f0_66_s\"] = f0_66_s\n",
    "    return result_model2"
   ]
  },
  {
   "cell_type": "markdown",
   "id": "c138836d",
   "metadata": {},
   "source": [
    "### 1번. 확률 평균으로 기준값 바꿔가기"
   ]
  },
  {
   "cell_type": "code",
   "execution_count": 269,
   "id": "91acae4d",
   "metadata": {},
   "outputs": [],
   "source": [
    "model2_prob_valid = (proba_xgb_02_BO_valid + proba_cat_02_BO_valid + proba_lgb_02_BO_valid)/3"
   ]
  },
  {
   "cell_type": "code",
   "execution_count": 270,
   "id": "887f8c30",
   "metadata": {},
   "outputs": [
    {
     "data": {
      "application/vnd.jupyter.widget-view+json": {
       "model_id": "601e627c11cd41d79afdca943b253f85",
       "version_major": 2,
       "version_minor": 0
      },
      "text/plain": [
       "  0%|          | 0/2358173 [00:00<?, ?it/s]"
      ]
     },
     "metadata": {},
     "output_type": "display_data"
    },
    {
     "data": {
      "text/html": [
       "<div>\n",
       "<style scoped>\n",
       "    .dataframe tbody tr th:only-of-type {\n",
       "        vertical-align: middle;\n",
       "    }\n",
       "\n",
       "    .dataframe tbody tr th {\n",
       "        vertical-align: top;\n",
       "    }\n",
       "\n",
       "    .dataframe thead th {\n",
       "        text-align: right;\n",
       "    }\n",
       "</style>\n",
       "<table border=\"1\" class=\"dataframe\">\n",
       "  <thead>\n",
       "    <tr style=\"text-align: right;\">\n",
       "      <th></th>\n",
       "      <th>std_p</th>\n",
       "      <th>accuracy</th>\n",
       "      <th>recall</th>\n",
       "      <th>precision</th>\n",
       "      <th>f1_s</th>\n",
       "      <th>f1_5_s</th>\n",
       "      <th>f0_66_s</th>\n",
       "    </tr>\n",
       "  </thead>\n",
       "  <tbody>\n",
       "    <tr>\n",
       "      <th>0</th>\n",
       "      <td>1.0</td>\n",
       "      <td>0.674977</td>\n",
       "      <td>0.931455</td>\n",
       "      <td>0.153353</td>\n",
       "      <td>0.263349</td>\n",
       "      <td>0.363678</td>\n",
       "      <td>0.206407</td>\n",
       "    </tr>\n",
       "    <tr>\n",
       "      <th>1</th>\n",
       "      <td>1.5</td>\n",
       "      <td>0.738110</td>\n",
       "      <td>0.894850</td>\n",
       "      <td>0.179382</td>\n",
       "      <td>0.298856</td>\n",
       "      <td>0.401777</td>\n",
       "      <td>0.237912</td>\n",
       "    </tr>\n",
       "    <tr>\n",
       "      <th>2</th>\n",
       "      <td>2.0</td>\n",
       "      <td>0.781356</td>\n",
       "      <td>0.857368</td>\n",
       "      <td>0.203159</td>\n",
       "      <td>0.328481</td>\n",
       "      <td>0.430659</td>\n",
       "      <td>0.265491</td>\n",
       "    </tr>\n",
       "    <tr>\n",
       "      <th>3</th>\n",
       "      <td>2.5</td>\n",
       "      <td>0.815256</td>\n",
       "      <td>0.815896</td>\n",
       "      <td>0.227032</td>\n",
       "      <td>0.355220</td>\n",
       "      <td>0.453760</td>\n",
       "      <td>0.291843</td>\n",
       "    </tr>\n",
       "    <tr>\n",
       "      <th>4</th>\n",
       "      <td>3.0</td>\n",
       "      <td>0.843041</td>\n",
       "      <td>0.764510</td>\n",
       "      <td>0.251029</td>\n",
       "      <td>0.377956</td>\n",
       "      <td>0.469201</td>\n",
       "      <td>0.316421</td>\n",
       "    </tr>\n",
       "    <tr>\n",
       "      <th>5</th>\n",
       "      <td>3.5</td>\n",
       "      <td>0.865615</td>\n",
       "      <td>0.708454</td>\n",
       "      <td>0.275506</td>\n",
       "      <td>0.396730</td>\n",
       "      <td>0.477547</td>\n",
       "      <td>0.339308</td>\n",
       "    </tr>\n",
       "    <tr>\n",
       "      <th>6</th>\n",
       "      <td>4.0</td>\n",
       "      <td>0.882979</td>\n",
       "      <td>0.653914</td>\n",
       "      <td>0.299413</td>\n",
       "      <td>0.410752</td>\n",
       "      <td>0.479302</td>\n",
       "      <td>0.359356</td>\n",
       "    </tr>\n",
       "    <tr>\n",
       "      <th>7</th>\n",
       "      <td>4.5</td>\n",
       "      <td>0.897067</td>\n",
       "      <td>0.602074</td>\n",
       "      <td>0.324665</td>\n",
       "      <td>0.421850</td>\n",
       "      <td>0.476737</td>\n",
       "      <td>0.378297</td>\n",
       "    </tr>\n",
       "    <tr>\n",
       "      <th>8</th>\n",
       "      <td>5.0</td>\n",
       "      <td>0.908489</td>\n",
       "      <td>0.549920</td>\n",
       "      <td>0.350935</td>\n",
       "      <td>0.428451</td>\n",
       "      <td>0.468230</td>\n",
       "      <td>0.394902</td>\n",
       "    </tr>\n",
       "    <tr>\n",
       "      <th>9</th>\n",
       "      <td>5.5</td>\n",
       "      <td>0.917301</td>\n",
       "      <td>0.497413</td>\n",
       "      <td>0.376625</td>\n",
       "      <td>0.428673</td>\n",
       "      <td>0.452737</td>\n",
       "      <td>0.407038</td>\n",
       "    </tr>\n",
       "    <tr>\n",
       "      <th>10</th>\n",
       "      <td>6.0</td>\n",
       "      <td>0.924108</td>\n",
       "      <td>0.445919</td>\n",
       "      <td>0.402237</td>\n",
       "      <td>0.422953</td>\n",
       "      <td>0.431501</td>\n",
       "      <td>0.414738</td>\n",
       "    </tr>\n",
       "    <tr>\n",
       "      <th>11</th>\n",
       "      <td>6.5</td>\n",
       "      <td>0.929187</td>\n",
       "      <td>0.394105</td>\n",
       "      <td>0.426736</td>\n",
       "      <td>0.409772</td>\n",
       "      <td>0.403601</td>\n",
       "      <td>0.416135</td>\n",
       "    </tr>\n",
       "    <tr>\n",
       "      <th>12</th>\n",
       "      <td>7.0</td>\n",
       "      <td>0.932863</td>\n",
       "      <td>0.338043</td>\n",
       "      <td>0.449244</td>\n",
       "      <td>0.385790</td>\n",
       "      <td>0.365912</td>\n",
       "      <td>0.407952</td>\n",
       "    </tr>\n",
       "    <tr>\n",
       "      <th>13</th>\n",
       "      <td>7.5</td>\n",
       "      <td>0.935557</td>\n",
       "      <td>0.275433</td>\n",
       "      <td>0.471585</td>\n",
       "      <td>0.347756</td>\n",
       "      <td>0.315857</td>\n",
       "      <td>0.386822</td>\n",
       "    </tr>\n",
       "    <tr>\n",
       "      <th>14</th>\n",
       "      <td>8.0</td>\n",
       "      <td>0.937475</td>\n",
       "      <td>0.202074</td>\n",
       "      <td>0.496990</td>\n",
       "      <td>0.287323</td>\n",
       "      <td>0.247211</td>\n",
       "      <td>0.342974</td>\n",
       "    </tr>\n",
       "    <tr>\n",
       "      <th>15</th>\n",
       "      <td>8.5</td>\n",
       "      <td>0.938490</td>\n",
       "      <td>0.129204</td>\n",
       "      <td>0.528256</td>\n",
       "      <td>0.207626</td>\n",
       "      <td>0.168330</td>\n",
       "      <td>0.270856</td>\n",
       "    </tr>\n",
       "    <tr>\n",
       "      <th>16</th>\n",
       "      <td>9.0</td>\n",
       "      <td>0.938599</td>\n",
       "      <td>0.073332</td>\n",
       "      <td>0.559411</td>\n",
       "      <td>0.129666</td>\n",
       "      <td>0.100092</td>\n",
       "      <td>0.184045</td>\n",
       "    </tr>\n",
       "  </tbody>\n",
       "</table>\n",
       "</div>"
      ],
      "text/plain": [
       "    std_p  accuracy    recall  precision      f1_s    f1_5_s   f0_66_s\n",
       "0     1.0  0.674977  0.931455   0.153353  0.263349  0.363678  0.206407\n",
       "1     1.5  0.738110  0.894850   0.179382  0.298856  0.401777  0.237912\n",
       "2     2.0  0.781356  0.857368   0.203159  0.328481  0.430659  0.265491\n",
       "3     2.5  0.815256  0.815896   0.227032  0.355220  0.453760  0.291843\n",
       "4     3.0  0.843041  0.764510   0.251029  0.377956  0.469201  0.316421\n",
       "5     3.5  0.865615  0.708454   0.275506  0.396730  0.477547  0.339308\n",
       "6     4.0  0.882979  0.653914   0.299413  0.410752  0.479302  0.359356\n",
       "7     4.5  0.897067  0.602074   0.324665  0.421850  0.476737  0.378297\n",
       "8     5.0  0.908489  0.549920   0.350935  0.428451  0.468230  0.394902\n",
       "9     5.5  0.917301  0.497413   0.376625  0.428673  0.452737  0.407038\n",
       "10    6.0  0.924108  0.445919   0.402237  0.422953  0.431501  0.414738\n",
       "11    6.5  0.929187  0.394105   0.426736  0.409772  0.403601  0.416135\n",
       "12    7.0  0.932863  0.338043   0.449244  0.385790  0.365912  0.407952\n",
       "13    7.5  0.935557  0.275433   0.471585  0.347756  0.315857  0.386822\n",
       "14    8.0  0.937475  0.202074   0.496990  0.287323  0.247211  0.342974\n",
       "15    8.5  0.938490  0.129204   0.528256  0.207626  0.168330  0.270856\n",
       "16    9.0  0.938599  0.073332   0.559411  0.129666  0.100092  0.184045"
      ]
     },
     "execution_count": 270,
     "metadata": {},
     "output_type": "execute_result"
    }
   ],
   "source": [
    "result_model2_prob_valid_method1 = best_standard(model2_prob_valid)\n",
    "result_model2_prob_valid_method1"
   ]
  },
  {
   "cell_type": "code",
   "execution_count": 464,
   "id": "b9edb8c0",
   "metadata": {},
   "outputs": [
    {
     "data": {
      "text/plain": [
       "9    5.5\n",
       "Name: std_p, dtype: float64"
      ]
     },
     "execution_count": 464,
     "metadata": {},
     "output_type": "execute_result"
    }
   ],
   "source": [
    "max_i = result_model2_prob_valid_method1.loc[result_model2_prob_valid_method1[\"f1_s\"] == result_model2_prob_valid_method1[\"f1_s\"].max(),\"std_p\"]\n",
    "max_i"
   ]
  },
  {
   "cell_type": "code",
   "execution_count": 465,
   "id": "0f8119cf",
   "metadata": {},
   "outputs": [
    {
     "data": {
      "application/vnd.jupyter.widget-view+json": {
       "model_id": "751df3137bfd41309686f2e63e72d958",
       "version_major": 2,
       "version_minor": 0
      },
      "text/plain": [
       "  0%|          | 0/2358173 [00:00<?, ?it/s]"
      ]
     },
     "metadata": {},
     "output_type": "display_data"
    }
   ],
   "source": [
    "prediction_method1 = []\n",
    "for i in tqdm_notebook(model2_prob_valid):\n",
    "    if i[1] >= max_i.values*0.1:\n",
    "        prediction_method1.append(1)\n",
    "    else:\n",
    "        prediction_method1.append(0)"
   ]
  },
  {
   "cell_type": "code",
   "execution_count": 278,
   "id": "4f1eaab5",
   "metadata": {},
   "outputs": [
    {
     "name": "stdout",
     "output_type": "stream",
     "text": [
      "Valid Set 결과\n",
      "accuracy_score :  0.9173012327763909\n",
      "recall_score :  0.4974130604752354\n",
      "precision_score :  0.3766247805741878\n",
      "f1_score :  0.4286727094819858\n"
     ]
    }
   ],
   "source": [
    "print(\"Valid Set 결과\")\n",
    "print(\"accuracy_score : \",accuracy_score(y_valid_model2, prediction_method1))\n",
    "print(\"recall_score : \",recall_score(y_valid_model2, prediction_method1))\n",
    "print(\"precision_score : \",precision_score(y_valid_model2, prediction_method1))\n",
    "print(\"f1_score : \",f1_score(y_valid_model2, prediction_method1))"
   ]
  },
  {
   "cell_type": "markdown",
   "id": "fd654ab6",
   "metadata": {},
   "source": [
    "### 2번. 모델 별 최적의 기준값으로 분류 후 하나라도 1이면 최종 1"
   ]
  },
  {
   "cell_type": "code",
   "execution_count": 281,
   "id": "b6f41bda",
   "metadata": {
    "scrolled": true
   },
   "outputs": [
    {
     "data": {
      "application/vnd.jupyter.widget-view+json": {
       "model_id": "",
       "version_major": 2,
       "version_minor": 0
      },
      "text/plain": [
       "  0%|          | 0/2358173 [00:00<?, ?it/s]"
      ]
     },
     "metadata": {},
     "output_type": "display_data"
    },
    {
     "data": {
      "application/vnd.jupyter.widget-view+json": {
       "model_id": "",
       "version_major": 2,
       "version_minor": 0
      },
      "text/plain": [
       "  0%|          | 0/17 [00:00<?, ?it/s]"
      ]
     },
     "metadata": {},
     "output_type": "display_data"
    },
    {
     "data": {
      "application/vnd.jupyter.widget-view+json": {
       "model_id": "",
       "version_major": 2,
       "version_minor": 0
      },
      "text/plain": [
       "  0%|          | 0/2358173 [00:00<?, ?it/s]"
      ]
     },
     "metadata": {},
     "output_type": "display_data"
    },
    {
     "data": {
      "application/vnd.jupyter.widget-view+json": {
       "model_id": "",
       "version_major": 2,
       "version_minor": 0
      },
      "text/plain": [
       "  0%|          | 0/17 [00:00<?, ?it/s]"
      ]
     },
     "metadata": {},
     "output_type": "display_data"
    },
    {
     "data": {
      "application/vnd.jupyter.widget-view+json": {
       "model_id": "",
       "version_major": 2,
       "version_minor": 0
      },
      "text/plain": [
       "  0%|          | 0/2358173 [00:00<?, ?it/s]"
      ]
     },
     "metadata": {},
     "output_type": "display_data"
    },
    {
     "data": {
      "application/vnd.jupyter.widget-view+json": {
       "model_id": "",
       "version_major": 2,
       "version_minor": 0
      },
      "text/plain": [
       "  0%|          | 0/17 [00:00<?, ?it/s]"
      ]
     },
     "metadata": {},
     "output_type": "display_data"
    }
   ],
   "source": [
    "result_model2_xgb = best_standard(proba_xgb_02_BO_valid)\n",
    "result_model2_cat = best_standard(proba_cat_02_BO_valid)\n",
    "result_model2_lgb = best_standard(proba_lgb_02_BO_valid)"
   ]
  },
  {
   "cell_type": "code",
   "execution_count": 282,
   "id": "7b8f988b",
   "metadata": {},
   "outputs": [
    {
     "data": {
      "text/html": [
       "<div>\n",
       "<style scoped>\n",
       "    .dataframe tbody tr th:only-of-type {\n",
       "        vertical-align: middle;\n",
       "    }\n",
       "\n",
       "    .dataframe tbody tr th {\n",
       "        vertical-align: top;\n",
       "    }\n",
       "\n",
       "    .dataframe thead th {\n",
       "        text-align: right;\n",
       "    }\n",
       "</style>\n",
       "<table border=\"1\" class=\"dataframe\">\n",
       "  <thead>\n",
       "    <tr style=\"text-align: right;\">\n",
       "      <th></th>\n",
       "      <th>std_p</th>\n",
       "      <th>accuracy</th>\n",
       "      <th>recall</th>\n",
       "      <th>precision</th>\n",
       "      <th>f1_s</th>\n",
       "      <th>f1_5_s</th>\n",
       "      <th>f0_66_s</th>\n",
       "    </tr>\n",
       "  </thead>\n",
       "  <tbody>\n",
       "    <tr>\n",
       "      <th>0</th>\n",
       "      <td>1.0</td>\n",
       "      <td>0.849774</td>\n",
       "      <td>0.670850</td>\n",
       "      <td>0.243925</td>\n",
       "      <td>0.357765</td>\n",
       "      <td>0.436032</td>\n",
       "      <td>0.303319</td>\n",
       "    </tr>\n",
       "    <tr>\n",
       "      <th>1</th>\n",
       "      <td>1.5</td>\n",
       "      <td>0.880074</td>\n",
       "      <td>0.586634</td>\n",
       "      <td>0.279881</td>\n",
       "      <td>0.378961</td>\n",
       "      <td>0.438692</td>\n",
       "      <td>0.333546</td>\n",
       "    </tr>\n",
       "    <tr>\n",
       "      <th>2</th>\n",
       "      <td>2.0</td>\n",
       "      <td>0.898496</td>\n",
       "      <td>0.520814</td>\n",
       "      <td>0.312049</td>\n",
       "      <td>0.390267</td>\n",
       "      <td>0.431906</td>\n",
       "      <td>0.355951</td>\n",
       "    </tr>\n",
       "    <tr>\n",
       "      <th>3</th>\n",
       "      <td>2.5</td>\n",
       "      <td>0.910695</td>\n",
       "      <td>0.466594</td>\n",
       "      <td>0.341831</td>\n",
       "      <td>0.394585</td>\n",
       "      <td>0.419485</td>\n",
       "      <td>0.372476</td>\n",
       "    </tr>\n",
       "    <tr>\n",
       "      <th>4</th>\n",
       "      <td>3.0</td>\n",
       "      <td>0.919088</td>\n",
       "      <td>0.419526</td>\n",
       "      <td>0.369207</td>\n",
       "      <td>0.392762</td>\n",
       "      <td>0.402641</td>\n",
       "      <td>0.383355</td>\n",
       "    </tr>\n",
       "    <tr>\n",
       "      <th>5</th>\n",
       "      <td>3.5</td>\n",
       "      <td>0.925011</td>\n",
       "      <td>0.375681</td>\n",
       "      <td>0.393942</td>\n",
       "      <td>0.384595</td>\n",
       "      <td>0.381117</td>\n",
       "      <td>0.388137</td>\n",
       "    </tr>\n",
       "    <tr>\n",
       "      <th>6</th>\n",
       "      <td>4.0</td>\n",
       "      <td>0.929083</td>\n",
       "      <td>0.333617</td>\n",
       "      <td>0.414828</td>\n",
       "      <td>0.369816</td>\n",
       "      <td>0.355001</td>\n",
       "      <td>0.385922</td>\n",
       "    </tr>\n",
       "    <tr>\n",
       "      <th>7</th>\n",
       "      <td>4.5</td>\n",
       "      <td>0.932012</td>\n",
       "      <td>0.293891</td>\n",
       "      <td>0.433588</td>\n",
       "      <td>0.350327</td>\n",
       "      <td>0.326232</td>\n",
       "      <td>0.378264</td>\n",
       "    </tr>\n",
       "    <tr>\n",
       "      <th>8</th>\n",
       "      <td>5.0</td>\n",
       "      <td>0.934168</td>\n",
       "      <td>0.254927</td>\n",
       "      <td>0.450944</td>\n",
       "      <td>0.325719</td>\n",
       "      <td>0.294288</td>\n",
       "      <td>0.364668</td>\n",
       "    </tr>\n",
       "    <tr>\n",
       "      <th>9</th>\n",
       "      <td>5.5</td>\n",
       "      <td>0.935709</td>\n",
       "      <td>0.217140</td>\n",
       "      <td>0.466930</td>\n",
       "      <td>0.296429</td>\n",
       "      <td>0.259924</td>\n",
       "      <td>0.344863</td>\n",
       "    </tr>\n",
       "    <tr>\n",
       "      <th>10</th>\n",
       "      <td>6.0</td>\n",
       "      <td>0.936863</td>\n",
       "      <td>0.181704</td>\n",
       "      <td>0.483676</td>\n",
       "      <td>0.264168</td>\n",
       "      <td>0.224910</td>\n",
       "      <td>0.320029</td>\n",
       "    </tr>\n",
       "    <tr>\n",
       "      <th>11</th>\n",
       "      <td>6.5</td>\n",
       "      <td>0.937712</td>\n",
       "      <td>0.149791</td>\n",
       "      <td>0.502268</td>\n",
       "      <td>0.230762</td>\n",
       "      <td>0.191043</td>\n",
       "      <td>0.291332</td>\n",
       "    </tr>\n",
       "    <tr>\n",
       "      <th>12</th>\n",
       "      <td>7.0</td>\n",
       "      <td>0.938196</td>\n",
       "      <td>0.122018</td>\n",
       "      <td>0.519390</td>\n",
       "      <td>0.197612</td>\n",
       "      <td>0.159586</td>\n",
       "      <td>0.259429</td>\n",
       "    </tr>\n",
       "    <tr>\n",
       "      <th>13</th>\n",
       "      <td>7.5</td>\n",
       "      <td>0.938477</td>\n",
       "      <td>0.098848</td>\n",
       "      <td>0.537010</td>\n",
       "      <td>0.166962</td>\n",
       "      <td>0.131983</td>\n",
       "      <td>0.227170</td>\n",
       "    </tr>\n",
       "    <tr>\n",
       "      <th>14</th>\n",
       "      <td>8.0</td>\n",
       "      <td>0.938520</td>\n",
       "      <td>0.080110</td>\n",
       "      <td>0.549017</td>\n",
       "      <td>0.139819</td>\n",
       "      <td>0.108667</td>\n",
       "      <td>0.196007</td>\n",
       "    </tr>\n",
       "    <tr>\n",
       "      <th>15</th>\n",
       "      <td>8.5</td>\n",
       "      <td>0.938418</td>\n",
       "      <td>0.063127</td>\n",
       "      <td>0.555822</td>\n",
       "      <td>0.113377</td>\n",
       "      <td>0.086802</td>\n",
       "      <td>0.163405</td>\n",
       "    </tr>\n",
       "    <tr>\n",
       "      <th>16</th>\n",
       "      <td>9.0</td>\n",
       "      <td>0.938181</td>\n",
       "      <td>0.044974</td>\n",
       "      <td>0.554717</td>\n",
       "      <td>0.083202</td>\n",
       "      <td>0.062703</td>\n",
       "      <td>0.123616</td>\n",
       "    </tr>\n",
       "  </tbody>\n",
       "</table>\n",
       "</div>"
      ],
      "text/plain": [
       "    std_p  accuracy    recall  precision      f1_s    f1_5_s   f0_66_s\n",
       "0     1.0  0.849774  0.670850   0.243925  0.357765  0.436032  0.303319\n",
       "1     1.5  0.880074  0.586634   0.279881  0.378961  0.438692  0.333546\n",
       "2     2.0  0.898496  0.520814   0.312049  0.390267  0.431906  0.355951\n",
       "3     2.5  0.910695  0.466594   0.341831  0.394585  0.419485  0.372476\n",
       "4     3.0  0.919088  0.419526   0.369207  0.392762  0.402641  0.383355\n",
       "5     3.5  0.925011  0.375681   0.393942  0.384595  0.381117  0.388137\n",
       "6     4.0  0.929083  0.333617   0.414828  0.369816  0.355001  0.385922\n",
       "7     4.5  0.932012  0.293891   0.433588  0.350327  0.326232  0.378264\n",
       "8     5.0  0.934168  0.254927   0.450944  0.325719  0.294288  0.364668\n",
       "9     5.5  0.935709  0.217140   0.466930  0.296429  0.259924  0.344863\n",
       "10    6.0  0.936863  0.181704   0.483676  0.264168  0.224910  0.320029\n",
       "11    6.5  0.937712  0.149791   0.502268  0.230762  0.191043  0.291332\n",
       "12    7.0  0.938196  0.122018   0.519390  0.197612  0.159586  0.259429\n",
       "13    7.5  0.938477  0.098848   0.537010  0.166962  0.131983  0.227170\n",
       "14    8.0  0.938520  0.080110   0.549017  0.139819  0.108667  0.196007\n",
       "15    8.5  0.938418  0.063127   0.555822  0.113377  0.086802  0.163405\n",
       "16    9.0  0.938181  0.044974   0.554717  0.083202  0.062703  0.123616"
      ]
     },
     "execution_count": 282,
     "metadata": {},
     "output_type": "execute_result"
    }
   ],
   "source": [
    "result_model2_xgb"
   ]
  },
  {
   "cell_type": "code",
   "execution_count": 283,
   "id": "54ec5e1f",
   "metadata": {},
   "outputs": [
    {
     "data": {
      "text/html": [
       "<div>\n",
       "<style scoped>\n",
       "    .dataframe tbody tr th:only-of-type {\n",
       "        vertical-align: middle;\n",
       "    }\n",
       "\n",
       "    .dataframe tbody tr th {\n",
       "        vertical-align: top;\n",
       "    }\n",
       "\n",
       "    .dataframe thead th {\n",
       "        text-align: right;\n",
       "    }\n",
       "</style>\n",
       "<table border=\"1\" class=\"dataframe\">\n",
       "  <thead>\n",
       "    <tr style=\"text-align: right;\">\n",
       "      <th></th>\n",
       "      <th>std_p</th>\n",
       "      <th>accuracy</th>\n",
       "      <th>recall</th>\n",
       "      <th>precision</th>\n",
       "      <th>f1_s</th>\n",
       "      <th>f1_5_s</th>\n",
       "      <th>f0_66_s</th>\n",
       "    </tr>\n",
       "  </thead>\n",
       "  <tbody>\n",
       "    <tr>\n",
       "      <th>0</th>\n",
       "      <td>1.0</td>\n",
       "      <td>0.564877</td>\n",
       "      <td>0.964306</td>\n",
       "      <td>0.121990</td>\n",
       "      <td>0.216581</td>\n",
       "      <td>0.308622</td>\n",
       "      <td>0.166828</td>\n",
       "    </tr>\n",
       "    <tr>\n",
       "      <th>1</th>\n",
       "      <td>1.5</td>\n",
       "      <td>0.635953</td>\n",
       "      <td>0.944753</td>\n",
       "      <td>0.140459</td>\n",
       "      <td>0.244559</td>\n",
       "      <td>0.342066</td>\n",
       "      <td>0.190310</td>\n",
       "    </tr>\n",
       "    <tr>\n",
       "      <th>2</th>\n",
       "      <td>2.0</td>\n",
       "      <td>0.685385</td>\n",
       "      <td>0.925349</td>\n",
       "      <td>0.156976</td>\n",
       "      <td>0.268418</td>\n",
       "      <td>0.369238</td>\n",
       "      <td>0.210847</td>\n",
       "    </tr>\n",
       "    <tr>\n",
       "      <th>3</th>\n",
       "      <td>2.5</td>\n",
       "      <td>0.723349</td>\n",
       "      <td>0.904912</td>\n",
       "      <td>0.172519</td>\n",
       "      <td>0.289790</td>\n",
       "      <td>0.392375</td>\n",
       "      <td>0.229729</td>\n",
       "    </tr>\n",
       "    <tr>\n",
       "      <th>4</th>\n",
       "      <td>3.0</td>\n",
       "      <td>0.753884</td>\n",
       "      <td>0.882456</td>\n",
       "      <td>0.187326</td>\n",
       "      <td>0.309047</td>\n",
       "      <td>0.412018</td>\n",
       "      <td>0.247254</td>\n",
       "    </tr>\n",
       "    <tr>\n",
       "      <th>5</th>\n",
       "      <td>3.5</td>\n",
       "      <td>0.779302</td>\n",
       "      <td>0.859993</td>\n",
       "      <td>0.201954</td>\n",
       "      <td>0.327095</td>\n",
       "      <td>0.429443</td>\n",
       "      <td>0.264142</td>\n",
       "    </tr>\n",
       "    <tr>\n",
       "      <th>6</th>\n",
       "      <td>4.0</td>\n",
       "      <td>0.801581</td>\n",
       "      <td>0.836142</td>\n",
       "      <td>0.216984</td>\n",
       "      <td>0.344554</td>\n",
       "      <td>0.445232</td>\n",
       "      <td>0.281010</td>\n",
       "    </tr>\n",
       "    <tr>\n",
       "      <th>7</th>\n",
       "      <td>4.5</td>\n",
       "      <td>0.821385</td>\n",
       "      <td>0.809437</td>\n",
       "      <td>0.232425</td>\n",
       "      <td>0.361149</td>\n",
       "      <td>0.458899</td>\n",
       "      <td>0.297729</td>\n",
       "    </tr>\n",
       "    <tr>\n",
       "      <th>8</th>\n",
       "      <td>5.0</td>\n",
       "      <td>0.839224</td>\n",
       "      <td>0.781167</td>\n",
       "      <td>0.248779</td>\n",
       "      <td>0.377375</td>\n",
       "      <td>0.471019</td>\n",
       "      <td>0.314791</td>\n",
       "    </tr>\n",
       "    <tr>\n",
       "      <th>9</th>\n",
       "      <td>5.5</td>\n",
       "      <td>0.855821</td>\n",
       "      <td>0.750539</td>\n",
       "      <td>0.266843</td>\n",
       "      <td>0.393709</td>\n",
       "      <td>0.481812</td>\n",
       "      <td>0.332845</td>\n",
       "    </tr>\n",
       "    <tr>\n",
       "      <th>10</th>\n",
       "      <td>6.0</td>\n",
       "      <td>0.871263</td>\n",
       "      <td>0.713479</td>\n",
       "      <td>0.286428</td>\n",
       "      <td>0.408758</td>\n",
       "      <td>0.489101</td>\n",
       "      <td>0.351087</td>\n",
       "    </tr>\n",
       "    <tr>\n",
       "      <th>11</th>\n",
       "      <td>6.5</td>\n",
       "      <td>0.885413</td>\n",
       "      <td>0.671999</td>\n",
       "      <td>0.308094</td>\n",
       "      <td>0.422489</td>\n",
       "      <td>0.492874</td>\n",
       "      <td>0.369694</td>\n",
       "    </tr>\n",
       "    <tr>\n",
       "      <th>12</th>\n",
       "      <td>7.0</td>\n",
       "      <td>0.898585</td>\n",
       "      <td>0.621736</td>\n",
       "      <td>0.332582</td>\n",
       "      <td>0.433353</td>\n",
       "      <td>0.490516</td>\n",
       "      <td>0.388122</td>\n",
       "    </tr>\n",
       "    <tr>\n",
       "      <th>13</th>\n",
       "      <td>7.5</td>\n",
       "      <td>0.909915</td>\n",
       "      <td>0.564864</td>\n",
       "      <td>0.358865</td>\n",
       "      <td>0.438895</td>\n",
       "      <td>0.480072</td>\n",
       "      <td>0.404224</td>\n",
       "    </tr>\n",
       "    <tr>\n",
       "      <th>14</th>\n",
       "      <td>8.0</td>\n",
       "      <td>0.919413</td>\n",
       "      <td>0.504300</td>\n",
       "      <td>0.387736</td>\n",
       "      <td>0.438402</td>\n",
       "      <td>0.461602</td>\n",
       "      <td>0.417423</td>\n",
       "    </tr>\n",
       "    <tr>\n",
       "      <th>15</th>\n",
       "      <td>8.5</td>\n",
       "      <td>0.927354</td>\n",
       "      <td>0.432233</td>\n",
       "      <td>0.419975</td>\n",
       "      <td>0.426016</td>\n",
       "      <td>0.428386</td>\n",
       "      <td>0.423672</td>\n",
       "    </tr>\n",
       "    <tr>\n",
       "      <th>16</th>\n",
       "      <td>9.0</td>\n",
       "      <td>0.933328</td>\n",
       "      <td>0.352123</td>\n",
       "      <td>0.455426</td>\n",
       "      <td>0.397167</td>\n",
       "      <td>0.378543</td>\n",
       "      <td>0.417719</td>\n",
       "    </tr>\n",
       "  </tbody>\n",
       "</table>\n",
       "</div>"
      ],
      "text/plain": [
       "    std_p  accuracy    recall  precision      f1_s    f1_5_s   f0_66_s\n",
       "0     1.0  0.564877  0.964306   0.121990  0.216581  0.308622  0.166828\n",
       "1     1.5  0.635953  0.944753   0.140459  0.244559  0.342066  0.190310\n",
       "2     2.0  0.685385  0.925349   0.156976  0.268418  0.369238  0.210847\n",
       "3     2.5  0.723349  0.904912   0.172519  0.289790  0.392375  0.229729\n",
       "4     3.0  0.753884  0.882456   0.187326  0.309047  0.412018  0.247254\n",
       "5     3.5  0.779302  0.859993   0.201954  0.327095  0.429443  0.264142\n",
       "6     4.0  0.801581  0.836142   0.216984  0.344554  0.445232  0.281010\n",
       "7     4.5  0.821385  0.809437   0.232425  0.361149  0.458899  0.297729\n",
       "8     5.0  0.839224  0.781167   0.248779  0.377375  0.471019  0.314791\n",
       "9     5.5  0.855821  0.750539   0.266843  0.393709  0.481812  0.332845\n",
       "10    6.0  0.871263  0.713479   0.286428  0.408758  0.489101  0.351087\n",
       "11    6.5  0.885413  0.671999   0.308094  0.422489  0.492874  0.369694\n",
       "12    7.0  0.898585  0.621736   0.332582  0.433353  0.490516  0.388122\n",
       "13    7.5  0.909915  0.564864   0.358865  0.438895  0.480072  0.404224\n",
       "14    8.0  0.919413  0.504300   0.387736  0.438402  0.461602  0.417423\n",
       "15    8.5  0.927354  0.432233   0.419975  0.426016  0.428386  0.423672\n",
       "16    9.0  0.933328  0.352123   0.455426  0.397167  0.378543  0.417719"
      ]
     },
     "execution_count": 283,
     "metadata": {},
     "output_type": "execute_result"
    }
   ],
   "source": [
    "result_model2_cat"
   ]
  },
  {
   "cell_type": "code",
   "execution_count": 284,
   "id": "13d12b28",
   "metadata": {},
   "outputs": [
    {
     "data": {
      "text/html": [
       "<div>\n",
       "<style scoped>\n",
       "    .dataframe tbody tr th:only-of-type {\n",
       "        vertical-align: middle;\n",
       "    }\n",
       "\n",
       "    .dataframe tbody tr th {\n",
       "        vertical-align: top;\n",
       "    }\n",
       "\n",
       "    .dataframe thead th {\n",
       "        text-align: right;\n",
       "    }\n",
       "</style>\n",
       "<table border=\"1\" class=\"dataframe\">\n",
       "  <thead>\n",
       "    <tr style=\"text-align: right;\">\n",
       "      <th></th>\n",
       "      <th>std_p</th>\n",
       "      <th>accuracy</th>\n",
       "      <th>recall</th>\n",
       "      <th>precision</th>\n",
       "      <th>f1_s</th>\n",
       "      <th>f1_5_s</th>\n",
       "      <th>f0_66_s</th>\n",
       "    </tr>\n",
       "  </thead>\n",
       "  <tbody>\n",
       "    <tr>\n",
       "      <th>0</th>\n",
       "      <td>1.0</td>\n",
       "      <td>0.709241</td>\n",
       "      <td>0.878893</td>\n",
       "      <td>0.162174</td>\n",
       "      <td>0.273822</td>\n",
       "      <td>0.372439</td>\n",
       "      <td>0.216496</td>\n",
       "    </tr>\n",
       "    <tr>\n",
       "      <th>1</th>\n",
       "      <td>1.5</td>\n",
       "      <td>0.755188</td>\n",
       "      <td>0.839963</td>\n",
       "      <td>0.182405</td>\n",
       "      <td>0.299723</td>\n",
       "      <td>0.398236</td>\n",
       "      <td>0.240283</td>\n",
       "    </tr>\n",
       "    <tr>\n",
       "      <th>2</th>\n",
       "      <td>2.0</td>\n",
       "      <td>0.787396</td>\n",
       "      <td>0.802964</td>\n",
       "      <td>0.200014</td>\n",
       "      <td>0.320254</td>\n",
       "      <td>0.416572</td>\n",
       "      <td>0.260112</td>\n",
       "    </tr>\n",
       "    <tr>\n",
       "      <th>3</th>\n",
       "      <td>2.5</td>\n",
       "      <td>0.811811</td>\n",
       "      <td>0.768297</td>\n",
       "      <td>0.216192</td>\n",
       "      <td>0.337433</td>\n",
       "      <td>0.430231</td>\n",
       "      <td>0.277564</td>\n",
       "    </tr>\n",
       "    <tr>\n",
       "      <th>4</th>\n",
       "      <td>3.0</td>\n",
       "      <td>0.831821</td>\n",
       "      <td>0.734745</td>\n",
       "      <td>0.232084</td>\n",
       "      <td>0.352746</td>\n",
       "      <td>0.440913</td>\n",
       "      <td>0.293963</td>\n",
       "    </tr>\n",
       "    <tr>\n",
       "      <th>5</th>\n",
       "      <td>3.5</td>\n",
       "      <td>0.848189</td>\n",
       "      <td>0.703627</td>\n",
       "      <td>0.247652</td>\n",
       "      <td>0.366359</td>\n",
       "      <td>0.449165</td>\n",
       "      <td>0.309331</td>\n",
       "    </tr>\n",
       "    <tr>\n",
       "      <th>6</th>\n",
       "      <td>4.0</td>\n",
       "      <td>0.862068</td>\n",
       "      <td>0.672557</td>\n",
       "      <td>0.263073</td>\n",
       "      <td>0.378209</td>\n",
       "      <td>0.454758</td>\n",
       "      <td>0.323718</td>\n",
       "    </tr>\n",
       "    <tr>\n",
       "      <th>7</th>\n",
       "      <td>4.5</td>\n",
       "      <td>0.874027</td>\n",
       "      <td>0.642085</td>\n",
       "      <td>0.278699</td>\n",
       "      <td>0.388687</td>\n",
       "      <td>0.458243</td>\n",
       "      <td>0.337464</td>\n",
       "    </tr>\n",
       "    <tr>\n",
       "      <th>8</th>\n",
       "      <td>5.0</td>\n",
       "      <td>0.884831</td>\n",
       "      <td>0.610708</td>\n",
       "      <td>0.295329</td>\n",
       "      <td>0.398129</td>\n",
       "      <td>0.459669</td>\n",
       "      <td>0.351121</td>\n",
       "    </tr>\n",
       "    <tr>\n",
       "      <th>9</th>\n",
       "      <td>5.5</td>\n",
       "      <td>0.894517</td>\n",
       "      <td>0.577442</td>\n",
       "      <td>0.312798</td>\n",
       "      <td>0.405784</td>\n",
       "      <td>0.458169</td>\n",
       "      <td>0.364149</td>\n",
       "    </tr>\n",
       "    <tr>\n",
       "      <th>10</th>\n",
       "      <td>6.0</td>\n",
       "      <td>0.903324</td>\n",
       "      <td>0.542305</td>\n",
       "      <td>0.331769</td>\n",
       "      <td>0.411682</td>\n",
       "      <td>0.453715</td>\n",
       "      <td>0.376777</td>\n",
       "    </tr>\n",
       "    <tr>\n",
       "      <th>11</th>\n",
       "      <td>6.5</td>\n",
       "      <td>0.911340</td>\n",
       "      <td>0.504776</td>\n",
       "      <td>0.352740</td>\n",
       "      <td>0.415280</td>\n",
       "      <td>0.445671</td>\n",
       "      <td>0.388769</td>\n",
       "    </tr>\n",
       "    <tr>\n",
       "      <th>12</th>\n",
       "      <td>7.0</td>\n",
       "      <td>0.918145</td>\n",
       "      <td>0.462379</td>\n",
       "      <td>0.373754</td>\n",
       "      <td>0.413370</td>\n",
       "      <td>0.430938</td>\n",
       "      <td>0.397178</td>\n",
       "    </tr>\n",
       "    <tr>\n",
       "      <th>13</th>\n",
       "      <td>7.5</td>\n",
       "      <td>0.924092</td>\n",
       "      <td>0.414978</td>\n",
       "      <td>0.396360</td>\n",
       "      <td>0.405455</td>\n",
       "      <td>0.409065</td>\n",
       "      <td>0.401908</td>\n",
       "    </tr>\n",
       "    <tr>\n",
       "      <th>14</th>\n",
       "      <td>8.0</td>\n",
       "      <td>0.929043</td>\n",
       "      <td>0.360315</td>\n",
       "      <td>0.419818</td>\n",
       "      <td>0.387798</td>\n",
       "      <td>0.376746</td>\n",
       "      <td>0.399518</td>\n",
       "    </tr>\n",
       "    <tr>\n",
       "      <th>15</th>\n",
       "      <td>8.5</td>\n",
       "      <td>0.932958</td>\n",
       "      <td>0.294816</td>\n",
       "      <td>0.443666</td>\n",
       "      <td>0.354240</td>\n",
       "      <td>0.328753</td>\n",
       "      <td>0.384009</td>\n",
       "    </tr>\n",
       "    <tr>\n",
       "      <th>16</th>\n",
       "      <td>9.0</td>\n",
       "      <td>0.935810</td>\n",
       "      <td>0.214917</td>\n",
       "      <td>0.468263</td>\n",
       "      <td>0.294615</td>\n",
       "      <td>0.257840</td>\n",
       "      <td>0.343626</td>\n",
       "    </tr>\n",
       "  </tbody>\n",
       "</table>\n",
       "</div>"
      ],
      "text/plain": [
       "    std_p  accuracy    recall  precision      f1_s    f1_5_s   f0_66_s\n",
       "0     1.0  0.709241  0.878893   0.162174  0.273822  0.372439  0.216496\n",
       "1     1.5  0.755188  0.839963   0.182405  0.299723  0.398236  0.240283\n",
       "2     2.0  0.787396  0.802964   0.200014  0.320254  0.416572  0.260112\n",
       "3     2.5  0.811811  0.768297   0.216192  0.337433  0.430231  0.277564\n",
       "4     3.0  0.831821  0.734745   0.232084  0.352746  0.440913  0.293963\n",
       "5     3.5  0.848189  0.703627   0.247652  0.366359  0.449165  0.309331\n",
       "6     4.0  0.862068  0.672557   0.263073  0.378209  0.454758  0.323718\n",
       "7     4.5  0.874027  0.642085   0.278699  0.388687  0.458243  0.337464\n",
       "8     5.0  0.884831  0.610708   0.295329  0.398129  0.459669  0.351121\n",
       "9     5.5  0.894517  0.577442   0.312798  0.405784  0.458169  0.364149\n",
       "10    6.0  0.903324  0.542305   0.331769  0.411682  0.453715  0.376777\n",
       "11    6.5  0.911340  0.504776   0.352740  0.415280  0.445671  0.388769\n",
       "12    7.0  0.918145  0.462379   0.373754  0.413370  0.430938  0.397178\n",
       "13    7.5  0.924092  0.414978   0.396360  0.405455  0.409065  0.401908\n",
       "14    8.0  0.929043  0.360315   0.419818  0.387798  0.376746  0.399518\n",
       "15    8.5  0.932958  0.294816   0.443666  0.354240  0.328753  0.384009\n",
       "16    9.0  0.935810  0.214917   0.468263  0.294615  0.257840  0.343626"
      ]
     },
     "execution_count": 284,
     "metadata": {},
     "output_type": "execute_result"
    }
   ],
   "source": [
    "result_model2_lgb"
   ]
  },
  {
   "cell_type": "code",
   "execution_count": 285,
   "id": "942817b5",
   "metadata": {},
   "outputs": [],
   "source": [
    "std_xgb = result_model2_xgb.loc[result_model2_xgb[\"f1_s\"] == result_model2_xgb[\"f1_s\"].max(),\"std_p\"]\n",
    "std_cat = result_model2_cat.loc[result_model2_cat[\"f1_s\"] == result_model2_cat[\"f1_s\"].max(),\"std_p\"]\n",
    "std_lgb = result_model2_cat.loc[result_model2_cat[\"f1_s\"] == result_model2_cat[\"f1_s\"].max(),\"std_p\"]"
   ]
  },
  {
   "cell_type": "code",
   "execution_count": 294,
   "id": "de2bf8b7",
   "metadata": {},
   "outputs": [
    {
     "data": {
      "application/vnd.jupyter.widget-view+json": {
       "model_id": "",
       "version_major": 2,
       "version_minor": 0
      },
      "text/plain": [
       "  0%|          | 0/2358173 [00:00<?, ?it/s]"
      ]
     },
     "metadata": {},
     "output_type": "display_data"
    },
    {
     "data": {
      "application/vnd.jupyter.widget-view+json": {
       "model_id": "",
       "version_major": 2,
       "version_minor": 0
      },
      "text/plain": [
       "  0%|          | 0/2358173 [00:00<?, ?it/s]"
      ]
     },
     "metadata": {},
     "output_type": "display_data"
    },
    {
     "data": {
      "application/vnd.jupyter.widget-view+json": {
       "model_id": "",
       "version_major": 2,
       "version_minor": 0
      },
      "text/plain": [
       "  0%|          | 0/2358173 [00:00<?, ?it/s]"
      ]
     },
     "metadata": {},
     "output_type": "display_data"
    }
   ],
   "source": [
    "prediction_xgb = []\n",
    "for i in tqdm_notebook(proba_xgb_02_BO_valid):\n",
    "    if i[1] >= std_xgb.values*0.1:\n",
    "        prediction_xgb.append(1)\n",
    "    else:\n",
    "        prediction_xgb.append(0)\n",
    "        \n",
    "        \n",
    "prediction_cat = []\n",
    "for i in tqdm_notebook(proba_cat_02_BO_valid):\n",
    "    if i[1] >= std_cat.values*0.1:\n",
    "        prediction_cat.append(1)\n",
    "    else:\n",
    "        prediction_cat.append(0)\n",
    "        \n",
    "        \n",
    "prediction_lgb = []\n",
    "for i in tqdm_notebook(proba_lgb_02_BO_valid):\n",
    "    if i[1] >= std_lgb.values*0.1:\n",
    "        prediction_lgb.append(1)\n",
    "    else:\n",
    "        prediction_lgb.append(0)\n",
    "        \n",
    "prediction_method2 = np.max([prediction_xgb, prediction_cat, prediction_lgb],axis=0)"
   ]
  },
  {
   "cell_type": "code",
   "execution_count": 295,
   "id": "6105359a",
   "metadata": {},
   "outputs": [
    {
     "name": "stdout",
     "output_type": "stream",
     "text": [
      "Valid Set 결과\n",
      "accuracy_score :  0.8944415867707756\n",
      "recall_score :  0.6057653737634701\n",
      "precision_score :  0.3181675344060449\n",
      "f1_score :  0.41720534834228085\n"
     ]
    }
   ],
   "source": [
    "print(\"Valid Set 결과\")\n",
    "print(\"accuracy_score : \",accuracy_score(y_valid_model2, prediction_method2))\n",
    "print(\"recall_score : \",recall_score(y_valid_model2, prediction_method2))\n",
    "print(\"precision_score : \",precision_score(y_valid_model2, prediction_method2))\n",
    "print(\"f1_score : \",f1_score(y_valid_model2, prediction_method2))"
   ]
  },
  {
   "cell_type": "markdown",
   "id": "f566514f",
   "metadata": {},
   "source": [
    "### 3번. 0.5 기준 하나라도 1이면 최종 1 "
   ]
  },
  {
   "cell_type": "code",
   "execution_count": 296,
   "id": "e22af7d5",
   "metadata": {},
   "outputs": [],
   "source": [
    "prediction_method3 = np.max([pred_xgb_02_BO_valid, pred_xgb_02_BO_valid, pred_xgb_02_BO_valid],axis=0)"
   ]
  },
  {
   "cell_type": "code",
   "execution_count": 297,
   "id": "a678980d",
   "metadata": {},
   "outputs": [
    {
     "name": "stdout",
     "output_type": "stream",
     "text": [
      "Valid Set 결과\n",
      "accuracy_score :  0.9341681038668495\n",
      "recall_score :  0.25492742291872045\n",
      "precision_score :  0.45094407696933253\n",
      "f1_score :  0.3257193736834104\n"
     ]
    }
   ],
   "source": [
    "print(\"Valid Set 결과\")\n",
    "print(\"accuracy_score : \",accuracy_score(y_valid_model2, prediction_method3))\n",
    "print(\"recall_score : \",recall_score(y_valid_model2, prediction_method3))\n",
    "print(\"precision_score : \",precision_score(y_valid_model2, prediction_method3))\n",
    "print(\"f1_score : \",f1_score(y_valid_model2, prediction_method3))"
   ]
  },
  {
   "cell_type": "code",
   "execution_count": null,
   "id": "ee3b05bb",
   "metadata": {},
   "outputs": [],
   "source": []
  },
  {
   "cell_type": "markdown",
   "id": "1f1ea22d",
   "metadata": {},
   "source": [
    "## test_set 에는 1번 앙상블 방법 적용"
   ]
  },
  {
   "cell_type": "code",
   "execution_count": 461,
   "id": "269a05f6",
   "metadata": {},
   "outputs": [],
   "source": [
    "model2_prob_test = (proba_xgb_02_BO_test + proba_cat_02_BO_test + proba_lgb_02_BO_test)/3"
   ]
  },
  {
   "cell_type": "code",
   "execution_count": 466,
   "id": "bb3d47ff",
   "metadata": {},
   "outputs": [
    {
     "data": {
      "application/vnd.jupyter.widget-view+json": {
       "model_id": "765f6dbb67db4224a48eac6bb3d63861",
       "version_major": 2,
       "version_minor": 0
      },
      "text/plain": [
       "  0%|          | 0/2876513 [00:00<?, ?it/s]"
      ]
     },
     "metadata": {},
     "output_type": "display_data"
    }
   ],
   "source": [
    "prediction_test_model2 = []\n",
    "for i in tqdm_notebook(model2_prob_test):\n",
    "    if i[1] >= max_i.values*0.1:\n",
    "        prediction_test_model2.append(1)\n",
    "    else:\n",
    "        prediction_test_model2.append(0)"
   ]
  },
  {
   "cell_type": "code",
   "execution_count": 467,
   "id": "d309096a",
   "metadata": {},
   "outputs": [],
   "source": [
    "loan_result_model2_test[\"product_id\"] = last_product_id\n",
    "loan_result_model2_test[\"pred_model2\"] = prediction_test_model2"
   ]
  },
  {
   "cell_type": "code",
   "execution_count": 471,
   "id": "e38cf129",
   "metadata": {},
   "outputs": [
    {
     "data": {
      "text/plain": [
       "application_id    0\n",
       "product_id        0\n",
       "pred_model2       0\n",
       "dtype: int64"
      ]
     },
     "execution_count": 471,
     "metadata": {},
     "output_type": "execute_result"
    }
   ],
   "source": [
    "tmp = loan_result_model2_test[[\"application_id\",\"product_id\",\"pred_model2\"]]\n",
    "\n",
    "tmp.isna().sum()"
   ]
  },
  {
   "cell_type": "code",
   "execution_count": 475,
   "id": "c6a11549",
   "metadata": {},
   "outputs": [
    {
     "data": {
      "text/html": [
       "<div>\n",
       "<style scoped>\n",
       "    .dataframe tbody tr th:only-of-type {\n",
       "        vertical-align: middle;\n",
       "    }\n",
       "\n",
       "    .dataframe tbody tr th {\n",
       "        vertical-align: top;\n",
       "    }\n",
       "\n",
       "    .dataframe thead th {\n",
       "        text-align: right;\n",
       "    }\n",
       "</style>\n",
       "<table border=\"1\" class=\"dataframe\">\n",
       "  <thead>\n",
       "    <tr style=\"text-align: right;\">\n",
       "      <th></th>\n",
       "      <th>application_id</th>\n",
       "      <th>product_id</th>\n",
       "      <th>pred_model2</th>\n",
       "    </tr>\n",
       "  </thead>\n",
       "  <tbody>\n",
       "    <tr>\n",
       "      <th>0</th>\n",
       "      <td>1748340</td>\n",
       "      <td>191</td>\n",
       "      <td>0</td>\n",
       "    </tr>\n",
       "    <tr>\n",
       "      <th>1</th>\n",
       "      <td>1748340</td>\n",
       "      <td>169</td>\n",
       "      <td>0</td>\n",
       "    </tr>\n",
       "    <tr>\n",
       "      <th>2</th>\n",
       "      <td>1748340</td>\n",
       "      <td>7</td>\n",
       "      <td>0</td>\n",
       "    </tr>\n",
       "    <tr>\n",
       "      <th>3</th>\n",
       "      <td>1748340</td>\n",
       "      <td>268</td>\n",
       "      <td>1</td>\n",
       "    </tr>\n",
       "    <tr>\n",
       "      <th>4</th>\n",
       "      <td>1748340</td>\n",
       "      <td>118</td>\n",
       "      <td>0</td>\n",
       "    </tr>\n",
       "    <tr>\n",
       "      <th>...</th>\n",
       "      <td>...</td>\n",
       "      <td>...</td>\n",
       "      <td>...</td>\n",
       "    </tr>\n",
       "    <tr>\n",
       "      <th>2876508</th>\n",
       "      <td>1428218</td>\n",
       "      <td>200</td>\n",
       "      <td>0</td>\n",
       "    </tr>\n",
       "    <tr>\n",
       "      <th>2876509</th>\n",
       "      <td>1428218</td>\n",
       "      <td>7</td>\n",
       "      <td>0</td>\n",
       "    </tr>\n",
       "    <tr>\n",
       "      <th>2876510</th>\n",
       "      <td>1428218</td>\n",
       "      <td>257</td>\n",
       "      <td>0</td>\n",
       "    </tr>\n",
       "    <tr>\n",
       "      <th>2876511</th>\n",
       "      <td>1428218</td>\n",
       "      <td>110</td>\n",
       "      <td>0</td>\n",
       "    </tr>\n",
       "    <tr>\n",
       "      <th>2876512</th>\n",
       "      <td>1428218</td>\n",
       "      <td>194</td>\n",
       "      <td>1</td>\n",
       "    </tr>\n",
       "  </tbody>\n",
       "</table>\n",
       "<p>2876513 rows × 3 columns</p>\n",
       "</div>"
      ],
      "text/plain": [
       "         application_id  product_id  pred_model2\n",
       "0               1748340         191            0\n",
       "1               1748340         169            0\n",
       "2               1748340           7            0\n",
       "3               1748340         268            1\n",
       "4               1748340         118            0\n",
       "...                 ...         ...          ...\n",
       "2876508         1428218         200            0\n",
       "2876509         1428218           7            0\n",
       "2876510         1428218         257            0\n",
       "2876511         1428218         110            0\n",
       "2876512         1428218         194            1\n",
       "\n",
       "[2876513 rows x 3 columns]"
      ]
     },
     "execution_count": 475,
     "metadata": {},
     "output_type": "execute_result"
    }
   ],
   "source": [
    "tmp"
   ]
  },
  {
   "cell_type": "code",
   "execution_count": null,
   "id": "9e3c5c80",
   "metadata": {},
   "outputs": [],
   "source": [
    "# 제출 파일 생성"
   ]
  },
  {
   "cell_type": "code",
   "execution_count": 479,
   "id": "bcd4c72c",
   "metadata": {},
   "outputs": [
    {
     "data": {
      "text/plain": [
       "0          False\n",
       "1          False\n",
       "2          False\n",
       "3          False\n",
       "4          False\n",
       "           ...  \n",
       "3255189    False\n",
       "3255190    False\n",
       "3255191    False\n",
       "3255192    False\n",
       "3255193    False\n",
       "Length: 3255194, dtype: bool"
      ]
     },
     "execution_count": 479,
     "metadata": {},
     "output_type": "execute_result"
    }
   ],
   "source": [
    "submission.duplicated()"
   ]
  },
  {
   "cell_type": "code",
   "execution_count": 298,
   "id": "6bb662ae",
   "metadata": {},
   "outputs": [],
   "source": [
    "submission = pd.read_csv(\"데이터분석분야_퓨처스부문_평가데이터_팀명_개짖는소리.csv\")"
   ]
  },
  {
   "cell_type": "code",
   "execution_count": 489,
   "id": "8c7b0f2e",
   "metadata": {
    "scrolled": true
   },
   "outputs": [
    {
     "data": {
      "text/html": [
       "<div>\n",
       "<style scoped>\n",
       "    .dataframe tbody tr th:only-of-type {\n",
       "        vertical-align: middle;\n",
       "    }\n",
       "\n",
       "    .dataframe tbody tr th {\n",
       "        vertical-align: top;\n",
       "    }\n",
       "\n",
       "    .dataframe thead th {\n",
       "        text-align: right;\n",
       "    }\n",
       "</style>\n",
       "<table border=\"1\" class=\"dataframe\">\n",
       "  <thead>\n",
       "    <tr style=\"text-align: right;\">\n",
       "      <th></th>\n",
       "      <th>application_id</th>\n",
       "      <th>product_id</th>\n",
       "      <th>is_applied</th>\n",
       "    </tr>\n",
       "  </thead>\n",
       "  <tbody>\n",
       "    <tr>\n",
       "      <th>0</th>\n",
       "      <td>4</td>\n",
       "      <td>220</td>\n",
       "      <td>NaN</td>\n",
       "    </tr>\n",
       "    <tr>\n",
       "      <th>1</th>\n",
       "      <td>4</td>\n",
       "      <td>191</td>\n",
       "      <td>NaN</td>\n",
       "    </tr>\n",
       "    <tr>\n",
       "      <th>2</th>\n",
       "      <td>8</td>\n",
       "      <td>29</td>\n",
       "      <td>NaN</td>\n",
       "    </tr>\n",
       "    <tr>\n",
       "      <th>3</th>\n",
       "      <td>8</td>\n",
       "      <td>159</td>\n",
       "      <td>NaN</td>\n",
       "    </tr>\n",
       "    <tr>\n",
       "      <th>4</th>\n",
       "      <td>8</td>\n",
       "      <td>85</td>\n",
       "      <td>NaN</td>\n",
       "    </tr>\n",
       "    <tr>\n",
       "      <th>...</th>\n",
       "      <td>...</td>\n",
       "      <td>...</td>\n",
       "      <td>...</td>\n",
       "    </tr>\n",
       "    <tr>\n",
       "      <th>3255189</th>\n",
       "      <td>2167778</td>\n",
       "      <td>258</td>\n",
       "      <td>NaN</td>\n",
       "    </tr>\n",
       "    <tr>\n",
       "      <th>3255190</th>\n",
       "      <td>2167791</td>\n",
       "      <td>29</td>\n",
       "      <td>NaN</td>\n",
       "    </tr>\n",
       "    <tr>\n",
       "      <th>3255191</th>\n",
       "      <td>2167822</td>\n",
       "      <td>149</td>\n",
       "      <td>NaN</td>\n",
       "    </tr>\n",
       "    <tr>\n",
       "      <th>3255192</th>\n",
       "      <td>2167822</td>\n",
       "      <td>157</td>\n",
       "      <td>NaN</td>\n",
       "    </tr>\n",
       "    <tr>\n",
       "      <th>3255193</th>\n",
       "      <td>2167822</td>\n",
       "      <td>65</td>\n",
       "      <td>NaN</td>\n",
       "    </tr>\n",
       "  </tbody>\n",
       "</table>\n",
       "<p>3255194 rows × 3 columns</p>\n",
       "</div>"
      ],
      "text/plain": [
       "         application_id  product_id  is_applied\n",
       "0                     4         220         NaN\n",
       "1                     4         191         NaN\n",
       "2                     8          29         NaN\n",
       "3                     8         159         NaN\n",
       "4                     8          85         NaN\n",
       "...                 ...         ...         ...\n",
       "3255189         2167778         258         NaN\n",
       "3255190         2167791          29         NaN\n",
       "3255191         2167822         149         NaN\n",
       "3255192         2167822         157         NaN\n",
       "3255193         2167822          65         NaN\n",
       "\n",
       "[3255194 rows x 3 columns]"
      ]
     },
     "execution_count": 489,
     "metadata": {},
     "output_type": "execute_result"
    }
   ],
   "source": [
    "submission"
   ]
  },
  {
   "cell_type": "code",
   "execution_count": 490,
   "id": "c9a4e483",
   "metadata": {},
   "outputs": [],
   "source": [
    "tmp1 = pd.merge(submission,tmp,how='left',on=[\"application_id\",\"product_id\"])"
   ]
  },
  {
   "cell_type": "code",
   "execution_count": 498,
   "id": "c9c63057",
   "metadata": {},
   "outputs": [],
   "source": [
    "tmp1.drop(\"is_applied\",axis=1,inplace=True)"
   ]
  },
  {
   "cell_type": "markdown",
   "id": "220876e7",
   "metadata": {},
   "source": [
    "**1차 모델에서 0으로 예측된 application_id 들은 merge할 내용이 없기 때문에 .fillna(0) 적용**"
   ]
  },
  {
   "cell_type": "code",
   "execution_count": 500,
   "id": "0be76578",
   "metadata": {},
   "outputs": [],
   "source": [
    "submission_result = tmp1.fillna(0)"
   ]
  },
  {
   "cell_type": "code",
   "execution_count": 504,
   "id": "667f39ae",
   "metadata": {},
   "outputs": [],
   "source": [
    "submission_result.rename(columns={\"pred_model2\":\"is_applied\"},inplace=True)"
   ]
  },
  {
   "cell_type": "code",
   "execution_count": 505,
   "id": "4115b732",
   "metadata": {},
   "outputs": [],
   "source": [
    "submission_result.to_csv(\"데이터분석분야_퓨처스부문_빅콘테스트팀_평가데이터.csv\",index=False)"
   ]
  }
 ],
 "metadata": {
  "kernelspec": {
   "display_name": "Python 3",
   "language": "python",
   "name": "python3"
  },
  "language_info": {
   "codemirror_mode": {
    "name": "ipython",
    "version": 3
   },
   "file_extension": ".py",
   "mimetype": "text/x-python",
   "name": "python",
   "nbconvert_exporter": "python",
   "pygments_lexer": "ipython3",
   "version": "3.8.8"
  }
 },
 "nbformat": 4,
 "nbformat_minor": 5
}
